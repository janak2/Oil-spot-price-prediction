{
 "cells": [
  {
   "cell_type": "code",
   "execution_count": 1,
   "metadata": {},
   "outputs": [
    {
     "name": "stderr",
     "output_type": "stream",
     "text": [
      "Using TensorFlow backend.\n"
     ]
    }
   ],
   "source": [
    "import pandas as pd\n",
    "import matplotlib.pyplot as plt\n",
    "from sklearn.preprocessing import MinMaxScaler\n",
    "from sklearn.model_selection import train_test_split\n",
    "from tqdm import tqdm_notebook\n",
    "import numpy as np\n",
    "import pickle\n",
    "from keras.models import Sequential, load_model\n",
    "from keras.layers import Dense, Dropout\n",
    "from keras.layers import LSTM\n",
    "from keras.callbacks import ModelCheckpoint, EarlyStopping, ReduceLROnPlateau, CSVLogger\n",
    "from keras import optimizers\n",
    "from sklearn.metrics import mean_squared_error\n",
    "import logging\n",
    "import os\n",
    "import time\n",
    "from ipywidgets import widgets\n",
    "from IPython.display import display\n",
    "from ipywidgets import interact, interact_manual\n",
    "import matplotlib.style as style\n",
    "\n",
    "is_update_model = False\n"
   ]
  },
  {
   "cell_type": "code",
   "execution_count": 2,
   "metadata": {},
   "outputs": [
    {
     "data": {
      "text/html": [
       "<div>\n",
       "<style scoped>\n",
       "    .dataframe tbody tr th:only-of-type {\n",
       "        vertical-align: middle;\n",
       "    }\n",
       "\n",
       "    .dataframe tbody tr th {\n",
       "        vertical-align: top;\n",
       "    }\n",
       "\n",
       "    .dataframe thead th {\n",
       "        text-align: right;\n",
       "    }\n",
       "</style>\n",
       "<table border=\"1\" class=\"dataframe\">\n",
       "  <thead>\n",
       "    <tr style=\"text-align: right;\">\n",
       "      <th>1</th>\n",
       "      <th>Timestamp</th>\n",
       "      <th>Trade High</th>\n",
       "      <th>Trade Low</th>\n",
       "      <th>Trade Open</th>\n",
       "      <th>Trade Close</th>\n",
       "      <th>Trade Count</th>\n",
       "      <th>Trade Volume</th>\n",
       "    </tr>\n",
       "  </thead>\n",
       "  <tbody>\n",
       "    <tr>\n",
       "      <th>2</th>\n",
       "      <td>2019-05-23 13:30:00</td>\n",
       "      <td>625.75</td>\n",
       "      <td>624.75</td>\n",
       "      <td>624.75</td>\n",
       "      <td>625.25</td>\n",
       "      <td>210</td>\n",
       "      <td>659</td>\n",
       "    </tr>\n",
       "    <tr>\n",
       "      <th>3</th>\n",
       "      <td>2019-05-23 13:00:00</td>\n",
       "      <td>625</td>\n",
       "      <td>623.75</td>\n",
       "      <td>623.75</td>\n",
       "      <td>624.75</td>\n",
       "      <td>713</td>\n",
       "      <td>1877</td>\n",
       "    </tr>\n",
       "    <tr>\n",
       "      <th>4</th>\n",
       "      <td>2019-05-23 12:30:00</td>\n",
       "      <td>624.5</td>\n",
       "      <td>623.5</td>\n",
       "      <td>624.25</td>\n",
       "      <td>624</td>\n",
       "      <td>392</td>\n",
       "      <td>1046</td>\n",
       "    </tr>\n",
       "    <tr>\n",
       "      <th>5</th>\n",
       "      <td>2019-05-23 12:00:00</td>\n",
       "      <td>625.75</td>\n",
       "      <td>623.25</td>\n",
       "      <td>625.25</td>\n",
       "      <td>624.25</td>\n",
       "      <td>1219</td>\n",
       "      <td>5027</td>\n",
       "    </tr>\n",
       "    <tr>\n",
       "      <th>6</th>\n",
       "      <td>2019-05-23 11:30:00</td>\n",
       "      <td>629.5</td>\n",
       "      <td>625.25</td>\n",
       "      <td>629</td>\n",
       "      <td>625.25</td>\n",
       "      <td>760</td>\n",
       "      <td>3894</td>\n",
       "    </tr>\n",
       "  </tbody>\n",
       "</table>\n",
       "</div>"
      ],
      "text/plain": [
       "1            Timestamp Trade High Trade Low Trade Open Trade Close  \\\n",
       "2  2019-05-23 13:30:00     625.75    624.75     624.75      625.25   \n",
       "3  2019-05-23 13:00:00        625    623.75     623.75      624.75   \n",
       "4  2019-05-23 12:30:00      624.5     623.5     624.25         624   \n",
       "5  2019-05-23 12:00:00     625.75    623.25     625.25      624.25   \n",
       "6  2019-05-23 11:30:00      629.5    625.25        629      625.25   \n",
       "\n",
       "1 Trade Count Trade Volume  \n",
       "2         210          659  \n",
       "3         713         1877  \n",
       "4         392         1046  \n",
       "5        1219         5027  \n",
       "6         760         3894  "
      ]
     },
     "execution_count": 2,
     "metadata": {},
     "output_type": "execute_result"
    }
   ],
   "source": [
    "df = pd.read_excel('Book288.xlsx')\n",
    "df = df.dropna(axis='columns',how='all')\n",
    "df.drop(df.columns[0],axis=1,inplace=True)\n",
    "df.columns= df.iloc[1]\n",
    "df = df[2:]\n",
    "df.head()"
   ]
  },
  {
   "cell_type": "code",
   "execution_count": 3,
   "metadata": {},
   "outputs": [
    {
     "name": "stdout",
     "output_type": "stream",
     "text": [
      "10634 10386\n",
      "10634 10634\n"
     ]
    },
    {
     "data": {
      "text/html": [
       "<div>\n",
       "<style scoped>\n",
       "    .dataframe tbody tr th:only-of-type {\n",
       "        vertical-align: middle;\n",
       "    }\n",
       "\n",
       "    .dataframe tbody tr th {\n",
       "        vertical-align: top;\n",
       "    }\n",
       "\n",
       "    .dataframe thead th {\n",
       "        text-align: right;\n",
       "    }\n",
       "</style>\n",
       "<table border=\"1\" class=\"dataframe\">\n",
       "  <thead>\n",
       "    <tr style=\"text-align: right;\">\n",
       "      <th>1</th>\n",
       "      <th>Timestamp</th>\n",
       "      <th>Trade High</th>\n",
       "      <th>Trade Low</th>\n",
       "      <th>Trade Open</th>\n",
       "      <th>Trade Close</th>\n",
       "      <th>Trade Volume</th>\n",
       "    </tr>\n",
       "  </thead>\n",
       "  <tbody>\n",
       "    <tr>\n",
       "      <th>2</th>\n",
       "      <td>2019-05-23 13:30:00</td>\n",
       "      <td>625.75</td>\n",
       "      <td>624.75</td>\n",
       "      <td>624.75</td>\n",
       "      <td>625.25</td>\n",
       "      <td>659.0</td>\n",
       "    </tr>\n",
       "    <tr>\n",
       "      <th>3</th>\n",
       "      <td>2019-05-23 13:00:00</td>\n",
       "      <td>625.00</td>\n",
       "      <td>623.75</td>\n",
       "      <td>623.75</td>\n",
       "      <td>624.75</td>\n",
       "      <td>1877.0</td>\n",
       "    </tr>\n",
       "    <tr>\n",
       "      <th>4</th>\n",
       "      <td>2019-05-23 12:30:00</td>\n",
       "      <td>624.50</td>\n",
       "      <td>623.50</td>\n",
       "      <td>624.25</td>\n",
       "      <td>624.00</td>\n",
       "      <td>1046.0</td>\n",
       "    </tr>\n",
       "    <tr>\n",
       "      <th>5</th>\n",
       "      <td>2019-05-23 12:00:00</td>\n",
       "      <td>625.75</td>\n",
       "      <td>623.25</td>\n",
       "      <td>625.25</td>\n",
       "      <td>624.25</td>\n",
       "      <td>5027.0</td>\n",
       "    </tr>\n",
       "    <tr>\n",
       "      <th>6</th>\n",
       "      <td>2019-05-23 11:30:00</td>\n",
       "      <td>629.50</td>\n",
       "      <td>625.25</td>\n",
       "      <td>629.00</td>\n",
       "      <td>625.25</td>\n",
       "      <td>3894.0</td>\n",
       "    </tr>\n",
       "  </tbody>\n",
       "</table>\n",
       "</div>"
      ],
      "text/plain": [
       "1            Timestamp  Trade High  Trade Low  Trade Open  Trade Close  \\\n",
       "2  2019-05-23 13:30:00      625.75     624.75      624.75       625.25   \n",
       "3  2019-05-23 13:00:00      625.00     623.75      623.75       624.75   \n",
       "4  2019-05-23 12:30:00      624.50     623.50      624.25       624.00   \n",
       "5  2019-05-23 12:00:00      625.75     623.25      625.25       624.25   \n",
       "6  2019-05-23 11:30:00      629.50     625.25      629.00       625.25   \n",
       "\n",
       "1  Trade Volume  \n",
       "2         659.0  \n",
       "3        1877.0  \n",
       "4        1046.0  \n",
       "5        5027.0  \n",
       "6        3894.0  "
      ]
     },
     "execution_count": 3,
     "metadata": {},
     "output_type": "execute_result"
    }
   ],
   "source": [
    "print(df.shape[0],df.dropna().shape[0])\n",
    "train_cols = ['Trade High','Trade Low','Trade Open','Trade Close','Trade Volume']\n",
    "if 'Trade Count' in df.columns :\n",
    "    df.drop(['Trade Count'] , axis='columns', inplace=True)\n",
    "for i in train_cols:\n",
    "    df[i]= df[i].astype(float).interpolate(method='spline',order=3)\n",
    "#c = df['Trade High'].astype(float).interpolate(method='linear',order=3)\n",
    "print(df.shape[0],df.dropna().shape[0])\n",
    "#print(c[c.isnull()])\n",
    "df.head()"
   ]
  },
  {
   "cell_type": "code",
   "execution_count": 4,
   "metadata": {},
   "outputs": [
    {
     "name": "stderr",
     "output_type": "stream",
     "text": [
      "C:\\Users\\Janak.Agrawal\\AppData\\Local\\Continuum\\anaconda3\\lib\\site-packages\\pandas\\plotting\\_matplotlib\\converter.py:102: FutureWarning:\n",
      "\n",
      "Using an implicitly registered datetime converter for a matplotlib plotting method. The converter was registered by pandas on import. Future versions of pandas will require you to explicitly register matplotlib converters.\n",
      "\n",
      "To register the converters:\n",
      "\t>>> from pandas.plotting import register_matplotlib_converters\n",
      "\t>>> register_matplotlib_converters()\n",
      "\n"
     ]
    },
    {
     "data": {
      "image/png": "[encoded data removed]",
      "text/plain": [
       "<Figure size 432x288 with 1 Axes>"
      ]
     },
     "metadata": {
      "needs_background": "light"
     },
     "output_type": "display_data"
    }
   ],
   "source": [
    "plt.plot(df['Timestamp'],df['Trade High'])\n",
    "plt.plot(df['Timestamp'],df['Trade Low'])\n",
    "plt.plot(df['Timestamp'],df['Trade Open'])\n",
    "plt.plot(df['Timestamp'],df['Trade Close'])\n",
    "plt.legend(['high','low','open','close'])\n",
    "plt.show()"
   ]
  },
  {
   "cell_type": "code",
   "execution_count": 5,
   "metadata": {},
   "outputs": [
    {
     "data": {
      "image/png": "[encoded data removed]",
      "text/plain": [
       "<Figure size 432x288 with 1 Axes>"
      ]
     },
     "metadata": {
      "needs_background": "light"
     },
     "output_type": "display_data"
    }
   ],
   "source": [
    "plt.plot(df['Timestamp'],df['Trade Volume'])\n",
    "plt.show()"
   ]
  },
  {
   "cell_type": "code",
   "execution_count": 6,
   "metadata": {},
   "outputs": [
    {
     "data": {
      "text/html": [
       "<div>\n",
       "<style scoped>\n",
       "    .dataframe tbody tr th:only-of-type {\n",
       "        vertical-align: middle;\n",
       "    }\n",
       "\n",
       "    .dataframe tbody tr th {\n",
       "        vertical-align: top;\n",
       "    }\n",
       "\n",
       "    .dataframe thead th {\n",
       "        text-align: right;\n",
       "    }\n",
       "</style>\n",
       "<table border=\"1\" class=\"dataframe\">\n",
       "  <thead>\n",
       "    <tr style=\"text-align: right;\">\n",
       "      <th>1</th>\n",
       "      <th>Timestamp</th>\n",
       "      <th>Trade High</th>\n",
       "      <th>Trade Low</th>\n",
       "      <th>Trade Open</th>\n",
       "      <th>Trade Close</th>\n",
       "      <th>Trade Volume</th>\n",
       "    </tr>\n",
       "  </thead>\n",
       "  <tbody>\n",
       "    <tr>\n",
       "      <th>0</th>\n",
       "      <td>2018-05-23 12:30:00</td>\n",
       "      <td>695.50</td>\n",
       "      <td>693.50</td>\n",
       "      <td>693.75</td>\n",
       "      <td>695.25</td>\n",
       "      <td>1669.0</td>\n",
       "    </tr>\n",
       "    <tr>\n",
       "      <th>1</th>\n",
       "      <td>2018-05-23 13:00:00</td>\n",
       "      <td>695.50</td>\n",
       "      <td>694.25</td>\n",
       "      <td>695.00</td>\n",
       "      <td>695.00</td>\n",
       "      <td>2130.0</td>\n",
       "    </tr>\n",
       "    <tr>\n",
       "      <th>2</th>\n",
       "      <td>2018-05-23 13:30:00</td>\n",
       "      <td>697.25</td>\n",
       "      <td>694.75</td>\n",
       "      <td>695.00</td>\n",
       "      <td>696.75</td>\n",
       "      <td>2867.0</td>\n",
       "    </tr>\n",
       "    <tr>\n",
       "      <th>3</th>\n",
       "      <td>2018-05-23 14:00:00</td>\n",
       "      <td>697.00</td>\n",
       "      <td>695.25</td>\n",
       "      <td>696.75</td>\n",
       "      <td>695.50</td>\n",
       "      <td>571.0</td>\n",
       "    </tr>\n",
       "    <tr>\n",
       "      <th>4</th>\n",
       "      <td>2018-05-23 14:30:00</td>\n",
       "      <td>695.75</td>\n",
       "      <td>693.75</td>\n",
       "      <td>695.75</td>\n",
       "      <td>695.25</td>\n",
       "      <td>3041.0</td>\n",
       "    </tr>\n",
       "  </tbody>\n",
       "</table>\n",
       "</div>"
      ],
      "text/plain": [
       "1            Timestamp  Trade High  Trade Low  Trade Open  Trade Close  \\\n",
       "0  2018-05-23 12:30:00      695.50     693.50      693.75       695.25   \n",
       "1  2018-05-23 13:00:00      695.50     694.25      695.00       695.00   \n",
       "2  2018-05-23 13:30:00      697.25     694.75      695.00       696.75   \n",
       "3  2018-05-23 14:00:00      697.00     695.25      696.75       695.50   \n",
       "4  2018-05-23 14:30:00      695.75     693.75      695.75       695.25   \n",
       "\n",
       "1  Trade Volume  \n",
       "0        1669.0  \n",
       "1        2130.0  \n",
       "2        2867.0  \n",
       "3         571.0  \n",
       "4        3041.0  "
      ]
     },
     "execution_count": 6,
     "metadata": {},
     "output_type": "execute_result"
    }
   ],
   "source": [
    "type(df['Timestamp'].iloc[0])\n",
    "df.sort_values('Timestamp',inplace=True)    \n",
    "df = df.reset_index()\n",
    "df = df.drop('index',axis=1)\n",
    "df.head()"
   ]
  },
  {
   "cell_type": "code",
   "execution_count": 7,
   "metadata": {},
   "outputs": [
    {
     "name": "stdout",
     "output_type": "stream",
     "text": [
      "Train and Test size 8507 2127\n"
     ]
    },
    {
     "data": {
      "text/plain": [
       "array([[0.78725398, 0.79339623, 0.78484565, 0.79174484, 0.0654991 ],\n",
       "       [0.78725398, 0.79622642, 0.78952292, 0.79080675, 0.08360166],\n",
       "       [0.79381443, 0.79811321, 0.78952292, 0.79737336, 0.11254221],\n",
       "       ...,\n",
       "       [0.4995314 , 0.50660377, 0.50233863, 0.50187617, 0.04543313],\n",
       "       [0.50609185, 0.50660377, 0.50046773, 0.50469043, 0.07154638],\n",
       "       [0.50140581, 0.50283019, 0.505145  , 0.49812383, 0.17513547]])"
      ]
     },
     "execution_count": 7,
     "metadata": {},
     "output_type": "execute_result"
    }
   ],
   "source": [
    "df_train, df_test = train_test_split(df, train_size=0.8, test_size=0.2, shuffle=False)\n",
    "print(\"Train and Test size\", len(df_train), len(df_test))\n",
    "# scale the feature MinMax, build array\n",
    "x = df_train.loc[:,train_cols].values\n",
    "min_max_scaler = MinMaxScaler()\n",
    "x_train = min_max_scaler.fit_transform(x)\n",
    "x_test = min_max_scaler.transform(df_test.loc[:,train_cols])\n",
    "x_train"
   ]
  },
  {
   "cell_type": "code",
   "execution_count": 8,
   "metadata": {},
   "outputs": [],
   "source": [
    "def build_timeseries(mat, y_col_index,TIME_STEPS):\n",
    "    # y_col_index is the index of column that would act as output column\n",
    "    # total number of time-series samples would be len(mat) - TIME_STEPS\n",
    "    dim_0 = mat.shape[0] - TIME_STEPS\n",
    "    dim_1 = mat.shape[1]\n",
    "    x = np.zeros((dim_0, TIME_STEPS, dim_1))\n",
    "    y = np.zeros((dim_0,))\n",
    "    \n",
    "#    for i in tqdm_notebook(range(dim_0)):\n",
    "    for i in range(dim_0):\n",
    "        x[i] = mat[i:TIME_STEPS+i]\n",
    "        y[i] = mat[TIME_STEPS+i, y_col_index]\n",
    "    #print(\"length of time-series i/o\",x.shape,y.shape)\n",
    "    return x, y"
   ]
  },
  {
   "cell_type": "code",
   "execution_count": 9,
   "metadata": {},
   "outputs": [],
   "source": [
    "def trim_dataset(mat, batch_size):\n",
    "    \"\"\"\n",
    "    trims dataset to a size that's divisible by BATCH_SIZE\n",
    "    \"\"\"\n",
    "    no_of_rows_drop = mat.shape[0]%batch_size\n",
    "    if(no_of_rows_drop > 0):\n",
    "        return mat[:-no_of_rows_drop]\n",
    "    else:\n",
    "        return mat"
   ]
  },
  {
   "cell_type": "code",
   "execution_count": 10,
   "metadata": {},
   "outputs": [],
   "source": [
    "BATCH_SIZE = 200\n",
    "TIME_STEPS = 720\n",
    "target_col = 3\n",
    "lr = 0.001\n",
    "OUTPUT_PATH = 'prediction_output/'\n",
    "epoch = 4"
   ]
  },
  {
   "cell_type": "code",
   "execution_count": 11,
   "metadata": {},
   "outputs": [],
   "source": [
    "x_t, y_t = build_timeseries(x_train,target_col,TIME_STEPS )\n",
    "x_t = trim_dataset(x_t, BATCH_SIZE)\n",
    "y_t = trim_dataset(y_t, BATCH_SIZE)\n",
    "x_temp, y_temp = build_timeseries(x_test,target_col, TIME_STEPS)\n",
    "x_val, x_test_t = np.split(trim_dataset(x_temp, BATCH_SIZE),2)\n",
    "y_val, y_test_t = np.split(trim_dataset(y_temp, BATCH_SIZE),2)"
   ]
  },
  {
   "cell_type": "code",
   "execution_count": 12,
   "metadata": {},
   "outputs": [],
   "source": [
    "def create_model():\n",
    "    lstm_model = Sequential()\n",
    "    lstm_model.add(LSTM(100, batch_input_shape=(BATCH_SIZE, TIME_STEPS, x_t.shape[2]), dropout=0.0, recurrent_dropout=0.0, stateful=True,     kernel_initializer='random_uniform'))\n",
    "    lstm_model.add(Dropout(0.5))\n",
    "    lstm_model.add(Dense(20,activation='relu'))\n",
    "    lstm_model.add(Dense(1,activation='linear'))\n",
    "    optimizer = optimizers.RMSprop(lr=lr)\n",
    "    lstm_model.compile(loss='mean_squared_error', optimizer=optimizer)\n",
    "    return lstm_model"
   ]
  },
  {
   "cell_type": "code",
   "execution_count": 13,
   "metadata": {},
   "outputs": [
    {
     "name": "stdout",
     "output_type": "stream",
     "text": [
      "WARNING:tensorflow:From C:\\Users\\Janak.Agrawal\\AppData\\Local\\Continuum\\anaconda3\\lib\\site-packages\\tensorflow\\python\\framework\\op_def_library.py:263: colocate_with (from tensorflow.python.framework.ops) is deprecated and will be removed in a future version.\n",
      "Instructions for updating:\n",
      "Colocations handled automatically by placer.\n",
      "WARNING:tensorflow:From C:\\Users\\Janak.Agrawal\\AppData\\Local\\Continuum\\anaconda3\\lib\\site-packages\\keras\\backend\\tensorflow_backend.py:3445: calling dropout (from tensorflow.python.ops.nn_ops) with keep_prob is deprecated and will be removed in a future version.\n",
      "Instructions for updating:\n",
      "Please use `rate` instead of `keep_prob`. Rate should be set to `rate = 1 - keep_prob`.\n",
      "WARNING:tensorflow:From C:\\Users\\Janak.Agrawal\\AppData\\Local\\Continuum\\anaconda3\\lib\\site-packages\\tensorflow\\python\\ops\\math_ops.py:3066: to_int32 (from tensorflow.python.ops.math_ops) is deprecated and will be removed in a future version.\n",
      "Instructions for updating:\n",
      "Use tf.cast instead.\n",
      "Loaded saved model...\n"
     ]
    }
   ],
   "source": [
    "model = None\n",
    "try:\n",
    "    model = pickle.load(open(OUTPUT_PATH+\"lstm_model\", 'rb'))\n",
    "    print(\"Loaded saved model...\")\n",
    "except FileNotFoundError:\n",
    "    print(\"Model not found\")"
   ]
  },
  {
   "cell_type": "code",
   "execution_count": 14,
   "metadata": {},
   "outputs": [],
   "source": [
    "if model is None or is_update_model:\n",
    "    from keras import backend as K\n",
    "    print(\"Building model...\")\n",
    "    print(\"checking if GPU available\", K.tensorflow_backend._get_available_gpus())\n",
    "    model = create_model()\n",
    "    \n",
    "    es = EarlyStopping(monitor='val_loss', mode='min', verbose=1,\n",
    "                       patience=40, min_delta=0.0001)\n",
    "    \n",
    "    mcp = ModelCheckpoint(os.path.join(OUTPUT_PATH,\n",
    "                          \"best_model.h5\"), monitor='val_loss', verbose=1,\n",
    "                          save_best_only=True, save_weights_only=False, mode='min', period=1)\n",
    "\n",
    "    # Not used here. But leaving it here as a reminder for future\n",
    "    r_lr_plat = ReduceLROnPlateau(monitor='val_loss', factor=0.1, patience=30, \n",
    "                                  verbose=0, mode='auto', min_delta=0.0001, cooldown=0, min_lr=0)\n",
    "    \n",
    "    csv_logger = CSVLogger(os.path.join(OUTPUT_PATH, 'training_log_' + '.log'), append=True)\n",
    "    \n",
    "    history = model.fit(x_t, y_t, epochs=epoch, verbose=2, batch_size=BATCH_SIZE,\n",
    "                        shuffle=False, validation_data=(trim_dataset(x_val, BATCH_SIZE),\n",
    "                        trim_dataset(y_val, BATCH_SIZE)), callbacks=[es, mcp, csv_logger])\n",
    "    \n",
    "    print(\"saving model...\")\n",
    "    pickle.dump(model, open(OUTPUT_PATH+\"lstm_model\", \"wb\"))\n",
    "    \n",
    "    y_pred = model.predict(trim_dataset(x_test_t, BATCH_SIZE), batch_size=BATCH_SIZE)\n",
    "    y_pred = y_pred.flatten()\n",
    "    y_test_t = trim_dataset(y_test_t, BATCH_SIZE)\n",
    "    error = mean_squared_error(y_test_t, y_pred)\n",
    "    print(\"Error is\", error, y_pred.shape, y_test_t.shape)\n",
    "    print(y_pred[0:15])\n",
    "    print(y_test_t[0:15])\n",
    "\n",
    "    # convert the predicted value to range of real data\n",
    "    y_pred_org = (y_pred * min_max_scaler.data_range_[3]) + min_max_scaler.data_min_[3]\n",
    "    # min_max_scaler.inverse_transform(y_pred)\n",
    "    y_test_t_org = (y_test_t * min_max_scaler.data_range_[3]) + min_max_scaler.data_min_[3]\n",
    "    # min_max_scaler.inverse_transform(y_test_t)\n",
    "    print(y_pred_org[0:15])\n",
    "    print(y_test_t_org[0:15])\n",
    "\n",
    "    # Visualize the training data\n",
    "    from matplotlib import pyplot as plt\n",
    "    plt.figure()\n",
    "    plt.plot(history.history['loss'])\n",
    "    plt.plot(history.history['val_loss'])\n",
    "    plt.title('Model loss')\n",
    "    plt.ylabel('Loss')\n",
    "    plt.xlabel('Epoch')\n",
    "    plt.legend(['Train', 'Test'], loc='upper left')\n",
    "    #plt.show()"
   ]
  },
  {
   "cell_type": "code",
   "execution_count": 15,
   "metadata": {},
   "outputs": [
    {
     "name": "stdout",
     "output_type": "stream",
     "text": [
      "<keras.engine.sequential.Sequential object at 0x000001A86E9E42B0>\n"
     ]
    },
    {
     "ename": "InvalidArgumentError",
     "evalue": "Incompatible shapes: [200,100] vs. [20,100]\n\t [[{{node lstm_1_1/while/add_7}}]]",
     "output_type": "error",
     "traceback": [
      "\u001b[1;31m---------------------------------------------------------------------------\u001b[0m",
      "\u001b[1;31mInvalidArgumentError\u001b[0m                      Traceback (most recent call last)",
      "\u001b[1;32m<ipython-input-15-2108a71a90c9>\u001b[0m in \u001b[0;36m<module>\u001b[1;34m\u001b[0m\n\u001b[0;32m      2\u001b[0m \u001b[0mprint\u001b[0m\u001b[1;33m(\u001b[0m\u001b[0msaved_model\u001b[0m\u001b[1;33m)\u001b[0m\u001b[1;33m\u001b[0m\u001b[1;33m\u001b[0m\u001b[0m\n\u001b[0;32m      3\u001b[0m \u001b[1;33m\u001b[0m\u001b[0m\n\u001b[1;32m----> 4\u001b[1;33m \u001b[0my_pred\u001b[0m \u001b[1;33m=\u001b[0m \u001b[0msaved_model\u001b[0m\u001b[1;33m.\u001b[0m\u001b[0mpredict\u001b[0m\u001b[1;33m(\u001b[0m\u001b[0mtrim_dataset\u001b[0m\u001b[1;33m(\u001b[0m\u001b[0mx_test_t\u001b[0m\u001b[1;33m,\u001b[0m \u001b[0mBATCH_SIZE\u001b[0m\u001b[1;33m)\u001b[0m\u001b[1;33m,\u001b[0m \u001b[0mbatch_size\u001b[0m\u001b[1;33m=\u001b[0m\u001b[0mBATCH_SIZE\u001b[0m\u001b[1;33m)\u001b[0m\u001b[1;33m\u001b[0m\u001b[1;33m\u001b[0m\u001b[0m\n\u001b[0m\u001b[0;32m      5\u001b[0m \u001b[0my_pred\u001b[0m \u001b[1;33m=\u001b[0m \u001b[0my_pred\u001b[0m\u001b[1;33m.\u001b[0m\u001b[0mflatten\u001b[0m\u001b[1;33m(\u001b[0m\u001b[1;33m)\u001b[0m\u001b[1;33m\u001b[0m\u001b[1;33m\u001b[0m\u001b[0m\n\u001b[0;32m      6\u001b[0m \u001b[0my_test_t\u001b[0m \u001b[1;33m=\u001b[0m \u001b[0mtrim_dataset\u001b[0m\u001b[1;33m(\u001b[0m\u001b[0my_test_t\u001b[0m\u001b[1;33m,\u001b[0m \u001b[0mBATCH_SIZE\u001b[0m\u001b[1;33m)\u001b[0m\u001b[1;33m\u001b[0m\u001b[1;33m\u001b[0m\u001b[0m\n",
      "\u001b[1;32m~\\AppData\\Local\\Continuum\\anaconda3\\lib\\site-packages\\keras\\engine\\training.py\u001b[0m in \u001b[0;36mpredict\u001b[1;34m(self, x, batch_size, verbose, steps)\u001b[0m\n\u001b[0;32m   1167\u001b[0m                                             \u001b[0mbatch_size\u001b[0m\u001b[1;33m=\u001b[0m\u001b[0mbatch_size\u001b[0m\u001b[1;33m,\u001b[0m\u001b[1;33m\u001b[0m\u001b[1;33m\u001b[0m\u001b[0m\n\u001b[0;32m   1168\u001b[0m                                             \u001b[0mverbose\u001b[0m\u001b[1;33m=\u001b[0m\u001b[0mverbose\u001b[0m\u001b[1;33m,\u001b[0m\u001b[1;33m\u001b[0m\u001b[1;33m\u001b[0m\u001b[0m\n\u001b[1;32m-> 1169\u001b[1;33m                                             steps=steps)\n\u001b[0m\u001b[0;32m   1170\u001b[0m \u001b[1;33m\u001b[0m\u001b[0m\n\u001b[0;32m   1171\u001b[0m     def train_on_batch(self, x, y,\n",
      "\u001b[1;32m~\\AppData\\Local\\Continuum\\anaconda3\\lib\\site-packages\\keras\\engine\\training_arrays.py\u001b[0m in \u001b[0;36mpredict_loop\u001b[1;34m(model, f, ins, batch_size, verbose, steps)\u001b[0m\n\u001b[0;32m    292\u001b[0m                 \u001b[0mins_batch\u001b[0m\u001b[1;33m[\u001b[0m\u001b[0mi\u001b[0m\u001b[1;33m]\u001b[0m \u001b[1;33m=\u001b[0m \u001b[0mins_batch\u001b[0m\u001b[1;33m[\u001b[0m\u001b[0mi\u001b[0m\u001b[1;33m]\u001b[0m\u001b[1;33m.\u001b[0m\u001b[0mtoarray\u001b[0m\u001b[1;33m(\u001b[0m\u001b[1;33m)\u001b[0m\u001b[1;33m\u001b[0m\u001b[1;33m\u001b[0m\u001b[0m\n\u001b[0;32m    293\u001b[0m \u001b[1;33m\u001b[0m\u001b[0m\n\u001b[1;32m--> 294\u001b[1;33m             \u001b[0mbatch_outs\u001b[0m \u001b[1;33m=\u001b[0m \u001b[0mf\u001b[0m\u001b[1;33m(\u001b[0m\u001b[0mins_batch\u001b[0m\u001b[1;33m)\u001b[0m\u001b[1;33m\u001b[0m\u001b[1;33m\u001b[0m\u001b[0m\n\u001b[0m\u001b[0;32m    295\u001b[0m             \u001b[0mbatch_outs\u001b[0m \u001b[1;33m=\u001b[0m \u001b[0mto_list\u001b[0m\u001b[1;33m(\u001b[0m\u001b[0mbatch_outs\u001b[0m\u001b[1;33m)\u001b[0m\u001b[1;33m\u001b[0m\u001b[1;33m\u001b[0m\u001b[0m\n\u001b[0;32m    296\u001b[0m             \u001b[1;32mif\u001b[0m \u001b[0mbatch_index\u001b[0m \u001b[1;33m==\u001b[0m \u001b[1;36m0\u001b[0m\u001b[1;33m:\u001b[0m\u001b[1;33m\u001b[0m\u001b[1;33m\u001b[0m\u001b[0m\n",
      "\u001b[1;32m~\\AppData\\Local\\Continuum\\anaconda3\\lib\\site-packages\\keras\\backend\\tensorflow_backend.py\u001b[0m in \u001b[0;36m__call__\u001b[1;34m(self, inputs)\u001b[0m\n\u001b[0;32m   2713\u001b[0m                 \u001b[1;32mreturn\u001b[0m \u001b[0mself\u001b[0m\u001b[1;33m.\u001b[0m\u001b[0m_legacy_call\u001b[0m\u001b[1;33m(\u001b[0m\u001b[0minputs\u001b[0m\u001b[1;33m)\u001b[0m\u001b[1;33m\u001b[0m\u001b[1;33m\u001b[0m\u001b[0m\n\u001b[0;32m   2714\u001b[0m \u001b[1;33m\u001b[0m\u001b[0m\n\u001b[1;32m-> 2715\u001b[1;33m             \u001b[1;32mreturn\u001b[0m \u001b[0mself\u001b[0m\u001b[1;33m.\u001b[0m\u001b[0m_call\u001b[0m\u001b[1;33m(\u001b[0m\u001b[0minputs\u001b[0m\u001b[1;33m)\u001b[0m\u001b[1;33m\u001b[0m\u001b[1;33m\u001b[0m\u001b[0m\n\u001b[0m\u001b[0;32m   2716\u001b[0m         \u001b[1;32melse\u001b[0m\u001b[1;33m:\u001b[0m\u001b[1;33m\u001b[0m\u001b[1;33m\u001b[0m\u001b[0m\n\u001b[0;32m   2717\u001b[0m             \u001b[1;32mif\u001b[0m \u001b[0mpy_any\u001b[0m\u001b[1;33m(\u001b[0m\u001b[0mis_tensor\u001b[0m\u001b[1;33m(\u001b[0m\u001b[0mx\u001b[0m\u001b[1;33m)\u001b[0m \u001b[1;32mfor\u001b[0m \u001b[0mx\u001b[0m \u001b[1;32min\u001b[0m \u001b[0minputs\u001b[0m\u001b[1;33m)\u001b[0m\u001b[1;33m:\u001b[0m\u001b[1;33m\u001b[0m\u001b[1;33m\u001b[0m\u001b[0m\n",
      "\u001b[1;32m~\\AppData\\Local\\Continuum\\anaconda3\\lib\\site-packages\\keras\\backend\\tensorflow_backend.py\u001b[0m in \u001b[0;36m_call\u001b[1;34m(self, inputs)\u001b[0m\n\u001b[0;32m   2673\u001b[0m             \u001b[0mfetched\u001b[0m \u001b[1;33m=\u001b[0m \u001b[0mself\u001b[0m\u001b[1;33m.\u001b[0m\u001b[0m_callable_fn\u001b[0m\u001b[1;33m(\u001b[0m\u001b[1;33m*\u001b[0m\u001b[0marray_vals\u001b[0m\u001b[1;33m,\u001b[0m \u001b[0mrun_metadata\u001b[0m\u001b[1;33m=\u001b[0m\u001b[0mself\u001b[0m\u001b[1;33m.\u001b[0m\u001b[0mrun_metadata\u001b[0m\u001b[1;33m)\u001b[0m\u001b[1;33m\u001b[0m\u001b[1;33m\u001b[0m\u001b[0m\n\u001b[0;32m   2674\u001b[0m         \u001b[1;32melse\u001b[0m\u001b[1;33m:\u001b[0m\u001b[1;33m\u001b[0m\u001b[1;33m\u001b[0m\u001b[0m\n\u001b[1;32m-> 2675\u001b[1;33m             \u001b[0mfetched\u001b[0m \u001b[1;33m=\u001b[0m \u001b[0mself\u001b[0m\u001b[1;33m.\u001b[0m\u001b[0m_callable_fn\u001b[0m\u001b[1;33m(\u001b[0m\u001b[1;33m*\u001b[0m\u001b[0marray_vals\u001b[0m\u001b[1;33m)\u001b[0m\u001b[1;33m\u001b[0m\u001b[1;33m\u001b[0m\u001b[0m\n\u001b[0m\u001b[0;32m   2676\u001b[0m         \u001b[1;32mreturn\u001b[0m \u001b[0mfetched\u001b[0m\u001b[1;33m[\u001b[0m\u001b[1;33m:\u001b[0m\u001b[0mlen\u001b[0m\u001b[1;33m(\u001b[0m\u001b[0mself\u001b[0m\u001b[1;33m.\u001b[0m\u001b[0moutputs\u001b[0m\u001b[1;33m)\u001b[0m\u001b[1;33m]\u001b[0m\u001b[1;33m\u001b[0m\u001b[1;33m\u001b[0m\u001b[0m\n\u001b[0;32m   2677\u001b[0m \u001b[1;33m\u001b[0m\u001b[0m\n",
      "\u001b[1;32m~\\AppData\\Local\\Continuum\\anaconda3\\lib\\site-packages\\tensorflow\\python\\client\\session.py\u001b[0m in \u001b[0;36m__call__\u001b[1;34m(self, *args, **kwargs)\u001b[0m\n\u001b[0;32m   1437\u001b[0m           ret = tf_session.TF_SessionRunCallable(\n\u001b[0;32m   1438\u001b[0m               \u001b[0mself\u001b[0m\u001b[1;33m.\u001b[0m\u001b[0m_session\u001b[0m\u001b[1;33m.\u001b[0m\u001b[0m_session\u001b[0m\u001b[1;33m,\u001b[0m \u001b[0mself\u001b[0m\u001b[1;33m.\u001b[0m\u001b[0m_handle\u001b[0m\u001b[1;33m,\u001b[0m \u001b[0margs\u001b[0m\u001b[1;33m,\u001b[0m \u001b[0mstatus\u001b[0m\u001b[1;33m,\u001b[0m\u001b[1;33m\u001b[0m\u001b[1;33m\u001b[0m\u001b[0m\n\u001b[1;32m-> 1439\u001b[1;33m               run_metadata_ptr)\n\u001b[0m\u001b[0;32m   1440\u001b[0m         \u001b[1;32mif\u001b[0m \u001b[0mrun_metadata\u001b[0m\u001b[1;33m:\u001b[0m\u001b[1;33m\u001b[0m\u001b[1;33m\u001b[0m\u001b[0m\n\u001b[0;32m   1441\u001b[0m           \u001b[0mproto_data\u001b[0m \u001b[1;33m=\u001b[0m \u001b[0mtf_session\u001b[0m\u001b[1;33m.\u001b[0m\u001b[0mTF_GetBuffer\u001b[0m\u001b[1;33m(\u001b[0m\u001b[0mrun_metadata_ptr\u001b[0m\u001b[1;33m)\u001b[0m\u001b[1;33m\u001b[0m\u001b[1;33m\u001b[0m\u001b[0m\n",
      "\u001b[1;32m~\\AppData\\Local\\Continuum\\anaconda3\\lib\\site-packages\\tensorflow\\python\\framework\\errors_impl.py\u001b[0m in \u001b[0;36m__exit__\u001b[1;34m(self, type_arg, value_arg, traceback_arg)\u001b[0m\n\u001b[0;32m    526\u001b[0m             \u001b[1;32mNone\u001b[0m\u001b[1;33m,\u001b[0m \u001b[1;32mNone\u001b[0m\u001b[1;33m,\u001b[0m\u001b[1;33m\u001b[0m\u001b[1;33m\u001b[0m\u001b[0m\n\u001b[0;32m    527\u001b[0m             \u001b[0mcompat\u001b[0m\u001b[1;33m.\u001b[0m\u001b[0mas_text\u001b[0m\u001b[1;33m(\u001b[0m\u001b[0mc_api\u001b[0m\u001b[1;33m.\u001b[0m\u001b[0mTF_Message\u001b[0m\u001b[1;33m(\u001b[0m\u001b[0mself\u001b[0m\u001b[1;33m.\u001b[0m\u001b[0mstatus\u001b[0m\u001b[1;33m.\u001b[0m\u001b[0mstatus\u001b[0m\u001b[1;33m)\u001b[0m\u001b[1;33m)\u001b[0m\u001b[1;33m,\u001b[0m\u001b[1;33m\u001b[0m\u001b[1;33m\u001b[0m\u001b[0m\n\u001b[1;32m--> 528\u001b[1;33m             c_api.TF_GetCode(self.status.status))\n\u001b[0m\u001b[0;32m    529\u001b[0m     \u001b[1;31m# Delete the underlying status object from memory otherwise it stays alive\u001b[0m\u001b[1;33m\u001b[0m\u001b[1;33m\u001b[0m\u001b[1;33m\u001b[0m\u001b[0m\n\u001b[0;32m    530\u001b[0m     \u001b[1;31m# as there is a reference to status from this from the traceback due to\u001b[0m\u001b[1;33m\u001b[0m\u001b[1;33m\u001b[0m\u001b[1;33m\u001b[0m\u001b[0m\n",
      "\u001b[1;31mInvalidArgumentError\u001b[0m: Incompatible shapes: [200,100] vs. [20,100]\n\t [[{{node lstm_1_1/while/add_7}}]]"
     ]
    }
   ],
   "source": [
    "saved_model = load_model(os.path.join(OUTPUT_PATH, 'best_model.h5')) # , \"lstm_best_7-3-19_12AM\",\n",
    "print(saved_model)\n",
    "\n",
    "y_pred = saved_model.predict(trim_dataset(x_test_t, BATCH_SIZE), batch_size=BATCH_SIZE)\n",
    "y_pred = y_pred.flatten()\n",
    "y_test_t = trim_dataset(y_test_t, BATCH_SIZE)\n",
    "error = mean_squared_error(y_test_t, y_pred)\n",
    "print(\"Error is\", error, y_pred.shape, y_test_t.shape)\n",
    "print(y_pred[0:15])\n",
    "print(y_test_t[0:15])\n",
    "y_pred_org = (y_pred * min_max_scaler.data_range_[3]) + min_max_scaler.data_min_[3] # min_max_scaler.inverse_transform(y_pred)\n",
    "y_test_t_org = (y_test_t * min_max_scaler.data_range_[3]) + min_max_scaler.data_min_[3] # min_max_scaler.inverse_transform(y_test_t)\n",
    "print(y_pred_org[0:15])\n",
    "print(y_test_t_org[0:15])\n",
    "\n",
    "# Visualize the prediction\n",
    "from matplotlib import pyplot as plt\n",
    "plt.figure()\n",
    "plt.plot([x/48.0 for x in range(len(y_pred_org))],y_pred_org)\n",
    "plt.plot([x/48.0 for x in range(len(y_pred_org))],y_test_t_org)\n",
    "plt.title('Prediction vs Real Stock Price')\n",
    "plt.ylabel('Price')\n",
    "plt.xlabel('Days')\n",
    "plt.legend(['Prediction', 'Real'], loc='upper left')\n",
    "plt.show()"
   ]
  },
  {
   "cell_type": "code",
   "execution_count": null,
   "metadata": {},
   "outputs": [],
   "source": [
    "print(\"Select date between \" + str(df['Timestamp'].iloc[TIME_STEPS+1].date()) +\" and \" + str(df['Timestamp'].iloc[-1].date())+\".\")\n",
    "@interact\n",
    "def predict_price(days = [7,10,30],date=widgets.DatePicker(value=pd.to_datetime(df['Timestamp'].iloc[721])),theme=list(style.available)):\n",
    "    d = pd.to_datetime(date)\n",
    "    #print(d)\n",
    "    if len(df[d==df['Timestamp'].dt.date]) < 1:\n",
    "           print(\"Date out of range! Select again\")\n",
    "    else:\n",
    "        i = df[d==df['Timestamp'].dt.date].index.values.astype(int)[0]\n",
    "        #print(i)\n",
    "        da = days*48\n",
    "        print(da)\n",
    "        df_test = df.loc[:i+500]\n",
    "        x_test = min_max_scaler.transform(df_test.loc[:,train_cols])\n",
    "        #print(x_test.shape)\n",
    "        x_test_t, y_test_t = build_timeseries(x_test,target_col, TIME_STEPS)\n",
    "        y_pred = saved_model.predict(trim_dataset(x_test_t, BATCH_SIZE), batch_size=BATCH_SIZE)\n",
    "        y_pred = y_pred.flatten()\n",
    "        y_test_t = trim_dataset(y_test_t, BATCH_SIZE)\n",
    "        error = mean_squared_error(y_test_t, y_pred)\n",
    "        #print(\"Error is\", error, y_pred.shape, y_test_t.shape)\n",
    "        #print(y_pred[0:15])\n",
    "        #print(y_test_t[0:15])\n",
    "        y_pred_org = (y_pred * min_max_scaler.data_range_[3]) + min_max_scaler.data_min_[3] # min_max_scaler.inverse_transform(y_pred)\n",
    "        y_test_t_org = (y_test_t * min_max_scaler.data_range_[3]) + min_max_scaler.data_min_[3] # min_max_scaler.inverse_transform(y_test_t)\n",
    "        #print(y_pred_org[0:15])\n",
    "        #print(y_test_t_org[0:15])\n",
    "\n",
    "        # Visualize the prediction\n",
    "        from matplotlib import pyplot as plt\n",
    "        plt.figure()\n",
    "        style.use(theme)\n",
    "        #print([d + pd.DateOffset(hours=x/2.0) for x in range(len(y_pred_org))])\n",
    "        plt.plot([d + pd.DateOffset(hours=x/2.0) for x in range(len(y_pred_org))],y_pred_org)\n",
    "        plt.plot([d + pd.DateOffset(hours=x/2.0) for x in range(len(y_pred_org))],y_test_t_org)\n",
    "        plt.title('Prediction vs Real Stock Price')\n",
    "        plt.ylabel('Price')\n",
    "        plt.xlabel('Days')\n",
    "        plt.xticks(rotation=90)\n",
    "        plt.legend(['Prediction', 'Real'], loc='upper left')\n",
    "        plt.show()"
   ]
  },
  {
   "cell_type": "code",
   "execution_count": null,
   "metadata": {},
   "outputs": [],
   "source": []
  }
 ],
 "metadata": {
  "kernelspec": {
   "display_name": "Python 3",
   "language": "python",
   "name": "python3"
  },
  "language_info": {
   "codemirror_mode": {
    "name": "ipython",
    "version": 3
   },
   "file_extension": ".py",
   "mimetype": "text/x-python",
   "name": "python",
   "nbconvert_exporter": "python",
   "pygments_lexer": "ipython3",
   "version": "3.7.3"
  },
  "widgets": {
   "application/vnd.jupyter.widget-state+json": {
    "state": {
     "008b612017d64d1693eeb0715a5df541": {
      "model_module": "@jupyter-widgets/controls",
      "model_module_version": "1.5.0",
      "model_name": "DescriptionStyleModel",
      "state": {
       "description_width": ""
      }
     },
     "01c6b4374b0b4adea29cb21cc666e027": {
      "model_module": "@jupyter-widgets/controls",
      "model_module_version": "1.5.0",
      "model_name": "VBoxModel",
      "state": {
       "_dom_classes": [
        "widget-interact"
       ],
       "children": [
        "IPY_MODEL_e27c9f380da14580ac410115d7444945",
        "IPY_MODEL_d88aa9badd77465ca84ab04f646fc1f4"
       ],
       "layout": "IPY_MODEL_16554722c8e14e22ad7ed16fc408e48b"
      }
     },
     "0294fddee4d643a1b36aaca606840246": {
      "model_module": "@jupyter-widgets/controls",
      "model_module_version": "1.5.0",
      "model_name": "VBoxModel",
      "state": {
       "_dom_classes": [
        "widget-interact"
       ],
       "children": [
        "IPY_MODEL_0297a4c2463643468de3b9d16dcd7fe1",
        "IPY_MODEL_452381ea67d04eeeb99780f27e0f1c57"
       ],
       "layout": "IPY_MODEL_ef0a2f8cf6ea4d9da49df381c98d9209"
      }
     },
     "0297a4c2463643468de3b9d16dcd7fe1": {
      "model_module": "@jupyter-widgets/controls",
      "model_module_version": "1.5.0",
      "model_name": "DatePickerModel",
      "state": {
       "description": "date",
       "disabled": false,
       "layout": "IPY_MODEL_ca1c6bb60a734f9b840ed801f862434f",
       "style": "IPY_MODEL_6c73fe595eb342b3af9140a20cf5e837",
       "value": {
        "date": 18,
        "month": 5,
        "year": 2018
       }
      }
     },
     "02d5f33ba6714d93ad12af04b69f74d6": {
      "model_module": "@jupyter-widgets/base",
      "model_module_version": "1.2.0",
      "model_name": "LayoutModel",
      "state": {}
     },
     "03010c6807564c02b8fee9c050471d7e": {
      "model_module": "@jupyter-widgets/base",
      "model_module_version": "1.2.0",
      "model_name": "LayoutModel",
      "state": {}
     },
     "035bbb56b1b54a02820db09b011d2146": {
      "model_module": "@jupyter-widgets/base",
      "model_module_version": "1.2.0",
      "model_name": "LayoutModel",
      "state": {}
     },
     "03ac1fa0e2d44e20929e086557799470": {
      "model_module": "@jupyter-widgets/controls",
      "model_module_version": "1.5.0",
      "model_name": "VBoxModel",
      "state": {
       "_dom_classes": [
        "widget-interact"
       ],
       "children": [
        "IPY_MODEL_726ce622057a461ca482a70ee243e6d8",
        "IPY_MODEL_b39a653b630145f5b104d320d11742d1"
       ],
       "layout": "IPY_MODEL_02d5f33ba6714d93ad12af04b69f74d6"
      }
     },
     "047ab705fa604192b6d0935cadeb1c23": {
      "model_module": "@jupyter-widgets/base",
      "model_module_version": "1.2.0",
      "model_name": "LayoutModel",
      "state": {}
     },
     "049c56edaf3640ed984aee7622b77d23": {
      "model_module": "@jupyter-widgets/output",
      "model_module_version": "1.0.0",
      "model_name": "OutputModel",
      "state": {
       "layout": "IPY_MODEL_dd9b7c94c583442384722ca627e2371a",
       "outputs": [
        {
         "ename": "TypeError",
         "evalue": "int() argument must be a string, a bytes-like object or a number, not 'Int64Index'",
         "output_type": "error",
         "traceback": [
          "\u001b[1;31m---------------------------------------------------------------------------\u001b[0m",
          "\u001b[1;31mTypeError\u001b[0m                                 Traceback (most recent call last)",
          "\u001b[1;32m~\\AppData\\Local\\Continuum\\anaconda3\\lib\\site-packages\\ipywidgets\\widgets\\interaction.py\u001b[0m in \u001b[0;36mupdate\u001b[1;34m(self, *args)\u001b[0m\n\u001b[0;32m    254\u001b[0m                     \u001b[0mvalue\u001b[0m \u001b[1;33m=\u001b[0m \u001b[0mwidget\u001b[0m\u001b[1;33m.\u001b[0m\u001b[0mget_interact_value\u001b[0m\u001b[1;33m(\u001b[0m\u001b[1;33m)\u001b[0m\u001b[1;33m\u001b[0m\u001b[1;33m\u001b[0m\u001b[0m\n\u001b[0;32m    255\u001b[0m                     \u001b[0mself\u001b[0m\u001b[1;33m.\u001b[0m\u001b[0mkwargs\u001b[0m\u001b[1;33m[\u001b[0m\u001b[0mwidget\u001b[0m\u001b[1;33m.\u001b[0m\u001b[0m_kwarg\u001b[0m\u001b[1;33m]\u001b[0m \u001b[1;33m=\u001b[0m \u001b[0mvalue\u001b[0m\u001b[1;33m\u001b[0m\u001b[1;33m\u001b[0m\u001b[0m\n\u001b[1;32m--> 256\u001b[1;33m                 \u001b[0mself\u001b[0m\u001b[1;33m.\u001b[0m\u001b[0mresult\u001b[0m \u001b[1;33m=\u001b[0m \u001b[0mself\u001b[0m\u001b[1;33m.\u001b[0m\u001b[0mf\u001b[0m\u001b[1;33m(\u001b[0m\u001b[1;33m**\u001b[0m\u001b[0mself\u001b[0m\u001b[1;33m.\u001b[0m\u001b[0mkwargs\u001b[0m\u001b[1;33m)\u001b[0m\u001b[1;33m\u001b[0m\u001b[1;33m\u001b[0m\u001b[0m\n\u001b[0m\u001b[0;32m    257\u001b[0m                 \u001b[0mshow_inline_matplotlib_plots\u001b[0m\u001b[1;33m(\u001b[0m\u001b[1;33m)\u001b[0m\u001b[1;33m\u001b[0m\u001b[1;33m\u001b[0m\u001b[0m\n\u001b[0;32m    258\u001b[0m                 \u001b[1;32mif\u001b[0m \u001b[0mself\u001b[0m\u001b[1;33m.\u001b[0m\u001b[0mauto_display\u001b[0m \u001b[1;32mand\u001b[0m \u001b[0mself\u001b[0m\u001b[1;33m.\u001b[0m\u001b[0mresult\u001b[0m \u001b[1;32mis\u001b[0m \u001b[1;32mnot\u001b[0m \u001b[1;32mNone\u001b[0m\u001b[1;33m:\u001b[0m\u001b[1;33m\u001b[0m\u001b[1;33m\u001b[0m\u001b[0m\n",
          "\u001b[1;32m<ipython-input-40-7eb390bda070>\u001b[0m in \u001b[0;36mpredict_price\u001b[1;34m(date)\u001b[0m\n\u001b[0;32m      6\u001b[0m            \u001b[0mprint\u001b[0m\u001b[1;33m(\u001b[0m\u001b[1;34m\"Date out of range! Select again\"\u001b[0m\u001b[1;33m)\u001b[0m\u001b[1;33m\u001b[0m\u001b[1;33m\u001b[0m\u001b[0m\n\u001b[0;32m      7\u001b[0m     \u001b[1;32melse\u001b[0m\u001b[1;33m:\u001b[0m\u001b[1;33m\u001b[0m\u001b[1;33m\u001b[0m\u001b[0m\n\u001b[1;32m----> 8\u001b[1;33m         \u001b[0mi\u001b[0m \u001b[1;33m=\u001b[0m \u001b[0mint\u001b[0m\u001b[1;33m(\u001b[0m\u001b[0mdf\u001b[0m\u001b[1;33m.\u001b[0m\u001b[0mindex\u001b[0m\u001b[1;33m[\u001b[0m\u001b[0md\u001b[0m\u001b[1;33m==\u001b[0m\u001b[0mdf\u001b[0m\u001b[1;33m[\u001b[0m\u001b[1;34m'Timestamp'\u001b[0m\u001b[1;33m]\u001b[0m\u001b[1;33m]\u001b[0m\u001b[1;33m)\u001b[0m\u001b[1;33m\u001b[0m\u001b[1;33m\u001b[0m\u001b[0m\n\u001b[0m\u001b[0;32m      9\u001b[0m         \u001b[0mprint\u001b[0m\u001b[1;33m(\u001b[0m\u001b[0mi\u001b[0m\u001b[1;33m)\u001b[0m\u001b[1;33m\u001b[0m\u001b[1;33m\u001b[0m\u001b[0m\n\u001b[0;32m     10\u001b[0m         \u001b[0mdf_test\u001b[0m \u001b[1;33m=\u001b[0m \u001b[0mdf\u001b[0m\u001b[1;33m.\u001b[0m\u001b[0mloc\u001b[0m\u001b[1;33m[\u001b[0m\u001b[0mi\u001b[0m\u001b[1;33m:\u001b[0m\u001b[0mi\u001b[0m\u001b[1;33m+\u001b[0m\u001b[1;36m500\u001b[0m\u001b[1;33m]\u001b[0m\u001b[1;33m\u001b[0m\u001b[1;33m\u001b[0m\u001b[0m\n",
          "\u001b[1;31mTypeError\u001b[0m: int() argument must be a string, a bytes-like object or a number, not 'Int64Index'"
         ]
        }
       ]
      }
     },
     "058e3d56c4b441fba6cb772996bd09cd": {
      "model_module": "@jupyter-widgets/controls",
      "model_module_version": "1.5.0",
      "model_name": "DatePickerModel",
      "state": {
       "description": "date",
       "disabled": false,
       "layout": "IPY_MODEL_b717bf2ccae54087b68aa44615945aba",
       "style": "IPY_MODEL_130e02949cb247f59691b1d027d78d1d",
       "value": {
        "date": 20,
        "month": 5,
        "year": 2018
       }
      }
     },
     "0592af347699435b867b82c3472c35cc": {
      "model_module": "@jupyter-widgets/base",
      "model_module_version": "1.2.0",
      "model_name": "LayoutModel",
      "state": {}
     },
     "05a2b0bccf7749189b584563760394dd": {
      "model_module": "@jupyter-widgets/base",
      "model_module_version": "1.2.0",
      "model_name": "LayoutModel",
      "state": {}
     },
     "0666a7950d194644a8e2a21f7359c9d0": {
      "model_module": "@jupyter-widgets/base",
      "model_module_version": "1.2.0",
      "model_name": "LayoutModel",
      "state": {}
     },
     "06c603bf293846628745098ab6295fa8": {
      "model_module": "@jupyter-widgets/controls",
      "model_module_version": "1.5.0",
      "model_name": "IntProgressModel",
      "state": {
       "bar_style": "success",
       "layout": "IPY_MODEL_7a8e553c8cd645b2bd93a957747a2baf",
       "max": 502,
       "style": "IPY_MODEL_c648b1d08fc94d69a264d2cab61c64f2",
       "value": 502
      }
     },
     "0807f6051523479da3ff264b315e3f7d": {
      "model_module": "@jupyter-widgets/controls",
      "model_module_version": "1.5.0",
      "model_name": "DescriptionStyleModel",
      "state": {
       "description_width": ""
      }
     },
     "0936084d4d554d96a95f08533028b4bd": {
      "model_module": "@jupyter-widgets/output",
      "model_module_version": "1.0.0",
      "model_name": "OutputModel",
      "state": {
       "layout": "IPY_MODEL_30efb91cff0547abac81d30cf0573c0e",
       "outputs": [
        {
         "name": "stdout",
         "output_type": "stream",
         "text": "2018-06-18 02:00:00\n"
        },
        {
         "ename": "AttributeError",
         "evalue": "'Series' object has no attribute 'date'",
         "output_type": "error",
         "traceback": [
          "\u001b[1;31m---------------------------------------------------------------------------\u001b[0m",
          "\u001b[1;31mAttributeError\u001b[0m                            Traceback (most recent call last)",
          "\u001b[1;32m~\\AppData\\Local\\Continuum\\anaconda3\\lib\\site-packages\\ipywidgets\\widgets\\interaction.py\u001b[0m in \u001b[0;36mupdate\u001b[1;34m(self, *args)\u001b[0m\n\u001b[0;32m    254\u001b[0m                     \u001b[0mvalue\u001b[0m \u001b[1;33m=\u001b[0m \u001b[0mwidget\u001b[0m\u001b[1;33m.\u001b[0m\u001b[0mget_interact_value\u001b[0m\u001b[1;33m(\u001b[0m\u001b[1;33m)\u001b[0m\u001b[1;33m\u001b[0m\u001b[1;33m\u001b[0m\u001b[0m\n\u001b[0;32m    255\u001b[0m                     \u001b[0mself\u001b[0m\u001b[1;33m.\u001b[0m\u001b[0mkwargs\u001b[0m\u001b[1;33m[\u001b[0m\u001b[0mwidget\u001b[0m\u001b[1;33m.\u001b[0m\u001b[0m_kwarg\u001b[0m\u001b[1;33m]\u001b[0m \u001b[1;33m=\u001b[0m \u001b[0mvalue\u001b[0m\u001b[1;33m\u001b[0m\u001b[1;33m\u001b[0m\u001b[0m\n\u001b[1;32m--> 256\u001b[1;33m                 \u001b[0mself\u001b[0m\u001b[1;33m.\u001b[0m\u001b[0mresult\u001b[0m \u001b[1;33m=\u001b[0m \u001b[0mself\u001b[0m\u001b[1;33m.\u001b[0m\u001b[0mf\u001b[0m\u001b[1;33m(\u001b[0m\u001b[1;33m**\u001b[0m\u001b[0mself\u001b[0m\u001b[1;33m.\u001b[0m\u001b[0mkwargs\u001b[0m\u001b[1;33m)\u001b[0m\u001b[1;33m\u001b[0m\u001b[1;33m\u001b[0m\u001b[0m\n\u001b[0m\u001b[0;32m    257\u001b[0m                 \u001b[0mshow_inline_matplotlib_plots\u001b[0m\u001b[1;33m(\u001b[0m\u001b[1;33m)\u001b[0m\u001b[1;33m\u001b[0m\u001b[1;33m\u001b[0m\u001b[0m\n\u001b[0;32m    258\u001b[0m                 \u001b[1;32mif\u001b[0m \u001b[0mself\u001b[0m\u001b[1;33m.\u001b[0m\u001b[0mauto_display\u001b[0m \u001b[1;32mand\u001b[0m \u001b[0mself\u001b[0m\u001b[1;33m.\u001b[0m\u001b[0mresult\u001b[0m \u001b[1;32mis\u001b[0m \u001b[1;32mnot\u001b[0m \u001b[1;32mNone\u001b[0m\u001b[1;33m:\u001b[0m\u001b[1;33m\u001b[0m\u001b[1;33m\u001b[0m\u001b[0m\n",
          "\u001b[1;32m<ipython-input-57-24fe11bd6ca2>\u001b[0m in \u001b[0;36mpredict_price\u001b[1;34m(date)\u001b[0m\n\u001b[0;32m      4\u001b[0m     \u001b[0md\u001b[0m \u001b[1;33m=\u001b[0m \u001b[0mpd\u001b[0m\u001b[1;33m.\u001b[0m\u001b[0mto_datetime\u001b[0m\u001b[1;33m(\u001b[0m\u001b[0mdate\u001b[0m\u001b[1;33m)\u001b[0m\u001b[1;33m\u001b[0m\u001b[1;33m\u001b[0m\u001b[0m\n\u001b[0;32m      5\u001b[0m     \u001b[0mprint\u001b[0m\u001b[1;33m(\u001b[0m\u001b[0md\u001b[0m\u001b[1;33m)\u001b[0m\u001b[1;33m\u001b[0m\u001b[1;33m\u001b[0m\u001b[0m\n\u001b[1;32m----> 6\u001b[1;33m     \u001b[1;32mif\u001b[0m \u001b[0mlen\u001b[0m\u001b[1;33m(\u001b[0m\u001b[0mdf\u001b[0m\u001b[1;33m[\u001b[0m\u001b[0md\u001b[0m\u001b[1;33m==\u001b[0m\u001b[0mdf\u001b[0m\u001b[1;33m[\u001b[0m\u001b[1;34m'Timestamp'\u001b[0m\u001b[1;33m]\u001b[0m\u001b[1;33m.\u001b[0m\u001b[0mdate\u001b[0m\u001b[1;33m(\u001b[0m\u001b[1;33m)\u001b[0m\u001b[1;33m]\u001b[0m\u001b[1;33m)\u001b[0m \u001b[1;33m<\u001b[0m \u001b[1;36m1\u001b[0m\u001b[1;33m:\u001b[0m\u001b[1;33m\u001b[0m\u001b[1;33m\u001b[0m\u001b[0m\n\u001b[0m\u001b[0;32m      7\u001b[0m            \u001b[0mprint\u001b[0m\u001b[1;33m(\u001b[0m\u001b[1;34m\"Date out of range! Select again\"\u001b[0m\u001b[1;33m)\u001b[0m\u001b[1;33m\u001b[0m\u001b[1;33m\u001b[0m\u001b[0m\n\u001b[0;32m      8\u001b[0m     \u001b[1;32melse\u001b[0m\u001b[1;33m:\u001b[0m\u001b[1;33m\u001b[0m\u001b[1;33m\u001b[0m\u001b[0m\n",
          "\u001b[1;32m~\\AppData\\Local\\Continuum\\anaconda3\\lib\\site-packages\\pandas\\core\\generic.py\u001b[0m in \u001b[0;36m__getattr__\u001b[1;34m(self, name)\u001b[0m\n\u001b[0;32m   5178\u001b[0m             \u001b[1;32mif\u001b[0m \u001b[0mself\u001b[0m\u001b[1;33m.\u001b[0m\u001b[0m_info_axis\u001b[0m\u001b[1;33m.\u001b[0m\u001b[0m_can_hold_identifiers_and_holds_name\u001b[0m\u001b[1;33m(\u001b[0m\u001b[0mname\u001b[0m\u001b[1;33m)\u001b[0m\u001b[1;33m:\u001b[0m\u001b[1;33m\u001b[0m\u001b[1;33m\u001b[0m\u001b[0m\n\u001b[0;32m   5179\u001b[0m                 \u001b[1;32mreturn\u001b[0m \u001b[0mself\u001b[0m\u001b[1;33m[\u001b[0m\u001b[0mname\u001b[0m\u001b[1;33m]\u001b[0m\u001b[1;33m\u001b[0m\u001b[1;33m\u001b[0m\u001b[0m\n\u001b[1;32m-> 5180\u001b[1;33m             \u001b[1;32mreturn\u001b[0m \u001b[0mobject\u001b[0m\u001b[1;33m.\u001b[0m\u001b[0m__getattribute__\u001b[0m\u001b[1;33m(\u001b[0m\u001b[0mself\u001b[0m\u001b[1;33m,\u001b[0m \u001b[0mname\u001b[0m\u001b[1;33m)\u001b[0m\u001b[1;33m\u001b[0m\u001b[1;33m\u001b[0m\u001b[0m\n\u001b[0m\u001b[0;32m   5181\u001b[0m \u001b[1;33m\u001b[0m\u001b[0m\n\u001b[0;32m   5182\u001b[0m     \u001b[1;32mdef\u001b[0m \u001b[0m__setattr__\u001b[0m\u001b[1;33m(\u001b[0m\u001b[0mself\u001b[0m\u001b[1;33m,\u001b[0m \u001b[0mname\u001b[0m\u001b[1;33m,\u001b[0m \u001b[0mvalue\u001b[0m\u001b[1;33m)\u001b[0m\u001b[1;33m:\u001b[0m\u001b[1;33m\u001b[0m\u001b[1;33m\u001b[0m\u001b[0m\n",
          "\u001b[1;31mAttributeError\u001b[0m: 'Series' object has no attribute 'date'"
         ]
        }
       ]
      }
     },
     "09eaaf66fe0a43e393a182f4811e3b0e": {
      "model_module": "@jupyter-widgets/controls",
      "model_module_version": "1.5.0",
      "model_name": "DatePickerModel",
      "state": {
       "description": "date",
       "disabled": false,
       "layout": "IPY_MODEL_0dab0c9440f04faa8923e54fb27e380f",
       "style": "IPY_MODEL_cb467e11788d456fb0080381c695d889",
       "value": {
        "date": 23,
        "month": 4,
        "year": 2018
       }
      }
     },
     "0af5d584219943b481bb24bfa5413ca9": {
      "model_module": "@jupyter-widgets/output",
      "model_module_version": "1.0.0",
      "model_name": "OutputModel",
      "state": {
       "layout": "IPY_MODEL_74dd337fb7064f288690f596628d2c5c",
       "outputs": [
        {
         "name": "stdout",
         "output_type": "stream",
         "text": "1\n"
        }
       ]
      }
     },
     "0b6e7375d9834a398b6a704035d65293": {
      "model_module": "@jupyter-widgets/base",
      "model_module_version": "1.2.0",
      "model_name": "LayoutModel",
      "state": {}
     },
     "0ca52782ce38403ba40c65cd2fcd5b63": {
      "model_module": "@jupyter-widgets/controls",
      "model_module_version": "1.5.0",
      "model_name": "DescriptionStyleModel",
      "state": {
       "description_width": ""
      }
     },
     "0dab0c9440f04faa8923e54fb27e380f": {
      "model_module": "@jupyter-widgets/base",
      "model_module_version": "1.2.0",
      "model_name": "LayoutModel",
      "state": {}
     },
     "0de75f15ea4245ab83671cc7efd6ec21": {
      "model_module": "@jupyter-widgets/base",
      "model_module_version": "1.2.0",
      "model_name": "LayoutModel",
      "state": {}
     },
     "0ede8b1b2d6249038f973da79e237487": {
      "model_module": "@jupyter-widgets/base",
      "model_module_version": "1.2.0",
      "model_name": "LayoutModel",
      "state": {}
     },
     "10e903dca6be411faa2609d9b6e5585a": {
      "model_module": "@jupyter-widgets/controls",
      "model_module_version": "1.5.0",
      "model_name": "VBoxModel",
      "state": {
       "_dom_classes": [
        "widget-interact"
       ],
       "children": [
        "IPY_MODEL_63bb8b60ef69404185a58223cd7a877f",
        "IPY_MODEL_0936084d4d554d96a95f08533028b4bd"
       ],
       "layout": "IPY_MODEL_bae17054193248ab93b5bf8632120e71"
      }
     },
     "130e02949cb247f59691b1d027d78d1d": {
      "model_module": "@jupyter-widgets/controls",
      "model_module_version": "1.5.0",
      "model_name": "DescriptionStyleModel",
      "state": {
       "description_width": ""
      }
     },
     "14e42bf9a5d549229364f1082c826bf0": {
      "model_module": "@jupyter-widgets/controls",
      "model_module_version": "1.5.0",
      "model_name": "DescriptionStyleModel",
      "state": {
       "description_width": ""
      }
     },
     "15db61692fa646259edb11a847f13748": {
      "model_module": "@jupyter-widgets/controls",
      "model_module_version": "1.5.0",
      "model_name": "DescriptionStyleModel",
      "state": {
       "description_width": ""
      }
     },
     "16554722c8e14e22ad7ed16fc408e48b": {
      "model_module": "@jupyter-widgets/base",
      "model_module_version": "1.2.0",
      "model_name": "LayoutModel",
      "state": {}
     },
     "17090b0c11664f71a3fb370adbf5b216": {
      "model_module": "@jupyter-widgets/base",
      "model_module_version": "1.2.0",
      "model_name": "LayoutModel",
      "state": {}
     },
     "170cfc30af594891b9141c8180dcca19": {
      "model_module": "@jupyter-widgets/controls",
      "model_module_version": "1.5.0",
      "model_name": "HBoxModel",
      "state": {
       "children": [
        "IPY_MODEL_c55d357badf74bdbb81727eaa314ce61",
        "IPY_MODEL_e1b7f8020d4b4535b7deb21b5b8b98cb"
       ],
       "layout": "IPY_MODEL_ef170f08566d4c478bc76a6c8e012df2"
      }
     },
     "1742f009d9724f4fb631c4ac7bd671c0": {
      "model_module": "@jupyter-widgets/output",
      "model_module_version": "1.0.0",
      "model_name": "OutputModel",
      "state": {
       "layout": "IPY_MODEL_ff27f4f3d6c04b5cb26b6c6ab7777bb2",
       "outputs": [
        {
         "data": {
          "application/vnd.jupyter.widget-view+json": {
           "model_id": "170cfc30af594891b9141c8180dcca19",
           "version_major": 2,
           "version_minor": 0
          },
          "text/plain": "HBox(children=(IntProgress(value=0, max=502), HTML(value='')))"
         },
         "metadata": {},
         "output_type": "display_data"
        },
        {
         "name": "stdout",
         "output_type": "stream",
         "text": "\nlength of time-series i/o (502, 720, 5) (502,)\n"
        },
        {
         "data": {
          "image/png": "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\n",
          "text/plain": "<Figure size 432x288 with 1 Axes>"
         },
         "metadata": {
          "needs_background": "light"
         },
         "output_type": "display_data"
        }
       ]
      }
     },
     "17d2af79047f4413b18307580c75e624": {
      "model_module": "@jupyter-widgets/controls",
      "model_module_version": "1.5.0",
      "model_name": "DescriptionStyleModel",
      "state": {
       "description_width": ""
      }
     },
     "1825b88c316c4642abd9d1b9e028ed67": {
      "model_module": "@jupyter-widgets/base",
      "model_module_version": "1.2.0",
      "model_name": "LayoutModel",
      "state": {}
     },
     "18712f79507b4c74bace5a4ed243929e": {
      "model_module": "@jupyter-widgets/base",
      "model_module_version": "1.2.0",
      "model_name": "LayoutModel",
      "state": {}
     },
     "18b6bd6cc6ac4df1bc9bcd80697198de": {
      "model_module": "@jupyter-widgets/controls",
      "model_module_version": "1.5.0",
      "model_name": "ProgressStyleModel",
      "state": {
       "description_width": ""
      }
     },
     "1901cdffc131490c8f91492269336e2c": {
      "model_module": "@jupyter-widgets/controls",
      "model_module_version": "1.5.0",
      "model_name": "VBoxModel",
      "state": {
       "_dom_classes": [
        "widget-interact"
       ],
       "children": [
        "IPY_MODEL_2672f0bfaaa34360bd199a6a07dc0651",
        "IPY_MODEL_f3ea3a787ce64f9380d7213d4f6a5d9a"
       ],
       "layout": "IPY_MODEL_47a3c555926b4513a023a69c24f6597a"
      }
     },
     "192b32361ed145dab4689d6afef90256": {
      "model_module": "@jupyter-widgets/base",
      "model_module_version": "1.2.0",
      "model_name": "LayoutModel",
      "state": {}
     },
     "1a9a1da6695e4b1f8d87ae189e0ca7ad": {
      "model_module": "@jupyter-widgets/controls",
      "model_module_version": "1.5.0",
      "model_name": "DescriptionStyleModel",
      "state": {
       "description_width": ""
      }
     },
     "1abbaf784f6e408ea3d33d4aa2b0e5fc": {
      "model_module": "@jupyter-widgets/controls",
      "model_module_version": "1.5.0",
      "model_name": "VBoxModel",
      "state": {
       "_dom_classes": [
        "widget-interact"
       ],
       "children": [
        "IPY_MODEL_307de623210949a19a5e30d9282b5ccf",
        "IPY_MODEL_a14535a733fe49279e687edb1846259a"
       ],
       "layout": "IPY_MODEL_73c68593635341468f3e9e2a79b155a0"
      }
     },
     "1afed42465a64150aade122c75fcd785": {
      "model_module": "@jupyter-widgets/controls",
      "model_module_version": "1.5.0",
      "model_name": "DescriptionStyleModel",
      "state": {
       "description_width": ""
      }
     },
     "1b3da681e1f84bed8fd9f98f02ee6a7a": {
      "model_module": "@jupyter-widgets/controls",
      "model_module_version": "1.5.0",
      "model_name": "DatePickerModel",
      "state": {
       "description": "date",
       "disabled": false,
       "layout": "IPY_MODEL_8a6629847c9444038978b408b61b1d61",
       "style": "IPY_MODEL_828d14a2875f4e4e9aab38d16ee3797b",
       "value": {
        "date": 18,
        "month": 5,
        "year": 2018
       }
      }
     },
     "1c8ff4b92afb4fdf85e5f4e825b8f6c7": {
      "model_module": "@jupyter-widgets/base",
      "model_module_version": "1.2.0",
      "model_name": "LayoutModel",
      "state": {}
     },
     "1cb29628321643d5b5bb86b5ce4abae7": {
      "model_module": "@jupyter-widgets/controls",
      "model_module_version": "1.5.0",
      "model_name": "DatePickerModel",
      "state": {
       "description": "date",
       "disabled": false,
       "layout": "IPY_MODEL_e7818e4f5e8d4f6a83d47228bd4853e8",
       "style": "IPY_MODEL_97c81d0e70cd49a48dec0ea770e2a608",
       "value": {
        "date": 23,
        "month": 4,
        "year": 2018
       }
      }
     },
     "1d2dd022fd8941668a3c9f5b94e7f7a5": {
      "model_module": "@jupyter-widgets/controls",
      "model_module_version": "1.5.0",
      "model_name": "DescriptionStyleModel",
      "state": {
       "description_width": ""
      }
     },
     "1d3e2053a6614a5b8cfed41e188da4df": {
      "model_module": "@jupyter-widgets/controls",
      "model_module_version": "1.5.0",
      "model_name": "DescriptionStyleModel",
      "state": {
       "description_width": ""
      }
     },
     "1d4400cdb7a24c728bd47c184bfb7cc1": {
      "model_module": "@jupyter-widgets/output",
      "model_module_version": "1.0.0",
      "model_name": "OutputModel",
      "state": {
       "layout": "IPY_MODEL_035bbb56b1b54a02820db09b011d2146",
       "outputs": [
        {
         "name": "stdout",
         "output_type": "stream",
         "text": "False\n"
        }
       ]
      }
     },
     "1e9f8729d3834919b182d9b1359e20a0": {
      "model_module": "@jupyter-widgets/controls",
      "model_module_version": "1.5.0",
      "model_name": "VBoxModel",
      "state": {
       "_dom_classes": [
        "widget-interact"
       ],
       "children": [
        "IPY_MODEL_83eff4003213417495deaa8e77c8262c",
        "IPY_MODEL_0af5d584219943b481bb24bfa5413ca9"
       ],
       "layout": "IPY_MODEL_6c8317cca6564f8f80256871204afda6"
      }
     },
     "1fc398c05a4d4c22b355295856b9cb84": {
      "model_module": "@jupyter-widgets/base",
      "model_module_version": "1.2.0",
      "model_name": "LayoutModel",
      "state": {}
     },
     "20150495e9a743b9860fecd8355a2985": {
      "model_module": "@jupyter-widgets/controls",
      "model_module_version": "1.5.0",
      "model_name": "VBoxModel",
      "state": {
       "_dom_classes": [
        "widget-interact"
       ],
       "children": [
        "IPY_MODEL_29a514130bb94f5aa81ac1d48f18fedd",
        "IPY_MODEL_963b602b7a4247fb8ff6c2d4e07cbb73"
       ],
       "layout": "IPY_MODEL_e67956c7a98c4b76ae825abbcbc04828"
      }
     },
     "21c6f3259e7643fdbcd3b4a4c3b26aa2": {
      "model_module": "@jupyter-widgets/base",
      "model_module_version": "1.2.0",
      "model_name": "LayoutModel",
      "state": {}
     },
     "23548950195f4632b83680c2b1e470ea": {
      "model_module": "@jupyter-widgets/base",
      "model_module_version": "1.2.0",
      "model_name": "LayoutModel",
      "state": {}
     },
     "248c62414692428fa3bb39b92c8b7795": {
      "model_module": "@jupyter-widgets/controls",
      "model_module_version": "1.5.0",
      "model_name": "VBoxModel",
      "state": {
       "_dom_classes": [
        "widget-interact"
       ],
       "children": [
        "IPY_MODEL_dac93ecf49b14de5994fcdcb48f826bc",
        "IPY_MODEL_f9de5c6c55e3438db2445b0f225b739b",
        "IPY_MODEL_54bd5f71d3584853b3bf33016787ad11"
       ],
       "layout": "IPY_MODEL_ea45cd896d0246efba0d257e0a897086"
      }
     },
     "249fbb79b605417887513010ece652c6": {
      "model_module": "@jupyter-widgets/controls",
      "model_module_version": "1.5.0",
      "model_name": "DatePickerModel",
      "state": {
       "description": "date",
       "disabled": false,
       "layout": "IPY_MODEL_3ca2a4718e9649db9d10a73d3ef02fba",
       "style": "IPY_MODEL_1a9a1da6695e4b1f8d87ae189e0ca7ad",
       "value": {
        "date": 18,
        "month": 5,
        "year": 2018
       }
      }
     },
     "24ce6b2b4bb940d8962a9930c04ba324": {
      "model_module": "@jupyter-widgets/controls",
      "model_module_version": "1.5.0",
      "model_name": "DescriptionStyleModel",
      "state": {
       "description_width": ""
      }
     },
     "250c565466f94921b500837b9c54c618": {
      "model_module": "@jupyter-widgets/controls",
      "model_module_version": "1.5.0",
      "model_name": "VBoxModel",
      "state": {
       "_dom_classes": [
        "widget-interact"
       ],
       "children": [
        "IPY_MODEL_3228d9ad960b49408e4baad2f8f7aa54",
        "IPY_MODEL_aeb0a5a10446454985917df96eb34c24"
       ],
       "layout": "IPY_MODEL_a7d27d88a1564ac09ecd5677f3998a32"
      }
     },
     "2672f0bfaaa34360bd199a6a07dc0651": {
      "model_module": "@jupyter-widgets/controls",
      "model_module_version": "1.5.0",
      "model_name": "DatePickerModel",
      "state": {
       "description": "date",
       "disabled": false,
       "layout": "IPY_MODEL_4c7d8fd71dc44c56808a4d2194dcce3a",
       "style": "IPY_MODEL_3fa5e93f1f404dcbb6c6744358caad52",
       "value": {
        "date": 23,
        "month": 4,
        "year": 2018
       }
      }
     },
     "286680a93aa744fdb7bbd8d8d58face3": {
      "model_module": "@jupyter-widgets/base",
      "model_module_version": "1.2.0",
      "model_name": "LayoutModel",
      "state": {}
     },
     "288448ffaac94f03ad09362cdf1bde9a": {
      "model_module": "@jupyter-widgets/output",
      "model_module_version": "1.0.0",
      "model_name": "OutputModel",
      "state": {
       "layout": "IPY_MODEL_dc367b3885f5448c8bf09bb3aaa1abe4",
       "outputs": [
        {
         "name": "stdout",
         "output_type": "stream",
         "text": "True\n"
        }
       ]
      }
     },
     "29547de3743b4deda480133dbf74995a": {
      "model_module": "@jupyter-widgets/base",
      "model_module_version": "1.2.0",
      "model_name": "LayoutModel",
      "state": {}
     },
     "29a514130bb94f5aa81ac1d48f18fedd": {
      "model_module": "@jupyter-widgets/controls",
      "model_module_version": "1.5.0",
      "model_name": "DatePickerModel",
      "state": {
       "description": "date",
       "disabled": false,
       "layout": "IPY_MODEL_c2eaf19ddf354a5e839517838487c9e1",
       "style": "IPY_MODEL_85c66d228e86471d8dd1be668448d954",
       "value": {
        "date": 18,
        "month": 5,
        "year": 2018
       }
      }
     },
     "2a26658d87014d43b708ac4f78f53953": {
      "model_module": "@jupyter-widgets/controls",
      "model_module_version": "1.5.0",
      "model_name": "DatePickerModel",
      "state": {
       "description": "date",
       "disabled": false,
       "layout": "IPY_MODEL_db818de63463477693023f3f360e93f0",
       "style": "IPY_MODEL_34dc806503084c8085a702d801a1223b",
       "value": {
        "date": 18,
        "month": 5,
        "year": 2018
       }
      }
     },
     "2a285fc8b277455da1e1ea189b7d5829": {
      "model_module": "@jupyter-widgets/controls",
      "model_module_version": "1.5.0",
      "model_name": "VBoxModel",
      "state": {
       "_dom_classes": [
        "widget-interact"
       ],
       "children": [
        "IPY_MODEL_c5f67ae3490f4cea805d9cd6b5f311df",
        "IPY_MODEL_525f6dd4ed614736a87add5c656298b1"
       ],
       "layout": "IPY_MODEL_909e69cce1784acb8abdfe7c23dba3c9"
      }
     },
     "2a29f1ecd6294feb97a4d6aa1865ca73": {
      "model_module": "@jupyter-widgets/base",
      "model_module_version": "1.2.0",
      "model_name": "LayoutModel",
      "state": {}
     },
     "2ac32e55b048413799e53849840466b9": {
      "model_module": "@jupyter-widgets/base",
      "model_module_version": "1.2.0",
      "model_name": "LayoutModel",
      "state": {}
     },
     "2b2ccb1e39bb40498a972e0ba9777fa2": {
      "model_module": "@jupyter-widgets/base",
      "model_module_version": "1.2.0",
      "model_name": "LayoutModel",
      "state": {}
     },
     "2ba5d9bf567a4112ab1e0c955dc8e84c": {
      "model_module": "@jupyter-widgets/controls",
      "model_module_version": "1.5.0",
      "model_name": "VBoxModel",
      "state": {
       "_dom_classes": [
        "widget-interact"
       ],
       "children": [
        "IPY_MODEL_ffa409fc538a435a8afcd9769d4e1764",
        "IPY_MODEL_2e876080f15e4fb3b35569c321e87eac"
       ],
       "layout": "IPY_MODEL_2a29f1ecd6294feb97a4d6aa1865ca73"
      }
     },
     "2d1266c17466479dad47931bc1ac9465": {
      "model_module": "@jupyter-widgets/controls",
      "model_module_version": "1.5.0",
      "model_name": "HBoxModel",
      "state": {
       "children": [
        "IPY_MODEL_e89bee84d8e94d2eb2b1acf023d3d491",
        "IPY_MODEL_e35683b9153f451dbcda9e27834c1006"
       ],
       "layout": "IPY_MODEL_ab065a30353b42b2aa91fd902cea17ee"
      }
     },
     "2d28b109842f48a38a21a35d92183e02": {
      "model_module": "@jupyter-widgets/controls",
      "model_module_version": "1.5.0",
      "model_name": "DescriptionStyleModel",
      "state": {
       "description_width": ""
      }
     },
     "2d36b354149b4cf99fc5d25263524ec1": {
      "model_module": "@jupyter-widgets/output",
      "model_module_version": "1.0.0",
      "model_name": "OutputModel",
      "state": {
       "layout": "IPY_MODEL_97518623140f47b2bc3076ab0bb0a904",
       "outputs": [
        {
         "data": {
          "image/png": "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\n",
          "text/plain": "<Figure size 432x288 with 1 Axes>"
         },
         "metadata": {
          "needs_background": "light"
         },
         "output_type": "display_data"
        }
       ]
      }
     },
     "2e6cd1b1f2a441bdae975ac7d0251d10": {
      "model_module": "@jupyter-widgets/controls",
      "model_module_version": "1.5.0",
      "model_name": "DatePickerModel",
      "state": {
       "description": "date",
       "disabled": false,
       "layout": "IPY_MODEL_5b475d749f5e4e35938f48502828f44a",
       "style": "IPY_MODEL_d1344c2874f645108ea801f077a8b905",
       "value": {
        "date": 18,
        "month": 5,
        "year": 2018
       }
      }
     },
     "2e876080f15e4fb3b35569c321e87eac": {
      "model_module": "@jupyter-widgets/output",
      "model_module_version": "1.0.0",
      "model_name": "OutputModel",
      "state": {
       "layout": "IPY_MODEL_21c6f3259e7643fdbcd3b4a4c3b26aa2",
       "outputs": [
        {
         "name": "stdout",
         "output_type": "stream",
         "text": "False\n"
        }
       ]
      }
     },
     "2e96bcc5e46345098bdfbae350a0828a": {
      "model_module": "@jupyter-widgets/base",
      "model_module_version": "1.2.0",
      "model_name": "LayoutModel",
      "state": {}
     },
     "2feeef9681db49db9a57750b24ebf4d2": {
      "model_module": "@jupyter-widgets/base",
      "model_module_version": "1.2.0",
      "model_name": "LayoutModel",
      "state": {}
     },
     "3059afb0c65843b188400a6995864d01": {
      "model_module": "@jupyter-widgets/controls",
      "model_module_version": "1.5.0",
      "model_name": "VBoxModel",
      "state": {
       "_dom_classes": [
        "widget-interact"
       ],
       "children": [
        "IPY_MODEL_6df1dd2584424160baf290fe5f943d0f",
        "IPY_MODEL_f5ac1c58b40946be9f72fd73fb996f18"
       ],
       "layout": "IPY_MODEL_b2d88bb4539740e4aa392e28ba7de2a4"
      }
     },
     "307de623210949a19a5e30d9282b5ccf": {
      "model_module": "@jupyter-widgets/controls",
      "model_module_version": "1.5.0",
      "model_name": "DatePickerModel",
      "state": {
       "description": "date",
       "disabled": false,
       "layout": "IPY_MODEL_b41f286d717743609ba79f2424f44a75",
       "style": "IPY_MODEL_14e42bf9a5d549229364f1082c826bf0",
       "value": {
        "date": 23,
        "month": 4,
        "year": 2018
       }
      }
     },
     "30efb91cff0547abac81d30cf0573c0e": {
      "model_module": "@jupyter-widgets/base",
      "model_module_version": "1.2.0",
      "model_name": "LayoutModel",
      "state": {}
     },
     "31a645799317465d832ac87aa70174d4": {
      "model_module": "@jupyter-widgets/base",
      "model_module_version": "1.2.0",
      "model_name": "LayoutModel",
      "state": {}
     },
     "31f9530621e848489e8cdfb4832d3150": {
      "model_module": "@jupyter-widgets/base",
      "model_module_version": "1.2.0",
      "model_name": "LayoutModel",
      "state": {}
     },
     "3228d9ad960b49408e4baad2f8f7aa54": {
      "model_module": "@jupyter-widgets/controls",
      "model_module_version": "1.5.0",
      "model_name": "DatePickerModel",
      "state": {
       "description": "date",
       "disabled": false,
       "layout": "IPY_MODEL_e431ed017ee84f179f484131e0a5596e",
       "style": "IPY_MODEL_1afed42465a64150aade122c75fcd785",
       "value": {
        "date": 15,
        "month": 5,
        "year": 2018
       }
      }
     },
     "33422f1e6af648a6b07c88cc173d9e9e": {
      "model_module": "@jupyter-widgets/controls",
      "model_module_version": "1.5.0",
      "model_name": "DatePickerModel",
      "state": {
       "description": "date",
       "disabled": false,
       "layout": "IPY_MODEL_05a2b0bccf7749189b584563760394dd",
       "style": "IPY_MODEL_a5ca3a4348684b878e47914824712fde",
       "value": {
        "date": 23,
        "month": 4,
        "year": 2018
       }
      }
     },
     "348483d00be0499386c6b503d1098f8f": {
      "model_module": "@jupyter-widgets/base",
      "model_module_version": "1.2.0",
      "model_name": "LayoutModel",
      "state": {}
     },
     "34bca4d6dafd4691a5973f510d7d7da9": {
      "model_module": "@jupyter-widgets/output",
      "model_module_version": "1.0.0",
      "model_name": "OutputModel",
      "state": {
       "layout": "IPY_MODEL_2ac32e55b048413799e53849840466b9",
       "outputs": [
        {
         "name": "stdout",
         "output_type": "stream",
         "text": "2018-05-23 12:30:00 0        2018-05-23 12:30:00\n1        2018-05-23 13:00:00\n2        2018-05-23 13:30:00\n3        2018-05-23 14:00:00\n4        2018-05-23 14:30:00\n                ...         \n10629    2019-05-23 11:30:00\n10630    2019-05-23 12:00:00\n10631    2019-05-23 12:30:00\n10632    2019-05-23 13:00:00\n10633    2019-05-23 13:30:00\nName: Timestamp, Length: 10634, dtype: object False\n"
        }
       ]
      }
     },
     "34dc806503084c8085a702d801a1223b": {
      "model_module": "@jupyter-widgets/controls",
      "model_module_version": "1.5.0",
      "model_name": "DescriptionStyleModel",
      "state": {
       "description_width": ""
      }
     },
     "35b7cf5917b84f02b3784527d58325a4": {
      "model_module": "@jupyter-widgets/output",
      "model_module_version": "1.0.0",
      "model_name": "OutputModel",
      "state": {
       "layout": "IPY_MODEL_f49aabf5c87d407e96f7301aa9ccbf5c",
       "outputs": [
        {
         "ename": "AttributeError",
         "evalue": "'Series' object has no attribute 'get_loc'",
         "output_type": "error",
         "traceback": [
          "\u001b[1;31m---------------------------------------------------------------------------\u001b[0m",
          "\u001b[1;31mAttributeError\u001b[0m                            Traceback (most recent call last)",
          "\u001b[1;32m~\\AppData\\Local\\Continuum\\anaconda3\\lib\\site-packages\\ipywidgets\\widgets\\interaction.py\u001b[0m in \u001b[0;36mupdate\u001b[1;34m(self, *args)\u001b[0m\n\u001b[0;32m    254\u001b[0m                     \u001b[0mvalue\u001b[0m \u001b[1;33m=\u001b[0m \u001b[0mwidget\u001b[0m\u001b[1;33m.\u001b[0m\u001b[0mget_interact_value\u001b[0m\u001b[1;33m(\u001b[0m\u001b[1;33m)\u001b[0m\u001b[1;33m\u001b[0m\u001b[1;33m\u001b[0m\u001b[0m\n\u001b[0;32m    255\u001b[0m                     \u001b[0mself\u001b[0m\u001b[1;33m.\u001b[0m\u001b[0mkwargs\u001b[0m\u001b[1;33m[\u001b[0m\u001b[0mwidget\u001b[0m\u001b[1;33m.\u001b[0m\u001b[0m_kwarg\u001b[0m\u001b[1;33m]\u001b[0m \u001b[1;33m=\u001b[0m \u001b[0mvalue\u001b[0m\u001b[1;33m\u001b[0m\u001b[1;33m\u001b[0m\u001b[0m\n\u001b[1;32m--> 256\u001b[1;33m                 \u001b[0mself\u001b[0m\u001b[1;33m.\u001b[0m\u001b[0mresult\u001b[0m \u001b[1;33m=\u001b[0m \u001b[0mself\u001b[0m\u001b[1;33m.\u001b[0m\u001b[0mf\u001b[0m\u001b[1;33m(\u001b[0m\u001b[1;33m**\u001b[0m\u001b[0mself\u001b[0m\u001b[1;33m.\u001b[0m\u001b[0mkwargs\u001b[0m\u001b[1;33m)\u001b[0m\u001b[1;33m\u001b[0m\u001b[1;33m\u001b[0m\u001b[0m\n\u001b[0m\u001b[0;32m    257\u001b[0m                 \u001b[0mshow_inline_matplotlib_plots\u001b[0m\u001b[1;33m(\u001b[0m\u001b[1;33m)\u001b[0m\u001b[1;33m\u001b[0m\u001b[1;33m\u001b[0m\u001b[0m\n\u001b[0;32m    258\u001b[0m                 \u001b[1;32mif\u001b[0m \u001b[0mself\u001b[0m\u001b[1;33m.\u001b[0m\u001b[0mauto_display\u001b[0m \u001b[1;32mand\u001b[0m \u001b[0mself\u001b[0m\u001b[1;33m.\u001b[0m\u001b[0mresult\u001b[0m \u001b[1;32mis\u001b[0m \u001b[1;32mnot\u001b[0m \u001b[1;32mNone\u001b[0m\u001b[1;33m:\u001b[0m\u001b[1;33m\u001b[0m\u001b[1;33m\u001b[0m\u001b[0m\n",
          "\u001b[1;32m<ipython-input-26-c292a4048507>\u001b[0m in \u001b[0;36mpredict_price\u001b[1;34m(date)\u001b[0m\n\u001b[0;32m      3\u001b[0m \u001b[1;32mdef\u001b[0m \u001b[0mpredict_price\u001b[0m\u001b[1;33m(\u001b[0m\u001b[0mdate\u001b[0m\u001b[1;33m=\u001b[0m\u001b[0mwidgets\u001b[0m\u001b[1;33m.\u001b[0m\u001b[0mDatePicker\u001b[0m\u001b[1;33m(\u001b[0m\u001b[0mvalue\u001b[0m\u001b[1;33m=\u001b[0m\u001b[0mpd\u001b[0m\u001b[1;33m.\u001b[0m\u001b[0mto_datetime\u001b[0m\u001b[1;33m(\u001b[0m\u001b[1;34m'2018-05-23 12:30:00'\u001b[0m\u001b[1;33m)\u001b[0m\u001b[1;33m)\u001b[0m\u001b[1;33m)\u001b[0m\u001b[1;33m:\u001b[0m\u001b[1;33m\u001b[0m\u001b[1;33m\u001b[0m\u001b[0m\n\u001b[0;32m      4\u001b[0m     \u001b[0md\u001b[0m \u001b[1;33m=\u001b[0m \u001b[0mpd\u001b[0m\u001b[1;33m.\u001b[0m\u001b[0mto_datetime\u001b[0m\u001b[1;33m(\u001b[0m\u001b[0mdate\u001b[0m\u001b[1;33m.\u001b[0m\u001b[0mvalue\u001b[0m\u001b[1;33m)\u001b[0m\u001b[1;33m\u001b[0m\u001b[1;33m\u001b[0m\u001b[0m\n\u001b[1;32m----> 5\u001b[1;33m     \u001b[0mprint\u001b[0m\u001b[1;33m(\u001b[0m\u001b[0md\u001b[0m\u001b[1;33m,\u001b[0m\u001b[0mdf\u001b[0m\u001b[1;33m[\u001b[0m\u001b[1;34m'Timestamp'\u001b[0m\u001b[1;33m]\u001b[0m\u001b[1;33m.\u001b[0m\u001b[0mget_loc\u001b[0m\u001b[1;33m(\u001b[0m\u001b[0mdt\u001b[0m\u001b[1;33m,\u001b[0m \u001b[0mmethod\u001b[0m\u001b[1;33m=\u001b[0m\u001b[1;34m'nearest'\u001b[0m\u001b[1;33m)\u001b[0m\u001b[1;33m)\u001b[0m\u001b[1;33m\u001b[0m\u001b[1;33m\u001b[0m\u001b[0m\n\u001b[0m",
          "\u001b[1;32m~\\AppData\\Local\\Continuum\\anaconda3\\lib\\site-packages\\pandas\\core\\generic.py\u001b[0m in \u001b[0;36m__getattr__\u001b[1;34m(self, name)\u001b[0m\n\u001b[0;32m   5178\u001b[0m             \u001b[1;32mif\u001b[0m \u001b[0mself\u001b[0m\u001b[1;33m.\u001b[0m\u001b[0m_info_axis\u001b[0m\u001b[1;33m.\u001b[0m\u001b[0m_can_hold_identifiers_and_holds_name\u001b[0m\u001b[1;33m(\u001b[0m\u001b[0mname\u001b[0m\u001b[1;33m)\u001b[0m\u001b[1;33m:\u001b[0m\u001b[1;33m\u001b[0m\u001b[1;33m\u001b[0m\u001b[0m\n\u001b[0;32m   5179\u001b[0m                 \u001b[1;32mreturn\u001b[0m \u001b[0mself\u001b[0m\u001b[1;33m[\u001b[0m\u001b[0mname\u001b[0m\u001b[1;33m]\u001b[0m\u001b[1;33m\u001b[0m\u001b[1;33m\u001b[0m\u001b[0m\n\u001b[1;32m-> 5180\u001b[1;33m             \u001b[1;32mreturn\u001b[0m \u001b[0mobject\u001b[0m\u001b[1;33m.\u001b[0m\u001b[0m__getattribute__\u001b[0m\u001b[1;33m(\u001b[0m\u001b[0mself\u001b[0m\u001b[1;33m,\u001b[0m \u001b[0mname\u001b[0m\u001b[1;33m)\u001b[0m\u001b[1;33m\u001b[0m\u001b[1;33m\u001b[0m\u001b[0m\n\u001b[0m\u001b[0;32m   5181\u001b[0m \u001b[1;33m\u001b[0m\u001b[0m\n\u001b[0;32m   5182\u001b[0m     \u001b[1;32mdef\u001b[0m \u001b[0m__setattr__\u001b[0m\u001b[1;33m(\u001b[0m\u001b[0mself\u001b[0m\u001b[1;33m,\u001b[0m \u001b[0mname\u001b[0m\u001b[1;33m,\u001b[0m \u001b[0mvalue\u001b[0m\u001b[1;33m)\u001b[0m\u001b[1;33m:\u001b[0m\u001b[1;33m\u001b[0m\u001b[1;33m\u001b[0m\u001b[0m\n",
          "\u001b[1;31mAttributeError\u001b[0m: 'Series' object has no attribute 'get_loc'"
         ]
        }
       ]
      }
     },
     "36a26c418dfd4c42ab96e510dcb077d5": {
      "model_module": "@jupyter-widgets/controls",
      "model_module_version": "1.5.0",
      "model_name": "VBoxModel",
      "state": {
       "_dom_classes": [
        "widget-interact"
       ],
       "children": [
        "IPY_MODEL_b12c133f6fef4309a97697300a17a52e",
        "IPY_MODEL_288448ffaac94f03ad09362cdf1bde9a"
       ],
       "layout": "IPY_MODEL_a36450b99d8446788cdd120cae8d5eef"
      }
     },
     "36cb89025a58445ca6ca7d308440dcd6": {
      "model_module": "@jupyter-widgets/controls",
      "model_module_version": "1.5.0",
      "model_name": "ProgressStyleModel",
      "state": {
       "description_width": ""
      }
     },
     "37465298077243dc83cca24604835900": {
      "model_module": "@jupyter-widgets/output",
      "model_module_version": "1.0.0",
      "model_name": "OutputModel",
      "state": {
       "layout": "IPY_MODEL_4de054c1d6254465b6eeb4549878732a",
       "outputs": [
        {
         "name": "stdout",
         "output_type": "stream",
         "text": "1            Timestamp  Trade High  Trade Low  Trade Open  Trade Close  \\\n0  2018-05-23 12:30:00       695.5      693.5      693.75       695.25   \n\n1  Trade Volume  \n0        1669.0  \n"
        }
       ]
      }
     },
     "3811fafa5b004d3ba5332ec7b5d3a238": {
      "model_module": "@jupyter-widgets/base",
      "model_module_version": "1.2.0",
      "model_name": "LayoutModel",
      "state": {}
     },
     "38421c777eeb46d4975cf718ae3766ba": {
      "model_module": "@jupyter-widgets/base",
      "model_module_version": "1.2.0",
      "model_name": "LayoutModel",
      "state": {}
     },
     "384fbee1502b49c9800da43d7654d98c": {
      "model_module": "@jupyter-widgets/controls",
      "model_module_version": "1.5.0",
      "model_name": "DescriptionStyleModel",
      "state": {
       "description_width": ""
      }
     },
     "39757a2126ec4d8daf6ce35f3f0ab5af": {
      "model_module": "@jupyter-widgets/controls",
      "model_module_version": "1.5.0",
      "model_name": "DescriptionStyleModel",
      "state": {
       "description_width": ""
      }
     },
     "39e2308cbf5c4c808b7eb6eefc7749cf": {
      "model_module": "@jupyter-widgets/base",
      "model_module_version": "1.2.0",
      "model_name": "LayoutModel",
      "state": {}
     },
     "3a8baf961e2b49b4805e45ae619912e1": {
      "model_module": "@jupyter-widgets/output",
      "model_module_version": "1.0.0",
      "model_name": "OutputModel",
      "state": {
       "layout": "IPY_MODEL_6bf564f0dc3a4e78b221b6aff6049839",
       "outputs": [
        {
         "name": "stdout",
         "output_type": "stream",
         "text": "721\n(1222, 5)\n"
        },
        {
         "data": {
          "application/vnd.jupyter.widget-view+json": {
           "model_id": "9a982bf7107d4292a7090243792cb8ac",
           "version_major": 2,
           "version_minor": 0
          },
          "text/plain": "HBox(children=(IntProgress(value=0, max=502), HTML(value='')))"
         },
         "metadata": {},
         "output_type": "display_data"
        },
        {
         "name": "stdout",
         "output_type": "stream",
         "text": "\nlength of time-series i/o (502, 720, 5) (502,)\nError is 0.09940946253549038 (500,) (500,)\n[0.3023922  0.30255565 0.302755   0.30271417 0.30162525 0.30037853\n 0.29956836 0.29937625 0.29951575 0.29958516 0.29960117 0.29988438\n 0.30020285 0.30108926 0.3012688 ]\n[0.5750469  0.57317073 0.57223265 0.55909944 0.55909944 0.56285178\n 0.56472795 0.56472795 0.56378987 0.56472795 0.56566604 0.57223265\n 0.57879925 0.57598499 0.57317073]\n[564.8375  564.8811  564.9342  564.92334 564.6331  564.3009  564.08496\n 564.03375 564.0709  564.0895  564.0937  564.1692  564.254   564.4903\n 564.53815]\n[637.5  637.   636.75 633.25 633.25 634.25 634.75 634.75 634.5  634.75\n 635.   636.75 638.5  637.75 637.  ]\n"
        },
        {
         "data": {
          "image/png": "iVBORw0KGgoAAAANSUhEUgAAAYUAAAEWCAYAAACJ0YulAAAABHNCSVQICAgIfAhkiAAAAAlwSFlzAAALEgAACxIB0t1+/AAAADh0RVh0U29mdHdhcmUAbWF0cGxvdGxpYiB2ZXJzaW9uMy4xLjEsIGh0dHA6Ly9tYXRwbG90bGliLm9yZy8QZhcZAAAgAElEQVR4nOzdd3hW5fnA8e+dPcggIYwQSNibsAVBRFFBRcW9d92zw9VqS1v9VVtHsU7qwI2IC7QgIIIKMmXvESAhjAAJELKT5/fHc96RnUDeBMj9ua5c79nvkxM493m2GGNQSimlAPwaOgFKKaVOHBoUlFJKuWlQUEop5aZBQSmllJsGBaWUUm4aFJRSSrlpUFA+ISJJImJEJMBZny4iNx/DddqKSLaI+Nd9Kk9sIjJORD5s4DSMEJE0H137DBHZ6Itrq2OnQaERE5HtIpLrPHT3isi7ItLEF99ljDnfGPNeDdN0jtd5O40xTYwxxb5I1/ESkYkiUuDcw4MiMktEutbTd/9RRFKc704TkU+99s0Vkd/URzq8vvMWESl20nNYRFaIyJjKjjfG/GSM6VKfaVTV06CgLjLGNAH6AQOBJ8seIJb+W6ncP5172BrYBbzt6y90cl03Auc43z0A+N7X31sDvzjpicbeh8kiElP2IFcOUp149D+6AsAYswuYDvQE95vmMyIyH8gB2otIlIi8LSK7RWSXiDztKtYREX8ReV5E9ovINuBC7+uXfXMVkTtEZL2IHBGRdSLST0Q+ANoC05y3zUcrKIaKF5Gpzlv5FhG5w+ua40Rksoi871x3rYgMqOj3FZE3ROT5Mtu+FpHfOcuPOb/jERHZKCIja3APc4HJQJ8y173N+V0zReQ7EUn02jdeRFKdN+tlInJGdd/jGAh8Z4zZ6nz3HmPMBOeazwBnAK849/EVZ/vpIrJERA45n6d7pSPGySmmO+n8qqIvFZEHnb9XQjX3ogR4BwjF/tsZ4eRmHhORPcC7ZYumRKSNiHwhIhkicsCV7uruoapjxhj9aaQ/wHbsmyZAG2At8HdnfS6wE+gBBACBwFfAm0A40BxYDNzlHH83sMG5TgzwA2CAAK/r/cZZvhL7Rj0QEKAjkFg2Tc56UpnrzANeA0KwD98MYKSzbxyQB1wA+AP/ABZW8rsPB1IBcdabArlAPNDF2RfvlYYOlVxnIvC0sxwOfACs9No/FtgCdHPu45PAAq/9NwCxzr7fA3uAEK/f58NKvvcG4CDwCDaX4F9mv/t+O+sxQCY2dxEAXOusxzr7vwU+de5DIHCms30EkOYsPwX8CsRVkqZbgJ+d5QDgIeAIEOVcpwh4DgjGBgvva/sDK4GXnPsYAgyryT3Unzp+LjR0AvSnAf/49gGcDWQBO5yHbaizby7wN69jWwD5rv3OtmuBH5zlOcDdXvvOo/Kg8B3wUBVpqjAoYANOMRDhtf8fwERneRww22tfdyC3ku8RbNAb7qzfAcxxljsC+4BzgMBq7uFEbCDKAkqAFKC31/7pwO1e637YnFdiJdfLBJK9fp8Kg4Kz/3pgNnAUOAA87rXPfb+d9RuBxWXO/wX7IG/lpL1pBd8xAhvAXwR+BqKqSM8t2Ad/FrAfWIjnpWMEUIAT8Ly2uYLCEGyAD6jgurW6h/pzfD9afKTGGmOijTGJxph7jS0CcUn1Wk7EvkHuFpEsEcnC5hqaO/vjyxy/o4rvbANsPYa0xgMHjTFHynxPa6/1PV7LOUBIReXXxj5dJmEDG8B1wEfOvi3Aw9iH8j4RmSQi8VWk63ljTDQ2gOVicxouicB4r3t2EBuQWgOIyO+dYpFDzv4ooFkV3+X9O3xkjDkHW35/N/A3ERlVyeHxlP+buO5dG+x9zazk3GjgTuAfxphD1SRrofPvqZkxZrAxZrbXvgxjTF4l57UBdhhjiirYV+U9VHVLg4KqivcQuqnYnEIz5z99tDEm0hjTw9m/G/sf26VtFddNBTrU4DvLSgdiRCSizPfsquKcqnwCXOGUT58GfO5OhDEfG2OGYR9IBlvsUSVjzE5skcl4EQl1Nqdii9iivX5CjTELnPqDx4CrsG/p0cAh7AOvxowxhcaYz4BVOHVClL+P6c7v4s1171Kx9zW6kq/IBMZg6wGG1iZtZZNaxb5UoG0lFdCV3sPjSIuqhAYFVSPGmN3ATOAFEYkUET8R6SAiZzqHTAYeFJEEEWkKPF7F5d4C/iAi/Z2WTR29Kg73Au0rSUMqsAD4h4iEiEhv4HacN/xj+J2WY4ss3sJW2mYBiEgXETlbRIKxRUO52GKrmlxzFvYBfKez6Q3gCRHp4Vw7SkSudPZFYItbMoAAEfkzEFmT7xHb/PNCEYlw/hbnY+t/FjmHlL2P/wM6i8h1IhIgIldji9e+cf6204HXRKSpiASKyPAyv9dcbHHVlyJyWk3SWEuLsS8Wz4pIuPP3dQWgqu6hqmMaFFRt3AQEAeuwb49TsOXRAP/F1hWsxFZGflHZRZy32meAj7EVkV9hK0LB1hE86RQV/KGC06/FFtOkA18Cf3EexMfqE2zdwcde24KBZ7Hl4nuwRWR/rMU1/wU8KiLBxpgvsbmMSSJyGFgDnO8c9x32YbwJW5STR+kiuKocdtK0E1uG/0/gHmPMz87+8dhcUKaIvGyMOYB92/89tv7hUWCMMWa/c/yNQCG2scA+bPFZKc59vhWYKiL9a5jOGjG2H8pF2PqcnUAacLWzr6p7qOqYq+WFUkoppTkFpZRSHhoUlFJKuWlQUEop5aZBQSmllNtJPShVs2bNTFJSUkMnQymlTirLli3bb4yJq2jfSR0UkpKSWLp0aUMnQymlTioiUumIAz4tPhKRaBGZIiIbnK78Q0Skj4gsFDvW+lIRGeR1/BNiR77cWEV3faWUUj7i65zCeGCGMeYKEQkCwrA9X/9qjJkuIhdgO92MEJHuwDXYXpnxwGwR6WxO0MlVlFLqVOSznIKIRGKHJ34bwBhT4AwjYPB05Y/C9kwFuASYZIzJN8akYIfKHYRSSql648ucQnvsmC7vikgysAw7WNjDwHdiJzjxA1wTfbTGDrXrksYxjIJYWFhIWloaeXmVDcaoaiskJISEhAQCAwMbOilKKR/zZVAIwE7x+IAxZpGIjMcOkhYF/NYY87mIXIXNSZxDxSNDlhuDQ0TuxBlsrG3b8gNxpqWlERERQVJSEiK1GmxSVcAYw4EDB0hLS6Ndu3YNnRyllI/5sqI5DTuBhmvUxinYIHEznsHSPsNTRJRG6aGXE/AULbkZYyYYYwYYYwbExZVvUZWXl0dsbKwGhDoiIsTGxmrOS6lGwmdBwRizB0gVEdeEIyOxo2umA67hls8GNjvLU4FrRCRYRNoBnbDD6daaBoS6pfdTqcbD162PHgA+cloebcMOu/s1dhKSAOxQwXcCGGPWishkbOAoAu7TlkdKqTq3dx1k74EOZzd0Sk5IPu2nYIxZ4RT19DbGjDXGZBpjfjbG9DfGJBtjTjPGLPM6/hljTAdjTBdjzHRfps2X/P396dOnDz179uTKK68kJyfnmK81d+5cxowZA8DUqVN59tlnKz02KyuL1157zb2enp7OFVdccczfrdQp6fUh8MGlUFRQentRPhzZU/E5jYiOfeQDoaGhrFixgjVr1hAUFMQbb7xRar8xhpKSklpf9+KLL+bxxyuf0KxsUIiPj2fKlCm1/h6lTlne88esmQKTroe9a+36x1fBC11KH9MIaVDwsTPOOIMtW7awfft2unXrxr333ku/fv1ITU1l5syZDBkyhH79+nHllVeSnZ0NwIwZM+jatSvDhg3jiy88E5hNnDiR+++/H4C9e/dy6aWXkpycTHJyMgsWLODxxx9n69at9OnTh0ceeYTt27fTs6edsjcvL49bb72VXr160bdvX3744Qf3NS+77DJGjx5Np06dePTRR+v5DilVjxa96Vn+6h7Y8A18dgtsmwfb5trtuZkNkbITxkk99lF1/jptLevSD9fpNbvHR/KXi3pUfyBQVFTE9OnTGT16NAAbN27k3Xff5bXXXmP//v08/fTTzJ49m/DwcJ577jlefPFFHn30Ue644w7mzJlDx44dufrqqyu89oMPPsiZZ57Jl19+SXFxMdnZ2Tz77LOsWbOGFStWALB9+3b38a+++ioAq1evZsOGDZx33nls2rQJgBUrVrB8+XKCg4Pp0qULDzzwAG3atCn3nUqd1PKPwKw/2+U2gyF1IXQeDZtmwPsXe447shvCYiq+RiOgOQUfyM3NpU+fPgwYMIC2bdty++23A5CYmMjgwYMBWLhwIevWrWPo0KH06dOH9957jx07drBhwwbatWtHp06dEBFuuOGGCr9jzpw53HPPPYCtw4iKiqoyTT///DM33ngjAF27diUxMdEdFEaOHElUVBQhISF0796dHTsqHStLqZNTcSG8MQyK8+G2mXDT13DL/+Caj6H1AHuMq+L58O6GS+cJ4JTOKdT0jb6uueoUygoPD3cvG2M499xz+eSTT0ods2LFCp80Aa1qLu7g4GD3sr+/P0VFRXX+/Uo1qMwdkLkd4rpCm0EgAklD7b7bvoPDu+y2f/eyy42Y5hQayODBg5k/fz5btmwBICcnh02bNtG1a1dSUlLYunUrQLmg4TJy5Ehef/11AIqLizl8+DAREREcOXKkwuOHDx/ORx99BMCmTZvYuXMnXbp0qfBYpU45rgf9Bc/bh783/wBomghNWtr1I407p6BBoYHExcUxceJErr32Wnr37s3gwYPZsGEDISEhTJgwgQsvvJBhw4aRmJhY4fnjx4/nhx9+oFevXvTv35+1a9cSGxvL0KFD6dmzJ4888kip4++9916Ki4vp1asXV199NRMnTiyVQ1DqlLJvA7w/FvKcOkVXUIiMr/ycgCAIa3bsQWHRmzB73LGdewKRqooVTnQDBgwwZSfZWb9+Pd26dWugFJ269L6qk8p7F0PKPLj6Q+h2Efz4L5jzNPxpDwSGVn7ea0Mgqg1c9V7Vx1VknFOv9+eD4Od/7GmvByKyzBgzoKJ9mlNQSp16ipyxujK328/D6RAWW/2DPrwZbP4O/pEAJSVw9ABk7az++7wrpw9sOaYknyg0KCilTj2ZTgs6V8e0rJ0QWYOR+MOdQTZLiuDre+Ff7W3lc1WMga/u9qzvmA9rPofik7PBhgYFpVT9Msa+gftKUYEd2whg7xpY8TFsmQ3Nu1d/brjXyMsrvRp55Bys+Pi96+Cv0bbj2/BHIbYTfPNbmHKbzXGchDQoKKXq1/IP7Rt4xkbPtvQV8PV9tpjneOU4ASc40uYUvrL9eWhRgybqxhl+Zsj9tqVS72uc9C2v4FgD0x7yrJ92F4x8yrOeV7cdZ+uLBgWlVP1a87n9/OwWyM2yy6sm22DxwzPHf/2jGfaz3XDPQx4gpn315xY4g1fGdoBBd8D5z9n19F89xxxOh/8MgOc7QdpiOPdvcNdPtj6i+yXwmzn2uJz9x/+7NAANCkqp+uVqHrpvnectPnuvs68OcgqueoT2Izzbul8Cnc6r/tw+1zrnnmU/Q6MhtqPNybj8/BJkpkCXC2DoQ3Da3dCqt2d/637gFwhHNSgoh/fQ2RdddBFZWVnHfK2kpCT27z85/3GpU8jR/fDZrbBzUfXHVqUwF/Zvgu5jodMo2Pg/yNjkCQaut/xjlbbMU+nb7kyIcPolXPaW7YdQnaRhMO4QxHhNPRvfF3Y5OYXUJbDkLeh7I1z8ss0lBJTp7yNi6yZ8FRSK8ksHqTqmQcEHvIfOjomJcQ9Gp9RJ6cgeW3m69gt457zjG1r64Db72e0i+1AVP1ucdDjNbj+eB2nOQfjUa6yw8GbwwFK4d1HNAkJl2g6GI+nw7oXw9jkQEg3n/b3qc8JjPZXddW3awzDhTNjkm4psDQo+NmTIEHbt8oyl8q9//YuBAwfSu3dv/vKXv7i3jx07lv79+9OjRw8mTJjQEElVqmJf3Anrp3rW13x+7JWoB+zwLcR2gIiW0Kwz/Pyipy/A0f3HHnRm/8U+vF1CoiEoHJp3PbbrufS9ybZc2vGzXR/5ZwiOqPqcghzb4unXD47vu8s6sgdWfmyXV06q22s7TukB8Zj+OOxZXbfXbNkLzq989jNvxcXFfP/99+5RUmfOnMnmzZtZvHgxxhguvvhifvzxR4YPH84777xDTEwMubm5DBw4kMsvv5zY2Ni6TbtSx6LgqGfZLwA+v90OOX3dp7W/liun4Kr0jekAGRvscvMesG8tbJ0D/kEQ1wWy90HLnlVfs6gAlr5jm562SoauY+BQGvjV0TtvQBBc9T7MeAJGPwvNOlZ/TovucHCrna+h3411kw6An/9tc1e3fecZ3bWOndpBoYG4hs7evn07/fv359xzzwVsUJg5cyZ9+/YFIDs7m82bNzN8+HBefvllvvzySwBSU1PZvHmzBgV1YmiaCLuc4WTunAcLX7Nvqdn7oEnzml1j21xb7NGyJ4Q3hxBnSIgop0NZlwtskdJX98CHl5U+98+Zngd8Ub6nDL8wD5Z/YMv4MzZAdFu48SvfzIXQrBPcUItZDC9+BXYth/zsuvn+Q7tgzt9t34n+t9qRXn3k1A4KNXyjr2uuOoVDhw4xZswYXn31VR588EGMMTzxxBPcddddpY6fO3cus2fP5pdffiEsLIwRI0aQl5fXIGlXqhzXg+2un+xDfeBvYMVHtuduj0trdo2ZT9oWO5kppVsBlTi9fpOG2WEoKrJnpQ1CeYds09X7FtmH9LSHYJVThHLm4zDs4dqPV+QrodG2Sey2H6o/1hjbFLfnFZUXdf38og0ITZNgVB00262C1in4UFRUFC+//DLPP/88hYWFjBo1infeecc97eauXbvYt28fhw4domnTpoSFhbFhwwYWLlzYwClXykteln3AuZpdNutsP11FQWBbEH14ReU9lQPDPMvxfT3LQx+GjudCn+vs53WTbc7A1SQUYMIIWPSGfSiaYvjybjum0dovIaot9LgMhv32xAkILrHt7YirGRurbrV1ZI8dsO+10+zormBniFvwH88xro5+t3xr60l86NTOKZwA+vbtS3JyMpMmTeLGG29k/fr1DBkyBIAmTZrw4YcfMnr0aN544w169+5Nly5d3LOzKXVCyDtk38xdgpvYuQcObLPl+eIH856DLbPg+3Fw0cvl5yxwDUwHkHSGZ7lpYulimc6j7OcV79jikqXv2PXTH4SOI+2DcstsGJ8MCFz9AcT3qcNftg61P8uOzPqqU9Rz09el+064HErzLL92Wul967+B22bY4Tr63wJRCT5KrIcGBR9w5QRcpk2b5l5+6KGHeOihh8qewvTp0yu8lvc8y0o1iNws25LHW0x72DDNPuxdrXIAfn3fVoD2v9mz7WCK7Zw26v8g+dqalfmHxcCYl+D0B2zFc79b7GQ4icPgvTGw85cTOyAAJAyw6XXdnw+vgPsXl+9ZfchpedV9LKz7yi6Lv80VpS6Euf+A3EzbyKUeaPGRUqpqeVm2jNxbix42B+F64LXuD9dOskVDPz4Pc56BV0+zy67xgTqPrn0lcEx7W4fh77y/+gfA9VPsUBLdLjq+36s+XPamrUO58Utbf7JqcvljslLt58X/gUsnwMA74O6fPPvnPWfvXfJ19ZJkzSkopSqXf8TOTVA2p3DuX22z0WUTbQcx14xmQU3sm/yP/4TAcFsEBPYtN7ZD3aQpuAkk9K+ba/laVAJc/5ldbjPI5npGPO7Zn3fY5npCoiAkEpKvtj9g61c+vsouX/omBIVRH3waFEQkGngL6AkY4DZjzC8i8gBwP1AEfGuMedQ5/gngdqAYeNAYc0xd9owxSNkyTXXMTubZ+dRx+uJO+1m26WlQOIz+PzvMg7/XY6TdGTbHkLndNp3cNN0+8LzrERqr2E42KLgUFcAbwyBrB3S7uPzx7YZ7lsvm1HzI1zmF8cAMY8wVIhIEhInIWcAlQG9jTL6INAcQke7ANUAPIB6YLSKdjTHFtfnCkJAQDhw4QGxsrAaGOmCM4cCBA4SEhDR0UlRD2LvGVir3vKLi/f4VPEK6nO9ZrmmT1cYgKsG2RioqsB3iVn1qA8LQh+Dsp8ofHxhqh/BuP6Jek+mzoCAikcBw4BYAY0wBUCAi9wDPGmPyne37nFMuASY521NEZAswCPilNt+bkJBAWloaGRnHObCWcgsJCSEhwfetHtQJJj/bDj9x1p/qrejilBbdBnD6JDTvbpuhtkqGc/5avrWWi4/7JFTElzmF9kAG8K6IJAPLgIeAzsAZIvIMkAf8wRizBGgNeDfQT3O21UpgYCDt2rWr/kClVNX2O23jm3dr2HScKlzNSef/2376BcCFL1YeEBqIL4NCANAPeMAYs0hExgOPO9ubAoOBgcBkEWkPVHRnyhVmi8idwJ0Abdu29VHSlVLujlRxGhTqRLMu9rNlLzjzMbse17lh01QBXwaFNCDNGOPqyjcFGxTSgC+Mrb1cLCIlQDNnexuv8xOAcjNuGGMmABMABgwYoDWgStW1onz46QVbWewfXHpuAXXsIlvBYztsxfsJljvw5rN+CsaYPUCqiDjhkZHAOuAr4GwAEekMBAH7ganANSISLCLtgE7AYl+lTylViWUTbdv4VZ/aIS38/Bs6RaeO0OgTOiCA71sfPQB85LQ82gbcChwF3hGRNUABcLOTa1grIpOxgaMIuK+2LY+UUsfJGFjytmf9eOciUCcdnwYFY8wKoKJBv2+oYBvGmGeA+q9uV6qxOrTLM3w1wP/+YCuYWyXbjlWD7224tKkGoT2alWqstsyGDy+3PWc7j7KzhS15y+67aWq9dphSJw4d+0ipxmqn0wJ8x3z76ZoS87K3NCA0YhoUlDoVZWyyE9uUVFEtd8SZWD7b6ejpGt66aZIvU6ZOcFp8pNSpxhh4daBd7jwaAkJLDyC3f7MNFq75y7fOgaP7PUVHTRPrN73qhKJBoTExBiaOsaNVXjT+hG8ap2rAGDuKqfesY5kpnuWJF9rPJ/fB4V0w6y+wfqpnf3w/SF8Obw63+wHC43yfbnXC0uKjunR0P0y5DWaPs7MpfX2fHd/kRBll9MhuO/79r+9B+q8NnRpVF356AZ5pCTkHPdt2VfC3nfVneLlv6YAAcMXb0P0SGxAiE2yls74sNGqaU6hL8/8Naz63yz+/5Nke0wF6XtYwafJ2YKtneccvdmIUdfIyxjNfwZK34MxHobgIVnxsx9UpKfIcu+gN+9n9Ejvc9ey/2uktY9rb2c2KC2DsaxDatP5/D3VC0ZxCXSnMg2Xv20nEz/0bBITAJa9BVBuYPx5e6gkpP1V/HV9yTbTuFwDbfoCVn3rGt1EnnyO7PctrvrD/xv4eC1u/h2G/8+xzTZBzxu/hyvdsRfKV70Jfp7tQwgC49hMNCArQnELd2fwd5B+CfjdCh7Ntpx//QNj+E6z8xB4z7zk7CUltLfgPtOwN7c88trQVF8KmGTDtQTv367Df2mKtLbOhaTt4aMWxXVc1rHxnLvDotpCx3i6HREOf6+HsP9npMkXs3L/f/g5Ou0eLhlS1NCjUlZSf7FSE7ZwHt3+g/ex4jicopC6GI3shokXNr1tSYpsWAow75Nm+aSa07gfhzUofX1Rgy42LC+1kJ6HR8PX9sGoSBEfZt8PB99qgAFCQXfvfVZ0YCo/azy4XwqLXbZ3Ab9d4HvwX/NNz7L21mpZENWIaFOrKntXQomf5wcN6Xg6JQ6EwB14ZAPOehTEvVXyN3Ez74PbzKtXL3lv+uPTl8PGV0HaInRDc1fJk8X/tMAUurZIhOtEGieTr4Pzn7DywALfNhHfOs2XJxtgHyfTHIHURXP1R6aEPTjWFeWBK7MQxJSWweIKdBP5k+50Lc+1n51HQ7yY7ZabmBNRx0jqFulBSYqctbNW7/D4RO2RubAc47W5Y+g6kLil/XOpiGJ8Mn98GX9xly/8PpdkHlrecg/DZLXZ55y/wn/6w/EM7To13QOhxmc2VuFqbnPF7T0AAaHsajH7OFjFk77PnL3rDBpyX+9oH56nq3dHwz3b2Hq+eDDMegx/+r6FTVXsFOfYzKBxadC+fa1TqGGhOoS4c3GaLYVpWEBS8nfUnW5T0wzO2GGfh63D5W3Z4gfedibvXfmk/c/bbB3Wa1+jhRw/YsuHM7TDiCRsU9m2wTV9TfsLOU2TsxOmueXLfGAaZO21QKss1wcf+jZ7WUs262PU5f4e8LLjk1WO8KSew9OX28+W+nm21KtIrtn+nHpeVztXVN1fxUaBOlanqjgaF41FcZIPBnpV2vaKcgrfgJjDijzD9Edv6B2DWU9BhpOeY+L72obVldvnzJ9/oGafmjD/YSdOL8m0OY9UkED+4f1npAHD7LFtEVFGxgmsmqHVf216twx+1Uy9OuRV+ecXuOxWDgre2p8POBfbe1dTiCTDjcXtf+1znu7R5mz3OFg/+cZdnmzunoEFB1R0tPjoeC16G5xJhzjPgF1izaQsH3WEfvu2Gw+D7YP00mPO0Z/8dP8Dd8z3r102GXlfZ5R1e2/2deB4QDN2cXEb3seVzBIGhdqanikTG28rxJW/ZVkmD7jz1B0LLO2w/+98C130Gt02HwHBP+XxN7N9sP3Mz6zx5lfr5JfsCkpXq2aY5BeUDGhSOx5bv7efBrbZMNyCo+nNEbHPBm6fB6P+DzufboqLAcHhwud3fsqdtNnrReFuJeNpdpa9x1Qel19udYYPSGb+jVkQgtqNd7nA2NInztGl3KSqw/RmK8mt37ROVayiHpDOg83l2OTDEDhVRU4XOG7p35zBfC4u1n9//DdKW2mVXTkGDgqpDGhRqqyjfDmdhDOxd7dmedAz9DwCGP2I/WyXb3qUu54yzb7MAcV6zX103GbpfXPoaXcfAHzbZCcFr68zHoEkLT+Apm1NY+Ql8eacdTuFU4AoKkV4tjQJCa1exfnS//czeV3fpqk5EK/u5ejL8z/k348rdBIXXXzrUKU/rFGrr46ttfcDwR2zLncShtlinw9nHdr2E/jDwN6Uf/GUFN/Estzmt/H4RCIs5tu/veoH9cSmbU8jYaD8rahp7Mtr+sy0qa9bZsy0wBIpqUXzkGnDONfR0Xdu5EH593w5DcngXjB24C3EAACAASURBVPwz5GZB8rX277Nsoq3sLjwK/sE6h7KqUxoUaqMo31NB/OPztm37Fe/aB2fLnsd+3Qtr8BaeOBR2r/R9mX/Z+gfXUAoBoeWPPZGl/Ajf/REufNGOPTXlVti3Ho7ug47nQnis59iAkJrnFEqKIXOHXV4zxQ5pcqz9G/KzbSfHgODS2z+41BZRrfjIrg9/BHIO2CKk5t1tADuYYouPAk+yv4s64WnxUW2k/OhZFj8472n7n/p4AkJN3fQ1PLK1+uOOV9m3TldOofgkq1PYPNN2KJz7LCz5L6TMswEBbC9zbwG1yCkc3gUlhZ71T66x/VR+fgk2zqh5+hb/F/6RAK+eZs93KS7y1Fm4vH+JTV9YDLToYbel/2qP06IjVcc0KFTHGNg8C7bNg1WTbYVuQAgkX1O/M1T5B9pijvq2b639PJpRfl9uFuxYUL/pqSlXK52snfbvlzDQs691v9LHBtaiTuGgU3R0yau2l/ieVbBpum0y+snVpVsHVeWnFwBji6L2rPJs37XUs+waoC51kbMeY+uNIlrZfhIFR7WSWdU5LT6qzrYf4KMrPOudR9vhIprUorPTyeail20l5ozHPNtclavept5vm9Tes8DzBnuicE0tecBpPjr8EZvryT9cvkI+IMS2AKvRdZ2gkHSGDTQrP7YDHbqkLYHoNqXPKSmxLZVcrdMObrPFcsN+Bz+/aHMNKfNsv4fiApsLvecX2xN+6xxPD/awGJuT634JLH0XkoZpHwVV5zSnUJ1dy0qv97jM5hBO5bLc/jdDj0tLb/MOCiXFsHcdbJxu1z+71fa2PlFs+R52lxn5Naa97QNy5Xvl/3aBtahTOLAV/IMgKgFiO0FQhK3riWxtt6f/anOXB7Z6Jlf65iHbs/xwup2EydWTuvMom9tY8SEcSrWV+bmZtr9J8662fse7Y2OrZPvZvLstzktdBBHxtb8/SlVBg0J10lfYiso7frCjUXa7qKFTVD+CI7yWI+2bravse/JN8PoQ+/Y76C7YvwkWjG+YdFZk9l/sZ5cLPdui2kCzjtBjbPnjA0JrXqewf7Pt2+Hnb4e4aOMUS7UdbHujr/saVn0K/+kHn//GBoZNM+3QIa8NsZMwBYbZDoet+sDIpzzXvnUGPLTKznXg4j1elau40tVBsSC74uFLlDoOWnxUnX3r7JhGrfvBtR83dGrqj/fbdI9L7RSee1ZBs06w4Ru7ve3ptigt9yAsfMO+2eZn24533g+z+padYYcwv+CfsPFbuy0qofLjq8sp7FtvA2FcV1t5nTDAs69Vsi3iCY+zTYsnjoEvnT4fa6bYHEr2HvtAdxVp/X6j5/4ExtumpwEhkDik4u8f+0bpVmfe/Vm8l5WqAz7NKYhItIhMEZENIrJeRIZ47fuDiBgRaea17QkR2SIiG0VklC/TVmPZ+zwdhxoTEbj2U2jRyzND14QzYeoDdvnqD22vbBEY9Q/7+f3fbBm5a1C/+lRcBNMft+NGZe+BDmeVDgSRVTQbLZtTKMyFb35rR6ndNhdmPGFzQ+unwuG00n0cBtxmcw4DbofE0+GsP3r2JQ6DH505Dc76k2d72YB5+yy4+ZvK09fnWs8Ah1D636MGBVXHfF18NB6YYYzpCiQD6wFEpA1wLrDTdaCIdAeuAXoAo4HXRKRhe+UU5NgsepO4Bk1Gg+kyGu75GeK9Wuu45qBu0dMz/lKTOLjhCzt3hH+wHb21vu1eaSeamXCWXXcN9hfvlN9XNQRJYIjtiPjO+bYuYMd8O8T5Sz1sc9BtP9hy/rvn22If7/qW6LbwwDLPiLPtR3j2nf2kZ7lHFXN0u4qiakrE9mzvcVnpVlVK1QGfFR+JSCQwHLgFwBhTABQ4u18CHgW+9jrlEmCSMSYfSBGRLcAgoOGmjHK1aw9v3mBJOCH4B8DvNtiWO6+fbt9UoxNLH5M01P58eoNtvpubWX9z/r462D7UATB2Duo2g+zqrdOrH+zO3+k8tnMBfP9XO2yIm9jr9bne9ke5+oMKL+HWwumzEtna9j5v0tK2FvIPsMVAkXVUMdx5lP1Rqo75sk6hPZABvCsiycAy4CFgJLDLGLNSSg/n3BpY6LWe5mxrONlO2/wmjTwogG0eSSt4PNU+JCt7s+19tW2m+lySHeDP18UbhXme+YldOp7jmXAmMLT6lmLhXjnBLd975sUY+rBtiRWdWPOhJAJD4PoptojJzw9+v8EzbHmfa2t2DaUakC+LjwKAfsDrxpi+wFFgHPAn4M8VHF/RPIKm3EEid4rIUhFZmpFRQYequuTOKTTS4qOKBIVVXRTT5UI78ivYzn7Ho7jQFlflHYbdq5yJhMo4vKv0evK1NRs2xFu/G23rsktes8WFKfNspfm5f7VBrbZjC3U6F5o6OSmdHlOdZHyZU0gD0owxTndMpmCDQjvAlUtIAH4VkUHO8d69fhKA9LIXNcZMACYADBgwoFzQqBMrPrEPgz1r7LrmFGrOzw+um2TL5zfNgBGPH/u1Zv0ZFr5mK7tdI9LeOQ/i+9imnkf32x7LYFtCXf7WsY1DFBhqW5e5chQpP0LzE6wznlL1xGc5BWPMHiBVRJwaP0YCvxpjmhtjkowxSdhA0M85dipwjYgEi0g7oBOwuKJr14mCoxVvLy6Cbx62bcx/ftF2UGrS0mfJOGW1GQh719r5GFyMsfNTmxrG8j1OINi72v4NxM8zI9yaz+H5jvCB0+/g0tePfWA6l2adPQMCVtWEValTmK9bHz0AfCQiq4A+QKWzoxtj1gKTgXXADOA+Y0yxT1KVugT+3csOUVxWxno74cqhnfZz7OueVjaq5uL72iEb9q7xbFs8Ad4+x7brr4ncLBsM+lwPv5lt55dY/RnMfa580VRVTU5rys/f06ig07nHfz2lTkI+DQrGmBXGmAHGmN7GmLHGmMwy+5OMMfu91p8xxnQwxnQxxkz3WcLiutgeu5Ou9xQRubgmdQ+Pg7BmtmORqj1XZe3etZ5t66fZz6yd5Y8/sqd8DiIvy85TMfY1O57Q0Ifs9l/fswG95+Vw20w7PLZ/YN2k+5xxNrdQVRNSpU5hjXOYi5BI2847Zz+sKNNLedevEBxlOxNdO6l27ceVR3RbW9yT5cw9sHORHTIEPD17XdJXwAtd7PAQ3nIzS/fkbZoEo5+1lcv5h2zfgbanwcDb6y7d3cbA4ztLz7egVCPSeJ94cV1sZbJrEhmX9OW2IrN5V8+4Nqr2/AMhMsFOSLNqMrxzHhQcsfsObrN1N0vfscNiuIaL3vqD5/ziQtsSqGxfh/ZneS2P8OVvoFSj1LgLyyPibbFFcZHtERvW1BZ3DLmvoVN2amiaaHsHu0ZTjWlv2/wfTLHNPr/5LUx/DNo6o594N9/MzbKfZacHbd7VTjiUc6Bhx1dS6hTVyINCS/uW+un1tvkk2HFwul3csOk6VTRNhO1O3wJXR7ZpD9tWRQe32e3FBTZAgGeaS7D1CVBxr+j2I3yVYqUavcZbfAQ2KGRutwGh+1g78NvdP0GCVi7XiaThnmVXz+aIlrYuJ2MjBIbDn/bC2U/Z4bn3b/IMz53rtEnw9ZzUSqlSGnlOwWu0ybGv6yxWda3nZbDkLeh9lWebqyNg6kIbKAJDYPgfbL+AL++CLbMA8cyJoL3JlapXjTsotD/Tjoff/RINCL7gHwi/mVV6m6sj4J41pUcb7TrGjqn0sVcAGf6IZ7YxpVS9aNxBoWUvuOvHhk5F4+Ke29pAv5s824ObwAXP297kAJe/Db2uKHe6Usq3GndQUPUvwgkK8f3KVxgPuNX2Xhapu85oSqla0aCg6ldEK+h5BQy6o+IRRKsagVUp5XMaFFT98vOHK95u6FQopSrRuJukKqWUKkWDglJKKTcNCkoppdw0KCillHLToKCUUspNg4JSSik3DQpKKaXcNCgopZRy06CglFLKrVZBQUTCfZUQpZRSDa9GQUFETheRdcB6Zz1ZRF7zacqUUkrVu5rmFF4CRgEHAIwxK4HhVZ6hlFLqpFPj4iNjTGqZTcV1nBallFINrKajpKaKyOmAEZEg4EGcoiSllFKnjprmFO4G7gNaA2lAH2e9SiISLSJTRGSDiKwXkSEi8i9nfZWIfCki0V7HPyEiW0Rko4iMOpZfSCml1LGrUU7BGLMfuP4Yrj8emGGMucLJYYQBs4AnjDFFIvIc8ATwmIh0B64BegDxwGwR6WyM0WIqpZSqJzVtffRemTf6piLyTjXnRGIro98GMMYUGGOyjDEzjTFFzmELgQRn+RJgkjEm3xiTAmwBBtXu11FKKXU8alp81NsYk+VaMcZkAn2rOac9kAG8KyLLReStCvo53AZMd5ZbA96V2WnONqWUUvWkpkHBT0SaulZEJIbqi54CgH7A68aYvsBR4HGva/wJKAI+cm2q4Bqm7AYRuVNElorI0oyMjBomXymlVE3UtPXRC8ACEZnirF8JPFPNOWlAmjFmkbM+BScoiMjNwBhgpDHGeB3fxuv8BCC97EWNMROACQADBgwoFzSUUkoduxrlFIwx7wOXA3uBfcBlxpgPqjlnD7Ypaxdn00hgnYiMBh4DLjbG5HidMhW4RkSCRaQd0AlYXKvfRiml1HGpMqcgIpHGmMNOcdEe4GOvfTHGmIPVXP8B4COn5dE24FZgCRAMzBIRgIXGmLuNMWtFZDKwDlusdJ+2PFJKqfpVXfHRx9hinmWULt8XZ719VScbY1YAA8ps7ljF8c9QfbGUUkopH6kyKBhjxoh9nT/TGLOzntKklFKqgVRbp+BUBH9ZD2lRSinVwGraJHWhiAz0aUqUUko1uJo2ST0LuFtEtmP7Gwg2E9HbVwlTSilV/2oaFM73aSqUUkqdEKprkhqCHSG1I7AaeNtr3CKllFKnmOrqFN7DNildjc0tvODzFCmllGow1RUfdTfG9AIQkbfRHsZKKXVKqy6nUOha0GIjpZQ69VWXU0gWkcPOsgChzrqr9VGkT1OnlFKqXlXXo9m/vhKilFKq4dW085pSSqlGQIOCUkopNw0KSiml3DQoKKWUctOgoJRSyk2DglJKKTcNCkoppdw0KCillHLToKCUUspNg4JSSik3DQpKKaXcNCgopZRy06CglFLKTYOCUkopN58GBRGJFpEpIrJBRNaLyBARiRGRWSKy2fls6nX8EyKyRUQ2isgoX6ZNKaVUeb7OKYwHZhhjugLJwHrgceB7Y0wn4HtnHRHpDlwD9ABGA6+JiM7noJRS9chnQUFEIoHhwNsAxpgCY0wWcAnwnnPYe8BYZ/kSYJIxJt8YkwJsAQb5Kn1KKaXK82VOoT2QAbwrIstF5C0RCQdaGGN2AzifzZ3jWwOpXuenOduUUkrVE18GhQCgH/C6MaYvcBSnqKgSUsE2U+4gkTtFZKmILM3IyKiblCqllAJ8GxTSgDRjzCJnfQo2SOwVkVYAzuc+r+PbeJ2fAKSXvagxZoIxZoAxZkBcXJzPEq+UUo2Rz4KCMWYPkCoiXZxNI4F1wFTgZmfbzcDXzvJU4BoRCRaRdkAnYLGv0qeUUqq8AB9f/wHgIxEJArYBt2ID0WQRuR3YCVwJYIxZKyKTsYGjCLjPGFPs4/QppZTy4tOgYIxZAQyoYNfISo5/BnjGl2lSSilVOe3RrJRSyk2DglJKKTcNCkoppdw0KCillHLToKCUUspNg4JSSik3DQpKKaXcNCgopZRy06CglFLKTYOCUkopNw0KSiml3DQoKKWUctOgoJRSyk2DglJKKTcNCkoppdw0KCillHLToKCUUspNg4JSSik3DQpKKaXcNCgopZRy06CglFLKTYOCUkopNw0KSiml3DQoKKWUctOgoJRSys2nQUFEtovIahFZISJLnW19RGSha5uIDPI6/gkR2SIiG0VklC/TppRSqryAeviOs4wx+73W/wn81RgzXUQucNZHiEh34BqgBxAPzBaRzsaY4npIo1JKKRqm+MgAkc5yFJDuLF8CTDLG5BtjUoAtwKAKzldKKeUjvs4pGGCmiBjgTWPMBOBh4DsReR4blE53jm0NLPQ6N83ZppRSqp74OigMNcaki0hzYJaIbACuAH5rjPlcRK4C3gbOAaSC803ZDSJyJ3AnQNu2bX2XcqWUaoR8WnxkjEl3PvcBX2KLg24GvnAO+QxPEVEa0Mbr9AQ8RUve15xgjBlgjBkQFxfnq6QrpVSj5LOgICLhIhLhWgbOA9ZgH/RnOoedDWx2lqcC14hIsIi0AzoBi32VPqWUUuX5svioBfCliLi+52NjzAwRyQbGi0gAkIdTFGSMWSsik4F1QBFwn7Y8Ukqp+iXGlCu2P2kMGDDALF26tKGToZQ6BRzOK+T9BdtpGRXK5f1a47zQnpJEZJkxZkBF++qjn4JSSp2QCopK+GZVOst2ZDJtZTqH84oAyM4r5Jah7Ro4dQ1Dg4JSqtFYlZbFv77bSFxEMAePFrB+92H2Hs4nIjiA0zvGcv9ZnfjXzI2Mm7aOV37YyjndmtMrIYrkhGh6to6q9vrrdx8mKMCP9s3CT9qchhYfKaUahd2Hcjl//E9k5RTSPCKYFpEhxEeHcM2gtozoHOd+iOcXFfPZ0jR+2XaAeRszyM63uYdbTk/iiQu6EhzgT0FRCYtSDrB8ZxYJTUMpKjbM37qfr1fYBpMdmzfh5tOTuHFwYoP9vlXR4iOl1AnJGFMnb9TGGA7lFpJbWEyAnx/NmgQhIuQVFrNm1yGW78zi/YXbKSgqYc7vz6R9XJNKrxUc4M8NgxO5YXAixhjSD+Xx3x+3MXHBdqav2U1SbDjrdh/miFPU5BIe5M8tpyfRrlk4X63YxVNfrUGAG07QwFAZzSkopRrExPkp/PO7jbSKCuGpMd0Z0aU52flFNAmu/F11ZWoWS7YfJDTIny4tIlibfpjFKQdZuuMgew/nu49LTojizuEdeOzzVe43/S4tIvi/y3rSPzHmmNI7Z8NePv91F3sP5dGuWTjn9WjJ6R1i2bT3CE3DgmgTE4a/nw1wRcUl3PnBMuZtyuCzu4fQr23TGn1HTkERm/dmcySviNzCYvonNiUmPKjccdNX7yYqLJDTOzQ7pt+lqpyCBgWl1HE7kJ3Pd2v38r/Vu0nZf5SerSMZ1C6WuIhgmoYF0qxJMHmFxTQNCyKpWTgfL9rJH79czaCkGA4czWdrxlHaNwsn5cBR3rppACO7tXBfO7+omDnr9/H2zyks3ZFZ7rsTmobSMz6KAUlNCQ8OYO/hPP4923Z/6hEfycPndCY5IYrmkSH1dj8AjuQVMuqlH2kTE8andw2p8lhjDB8v3smz/9vAkXxPDiQ4wI8XrkpmTO949zX//s06Ji9N47zuLZhwU4XP9Wpp8ZFSqs7kFBTx3PQNrN99hISYUNIO5rJ0x0FKDCTFhtGnbTTLd2Ty3dq95c4N8BN6xEeyatchzu7anDdu6I/B8MqcLSzcdoBiY3jyqzUMbBdDYVEJ78xP4YNfdnA4r4iEpqH8eUx3xvZtzdH8IjbvO0KbpmF0ahFR7nv6tW3K6l2HuGlIIhEhgfVxW8qJCAnkigFteGXOZvZn59OsSXCFxxljeObb9bz1cwpDO8Zy4+Akd+5g3NS1jJu6jjM6xrEl4wgPfrKC3Ydyue+sDjx8TmefpFtzCkqpGjuSV8g9H/7K/K376d06ir2H84kOC+S8Hi0Z3aMl3VpFICIYY8jMKeRAdj6ZOYXsPZxHxpF8UvYfZfb6vQxMiuGfV/QmJNC/1PWX78zk8tcXEBUayJG8IopKDBf0asmV/dtwRqdmBPifXPOCbdxzhFH//pGbhtg6ijkb9nFOt+Z0bB5BSYlh2qp0Xpy1iR0HcrhhcFv+fknPUnUsK1OzuPKNXzAYCosNraNDefnavvRPrFlxVGW0+EgpdczWph9iXfphmjUJ5ulv17H9QA7PXtaLKwe0qf7kY/DT5gw+XZJK6+hQruifUGFO4GTy5Fer+XDhTvd6oL8wMCmGnQdzSMvMpXurSG4dmsTl/RLw8ytf6b5gi23V1D0+kkv6xBMdVr6OobY0KCilai0tM4cXZ23ii193ubclxobxzNheDOt0bBWcjVFJieGb1bs5mJ3P6R2b8d6C7azZdYjmkSFclBzPhb1auSuo64vWKTSgkhLbVK5pBS0IlPKlnzZnMHlpGhv3HKao2HBa+1iiwwLJyikk40geh3ILAUiMDeex0V2Ji/CUeX/wy3b+/s16ELj7zA60jQnDYLi8X0K5Ih9VNT8/4eLkePf6M5f2asDUVE+Dgg/9tDmDxz9fza6sXJJiw2gbG86ZneO4/rS2DfIfKzu/iC37stmw+zCdW0bUuJmcOvks3HaAW99dQnRYEH3aRAOGr1fsoqCohKjQQJpHhhAdGkhRSQlTV6QzZ8M+3r1lIL0Tonhj3jaem7GBs7rE8cylvYiPDm3oX0fVIy0+8pGJ81P42zfr6BDXhIuT41m96xA7D+awYc8R4iKCeXBkJ64Z2IbAOq4423c4j6kr05m9fi9ZOYUUFJdQUGR/MrLzcf25u7eK5H8PnVGn330yq6tOVCeCHQeOcsmr84kND+KLe4cSFVp165vNe49w68Ql7D6UR8vIEHZl5XJRcjwvXJlMUMDJVbGrakaLj+rZ7HV7GTdtHed1b8G/r+lDWJDnNi/cdoAXZ27iqa/W8Oz/1tMiKoT+bZty/eBE542u9rZmZDN5aSpb92Xz0+b95BeV0K1VJG1jwggM8CPY349Afz9aRYfQvVUkHyzcwbIdmZSUmAorthqT/KJixk1dy4+b9jPtgWEVdhQ6mRQWl3D/x8sBePvmgdUGBIBOLSKYev8w3vxxK7syc7lnRAeuG9S20f/baKw0KNSxvMJi/jJ1LV1aRPCf6/oSHFC6mGhw+1g+vWswczdlMG9jBulZucxYu4cpv6YxsmtznrigGx3impBXWEyQvx95RcWsSM0CoFfrqFJtrvMKi3l3/nZenLURgHbNwhnbpzV3ntmeDlV04z9wtICfNu8nLTOXtrFhPrgLJ4eDRwu4/b0lLN+ZhQhM+HEbj5/ftaGTdVzemLuV1bsO8fr1/UhqFl7j82LCg3ji/G4+TJk6WWhQqGMTftzGrqxcPr7jtHIBwUVEOKtLc87q0hyw47i/OW8r7y/YwaiXfqRj8yZs3pdNk+AAjubbttoAraND3W+zrix/WmYuo3u05O9je5aqKKxKl5a2id+KtKzjDgrGGLZmZJOVU0i3VpGEVzFEwYkkr7CYO99fytr0w7x+fT+mrkxn0pKdPHxOp3qr78kvKubl7zezcNtBEmPDaBsTRlRoIE3Dggj09+PMLnFVDvlQ1p5DebzywxYu7NWK83u18mHK1ans5PgffILKzi9i894jtI9rQlRoIOlZubw2dwvn92xZqzFJIkMCeWRUV245vR0TftzKxr3ZDOvYjKMFRTQNC2JQuxhyC4p5aNIK7nx/KWN6t2LCj9soLDF8cPsghnVsVqvy8N6to2gTE8q/Z23iQHY+YUH+jO3butIgVpm0zBwenbKKBVsPABDk78egdjGM6tmSK/ufuK1UjDE89vkqlu7I5JXr+nJ+r1ZEhwUxfc0env9uI0+O6V7hecUlhv3Z+Wzff5RPl6ZyZf829E9s6i53zykoIvVgLh3iwqvtZGWM4cFPlvPd2r30axvNnA37yMopLHVMWJA/f7moO1cNaFOjv+/47zdTYsxJn9tRDUuDwjH4cVMG46atZeeBHIpKDOFB/nx531D+M2cLxsAfLzi2bHhcRDB/urDiBxLA0YJinvpqDUt3ZNIiMpiJtw6kR3z1Y7yXFeDvxx/P78Z9H//KX6etA2DWun08f2XvGneMmbl2D7+fvBIDPHlhN9rHhbNw20HmbNjHU1+tYc76vbx988AGL5fOKyxGhFIB79vVu/l6RTq/P7eze0yZIR1iuXlIIm/9nELH5k24ZlBb9/Hrdx/m82VpfL0ynYwjnkHXvvh1FyLQOyGawe1imLw0lcycQtrHhTPpzsE0j6h8rJ035m3ju7V7efLCbvzmjPaADTqHcgvJzClg/5F8/j17M499vpppK3fzynV9iQoN5O2fUziSV8R9Z3UsVQmcsv8ok5emcsNpbWkT03iLBNXx09ZHtbTvcB5nPT+XVtGhjOrRgk7NI3jii9UUFpdQVGJ48OyO/O68Lj77/qLiEvYcziMuIrjWb/ZlbdmXDRhmrNnD8zM3cVFyPP+5tm+15/26M5Nr3lxIt1YRvHJdv3IPoXfnp/DXaev4y0XdubWOZq9atO0Ar8/byqq0Q/ROiOKBsztV2dW/sLiESYt38vS36wkO8OPBkZ24fVg70jJzufS1+TSPCGHaA8NKdRoqLC7hN+8tZd6mDP48pjv9Epvy5rytTF+zh0B/YUSX5gzv1IyY8GC6x0eyNv0Q63cfZsaaPWzNOMrQjrGc260Fz83YyPDOzXjzxooHK1u07QDX/nch5/dqxSvX9q00F1BSYgdJ+9u0dTQJCaBN01BWph0C4OmxPUsNyfzIZyv5ZtVu5j06ospgpBRo66NyMo8W8Mu2Axw8WkCAn3BZv4QaN717dsYGCosNb900wF2Rl5VTwLhp6+jSIoK7R3TwZdIJ8PcjoWndvAl2bG4ro+8/O4LtB3KYvno3h/MK+c17SzmjYzMeGNmp3DkLtuznvo9/pWVUCBNvHVRhp7xbTk/ix00ZPDdjA+d0a3Hcb67Pf7eRV37YQovIYEZ0jmP+1v1c8cYCBiXZIZA7NG/CY6O7ulvaHMot5PaJS1i6I5N+baMJDw7g6W/Xs/NgDt+s2k1hcQnjr+lTrhdpoL8fE27qzwMfL+dv39gcVERIAA+O7MStpyeV+13bNQtnTO94/nBeF/IKSwgNskH6cF4RL87axKx1ezm3e4tS5xw8WsCDk5aTGBvOs5f1qrJYyM9PuGFwIj1bR3H3B8tYmXaIu4a3539rdvPDhn3u5MGXIQAAC8BJREFUoFBYXMLMdXs5v1dLDQjquDXKoLDzYA73fvSre33y0lRevb4fESGBpGXmsHHPET5bmkZuYTHndW/B9YMTaRIcwJLtB/ni113cfWaHUi07bhnajkHtYmkfF37ClqNX5+LkeKYsS6P3uJkArEjNKhcUvl6xi99NXkm7ZuG8ddOASntpiwj/d1kvzvznXN7+OYVxF/c45nRNW5nOKz9s4cr+Cfztkp6EBvmTnV/E63O3MH/LAUTg0yWpzN2wj5tPT6J101BembOFrRnZvHhVMmP7tKbYGEa+MI/3f9lB+7hw/nvTgEpbZwUH+PPq9f34fFkaRSWGsX1bV1vZKyLugABw5/D2zFizh3FT1zKya3N3EVphcQmPfLaSzKOFvHPLwBqP3tmnTTRf3nc6qQdzGdQuhvyiEj5ZvJPMowU0DQ9iScpBDuUWcl73ljW8q0pVrlEWH+UVFpOy/yix4UEsSjnIY5+vIqeguNQx8VEhxEWGsDI1iwt7teKFq5I5f/xPFBaX8N3Dw0+aVjY1ZYzhvQXbWbz9IEu22z4My546173vqa/X8NGinQxKiuHtWwbWqFXMg58sZ+7GfSx98txj6gRVUFTCuS/NIzwooFxRj7dlOzJ55tt1/LrTNt1tERnMc5f3ZoTTugvsVIyLth3k7G7NiayHoZS/XrGLhyat4B+X9eLyfgm8Oz+Ff0zfAHDcxWob9hxm9L9/4r6zOvDIqK6Mm7qWTxbvZPmfzy3VJ0apymjxURkhgf50axUJwEXJ8fSIj+TrFemEBvmT0DSU1tGhdI+PJDjAn79NW8e7C1LYn22H/f3w9tNOuYAA9m33lqHtuGVoO96Yt5Vnp2/gcF4hkSGBzFq3lw8X7uTi5Hieu7x3qbfiqlycHM/Uleks3HaA4Z3japWegqISnv52HTsO5DDx1oFVDhjWP7Epn99zuu2QZ+x62eNbRYUytm/rWqXheIzq0ZKOzZvwxBereeKL1QT4Cc2aBPGnC7sxts/xpaNry0gu7dua1+duZUzveGat28sZnZppQFB1Qv8VAe3jmvDbcyuesOLaQW14Z34Ki1IO8uSF3RrF6JBJsbZoLCXjKMltonl3/nbaxITy4lXJtRrPflinZoQF+TNz3R53UDiaX8TzMzcytEMzzvn/9u41xqryCuP4/wkMIHdbBiIO18hoEW84okKoLRKjsYJpaqtVodXWNBVR08ZoTayxTewH02qrtqGK4oVpDOIlrYp4qbYGoeWSCkJFEQEFBkUtFCy31Q97z8k4MDAOs2fPnP38EnLOvDlnz3qZyayz3/3utRqtt6/fmuzmWrd1B7c/s5JVm7bxvbFDP/eJvymSqBnasjaLWehW0YnaH57BLU8t59nlmzihqg+zrhjTamcpt15wPPPf3MzVs5fw/ic7mX72Ma1yXDMnhUMYMaAXc388lvc/TurBFMGJVck219fXJPcfLFjzET89p/oLNzjpVtGJs6oreX7FZm6bNAoJrqldmhRfe20tD10xppQsnnljI9Nrl5Zu1BvQuyt/nFKz34XajqSyV1fuvXQ0q+u2c0xlz1bdntunewVTzhzCvX99B4AJx3Xc/ydrXzJNCpLWAtuAvcCe+jUsSdcA04A9wF8i4oZ0/CbgyvT10yNiXpbxNdfowUcWqqLowL5HcPzA3qU18C/36MJ3Tx9yiHcd2HknHMWzyzdx/9/fpW7bZ7y0qo4bzj2WOYs3MGXmIo7q041e3Tqzum47pw4+km+dWkWvbhVMHNn/sLfctgeSqM6oScwPxg/ntXc+4ts1Vc2+m93sUDK90JwmhZqI+LDB2NeBm4HzI+J/kvpHRJ2kkUAtMAYYCLwAVEfE3gMcGmjfVVI7ulff2sJdL67mpKq+XDJmUIu7X+3dF/zokcXMfzPp13vp6YP55YWj+GTHbh5a8B7rtu7gnS3bGV7Zg19MHlWW12vM2pvcOq81kRQeA2ZExAuNXnsTQETcnn49D7g1IhY0dXwnhY5hx6493DHvLcZX9yvVezKz/BwsKWRdLD2A5yUtlnRVOlYNjJe0UNIrkk5Lx48G1jd474Z0zDq47l06c8sFI50QzDqArM/Vx0XEB5L6A/MlrUq/55HAGcBpwGOShgMHugq332lMmlyuAhg8ePB+bzAzs5bL9EwhIj5IH+uAJ0iuF2wA5kZiEbAP6JeOD2rw9irggwMcc0ZE1ERETWXlF9v7bmZmB5dZUpDUQ1Kv+ufAOcBy4ElgQjpeDXQBPgSeBi6W1FXSMGAEsCir+MzMbH9ZLh8NAJ5IC351BmZHxHOSugAzJS0HdgFTI7navSK9CP0myVbVqw+288jMzFpfIWsfmZkVWZ67j8zMrANxUjAzsxInBTMzK+nQ1xQkbQHeO4xD9CPZ+VTuijJPKM5cizJPKM5c23KeQyLigHv6O3RSOFyS/tnUxZZyUpR5QnHmWpR5QnHm2l7m6eUjMzMrcVIwM7OSoieFGXkH0EaKMk8ozlyLMk8ozlzbxTwLfU3BzMw+r+hnCmZm1oCTgpmZlRQyKUg6V9K/Jb0t6ca848mKpEGSXpa0UtIKSdfmHVOWJHWStFTSn/OOJUuS+kqaI2lV+rM9M++YsiDp+vT3drmkWknd8o6ptUiaKakuLQxaP/YlSfMlrU4fc2kMX7ikIKkTcA9wHjASuCTtD12O9gA/iYivkDQ1urqM5wpwLbAy7yDawF3AcxFxHHASZThnSUcD00na+Y4COgEX5xtVq3oQOLfR2I3AixExAngx/brNFS4pkDT6eTsi1kTELuBPwOScY8pERGyMiCXp820kfzzKssWppCrgfOC+vGPJkqTewFeB+wEiYldEfJJvVJnpDBwhqTPQnQM03eqoIuJVYGuj4cnArPT5LODCNg0qVcSkUMhe0JKGAqcAC/ONJDN3AjeQdPIrZ8OBLcAD6VLZfWkTq7ISEe8DdwDrgI3ApxHxfL5RZW5ARGyE5AMdkEtT8yImhWb1gi4nknoCjwPXRcR/8o6ntUn6BlAXEYvzjqUNdAZGA7+PiFOA/5LTMkOW0vX0ycAwYCDQQ9Jl+UZVDEVMCs3qBV0uJFWQJIRHI2Ju3vFkZBwwSdJakuXACZIeyTekzGwANkRE/RnfHJIkUW4mAu9GxJaI2A3MBcbmHFPWNks6CiB9rMsjiCImhX8AIyQNS1uDXkzSH7rsKOmFej+wMiJ+nXc8WYmImyKiKiKGkvw8X4qIsvxUGRGbgPWSjk2HziZpYVtu1gFnSOqe/h6fTRleUG/kaWBq+nwq8FQeQWTZo7ldiog9kqYB80h2NMyMiBU5h5WVccDlwBuSlqVjP4uIZ3KMyQ7fNcCj6YeaNcD3c46n1UXEQklzgCUku+iW0k7KQLQGSbXA14B+kjYAPwd+BTwm6UqSpHhRLrG5zIWZmdUr4vKRmZk1wUnBzMxKnBTMzKzEScHMzEqcFMzMrKRwW1LNWkrSXuANoIJkm+Qs4M6IKPfSGlYgTgpmzbczIk4GkNQfmA30IdljblYWvHxk1gIRUQdcBUxTYqikv0lakv4bCyDpYUmlKrySHpU0SdLxkhZJWibpX5JG5DUXs4Z885pZM0naHhE9G419DBwHbAP2RcRn6R/42oiokXQWcH1EXCipD7AMGAH8Bng9IurvTO4UETvbdkZm+/Pykdnhqa+6WwHcLelkYC9QDRARr0i6J11u+ibweFpqZQFwc9oHYm5ErM4jeLPGvHxk1kKShpMkgDrgemAzSSe0GqBLg5c+DFxKUqPoAYCImA1MAnYC8yRNaLvIzZrmpGDWApIqgT8Ad0eyBtsH2JjuRLqcpNhivQeB6wDqiy+mCWVNRPyWpDrmiW0XvVnTvHxk1nxHpNVm67ekPgzUlyS/F3hc0kXAyyTNbwCIiM2SVgJPNjjWd4DLJO0GNgG3tUH8ZofkC81mGZPUneT+htER8Wne8ZgdjJePzDIkaSKwCvidE4J1BD5TMDOzEp8pmJlZiZOCmZmVOCmYmVmJk4KZmZU4KZiZWcn/Ac68sYmzZE8HAAAAAElFTkSuQmCC\n",
          "text/plain": "<Figure size 432x288 with 1 Axes>"
         },
         "metadata": {
          "needs_background": "light"
         },
         "output_type": "display_data"
        }
       ]
      }
     },
     "3b56b6b7754f424682144cc2c4a8455c": {
      "model_module": "@jupyter-widgets/base",
      "model_module_version": "1.2.0",
      "model_name": "LayoutModel",
      "state": {}
     },
     "3be282f892464bc4b1ff9c74cd2f9f9e": {
      "model_module": "@jupyter-widgets/base",
      "model_module_version": "1.2.0",
      "model_name": "LayoutModel",
      "state": {}
     },
     "3c2bea58ed21475d94dd02acaa6ea198": {
      "model_module": "@jupyter-widgets/controls",
      "model_module_version": "1.5.0",
      "model_name": "DescriptionStyleModel",
      "state": {
       "description_width": ""
      }
     },
     "3ca2a4718e9649db9d10a73d3ef02fba": {
      "model_module": "@jupyter-widgets/base",
      "model_module_version": "1.2.0",
      "model_name": "LayoutModel",
      "state": {}
     },
     "3d3b0c08d3484dd686a3199b5226e558": {
      "model_module": "@jupyter-widgets/base",
      "model_module_version": "1.2.0",
      "model_name": "LayoutModel",
      "state": {}
     },
     "3d92577bd59d47d4986e1d7c04e0559c": {
      "model_module": "@jupyter-widgets/controls",
      "model_module_version": "1.5.0",
      "model_name": "VBoxModel",
      "state": {
       "_dom_classes": [
        "widget-interact"
       ],
       "children": [
        "IPY_MODEL_68915608a5134804901df2a0023e7bc0",
        "IPY_MODEL_3a8baf961e2b49b4805e45ae619912e1"
       ],
       "layout": "IPY_MODEL_53754fb274004e7fb76d97841542f00e"
      }
     },
     "3e1bf0c98e11457082db524ca8c84cb8": {
      "model_module": "@jupyter-widgets/base",
      "model_module_version": "1.2.0",
      "model_name": "LayoutModel",
      "state": {}
     },
     "3fa5e93f1f404dcbb6c6744358caad52": {
      "model_module": "@jupyter-widgets/controls",
      "model_module_version": "1.5.0",
      "model_name": "DescriptionStyleModel",
      "state": {
       "description_width": ""
      }
     },
     "40b14b9843f44b3983edec61d76e69ae": {
      "model_module": "@jupyter-widgets/base",
      "model_module_version": "1.2.0",
      "model_name": "LayoutModel",
      "state": {}
     },
     "40fddc0adfed43fea90d9c638eca29b6": {
      "model_module": "@jupyter-widgets/output",
      "model_module_version": "1.0.0",
      "model_name": "OutputModel",
      "state": {
       "layout": "IPY_MODEL_54d95757ea424b619df2ff3dbe8dd08a",
       "outputs": [
        {
         "name": "stdout",
         "output_type": "stream",
         "text": "<class 'pandas._libs.tslibs.timestamps.Timestamp'>\n"
        },
        {
         "data": {
          "image/png": "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\n",
          "text/plain": "<Figure size 432x288 with 1 Axes>"
         },
         "metadata": {
          "needs_background": "light"
         },
         "output_type": "display_data"
        }
       ]
      }
     },
     "41d1cfc992054576b0c5727c9932865e": {
      "model_module": "@jupyter-widgets/base",
      "model_module_version": "1.2.0",
      "model_name": "LayoutModel",
      "state": {}
     },
     "424b3b6bc7c5415d91b76ce6b5f9140e": {
      "model_module": "@jupyter-widgets/controls",
      "model_module_version": "1.5.0",
      "model_name": "DatePickerModel",
      "state": {
       "description": "date",
       "disabled": false,
       "layout": "IPY_MODEL_3e1bf0c98e11457082db524ca8c84cb8",
       "style": "IPY_MODEL_bd48970376e347c6af8f0048c0a5c1de",
       "value": {
        "date": 18,
        "month": 5,
        "year": 2018
       }
      }
     },
     "431b3940002c43a8985cf71c61354c8f": {
      "model_module": "@jupyter-widgets/base",
      "model_module_version": "1.2.0",
      "model_name": "LayoutModel",
      "state": {}
     },
     "4427e114354340f18c9c9a191db42e7f": {
      "model_module": "@jupyter-widgets/base",
      "model_module_version": "1.2.0",
      "model_name": "LayoutModel",
      "state": {}
     },
     "452381ea67d04eeeb99780f27e0f1c57": {
      "model_module": "@jupyter-widgets/output",
      "model_module_version": "1.0.0",
      "model_name": "OutputModel",
      "state": {
       "layout": "IPY_MODEL_31a645799317465d832ac87aa70174d4",
       "outputs": [
        {
         "name": "stdout",
         "output_type": "stream",
         "text": "2018-06-18 02:00:00\n"
        },
        {
         "data": {
          "image/png": "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\n",
          "text/plain": "<Figure size 432x288 with 1 Axes>"
         },
         "metadata": {
          "needs_background": "light"
         },
         "output_type": "display_data"
        }
       ]
      }
     },
     "4648512f1455428abf19860165efdaaf": {
      "model_module": "@jupyter-widgets/controls",
      "model_module_version": "1.5.0",
      "model_name": "DropdownModel",
      "state": {
       "_options_labels": [
        "ggplot",
        "pearl",
        "solar",
        "space",
        "white",
        "polar",
        "henanigans"
       ],
       "description": "theme",
       "index": 0,
       "layout": "IPY_MODEL_57c8c042cb6d43819255292e15dc3f2a",
       "style": "IPY_MODEL_008b612017d64d1693eeb0715a5df541"
      }
     },
     "4719e9a36d574a789f810276e9053c3b": {
      "model_module": "@jupyter-widgets/output",
      "model_module_version": "1.0.0",
      "model_name": "OutputModel",
      "state": {
       "layout": "IPY_MODEL_0666a7950d194644a8e2a21f7359c9d0",
       "outputs": [
        {
         "name": "stdout",
         "output_type": "stream",
         "text": "length of time-series i/o (502, 720, 5) (502,)\n"
        },
        {
         "data": {
          "image/png": "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\n",
          "text/plain": "<Figure size 432x288 with 1 Axes>"
         },
         "metadata": {
          "needs_background": "light"
         },
         "output_type": "display_data"
        }
       ]
      }
     },
     "47a3c555926b4513a023a69c24f6597a": {
      "model_module": "@jupyter-widgets/base",
      "model_module_version": "1.2.0",
      "model_name": "LayoutModel",
      "state": {}
     },
     "47d62f10c0174feabf396b8c9b43a632": {
      "model_module": "@jupyter-widgets/controls",
      "model_module_version": "1.5.0",
      "model_name": "DescriptionStyleModel",
      "state": {
       "description_width": ""
      }
     },
     "4999ddc6f4a34b71ab8b4bc56fd44eff": {
      "model_module": "@jupyter-widgets/controls",
      "model_module_version": "1.5.0",
      "model_name": "DatePickerModel",
      "state": {
       "description": "date",
       "disabled": false,
       "layout": "IPY_MODEL_23548950195f4632b83680c2b1e470ea",
       "style": "IPY_MODEL_a0a4743f4df5460da80c3b4ad1d9f663",
       "value": {
        "date": 23,
        "month": 4,
        "year": 2018
       }
      }
     },
     "4abf1d4e7693403f8435547b980f3035": {
      "model_module": "@jupyter-widgets/controls",
      "model_module_version": "1.5.0",
      "model_name": "DescriptionStyleModel",
      "state": {
       "description_width": ""
      }
     },
     "4afdd2d2c11b4905ae795dbce1319a62": {
      "model_module": "@jupyter-widgets/controls",
      "model_module_version": "1.5.0",
      "model_name": "VBoxModel",
      "state": {
       "_dom_classes": [
        "widget-interact"
       ],
       "children": [
        "IPY_MODEL_09eaaf66fe0a43e393a182f4811e3b0e",
        "IPY_MODEL_37465298077243dc83cca24604835900"
       ],
       "layout": "IPY_MODEL_4de3b3e7b7d44f16aba3399d6b85c6ed"
      }
     },
     "4b3fea79179440038032c60c2bd023c9": {
      "model_module": "@jupyter-widgets/base",
      "model_module_version": "1.2.0",
      "model_name": "LayoutModel",
      "state": {}
     },
     "4bed69eaeaeb40ae9098a916957079ce": {
      "model_module": "@jupyter-widgets/controls",
      "model_module_version": "1.5.0",
      "model_name": "DropdownModel",
      "state": {
       "_options_labels": [
        "bmh",
        "classic",
        "dark_background",
        "fast",
        "fivethirtyeight",
        "ggplot",
        "grayscale",
        "seaborn-bright",
        "seaborn-colorblind",
        "seaborn-dark-palette",
        "seaborn-dark",
        "seaborn-darkgrid",
        "seaborn-deep",
        "seaborn-muted",
        "seaborn-notebook",
        "seaborn-paper",
        "seaborn-pastel",
        "seaborn-poster",
        "seaborn-talk",
        "seaborn-ticks",
        "seaborn-white",
        "seaborn-whitegrid",
        "seaborn",
        "Solarize_Light2",
        "tableau-colorblind10",
        "_classic_test"
       ],
       "description": "theme",
       "index": 0,
       "layout": "IPY_MODEL_587062711fb4452da03df816dda738cb",
       "style": "IPY_MODEL_851bcd25bdbb40e298cabb29d42c3bdc"
      }
     },
     "4c0aa7d3762a4bee8f31d9926a41c7e5": {
      "model_module": "@jupyter-widgets/base",
      "model_module_version": "1.2.0",
      "model_name": "LayoutModel",
      "state": {}
     },
     "4c7d8fd71dc44c56808a4d2194dcce3a": {
      "model_module": "@jupyter-widgets/base",
      "model_module_version": "1.2.0",
      "model_name": "LayoutModel",
      "state": {}
     },
     "4d2e086d231d408db825dcffe41a0b0b": {
      "model_module": "@jupyter-widgets/controls",
      "model_module_version": "1.5.0",
      "model_name": "DescriptionStyleModel",
      "state": {
       "description_width": ""
      }
     },
     "4de054c1d6254465b6eeb4549878732a": {
      "model_module": "@jupyter-widgets/base",
      "model_module_version": "1.2.0",
      "model_name": "LayoutModel",
      "state": {}
     },
     "4de3b3e7b7d44f16aba3399d6b85c6ed": {
      "model_module": "@jupyter-widgets/base",
      "model_module_version": "1.2.0",
      "model_name": "LayoutModel",
      "state": {}
     },
     "4ecd8e41a3fb4605a005ea3bffba6f1e": {
      "model_module": "@jupyter-widgets/base",
      "model_module_version": "1.2.0",
      "model_name": "LayoutModel",
      "state": {}
     },
     "50afd68a34d94848bde947f74f3e38eb": {
      "model_module": "@jupyter-widgets/controls",
      "model_module_version": "1.5.0",
      "model_name": "VBoxModel",
      "state": {
       "_dom_classes": [
        "widget-interact"
       ],
       "children": [
        "IPY_MODEL_2e6cd1b1f2a441bdae975ac7d0251d10",
        "IPY_MODEL_c086a4ad2dc041db9531f886f3018572"
       ],
       "layout": "IPY_MODEL_692eb9e6782746a99c746fd2d5bd5518"
      }
     },
     "51917ada2f8c4d3fb925687e8d882bc0": {
      "model_module": "@jupyter-widgets/controls",
      "model_module_version": "1.5.0",
      "model_name": "DatePickerModel",
      "state": {
       "description": "date",
       "disabled": false,
       "layout": "IPY_MODEL_2e96bcc5e46345098bdfbae350a0828a",
       "style": "IPY_MODEL_b5292570e4fc4b0282f02090abb90087",
       "value": {
        "date": 15,
        "month": 5,
        "year": 2018
       }
      }
     },
     "5249487933724b2f8d6e1a26c9ac39fc": {
      "model_module": "@jupyter-widgets/base",
      "model_module_version": "1.2.0",
      "model_name": "LayoutModel",
      "state": {}
     },
     "525f6dd4ed614736a87add5c656298b1": {
      "model_module": "@jupyter-widgets/output",
      "model_module_version": "1.0.0",
      "model_name": "OutputModel",
      "state": {
       "layout": "IPY_MODEL_ac6754bad09e4e5b937aa67a6f0a6d20",
       "outputs": [
        {
         "ename": "AttributeError",
         "evalue": "'Timestamp' object has no attribute 'to_string'",
         "output_type": "error",
         "traceback": [
          "\u001b[1;31m---------------------------------------------------------------------------\u001b[0m",
          "\u001b[1;31mAttributeError\u001b[0m                            Traceback (most recent call last)",
          "\u001b[1;32m~\\AppData\\Local\\Continuum\\anaconda3\\lib\\site-packages\\ipywidgets\\widgets\\interaction.py\u001b[0m in \u001b[0;36mupdate\u001b[1;34m(self, *args)\u001b[0m\n\u001b[0;32m    254\u001b[0m                     \u001b[0mvalue\u001b[0m \u001b[1;33m=\u001b[0m \u001b[0mwidget\u001b[0m\u001b[1;33m.\u001b[0m\u001b[0mget_interact_value\u001b[0m\u001b[1;33m(\u001b[0m\u001b[1;33m)\u001b[0m\u001b[1;33m\u001b[0m\u001b[1;33m\u001b[0m\u001b[0m\n\u001b[0;32m    255\u001b[0m                     \u001b[0mself\u001b[0m\u001b[1;33m.\u001b[0m\u001b[0mkwargs\u001b[0m\u001b[1;33m[\u001b[0m\u001b[0mwidget\u001b[0m\u001b[1;33m.\u001b[0m\u001b[0m_kwarg\u001b[0m\u001b[1;33m]\u001b[0m \u001b[1;33m=\u001b[0m \u001b[0mvalue\u001b[0m\u001b[1;33m\u001b[0m\u001b[1;33m\u001b[0m\u001b[0m\n\u001b[1;32m--> 256\u001b[1;33m                 \u001b[0mself\u001b[0m\u001b[1;33m.\u001b[0m\u001b[0mresult\u001b[0m \u001b[1;33m=\u001b[0m \u001b[0mself\u001b[0m\u001b[1;33m.\u001b[0m\u001b[0mf\u001b[0m\u001b[1;33m(\u001b[0m\u001b[1;33m**\u001b[0m\u001b[0mself\u001b[0m\u001b[1;33m.\u001b[0m\u001b[0mkwargs\u001b[0m\u001b[1;33m)\u001b[0m\u001b[1;33m\u001b[0m\u001b[1;33m\u001b[0m\u001b[0m\n\u001b[0m\u001b[0;32m    257\u001b[0m                 \u001b[0mshow_inline_matplotlib_plots\u001b[0m\u001b[1;33m(\u001b[0m\u001b[1;33m)\u001b[0m\u001b[1;33m\u001b[0m\u001b[1;33m\u001b[0m\u001b[0m\n\u001b[0;32m    258\u001b[0m                 \u001b[1;32mif\u001b[0m \u001b[0mself\u001b[0m\u001b[1;33m.\u001b[0m\u001b[0mauto_display\u001b[0m \u001b[1;32mand\u001b[0m \u001b[0mself\u001b[0m\u001b[1;33m.\u001b[0m\u001b[0mresult\u001b[0m \u001b[1;32mis\u001b[0m \u001b[1;32mnot\u001b[0m \u001b[1;32mNone\u001b[0m\u001b[1;33m:\u001b[0m\u001b[1;33m\u001b[0m\u001b[1;33m\u001b[0m\u001b[0m\n",
          "\u001b[1;32m<ipython-input-24-463ecee52d85>\u001b[0m in \u001b[0;36mpredict_price\u001b[1;34m(date)\u001b[0m\n\u001b[0;32m      3\u001b[0m \u001b[1;32mdef\u001b[0m \u001b[0mpredict_price\u001b[0m\u001b[1;33m(\u001b[0m\u001b[0mdate\u001b[0m\u001b[1;33m=\u001b[0m\u001b[0mwidgets\u001b[0m\u001b[1;33m.\u001b[0m\u001b[0mDatePicker\u001b[0m\u001b[1;33m(\u001b[0m\u001b[0mvalue\u001b[0m\u001b[1;33m=\u001b[0m\u001b[0mpd\u001b[0m\u001b[1;33m.\u001b[0m\u001b[0mto_datetime\u001b[0m\u001b[1;33m(\u001b[0m\u001b[1;34m'2018-05-23 12:30:00'\u001b[0m\u001b[1;33m)\u001b[0m\u001b[1;33m)\u001b[0m\u001b[1;33m)\u001b[0m\u001b[1;33m:\u001b[0m\u001b[1;33m\u001b[0m\u001b[1;33m\u001b[0m\u001b[0m\n\u001b[0;32m      4\u001b[0m     \u001b[0md\u001b[0m \u001b[1;33m=\u001b[0m \u001b[0mpd\u001b[0m\u001b[1;33m.\u001b[0m\u001b[0mto_datetime\u001b[0m\u001b[1;33m(\u001b[0m\u001b[0mdate\u001b[0m\u001b[1;33m.\u001b[0m\u001b[0mvalue\u001b[0m\u001b[1;33m)\u001b[0m\u001b[1;33m\u001b[0m\u001b[1;33m\u001b[0m\u001b[0m\n\u001b[1;32m----> 5\u001b[1;33m     \u001b[0mprint\u001b[0m\u001b[1;33m(\u001b[0m\u001b[0md\u001b[0m\u001b[1;33m.\u001b[0m\u001b[0mto_string\u001b[0m\u001b[1;33m(\u001b[0m\u001b[1;33m)\u001b[0m\u001b[1;33m,\u001b[0m\u001b[0mdf\u001b[0m\u001b[1;33m[\u001b[0m\u001b[1;34m'Timestamp'\u001b[0m\u001b[1;33m]\u001b[0m\u001b[1;33m,\u001b[0m \u001b[0md\u001b[0m \u001b[1;32min\u001b[0m \u001b[0mdf\u001b[0m\u001b[1;33m[\u001b[0m\u001b[1;34m'Timestamp'\u001b[0m\u001b[1;33m]\u001b[0m\u001b[1;33m)\u001b[0m\u001b[1;33m\u001b[0m\u001b[1;33m\u001b[0m\u001b[0m\n\u001b[0m",
          "\u001b[1;31mAttributeError\u001b[0m: 'Timestamp' object has no attribute 'to_string'"
         ]
        }
       ]
      }
     },
     "52a589bb8bab48e9afba5f7c366b7555": {
      "model_module": "@jupyter-widgets/controls",
      "model_module_version": "1.5.0",
      "model_name": "DatePickerModel",
      "state": {
       "description": "date",
       "disabled": false,
       "layout": "IPY_MODEL_ec86fdeae7d44889b7442aa4d5c57bca",
       "style": "IPY_MODEL_384fbee1502b49c9800da43d7654d98c",
       "value": {
        "date": 18,
        "month": 5,
        "year": 2018
       }
      }
     },
     "5369416ace604759af7e54424fab4b24": {
      "model_module": "@jupyter-widgets/output",
      "model_module_version": "1.0.0",
      "model_name": "OutputModel",
      "state": {
       "layout": "IPY_MODEL_8a7bfa379eb74819be7f9436ee5e8930"
      }
     },
     "53754fb274004e7fb76d97841542f00e": {
      "model_module": "@jupyter-widgets/base",
      "model_module_version": "1.2.0",
      "model_name": "LayoutModel",
      "state": {}
     },
     "54a9a446f272412daed6899f0a58d5e1": {
      "model_module": "@jupyter-widgets/controls",
      "model_module_version": "1.5.0",
      "model_name": "DatePickerModel",
      "state": {
       "description": "date",
       "disabled": false,
       "layout": "IPY_MODEL_1fc398c05a4d4c22b355295856b9cb84",
       "style": "IPY_MODEL_c1a376eac231464cbc229171ade04394",
       "value": {
        "date": 29,
        "month": 5,
        "year": 2018
       }
      }
     },
     "54bd5f71d3584853b3bf33016787ad11": {
      "model_module": "@jupyter-widgets/output",
      "model_module_version": "1.0.0",
      "model_name": "OutputModel",
      "state": {
       "layout": "IPY_MODEL_af3f7f9ea558447783d13a90d5c491d3",
       "outputs": [
        {
         "data": {
          "image/png": "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\n",
          "text/plain": "<Figure size 432x288 with 1 Axes>"
         },
         "metadata": {
          "needs_background": "light"
         },
         "output_type": "display_data"
        }
       ]
      }
     },
     "54d95757ea424b619df2ff3dbe8dd08a": {
      "model_module": "@jupyter-widgets/base",
      "model_module_version": "1.2.0",
      "model_name": "LayoutModel",
      "state": {}
     },
     "5519b549e9ab473bad9e5a2d15462a2d": {
      "model_module": "@jupyter-widgets/base",
      "model_module_version": "1.2.0",
      "model_name": "LayoutModel",
      "state": {}
     },
     "57c8c042cb6d43819255292e15dc3f2a": {
      "model_module": "@jupyter-widgets/base",
      "model_module_version": "1.2.0",
      "model_name": "LayoutModel",
      "state": {}
     },
     "57dceb3d055e4c1fbc2644a1811933ad": {
      "model_module": "@jupyter-widgets/controls",
      "model_module_version": "1.5.0",
      "model_name": "VBoxModel",
      "state": {
       "_dom_classes": [
        "widget-interact"
       ],
       "children": [
        "IPY_MODEL_afc06a78868e429089dbf3f2606ac81a",
        "IPY_MODEL_35b7cf5917b84f02b3784527d58325a4"
       ],
       "layout": "IPY_MODEL_3b56b6b7754f424682144cc2c4a8455c"
      }
     },
     "586a75d49e1c44cda4d4bba85ed416a9": {
      "model_module": "@jupyter-widgets/base",
      "model_module_version": "1.2.0",
      "model_name": "LayoutModel",
      "state": {}
     },
     "587062711fb4452da03df816dda738cb": {
      "model_module": "@jupyter-widgets/base",
      "model_module_version": "1.2.0",
      "model_name": "LayoutModel",
      "state": {}
     },
     "58ef15e0b5d94451896ecfb56945b2a0": {
      "model_module": "@jupyter-widgets/base",
      "model_module_version": "1.2.0",
      "model_name": "LayoutModel",
      "state": {}
     },
     "5902d36af21f4dd9adc0b42b311fd874": {
      "model_module": "@jupyter-widgets/output",
      "model_module_version": "1.0.0",
      "model_name": "OutputModel",
      "state": {
       "layout": "IPY_MODEL_0592af347699435b867b82c3472c35cc",
       "outputs": [
        {
         "data": {
          "image/png": "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\n",
          "text/plain": "<Figure size 432x288 with 1 Axes>"
         },
         "metadata": {
          "needs_background": "light"
         },
         "output_type": "display_data"
        }
       ]
      }
     },
     "5a868e887e114c8c9faf2c2feb9dcfb6": {
      "model_module": "@jupyter-widgets/base",
      "model_module_version": "1.2.0",
      "model_name": "LayoutModel",
      "state": {}
     },
     "5ae5545461de4a56bfecba0c2cab39eb": {
      "model_module": "@jupyter-widgets/base",
      "model_module_version": "1.2.0",
      "model_name": "LayoutModel",
      "state": {}
     },
     "5b475d749f5e4e35938f48502828f44a": {
      "model_module": "@jupyter-widgets/base",
      "model_module_version": "1.2.0",
      "model_name": "LayoutModel",
      "state": {}
     },
     "5ba84b51d1344547976a8673f8a76f27": {
      "model_module": "@jupyter-widgets/base",
      "model_module_version": "1.2.0",
      "model_name": "LayoutModel",
      "state": {}
     },
     "5c79ac1a09ad4a4c87f77d5141fd31fa": {
      "model_module": "@jupyter-widgets/controls",
      "model_module_version": "1.5.0",
      "model_name": "DatePickerModel",
      "state": {
       "description": "date",
       "disabled": false,
       "layout": "IPY_MODEL_941e9f656c6a4d7c87ac51bc43522183",
       "style": "IPY_MODEL_f69cef7cde9a4ddc8b62d749d5f23703",
       "value": {
        "date": 23,
        "month": 4,
        "year": 2018
       }
      }
     },
     "619bd86e05774c2b8c8bc61f171a986b": {
      "model_module": "@jupyter-widgets/base",
      "model_module_version": "1.2.0",
      "model_name": "LayoutModel",
      "state": {}
     },
     "62d28e926c7742eeb632a11b59a6a0ce": {
      "model_module": "@jupyter-widgets/controls",
      "model_module_version": "1.5.0",
      "model_name": "DescriptionStyleModel",
      "state": {
       "description_width": ""
      }
     },
     "63bb8b60ef69404185a58223cd7a877f": {
      "model_module": "@jupyter-widgets/controls",
      "model_module_version": "1.5.0",
      "model_name": "DatePickerModel",
      "state": {
       "description": "date",
       "disabled": false,
       "layout": "IPY_MODEL_c93b271fa42541969e9df80ffe5bd0e6",
       "style": "IPY_MODEL_bd789bcafd6348c599321814bc3c4cac",
       "value": {
        "date": 18,
        "month": 5,
        "year": 2018
       }
      }
     },
     "64a6db7f602f4ff494f492385e737685": {
      "model_module": "@jupyter-widgets/base",
      "model_module_version": "1.2.0",
      "model_name": "LayoutModel",
      "state": {}
     },
     "64d2c5d99cc0419e9a4853f627098beb": {
      "model_module": "@jupyter-widgets/controls",
      "model_module_version": "1.5.0",
      "model_name": "DescriptionStyleModel",
      "state": {
       "description_width": ""
      }
     },
     "66aad1e5336e42c59aeb5524bd94de21": {
      "model_module": "@jupyter-widgets/base",
      "model_module_version": "1.2.0",
      "model_name": "LayoutModel",
      "state": {}
     },
     "66b4cbba1c4243f880e32917ae4dc741": {
      "model_module": "@jupyter-widgets/base",
      "model_module_version": "1.2.0",
      "model_name": "LayoutModel",
      "state": {}
     },
     "675357e752894a34b959b55d54678efb": {
      "model_module": "@jupyter-widgets/output",
      "model_module_version": "1.0.0",
      "model_name": "OutputModel",
      "state": {
       "layout": "IPY_MODEL_5a868e887e114c8c9faf2c2feb9dcfb6",
       "outputs": [
        {
         "data": {
          "image/png": "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\n",
          "text/plain": "<Figure size 432x288 with 1 Axes>"
         },
         "metadata": {
          "needs_background": "light"
         },
         "output_type": "display_data"
        }
       ]
      }
     },
     "675c61af9bff471296e2f2025231a7c6": {
      "model_module": "@jupyter-widgets/controls",
      "model_module_version": "1.5.0",
      "model_name": "VBoxModel",
      "state": {
       "_dom_classes": [
        "widget-interact"
       ],
       "children": [
        "IPY_MODEL_8b32dd4064f9402e851de906d80f516b",
        "IPY_MODEL_f5faf6082fc044e49daa2c03576426de"
       ],
       "layout": "IPY_MODEL_348483d00be0499386c6b503d1098f8f"
      }
     },
     "67c872ea1f4749ed8e2cb2fcf1326dc7": {
      "model_module": "@jupyter-widgets/base",
      "model_module_version": "1.2.0",
      "model_name": "LayoutModel",
      "state": {}
     },
     "68915608a5134804901df2a0023e7bc0": {
      "model_module": "@jupyter-widgets/controls",
      "model_module_version": "1.5.0",
      "model_name": "DatePickerModel",
      "state": {
       "description": "date",
       "disabled": false,
       "layout": "IPY_MODEL_ef0b9f86b5f145caa1b253c09294cf22",
       "style": "IPY_MODEL_39757a2126ec4d8daf6ce35f3f0ab5af",
       "value": {
        "date": 18,
        "month": 5,
        "year": 2018
       }
      }
     },
     "692eb9e6782746a99c746fd2d5bd5518": {
      "model_module": "@jupyter-widgets/base",
      "model_module_version": "1.2.0",
      "model_name": "LayoutModel",
      "state": {}
     },
     "6bf564f0dc3a4e78b221b6aff6049839": {
      "model_module": "@jupyter-widgets/base",
      "model_module_version": "1.2.0",
      "model_name": "LayoutModel",
      "state": {}
     },
     "6c73fe595eb342b3af9140a20cf5e837": {
      "model_module": "@jupyter-widgets/controls",
      "model_module_version": "1.5.0",
      "model_name": "DescriptionStyleModel",
      "state": {
       "description_width": ""
      }
     },
     "6c8317cca6564f8f80256871204afda6": {
      "model_module": "@jupyter-widgets/base",
      "model_module_version": "1.2.0",
      "model_name": "LayoutModel",
      "state": {}
     },
     "6dca410dd5a54559ac55a897879cf91c": {
      "model_module": "@jupyter-widgets/controls",
      "model_module_version": "1.5.0",
      "model_name": "VBoxModel",
      "state": {
       "_dom_classes": [
        "widget-interact"
       ],
       "children": [
        "IPY_MODEL_1b3da681e1f84bed8fd9f98f02ee6a7a",
        "IPY_MODEL_4719e9a36d574a789f810276e9053c3b"
       ],
       "layout": "IPY_MODEL_972904202ac044aba5200ea46532b967"
      }
     },
     "6df1dd2584424160baf290fe5f943d0f": {
      "model_module": "@jupyter-widgets/controls",
      "model_module_version": "1.5.0",
      "model_name": "DatePickerModel",
      "state": {
       "description": "date",
       "disabled": false,
       "layout": "IPY_MODEL_29547de3743b4deda480133dbf74995a",
       "style": "IPY_MODEL_4d2e086d231d408db825dcffe41a0b0b",
       "value": {
        "date": 18,
        "month": 5,
        "year": 2018
       }
      }
     },
     "6f6db7cbf4cb4a89b40294a21346cbe2": {
      "model_module": "@jupyter-widgets/output",
      "model_module_version": "1.0.0",
      "model_name": "OutputModel",
      "state": {
       "layout": "IPY_MODEL_0de75f15ea4245ab83671cc7efd6ec21",
       "outputs": [
        {
         "ename": "KeyError",
         "evalue": "\"None of [Int64Index([0], dtype='int64')] are in the [columns]\"",
         "output_type": "error",
         "traceback": [
          "\u001b[1;31m---------------------------------------------------------------------------\u001b[0m",
          "\u001b[1;31mKeyError\u001b[0m                                  Traceback (most recent call last)",
          "\u001b[1;32m~\\AppData\\Local\\Continuum\\anaconda3\\lib\\site-packages\\ipywidgets\\widgets\\interaction.py\u001b[0m in \u001b[0;36mupdate\u001b[1;34m(self, *args)\u001b[0m\n\u001b[0;32m    254\u001b[0m                     \u001b[0mvalue\u001b[0m \u001b[1;33m=\u001b[0m \u001b[0mwidget\u001b[0m\u001b[1;33m.\u001b[0m\u001b[0mget_interact_value\u001b[0m\u001b[1;33m(\u001b[0m\u001b[1;33m)\u001b[0m\u001b[1;33m\u001b[0m\u001b[1;33m\u001b[0m\u001b[0m\n\u001b[0;32m    255\u001b[0m                     \u001b[0mself\u001b[0m\u001b[1;33m.\u001b[0m\u001b[0mkwargs\u001b[0m\u001b[1;33m[\u001b[0m\u001b[0mwidget\u001b[0m\u001b[1;33m.\u001b[0m\u001b[0m_kwarg\u001b[0m\u001b[1;33m]\u001b[0m \u001b[1;33m=\u001b[0m \u001b[0mvalue\u001b[0m\u001b[1;33m\u001b[0m\u001b[1;33m\u001b[0m\u001b[0m\n\u001b[1;32m--> 256\u001b[1;33m                 \u001b[0mself\u001b[0m\u001b[1;33m.\u001b[0m\u001b[0mresult\u001b[0m \u001b[1;33m=\u001b[0m \u001b[0mself\u001b[0m\u001b[1;33m.\u001b[0m\u001b[0mf\u001b[0m\u001b[1;33m(\u001b[0m\u001b[1;33m**\u001b[0m\u001b[0mself\u001b[0m\u001b[1;33m.\u001b[0m\u001b[0mkwargs\u001b[0m\u001b[1;33m)\u001b[0m\u001b[1;33m\u001b[0m\u001b[1;33m\u001b[0m\u001b[0m\n\u001b[0m\u001b[0;32m    257\u001b[0m                 \u001b[0mshow_inline_matplotlib_plots\u001b[0m\u001b[1;33m(\u001b[0m\u001b[1;33m)\u001b[0m\u001b[1;33m\u001b[0m\u001b[1;33m\u001b[0m\u001b[0m\n\u001b[0;32m    258\u001b[0m                 \u001b[1;32mif\u001b[0m \u001b[0mself\u001b[0m\u001b[1;33m.\u001b[0m\u001b[0mauto_display\u001b[0m \u001b[1;32mand\u001b[0m \u001b[0mself\u001b[0m\u001b[1;33m.\u001b[0m\u001b[0mresult\u001b[0m \u001b[1;32mis\u001b[0m \u001b[1;32mnot\u001b[0m \u001b[1;32mNone\u001b[0m\u001b[1;33m:\u001b[0m\u001b[1;33m\u001b[0m\u001b[1;33m\u001b[0m\u001b[0m\n",
          "\u001b[1;32m<ipython-input-30-f06e1d3b0eb2>\u001b[0m in \u001b[0;36mpredict_price\u001b[1;34m(date)\u001b[0m\n\u001b[0;32m      3\u001b[0m \u001b[1;32mdef\u001b[0m \u001b[0mpredict_price\u001b[0m\u001b[1;33m(\u001b[0m\u001b[0mdate\u001b[0m\u001b[1;33m=\u001b[0m\u001b[0mwidgets\u001b[0m\u001b[1;33m.\u001b[0m\u001b[0mDatePicker\u001b[0m\u001b[1;33m(\u001b[0m\u001b[0mvalue\u001b[0m\u001b[1;33m=\u001b[0m\u001b[0mpd\u001b[0m\u001b[1;33m.\u001b[0m\u001b[0mto_datetime\u001b[0m\u001b[1;33m(\u001b[0m\u001b[1;34m'2018-05-23 12:30:00'\u001b[0m\u001b[1;33m)\u001b[0m\u001b[1;33m)\u001b[0m\u001b[1;33m)\u001b[0m\u001b[1;33m:\u001b[0m\u001b[1;33m\u001b[0m\u001b[1;33m\u001b[0m\u001b[0m\n\u001b[0;32m      4\u001b[0m     \u001b[0md\u001b[0m \u001b[1;33m=\u001b[0m \u001b[0mpd\u001b[0m\u001b[1;33m.\u001b[0m\u001b[0mto_datetime\u001b[0m\u001b[1;33m(\u001b[0m\u001b[0mdate\u001b[0m\u001b[1;33m.\u001b[0m\u001b[0mvalue\u001b[0m\u001b[1;33m)\u001b[0m\u001b[1;33m\u001b[0m\u001b[1;33m\u001b[0m\u001b[0m\n\u001b[1;32m----> 5\u001b[1;33m     \u001b[0mprint\u001b[0m\u001b[1;33m(\u001b[0m\u001b[0mdf\u001b[0m\u001b[1;33m[\u001b[0m\u001b[0mdf\u001b[0m\u001b[1;33m.\u001b[0m\u001b[0mindex\u001b[0m\u001b[1;33m[\u001b[0m\u001b[0md\u001b[0m\u001b[1;33m==\u001b[0m\u001b[0mdf\u001b[0m\u001b[1;33m[\u001b[0m\u001b[1;34m'Timestamp'\u001b[0m\u001b[1;33m]\u001b[0m\u001b[1;33m]\u001b[0m\u001b[1;33m]\u001b[0m\u001b[1;33m)\u001b[0m\u001b[1;33m\u001b[0m\u001b[1;33m\u001b[0m\u001b[0m\n\u001b[0m",
          "\u001b[1;32m~\\AppData\\Local\\Continuum\\anaconda3\\lib\\site-packages\\pandas\\core\\frame.py\u001b[0m in \u001b[0;36m__getitem__\u001b[1;34m(self, key)\u001b[0m\n\u001b[0;32m   2979\u001b[0m             \u001b[1;32mif\u001b[0m \u001b[0mis_iterator\u001b[0m\u001b[1;33m(\u001b[0m\u001b[0mkey\u001b[0m\u001b[1;33m)\u001b[0m\u001b[1;33m:\u001b[0m\u001b[1;33m\u001b[0m\u001b[1;33m\u001b[0m\u001b[0m\n\u001b[0;32m   2980\u001b[0m                 \u001b[0mkey\u001b[0m \u001b[1;33m=\u001b[0m \u001b[0mlist\u001b[0m\u001b[1;33m(\u001b[0m\u001b[0mkey\u001b[0m\u001b[1;33m)\u001b[0m\u001b[1;33m\u001b[0m\u001b[1;33m\u001b[0m\u001b[0m\n\u001b[1;32m-> 2981\u001b[1;33m             \u001b[0mindexer\u001b[0m \u001b[1;33m=\u001b[0m \u001b[0mself\u001b[0m\u001b[1;33m.\u001b[0m\u001b[0mloc\u001b[0m\u001b[1;33m.\u001b[0m\u001b[0m_convert_to_indexer\u001b[0m\u001b[1;33m(\u001b[0m\u001b[0mkey\u001b[0m\u001b[1;33m,\u001b[0m \u001b[0maxis\u001b[0m\u001b[1;33m=\u001b[0m\u001b[1;36m1\u001b[0m\u001b[1;33m,\u001b[0m \u001b[0mraise_missing\u001b[0m\u001b[1;33m=\u001b[0m\u001b[1;32mTrue\u001b[0m\u001b[1;33m)\u001b[0m\u001b[1;33m\u001b[0m\u001b[1;33m\u001b[0m\u001b[0m\n\u001b[0m\u001b[0;32m   2982\u001b[0m \u001b[1;33m\u001b[0m\u001b[0m\n\u001b[0;32m   2983\u001b[0m         \u001b[1;31m# take() does not accept boolean indexers\u001b[0m\u001b[1;33m\u001b[0m\u001b[1;33m\u001b[0m\u001b[1;33m\u001b[0m\u001b[0m\n",
          "\u001b[1;32m~\\AppData\\Local\\Continuum\\anaconda3\\lib\\site-packages\\pandas\\core\\indexing.py\u001b[0m in \u001b[0;36m_convert_to_indexer\u001b[1;34m(self, obj, axis, is_setter, raise_missing)\u001b[0m\n\u001b[0;32m   1269\u001b[0m                 \u001b[1;31m# When setting, missing keys are not allowed, even with .loc:\u001b[0m\u001b[1;33m\u001b[0m\u001b[1;33m\u001b[0m\u001b[1;33m\u001b[0m\u001b[0m\n\u001b[0;32m   1270\u001b[0m                 \u001b[0mkwargs\u001b[0m \u001b[1;33m=\u001b[0m \u001b[1;33m{\u001b[0m\u001b[1;34m\"raise_missing\"\u001b[0m\u001b[1;33m:\u001b[0m \u001b[1;32mTrue\u001b[0m \u001b[1;32mif\u001b[0m \u001b[0mis_setter\u001b[0m \u001b[1;32melse\u001b[0m \u001b[0mraise_missing\u001b[0m\u001b[1;33m}\u001b[0m\u001b[1;33m\u001b[0m\u001b[1;33m\u001b[0m\u001b[0m\n\u001b[1;32m-> 1271\u001b[1;33m                 \u001b[1;32mreturn\u001b[0m \u001b[0mself\u001b[0m\u001b[1;33m.\u001b[0m\u001b[0m_get_listlike_indexer\u001b[0m\u001b[1;33m(\u001b[0m\u001b[0mobj\u001b[0m\u001b[1;33m,\u001b[0m \u001b[0maxis\u001b[0m\u001b[1;33m,\u001b[0m \u001b[1;33m**\u001b[0m\u001b[0mkwargs\u001b[0m\u001b[1;33m)\u001b[0m\u001b[1;33m[\u001b[0m\u001b[1;36m1\u001b[0m\u001b[1;33m]\u001b[0m\u001b[1;33m\u001b[0m\u001b[1;33m\u001b[0m\u001b[0m\n\u001b[0m\u001b[0;32m   1272\u001b[0m         \u001b[1;32melse\u001b[0m\u001b[1;33m:\u001b[0m\u001b[1;33m\u001b[0m\u001b[1;33m\u001b[0m\u001b[0m\n\u001b[0;32m   1273\u001b[0m             \u001b[1;32mtry\u001b[0m\u001b[1;33m:\u001b[0m\u001b[1;33m\u001b[0m\u001b[1;33m\u001b[0m\u001b[0m\n",
          "\u001b[1;32m~\\AppData\\Local\\Continuum\\anaconda3\\lib\\site-packages\\pandas\\core\\indexing.py\u001b[0m in \u001b[0;36m_get_listlike_indexer\u001b[1;34m(self, key, axis, raise_missing)\u001b[0m\n\u001b[0;32m   1076\u001b[0m \u001b[1;33m\u001b[0m\u001b[0m\n\u001b[0;32m   1077\u001b[0m         self._validate_read_indexer(\n\u001b[1;32m-> 1078\u001b[1;33m             \u001b[0mkeyarr\u001b[0m\u001b[1;33m,\u001b[0m \u001b[0mindexer\u001b[0m\u001b[1;33m,\u001b[0m \u001b[0mo\u001b[0m\u001b[1;33m.\u001b[0m\u001b[0m_get_axis_number\u001b[0m\u001b[1;33m(\u001b[0m\u001b[0maxis\u001b[0m\u001b[1;33m)\u001b[0m\u001b[1;33m,\u001b[0m \u001b[0mraise_missing\u001b[0m\u001b[1;33m=\u001b[0m\u001b[0mraise_missing\u001b[0m\u001b[1;33m\u001b[0m\u001b[1;33m\u001b[0m\u001b[0m\n\u001b[0m\u001b[0;32m   1079\u001b[0m         )\n\u001b[0;32m   1080\u001b[0m         \u001b[1;32mreturn\u001b[0m \u001b[0mkeyarr\u001b[0m\u001b[1;33m,\u001b[0m \u001b[0mindexer\u001b[0m\u001b[1;33m\u001b[0m\u001b[1;33m\u001b[0m\u001b[0m\n",
          "\u001b[1;32m~\\AppData\\Local\\Continuum\\anaconda3\\lib\\site-packages\\pandas\\core\\indexing.py\u001b[0m in \u001b[0;36m_validate_read_indexer\u001b[1;34m(self, key, indexer, axis, raise_missing)\u001b[0m\n\u001b[0;32m   1161\u001b[0m                 raise KeyError(\n\u001b[0;32m   1162\u001b[0m                     \"None of [{key}] are in the [{axis}]\".format(\n\u001b[1;32m-> 1163\u001b[1;33m                         \u001b[0mkey\u001b[0m\u001b[1;33m=\u001b[0m\u001b[0mkey\u001b[0m\u001b[1;33m,\u001b[0m \u001b[0maxis\u001b[0m\u001b[1;33m=\u001b[0m\u001b[0mself\u001b[0m\u001b[1;33m.\u001b[0m\u001b[0mobj\u001b[0m\u001b[1;33m.\u001b[0m\u001b[0m_get_axis_name\u001b[0m\u001b[1;33m(\u001b[0m\u001b[0maxis\u001b[0m\u001b[1;33m)\u001b[0m\u001b[1;33m\u001b[0m\u001b[1;33m\u001b[0m\u001b[0m\n\u001b[0m\u001b[0;32m   1164\u001b[0m                     )\n\u001b[0;32m   1165\u001b[0m                 )\n",
          "\u001b[1;31mKeyError\u001b[0m: \"None of [Int64Index([0], dtype='int64')] are in the [columns]\""
         ]
        }
       ]
      }
     },
     "70aae515e3db4cffaf6463fa90e3f6d6": {
      "model_module": "@jupyter-widgets/controls",
      "model_module_version": "1.5.0",
      "model_name": "DescriptionStyleModel",
      "state": {
       "description_width": ""
      }
     },
     "71fc6d43e1884bdcb7295fe32f6f05c3": {
      "model_module": "@jupyter-widgets/controls",
      "model_module_version": "1.5.0",
      "model_name": "DatePickerModel",
      "state": {
       "description": "date",
       "disabled": false,
       "layout": "IPY_MODEL_4ecd8e41a3fb4605a005ea3bffba6f1e",
       "style": "IPY_MODEL_f458389c96174aa8925780ef373c4204",
       "value": {
        "date": 13,
        "month": 5,
        "year": 2018
       }
      }
     },
     "726ce622057a461ca482a70ee243e6d8": {
      "model_module": "@jupyter-widgets/controls",
      "model_module_version": "1.5.0",
      "model_name": "DatePickerModel",
      "state": {
       "description": "date",
       "disabled": false,
       "layout": "IPY_MODEL_4c0aa7d3762a4bee8f31d9926a41c7e5",
       "style": "IPY_MODEL_64d2c5d99cc0419e9a4853f627098beb",
       "value": {
        "date": 23,
        "month": 4,
        "year": 2018
       }
      }
     },
     "72b7c4f34a4c4bf9b3cef82d9d8623f9": {
      "model_module": "@jupyter-widgets/base",
      "model_module_version": "1.2.0",
      "model_name": "LayoutModel",
      "state": {}
     },
     "72eb9f2e5cd34ef8a702292291ca49a4": {
      "model_module": "@jupyter-widgets/controls",
      "model_module_version": "1.5.0",
      "model_name": "DescriptionStyleModel",
      "state": {
       "description_width": ""
      }
     },
     "733dd0ecba1d48abb55f4a04c54e4f9a": {
      "model_module": "@jupyter-widgets/base",
      "model_module_version": "1.2.0",
      "model_name": "LayoutModel",
      "state": {}
     },
     "73c68593635341468f3e9e2a79b155a0": {
      "model_module": "@jupyter-widgets/base",
      "model_module_version": "1.2.0",
      "model_name": "LayoutModel",
      "state": {}
     },
     "747a20b7387544c5bd70087a62dd01e8": {
      "model_module": "@jupyter-widgets/controls",
      "model_module_version": "1.5.0",
      "model_name": "DescriptionStyleModel",
      "state": {
       "description_width": ""
      }
     },
     "74dd337fb7064f288690f596628d2c5c": {
      "model_module": "@jupyter-widgets/base",
      "model_module_version": "1.2.0",
      "model_name": "LayoutModel",
      "state": {}
     },
     "768c58167e2c4d038446e96471e739bf": {
      "model_module": "@jupyter-widgets/output",
      "model_module_version": "1.0.0",
      "model_name": "OutputModel",
      "state": {
       "layout": "IPY_MODEL_31f9530621e848489e8cdfb4832d3150",
       "outputs": [
        {
         "name": "stdout",
         "output_type": "stream",
         "text": "[Timestamp('2018-06-18 02:00:00'), Timestamp('2018-06-18 02:01:15'), Timestamp('2018-06-18 02:02:30'), Timestamp('2018-06-18 02:03:45'), Timestamp('2018-06-18 02:05:00'), Timestamp('2018-06-18 02:06:15'), Timestamp('2018-06-18 02:07:30'), Timestamp('2018-06-18 02:08:45'), Timestamp('2018-06-18 02:10:00'), Timestamp('2018-06-18 02:11:15'), Timestamp('2018-06-18 02:12:30'), Timestamp('2018-06-18 02:13:45'), Timestamp('2018-06-18 02:15:00'), Timestamp('2018-06-18 02:16:15'), Timestamp('2018-06-18 02:17:30'), Timestamp('2018-06-18 02:18:45'), Timestamp('2018-06-18 02:20:00'), Timestamp('2018-06-18 02:21:15'), Timestamp('2018-06-18 02:22:30'), Timestamp('2018-06-18 02:23:45'), Timestamp('2018-06-18 02:25:00'), Timestamp('2018-06-18 02:26:15'), Timestamp('2018-06-18 02:27:30'), Timestamp('2018-06-18 02:28:45'), Timestamp('2018-06-18 02:30:00'), Timestamp('2018-06-18 02:31:15'), Timestamp('2018-06-18 02:32:30'), Timestamp('2018-06-18 02:33:45'), Timestamp('2018-06-18 02:35:00'), Timestamp('2018-06-18 02:36:15'), Timestamp('2018-06-18 02:37:30'), Timestamp('2018-06-18 02:38:45'), Timestamp('2018-06-18 02:40:00'), Timestamp('2018-06-18 02:41:15'), Timestamp('2018-06-18 02:42:30'), Timestamp('2018-06-18 02:43:45'), Timestamp('2018-06-18 02:45:00'), Timestamp('2018-06-18 02:46:15'), Timestamp('2018-06-18 02:47:30'), Timestamp('2018-06-18 02:48:45'), Timestamp('2018-06-18 02:50:00'), Timestamp('2018-06-18 02:51:15'), Timestamp('2018-06-18 02:52:30'), Timestamp('2018-06-18 02:53:45'), Timestamp('2018-06-18 02:55:00'), Timestamp('2018-06-18 02:56:15'), Timestamp('2018-06-18 02:57:30'), Timestamp('2018-06-18 02:58:45'), Timestamp('2018-06-18 03:00:00'), Timestamp('2018-06-18 03:01:15'), Timestamp('2018-06-18 03:02:30'), Timestamp('2018-06-18 03:03:45'), Timestamp('2018-06-18 03:05:00'), Timestamp('2018-06-18 03:06:15'), Timestamp('2018-06-18 03:07:30'), Timestamp('2018-06-18 03:08:45'), Timestamp('2018-06-18 03:10:00'), Timestamp('2018-06-18 03:11:15'), Timestamp('2018-06-18 03:12:30'), Timestamp('2018-06-18 03:13:45'), Timestamp('2018-06-18 03:15:00'), Timestamp('2018-06-18 03:16:15'), Timestamp('2018-06-18 03:17:30'), Timestamp('2018-06-18 03:18:45'), Timestamp('2018-06-18 03:20:00'), Timestamp('2018-06-18 03:21:15'), Timestamp('2018-06-18 03:22:30'), Timestamp('2018-06-18 03:23:45'), Timestamp('2018-06-18 03:25:00'), Timestamp('2018-06-18 03:26:15'), Timestamp('2018-06-18 03:27:30'), Timestamp('2018-06-18 03:28:45'), Timestamp('2018-06-18 03:30:00'), Timestamp('2018-06-18 03:31:15'), Timestamp('2018-06-18 03:32:30'), Timestamp('2018-06-18 03:33:45'), Timestamp('2018-06-18 03:35:00'), Timestamp('2018-06-18 03:36:15'), Timestamp('2018-06-18 03:37:30'), Timestamp('2018-06-18 03:38:45'), Timestamp('2018-06-18 03:40:00'), Timestamp('2018-06-18 03:41:15'), Timestamp('2018-06-18 03:42:30'), Timestamp('2018-06-18 03:43:45'), Timestamp('2018-06-18 03:45:00'), Timestamp('2018-06-18 03:46:15'), Timestamp('2018-06-18 03:47:30'), Timestamp('2018-06-18 03:48:45'), Timestamp('2018-06-18 03:50:00'), Timestamp('2018-06-18 03:51:15'), Timestamp('2018-06-18 03:52:30'), Timestamp('2018-06-18 03:53:45'), Timestamp('2018-06-18 03:55:00'), Timestamp('2018-06-18 03:56:15'), Timestamp('2018-06-18 03:57:30'), Timestamp('2018-06-18 03:58:45'), Timestamp('2018-06-18 04:00:00'), Timestamp('2018-06-18 04:01:15'), Timestamp('2018-06-18 04:02:30'), Timestamp('2018-06-18 04:03:45'), Timestamp('2018-06-18 04:05:00'), Timestamp('2018-06-18 04:06:15'), Timestamp('2018-06-18 04:07:30'), Timestamp('2018-06-18 04:08:45'), Timestamp('2018-06-18 04:10:00'), Timestamp('2018-06-18 04:11:15'), Timestamp('2018-06-18 04:12:30'), Timestamp('2018-06-18 04:13:45'), Timestamp('2018-06-18 04:15:00'), Timestamp('2018-06-18 04:16:15'), Timestamp('2018-06-18 04:17:30'), Timestamp('2018-06-18 04:18:45'), Timestamp('2018-06-18 04:20:00'), Timestamp('2018-06-18 04:21:15'), Timestamp('2018-06-18 04:22:30'), Timestamp('2018-06-18 04:23:45'), Timestamp('2018-06-18 04:25:00'), Timestamp('2018-06-18 04:26:15'), Timestamp('2018-06-18 04:27:30'), Timestamp('2018-06-18 04:28:45'), Timestamp('2018-06-18 04:30:00'), Timestamp('2018-06-18 04:31:15'), Timestamp('2018-06-18 04:32:30'), Timestamp('2018-06-18 04:33:45'), Timestamp('2018-06-18 04:35:00'), Timestamp('2018-06-18 04:36:15'), Timestamp('2018-06-18 04:37:30'), Timestamp('2018-06-18 04:38:45'), Timestamp('2018-06-18 04:40:00'), Timestamp('2018-06-18 04:41:15'), Timestamp('2018-06-18 04:42:30'), Timestamp('2018-06-18 04:43:45'), Timestamp('2018-06-18 04:45:00'), Timestamp('2018-06-18 04:46:15'), Timestamp('2018-06-18 04:47:30'), Timestamp('2018-06-18 04:48:45'), Timestamp('2018-06-18 04:50:00'), Timestamp('2018-06-18 04:51:15'), Timestamp('2018-06-18 04:52:30'), Timestamp('2018-06-18 04:53:45'), Timestamp('2018-06-18 04:55:00'), Timestamp('2018-06-18 04:56:15'), Timestamp('2018-06-18 04:57:30'), Timestamp('2018-06-18 04:58:45'), Timestamp('2018-06-18 05:00:00'), Timestamp('2018-06-18 05:01:15'), Timestamp('2018-06-18 05:02:30'), Timestamp('2018-06-18 05:03:45'), Timestamp('2018-06-18 05:05:00'), Timestamp('2018-06-18 05:06:15'), Timestamp('2018-06-18 05:07:30'), Timestamp('2018-06-18 05:08:45'), Timestamp('2018-06-18 05:10:00'), Timestamp('2018-06-18 05:11:15'), Timestamp('2018-06-18 05:12:30'), Timestamp('2018-06-18 05:13:45'), Timestamp('2018-06-18 05:15:00'), Timestamp('2018-06-18 05:16:15'), Timestamp('2018-06-18 05:17:30'), Timestamp('2018-06-18 05:18:45'), Timestamp('2018-06-18 05:20:00'), Timestamp('2018-06-18 05:21:15'), Timestamp('2018-06-18 05:22:30'), Timestamp('2018-06-18 05:23:45'), Timestamp('2018-06-18 05:25:00'), Timestamp('2018-06-18 05:26:15'), Timestamp('2018-06-18 05:27:30'), Timestamp('2018-06-18 05:28:45'), Timestamp('2018-06-18 05:30:00'), Timestamp('2018-06-18 05:31:15'), Timestamp('2018-06-18 05:32:30'), Timestamp('2018-06-18 05:33:45'), Timestamp('2018-06-18 05:35:00'), Timestamp('2018-06-18 05:36:15'), Timestamp('2018-06-18 05:37:30'), Timestamp('2018-06-18 05:38:45'), Timestamp('2018-06-18 05:40:00'), Timestamp('2018-06-18 05:41:15'), Timestamp('2018-06-18 05:42:30'), Timestamp('2018-06-18 05:43:45'), Timestamp('2018-06-18 05:45:00'), Timestamp('2018-06-18 05:46:15'), Timestamp('2018-06-18 05:47:30'), Timestamp('2018-06-18 05:48:45'), Timestamp('2018-06-18 05:50:00'), Timestamp('2018-06-18 05:51:15'), Timestamp('2018-06-18 05:52:30'), Timestamp('2018-06-18 05:53:45'), Timestamp('2018-06-18 05:55:00'), Timestamp('2018-06-18 05:56:15'), Timestamp('2018-06-18 05:57:30'), Timestamp('2018-06-18 05:58:45'), Timestamp('2018-06-18 06:00:00'), Timestamp('2018-06-18 06:01:15'), Timestamp('2018-06-18 06:02:30'), Timestamp('2018-06-18 06:03:45'), Timestamp('2018-06-18 06:05:00'), Timestamp('2018-06-18 06:06:15'), Timestamp('2018-06-18 06:07:30'), Timestamp('2018-06-18 06:08:45'), Timestamp('2018-06-18 06:10:00'), Timestamp('2018-06-18 06:11:15'), Timestamp('2018-06-18 06:12:30'), Timestamp('2018-06-18 06:13:45'), Timestamp('2018-06-18 06:15:00'), Timestamp('2018-06-18 06:16:15'), Timestamp('2018-06-18 06:17:30'), Timestamp('2018-06-18 06:18:45'), Timestamp('2018-06-18 06:20:00'), Timestamp('2018-06-18 06:21:15'), Timestamp('2018-06-18 06:22:30'), Timestamp('2018-06-18 06:23:45'), Timestamp('2018-06-18 06:25:00'), Timestamp('2018-06-18 06:26:15'), Timestamp('2018-06-18 06:27:30'), Timestamp('2018-06-18 06:28:45'), Timestamp('2018-06-18 06:30:00'), Timestamp('2018-06-18 06:31:15'), Timestamp('2018-06-18 06:32:30'), Timestamp('2018-06-18 06:33:45'), Timestamp('2018-06-18 06:35:00'), Timestamp('2018-06-18 06:36:15'), Timestamp('2018-06-18 06:37:30'), Timestamp('2018-06-18 06:38:45'), Timestamp('2018-06-18 06:40:00'), Timestamp('2018-06-18 06:41:15'), Timestamp('2018-06-18 06:42:30'), Timestamp('2018-06-18 06:43:45'), Timestamp('2018-06-18 06:45:00'), Timestamp('2018-06-18 06:46:15'), Timestamp('2018-06-18 06:47:30'), Timestamp('2018-06-18 06:48:45'), Timestamp('2018-06-18 06:50:00'), Timestamp('2018-06-18 06:51:15'), Timestamp('2018-06-18 06:52:30'), Timestamp('2018-06-18 06:53:45'), Timestamp('2018-06-18 06:55:00'), Timestamp('2018-06-18 06:56:15'), Timestamp('2018-06-18 06:57:30'), Timestamp('2018-06-18 06:58:45'), Timestamp('2018-06-18 07:00:00'), Timestamp('2018-06-18 07:01:15'), Timestamp('2018-06-18 07:02:30'), Timestamp('2018-06-18 07:03:45'), Timestamp('2018-06-18 07:05:00'), Timestamp('2018-06-18 07:06:15'), Timestamp('2018-06-18 07:07:30'), Timestamp('2018-06-18 07:08:45'), Timestamp('2018-06-18 07:10:00'), Timestamp('2018-06-18 07:11:15'), Timestamp('2018-06-18 07:12:30'), Timestamp('2018-06-18 07:13:45'), Timestamp('2018-06-18 07:15:00'), Timestamp('2018-06-18 07:16:15'), Timestamp('2018-06-18 07:17:30'), Timestamp('2018-06-18 07:18:45'), Timestamp('2018-06-18 07:20:00'), Timestamp('2018-06-18 07:21:15'), Timestamp('2018-06-18 07:22:30'), Timestamp('2018-06-18 07:23:45'), Timestamp('2018-06-18 07:25:00'), Timestamp('2018-06-18 07:26:15'), Timestamp('2018-06-18 07:27:30'), Timestamp('2018-06-18 07:28:45'), Timestamp('2018-06-18 07:30:00'), Timestamp('2018-06-18 07:31:15'), Timestamp('2018-06-18 07:32:30'), Timestamp('2018-06-18 07:33:45'), Timestamp('2018-06-18 07:35:00'), Timestamp('2018-06-18 07:36:15'), Timestamp('2018-06-18 07:37:30'), Timestamp('2018-06-18 07:38:45'), Timestamp('2018-06-18 07:40:00'), Timestamp('2018-06-18 07:41:15'), Timestamp('2018-06-18 07:42:30'), Timestamp('2018-06-18 07:43:45'), Timestamp('2018-06-18 07:45:00'), Timestamp('2018-06-18 07:46:15'), Timestamp('2018-06-18 07:47:30'), Timestamp('2018-06-18 07:48:45'), Timestamp('2018-06-18 07:50:00'), Timestamp('2018-06-18 07:51:15'), Timestamp('2018-06-18 07:52:30'), Timestamp('2018-06-18 07:53:45'), Timestamp('2018-06-18 07:55:00'), Timestamp('2018-06-18 07:56:15'), Timestamp('2018-06-18 07:57:30'), Timestamp('2018-06-18 07:58:45'), Timestamp('2018-06-18 08:00:00'), Timestamp('2018-06-18 08:01:15'), Timestamp('2018-06-18 08:02:30'), Timestamp('2018-06-18 08:03:45'), Timestamp('2018-06-18 08:05:00'), Timestamp('2018-06-18 08:06:15'), Timestamp('2018-06-18 08:07:30'), Timestamp('2018-06-18 08:08:45'), Timestamp('2018-06-18 08:10:00'), Timestamp('2018-06-18 08:11:15'), Timestamp('2018-06-18 08:12:30'), Timestamp('2018-06-18 08:13:45'), Timestamp('2018-06-18 08:15:00'), Timestamp('2018-06-18 08:16:15'), Timestamp('2018-06-18 08:17:30'), Timestamp('2018-06-18 08:18:45'), Timestamp('2018-06-18 08:20:00'), Timestamp('2018-06-18 08:21:15'), Timestamp('2018-06-18 08:22:30'), Timestamp('2018-06-18 08:23:45'), Timestamp('2018-06-18 08:25:00'), Timestamp('2018-06-18 08:26:15'), Timestamp('2018-06-18 08:27:30'), Timestamp('2018-06-18 08:28:45'), Timestamp('2018-06-18 08:30:00'), Timestamp('2018-06-18 08:31:15'), Timestamp('2018-06-18 08:32:30'), Timestamp('2018-06-18 08:33:45'), Timestamp('2018-06-18 08:35:00'), Timestamp('2018-06-18 08:36:15'), Timestamp('2018-06-18 08:37:30'), Timestamp('2018-06-18 08:38:45'), Timestamp('2018-06-18 08:40:00'), Timestamp('2018-06-18 08:41:15'), Timestamp('2018-06-18 08:42:30'), Timestamp('2018-06-18 08:43:45'), Timestamp('2018-06-18 08:45:00'), Timestamp('2018-06-18 08:46:15'), Timestamp('2018-06-18 08:47:30'), Timestamp('2018-06-18 08:48:45'), Timestamp('2018-06-18 08:50:00'), Timestamp('2018-06-18 08:51:15'), Timestamp('2018-06-18 08:52:30'), Timestamp('2018-06-18 08:53:45'), Timestamp('2018-06-18 08:55:00'), Timestamp('2018-06-18 08:56:15'), Timestamp('2018-06-18 08:57:30'), Timestamp('2018-06-18 08:58:45'), Timestamp('2018-06-18 09:00:00'), Timestamp('2018-06-18 09:01:15'), Timestamp('2018-06-18 09:02:30'), Timestamp('2018-06-18 09:03:45'), Timestamp('2018-06-18 09:05:00'), Timestamp('2018-06-18 09:06:15'), Timestamp('2018-06-18 09:07:30'), Timestamp('2018-06-18 09:08:45'), Timestamp('2018-06-18 09:10:00'), Timestamp('2018-06-18 09:11:15'), Timestamp('2018-06-18 09:12:30'), Timestamp('2018-06-18 09:13:45'), Timestamp('2018-06-18 09:15:00'), Timestamp('2018-06-18 09:16:15'), Timestamp('2018-06-18 09:17:30'), Timestamp('2018-06-18 09:18:45'), Timestamp('2018-06-18 09:20:00'), Timestamp('2018-06-18 09:21:15'), Timestamp('2018-06-18 09:22:30'), Timestamp('2018-06-18 09:23:45'), Timestamp('2018-06-18 09:25:00'), Timestamp('2018-06-18 09:26:15'), Timestamp('2018-06-18 09:27:30'), Timestamp('2018-06-18 09:28:45'), Timestamp('2018-06-18 09:30:00'), Timestamp('2018-06-18 09:31:15'), Timestamp('2018-06-18 09:32:30'), Timestamp('2018-06-18 09:33:45'), Timestamp('2018-06-18 09:35:00'), Timestamp('2018-06-18 09:36:15'), Timestamp('2018-06-18 09:37:30'), Timestamp('2018-06-18 09:38:45'), Timestamp('2018-06-18 09:40:00'), Timestamp('2018-06-18 09:41:15'), Timestamp('2018-06-18 09:42:30'), Timestamp('2018-06-18 09:43:45'), Timestamp('2018-06-18 09:45:00'), Timestamp('2018-06-18 09:46:15'), Timestamp('2018-06-18 09:47:30'), Timestamp('2018-06-18 09:48:45'), Timestamp('2018-06-18 09:50:00'), Timestamp('2018-06-18 09:51:15'), Timestamp('2018-06-18 09:52:30'), Timestamp('2018-06-18 09:53:45'), Timestamp('2018-06-18 09:55:00'), Timestamp('2018-06-18 09:56:15'), Timestamp('2018-06-18 09:57:30'), Timestamp('2018-06-18 09:58:45'), Timestamp('2018-06-18 10:00:00'), Timestamp('2018-06-18 10:01:15'), Timestamp('2018-06-18 10:02:30'), Timestamp('2018-06-18 10:03:45'), Timestamp('2018-06-18 10:05:00'), Timestamp('2018-06-18 10:06:15'), Timestamp('2018-06-18 10:07:30'), Timestamp('2018-06-18 10:08:45'), Timestamp('2018-06-18 10:10:00'), Timestamp('2018-06-18 10:11:15'), Timestamp('2018-06-18 10:12:30'), Timestamp('2018-06-18 10:13:45'), Timestamp('2018-06-18 10:15:00'), Timestamp('2018-06-18 10:16:15'), Timestamp('2018-06-18 10:17:30'), Timestamp('2018-06-18 10:18:45'), Timestamp('2018-06-18 10:20:00'), Timestamp('2018-06-18 10:21:15'), Timestamp('2018-06-18 10:22:30'), Timestamp('2018-06-18 10:23:45'), Timestamp('2018-06-18 10:25:00'), Timestamp('2018-06-18 10:26:15'), Timestamp('2018-06-18 10:27:30'), Timestamp('2018-06-18 10:28:45'), Timestamp('2018-06-18 10:30:00'), Timestamp('2018-06-18 10:31:15'), Timestamp('2018-06-18 10:32:30'), Timestamp('2018-06-18 10:33:45'), Timestamp('2018-06-18 10:35:00'), Timestamp('2018-06-18 10:36:15'), Timestamp('2018-06-18 10:37:30'), Timestamp('2018-06-18 10:38:45'), Timestamp('2018-06-18 10:40:00'), Timestamp('2018-06-18 10:41:15'), Timestamp('2018-06-18 10:42:30'), Timestamp('2018-06-18 10:43:45'), Timestamp('2018-06-18 10:45:00'), Timestamp('2018-06-18 10:46:15'), Timestamp('2018-06-18 10:47:30'), Timestamp('2018-06-18 10:48:45'), Timestamp('2018-06-18 10:50:00'), Timestamp('2018-06-18 10:51:15'), Timestamp('2018-06-18 10:52:30'), Timestamp('2018-06-18 10:53:45'), Timestamp('2018-06-18 10:55:00'), Timestamp('2018-06-18 10:56:15'), Timestamp('2018-06-18 10:57:30'), Timestamp('2018-06-18 10:58:45'), Timestamp('2018-06-18 11:00:00'), Timestamp('2018-06-18 11:01:15'), Timestamp('2018-06-18 11:02:30'), Timestamp('2018-06-18 11:03:45'), Timestamp('2018-06-18 11:05:00'), Timestamp('2018-06-18 11:06:15'), Timestamp('2018-06-18 11:07:30'), Timestamp('2018-06-18 11:08:45'), Timestamp('2018-06-18 11:10:00'), Timestamp('2018-06-18 11:11:15'), Timestamp('2018-06-18 11:12:30'), Timestamp('2018-06-18 11:13:45'), Timestamp('2018-06-18 11:15:00'), Timestamp('2018-06-18 11:16:15'), Timestamp('2018-06-18 11:17:30'), Timestamp('2018-06-18 11:18:45'), Timestamp('2018-06-18 11:20:00'), Timestamp('2018-06-18 11:21:15'), Timestamp('2018-06-18 11:22:30'), Timestamp('2018-06-18 11:23:45'), Timestamp('2018-06-18 11:25:00'), Timestamp('2018-06-18 11:26:15'), Timestamp('2018-06-18 11:27:30'), Timestamp('2018-06-18 11:28:45'), Timestamp('2018-06-18 11:30:00'), Timestamp('2018-06-18 11:31:15'), Timestamp('2018-06-18 11:32:30'), Timestamp('2018-06-18 11:33:45'), Timestamp('2018-06-18 11:35:00'), Timestamp('2018-06-18 11:36:15'), Timestamp('2018-06-18 11:37:30'), Timestamp('2018-06-18 11:38:45'), Timestamp('2018-06-18 11:40:00'), Timestamp('2018-06-18 11:41:15'), Timestamp('2018-06-18 11:42:30'), Timestamp('2018-06-18 11:43:45'), Timestamp('2018-06-18 11:45:00'), Timestamp('2018-06-18 11:46:15'), Timestamp('2018-06-18 11:47:30'), Timestamp('2018-06-18 11:48:45'), Timestamp('2018-06-18 11:50:00'), Timestamp('2018-06-18 11:51:15'), Timestamp('2018-06-18 11:52:30'), Timestamp('2018-06-18 11:53:45'), Timestamp('2018-06-18 11:55:00'), Timestamp('2018-06-18 11:56:15'), Timestamp('2018-06-18 11:57:30'), Timestamp('2018-06-18 11:58:45')]"
        },
        {
         "name": "stdout",
         "output_type": "stream",
         "text": "\n"
        },
        {
         "data": {
          "image/png": "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\n",
          "text/plain": "<Figure size 432x288 with 1 Axes>"
         },
         "metadata": {
          "needs_background": "light"
         },
         "output_type": "display_data"
        }
       ]
      }
     },
     "77a6b850f3d14cf9ab3d572ac63c99a5": {
      "model_module": "@jupyter-widgets/controls",
      "model_module_version": "1.5.0",
      "model_name": "VBoxModel",
      "state": {
       "_dom_classes": [
        "widget-interact"
       ],
       "children": [
        "IPY_MODEL_51917ada2f8c4d3fb925687e8d882bc0",
        "IPY_MODEL_ad1292425ae14063995817d588550eec"
       ],
       "layout": "IPY_MODEL_f03e03c3654847c9834ad1da22991b1c"
      }
     },
     "786f235abfda4265ae0998874306b08a": {
      "model_module": "@jupyter-widgets/controls",
      "model_module_version": "1.5.0",
      "model_name": "VBoxModel",
      "state": {
       "_dom_classes": [
        "widget-interact"
       ],
       "children": [
        "IPY_MODEL_b0dd362e61cd47be9e418beb8432ef40",
        "IPY_MODEL_b0bd93270a43452ca0ccd8be4923d275"
       ],
       "layout": "IPY_MODEL_39e2308cbf5c4c808b7eb6eefc7749cf"
      }
     },
     "7a8e553c8cd645b2bd93a957747a2baf": {
      "model_module": "@jupyter-widgets/base",
      "model_module_version": "1.2.0",
      "model_name": "LayoutModel",
      "state": {}
     },
     "7c8343baeb0e48b892db698644925444": {
      "model_module": "@jupyter-widgets/base",
      "model_module_version": "1.2.0",
      "model_name": "LayoutModel",
      "state": {}
     },
     "7cc4748ab9f346bf81cfffe8acbf6dad": {
      "model_module": "@jupyter-widgets/controls",
      "model_module_version": "1.5.0",
      "model_name": "VBoxModel",
      "state": {
       "_dom_classes": [
        "widget-interact"
       ],
       "children": [
        "IPY_MODEL_424b3b6bc7c5415d91b76ce6b5f9140e",
        "IPY_MODEL_5902d36af21f4dd9adc0b42b311fd874"
       ],
       "layout": "IPY_MODEL_c318041f6e134afeba6891c88e6bf7b9"
      }
     },
     "7ced4bb728084570a4f61744e75059bd": {
      "model_module": "@jupyter-widgets/base",
      "model_module_version": "1.2.0",
      "model_name": "LayoutModel",
      "state": {}
     },
     "7f099d5ee9b441f6be53d0f2843d6ff9": {
      "model_module": "@jupyter-widgets/controls",
      "model_module_version": "1.5.0",
      "model_name": "DescriptionStyleModel",
      "state": {
       "description_width": ""
      }
     },
     "80d1d625887b4964a632082b29a50108": {
      "model_module": "@jupyter-widgets/output",
      "model_module_version": "1.0.0",
      "model_name": "OutputModel",
      "state": {
       "layout": "IPY_MODEL_4b3fea79179440038032c60c2bd023c9",
       "outputs": [
        {
         "name": "stdout",
         "output_type": "stream",
         "text": "0\n(501, 5)\n"
        },
        {
         "ename": "ValueError",
         "evalue": "negative dimensions are not allowed",
         "output_type": "error",
         "traceback": [
          "\u001b[1;31m---------------------------------------------------------------------------\u001b[0m",
          "\u001b[1;31mValueError\u001b[0m                                Traceback (most recent call last)",
          "\u001b[1;32m~\\AppData\\Local\\Continuum\\anaconda3\\lib\\site-packages\\ipywidgets\\widgets\\interaction.py\u001b[0m in \u001b[0;36mupdate\u001b[1;34m(self, *args)\u001b[0m\n\u001b[0;32m    254\u001b[0m                     \u001b[0mvalue\u001b[0m \u001b[1;33m=\u001b[0m \u001b[0mwidget\u001b[0m\u001b[1;33m.\u001b[0m\u001b[0mget_interact_value\u001b[0m\u001b[1;33m(\u001b[0m\u001b[1;33m)\u001b[0m\u001b[1;33m\u001b[0m\u001b[1;33m\u001b[0m\u001b[0m\n\u001b[0;32m    255\u001b[0m                     \u001b[0mself\u001b[0m\u001b[1;33m.\u001b[0m\u001b[0mkwargs\u001b[0m\u001b[1;33m[\u001b[0m\u001b[0mwidget\u001b[0m\u001b[1;33m.\u001b[0m\u001b[0m_kwarg\u001b[0m\u001b[1;33m]\u001b[0m \u001b[1;33m=\u001b[0m \u001b[0mvalue\u001b[0m\u001b[1;33m\u001b[0m\u001b[1;33m\u001b[0m\u001b[0m\n\u001b[1;32m--> 256\u001b[1;33m                 \u001b[0mself\u001b[0m\u001b[1;33m.\u001b[0m\u001b[0mresult\u001b[0m \u001b[1;33m=\u001b[0m \u001b[0mself\u001b[0m\u001b[1;33m.\u001b[0m\u001b[0mf\u001b[0m\u001b[1;33m(\u001b[0m\u001b[1;33m**\u001b[0m\u001b[0mself\u001b[0m\u001b[1;33m.\u001b[0m\u001b[0mkwargs\u001b[0m\u001b[1;33m)\u001b[0m\u001b[1;33m\u001b[0m\u001b[1;33m\u001b[0m\u001b[0m\n\u001b[0m\u001b[0;32m    257\u001b[0m                 \u001b[0mshow_inline_matplotlib_plots\u001b[0m\u001b[1;33m(\u001b[0m\u001b[1;33m)\u001b[0m\u001b[1;33m\u001b[0m\u001b[1;33m\u001b[0m\u001b[0m\n\u001b[0;32m    258\u001b[0m                 \u001b[1;32mif\u001b[0m \u001b[0mself\u001b[0m\u001b[1;33m.\u001b[0m\u001b[0mauto_display\u001b[0m \u001b[1;32mand\u001b[0m \u001b[0mself\u001b[0m\u001b[1;33m.\u001b[0m\u001b[0mresult\u001b[0m \u001b[1;32mis\u001b[0m \u001b[1;32mnot\u001b[0m \u001b[1;32mNone\u001b[0m\u001b[1;33m:\u001b[0m\u001b[1;33m\u001b[0m\u001b[1;33m\u001b[0m\u001b[0m\n",
          "\u001b[1;32m<ipython-input-44-5b3b0cdf1f9a>\u001b[0m in \u001b[0;36mpredict_price\u001b[1;34m(date)\u001b[0m\n\u001b[0;32m     11\u001b[0m         \u001b[0mx_test\u001b[0m \u001b[1;33m=\u001b[0m \u001b[0mmin_max_scaler\u001b[0m\u001b[1;33m.\u001b[0m\u001b[0mtransform\u001b[0m\u001b[1;33m(\u001b[0m\u001b[0mdf_test\u001b[0m\u001b[1;33m.\u001b[0m\u001b[0mloc\u001b[0m\u001b[1;33m[\u001b[0m\u001b[1;33m:\u001b[0m\u001b[1;33m,\u001b[0m\u001b[0mtrain_cols\u001b[0m\u001b[1;33m]\u001b[0m\u001b[1;33m)\u001b[0m\u001b[1;33m\u001b[0m\u001b[1;33m\u001b[0m\u001b[0m\n\u001b[0;32m     12\u001b[0m         \u001b[0mprint\u001b[0m\u001b[1;33m(\u001b[0m\u001b[0mx_test\u001b[0m\u001b[1;33m.\u001b[0m\u001b[0mshape\u001b[0m\u001b[1;33m)\u001b[0m\u001b[1;33m\u001b[0m\u001b[1;33m\u001b[0m\u001b[0m\n\u001b[1;32m---> 13\u001b[1;33m         \u001b[0mx_test_t\u001b[0m\u001b[1;33m,\u001b[0m \u001b[0my_test_t\u001b[0m \u001b[1;33m=\u001b[0m \u001b[0mbuild_timeseries\u001b[0m\u001b[1;33m(\u001b[0m\u001b[0mx_test\u001b[0m\u001b[1;33m,\u001b[0m\u001b[0mtarget_col\u001b[0m\u001b[1;33m,\u001b[0m \u001b[0mTIME_STEPS\u001b[0m\u001b[1;33m)\u001b[0m\u001b[1;33m\u001b[0m\u001b[1;33m\u001b[0m\u001b[0m\n\u001b[0m\u001b[0;32m     14\u001b[0m         \u001b[0my_pred\u001b[0m \u001b[1;33m=\u001b[0m \u001b[0msaved_model\u001b[0m\u001b[1;33m.\u001b[0m\u001b[0mpredict\u001b[0m\u001b[1;33m(\u001b[0m\u001b[0mtrim_dataset\u001b[0m\u001b[1;33m(\u001b[0m\u001b[0mx_test_t\u001b[0m\u001b[1;33m,\u001b[0m \u001b[0mBATCH_SIZE\u001b[0m\u001b[1;33m)\u001b[0m\u001b[1;33m,\u001b[0m \u001b[0mbatch_size\u001b[0m\u001b[1;33m=\u001b[0m\u001b[0mBATCH_SIZE\u001b[0m\u001b[1;33m)\u001b[0m\u001b[1;33m\u001b[0m\u001b[1;33m\u001b[0m\u001b[0m\n\u001b[0;32m     15\u001b[0m         \u001b[0my_pred\u001b[0m \u001b[1;33m=\u001b[0m \u001b[0my_pred\u001b[0m\u001b[1;33m.\u001b[0m\u001b[0mflatten\u001b[0m\u001b[1;33m(\u001b[0m\u001b[1;33m)\u001b[0m\u001b[1;33m\u001b[0m\u001b[1;33m\u001b[0m\u001b[0m\n",
          "\u001b[1;32m<ipython-input-9-e42b68179929>\u001b[0m in \u001b[0;36mbuild_timeseries\u001b[1;34m(mat, y_col_index, TIME_STEPS)\u001b[0m\n\u001b[0;32m      4\u001b[0m     \u001b[0mdim_0\u001b[0m \u001b[1;33m=\u001b[0m \u001b[0mmat\u001b[0m\u001b[1;33m.\u001b[0m\u001b[0mshape\u001b[0m\u001b[1;33m[\u001b[0m\u001b[1;36m0\u001b[0m\u001b[1;33m]\u001b[0m \u001b[1;33m-\u001b[0m \u001b[0mTIME_STEPS\u001b[0m\u001b[1;33m\u001b[0m\u001b[1;33m\u001b[0m\u001b[0m\n\u001b[0;32m      5\u001b[0m     \u001b[0mdim_1\u001b[0m \u001b[1;33m=\u001b[0m \u001b[0mmat\u001b[0m\u001b[1;33m.\u001b[0m\u001b[0mshape\u001b[0m\u001b[1;33m[\u001b[0m\u001b[1;36m1\u001b[0m\u001b[1;33m]\u001b[0m\u001b[1;33m\u001b[0m\u001b[1;33m\u001b[0m\u001b[0m\n\u001b[1;32m----> 6\u001b[1;33m     \u001b[0mx\u001b[0m \u001b[1;33m=\u001b[0m \u001b[0mnp\u001b[0m\u001b[1;33m.\u001b[0m\u001b[0mzeros\u001b[0m\u001b[1;33m(\u001b[0m\u001b[1;33m(\u001b[0m\u001b[0mdim_0\u001b[0m\u001b[1;33m,\u001b[0m \u001b[0mTIME_STEPS\u001b[0m\u001b[1;33m,\u001b[0m \u001b[0mdim_1\u001b[0m\u001b[1;33m)\u001b[0m\u001b[1;33m)\u001b[0m\u001b[1;33m\u001b[0m\u001b[1;33m\u001b[0m\u001b[0m\n\u001b[0m\u001b[0;32m      7\u001b[0m     \u001b[0my\u001b[0m \u001b[1;33m=\u001b[0m \u001b[0mnp\u001b[0m\u001b[1;33m.\u001b[0m\u001b[0mzeros\u001b[0m\u001b[1;33m(\u001b[0m\u001b[1;33m(\u001b[0m\u001b[0mdim_0\u001b[0m\u001b[1;33m,\u001b[0m\u001b[1;33m)\u001b[0m\u001b[1;33m)\u001b[0m\u001b[1;33m\u001b[0m\u001b[1;33m\u001b[0m\u001b[0m\n\u001b[0;32m      8\u001b[0m \u001b[1;33m\u001b[0m\u001b[0m\n",
          "\u001b[1;31mValueError\u001b[0m: negative dimensions are not allowed"
         ]
        }
       ]
      }
     },
     "812583719f504df4a676c7f302cafa70": {
      "model_module": "@jupyter-widgets/controls",
      "model_module_version": "1.5.0",
      "model_name": "DatePickerModel",
      "state": {
       "description": "date",
       "disabled": false,
       "layout": "IPY_MODEL_b579d8a1891946a7b30f4cfaebc1ca83",
       "style": "IPY_MODEL_a75556bc630642fb9b9175fa0dd12554",
       "value": {
        "date": 23,
        "month": 4,
        "year": 2018
       }
      }
     },
     "816146fc89a24bb3b145d72b83e863a7": {
      "model_module": "@jupyter-widgets/base",
      "model_module_version": "1.2.0",
      "model_name": "LayoutModel",
      "state": {}
     },
     "82496e3d8ed74ea1a9a537211fea8166": {
      "model_module": "@jupyter-widgets/controls",
      "model_module_version": "1.5.0",
      "model_name": "VBoxModel",
      "state": {
       "_dom_classes": [
        "widget-interact"
       ],
       "children": [
        "IPY_MODEL_9bbc111948dc4d6cbdcad90d621f69ec",
        "IPY_MODEL_80d1d625887b4964a632082b29a50108"
       ],
       "layout": "IPY_MODEL_586a75d49e1c44cda4d4bba85ed416a9"
      }
     },
     "828d14a2875f4e4e9aab38d16ee3797b": {
      "model_module": "@jupyter-widgets/controls",
      "model_module_version": "1.5.0",
      "model_name": "DescriptionStyleModel",
      "state": {
       "description_width": ""
      }
     },
     "83eff4003213417495deaa8e77c8262c": {
      "model_module": "@jupyter-widgets/controls",
      "model_module_version": "1.5.0",
      "model_name": "DatePickerModel",
      "state": {
       "description": "date",
       "disabled": false,
       "layout": "IPY_MODEL_b942fac2e77141afb791a7be3f2b8335",
       "style": "IPY_MODEL_c09cbe848c484a4e86b212cedc7f1be0",
       "value": {
        "date": 23,
        "month": 4,
        "year": 2018
       }
      }
     },
     "8427fa82b13c4a5bb9eff97b39d981fc": {
      "model_module": "@jupyter-widgets/base",
      "model_module_version": "1.2.0",
      "model_name": "LayoutModel",
      "state": {}
     },
     "851bcd25bdbb40e298cabb29d42c3bdc": {
      "model_module": "@jupyter-widgets/controls",
      "model_module_version": "1.5.0",
      "model_name": "DescriptionStyleModel",
      "state": {
       "description_width": ""
      }
     },
     "85c66d228e86471d8dd1be668448d954": {
      "model_module": "@jupyter-widgets/controls",
      "model_module_version": "1.5.0",
      "model_name": "DescriptionStyleModel",
      "state": {
       "description_width": ""
      }
     },
     "85ebf31dd69a42e38fc2df2c10a52b76": {
      "model_module": "@jupyter-widgets/controls",
      "model_module_version": "1.5.0",
      "model_name": "DatePickerModel",
      "state": {
       "description": "date",
       "disabled": false,
       "layout": "IPY_MODEL_66aad1e5336e42c59aeb5524bd94de21",
       "style": "IPY_MODEL_de151c8ef33340eba9e9ec92805def76",
       "value": {
        "date": 23,
        "month": 4,
        "year": 2018
       }
      }
     },
     "871d3e076a6042be9610efe7bbbb1d8c": {
      "model_module": "@jupyter-widgets/controls",
      "model_module_version": "1.5.0",
      "model_name": "DatePickerModel",
      "state": {
       "description": "date",
       "disabled": false,
       "layout": "IPY_MODEL_38421c777eeb46d4975cf718ae3766ba",
       "style": "IPY_MODEL_9a51a0f8ba064702a8ab8f365c82698c",
       "value": {
        "date": 23,
        "month": 4,
        "year": 2018
       }
      }
     },
     "87431b76edd347fda25c9a705b2112e4": {
      "model_module": "@jupyter-widgets/base",
      "model_module_version": "1.2.0",
      "model_name": "LayoutModel",
      "state": {}
     },
     "88f11eeba08e40409ba16963050e4245": {
      "model_module": "@jupyter-widgets/controls",
      "model_module_version": "1.5.0",
      "model_name": "VBoxModel",
      "state": {
       "_dom_classes": [
        "widget-interact"
       ],
       "children": [
        "IPY_MODEL_1cb29628321643d5b5bb86b5ce4abae7",
        "IPY_MODEL_c8dc98e252784d25bdd8b21d02383847"
       ],
       "layout": "IPY_MODEL_b22c4b983c0b499994bbd3a7eea82f17"
      }
     },
     "892d91d6a6d44c9f9f07e3575614dd6e": {
      "model_module": "@jupyter-widgets/base",
      "model_module_version": "1.2.0",
      "model_name": "LayoutModel",
      "state": {}
     },
     "89889ea0345f449d8daaac942febfbae": {
      "model_module": "@jupyter-widgets/controls",
      "model_module_version": "1.5.0",
      "model_name": "DescriptionStyleModel",
      "state": {
       "description_width": ""
      }
     },
     "899a46b0ee1245b5a2c584cb15b66c99": {
      "model_module": "@jupyter-widgets/controls",
      "model_module_version": "1.5.0",
      "model_name": "VBoxModel",
      "state": {
       "_dom_classes": [
        "widget-interact"
       ],
       "children": [
        "IPY_MODEL_c4695a65b21a4c099d17b59b328aba83",
        "IPY_MODEL_768c58167e2c4d038446e96471e739bf"
       ],
       "layout": "IPY_MODEL_bd52369e78f7474ba8bb4e1a32b9e43f"
      }
     },
     "89eff2fc97aa469e98d3ab992127f998": {
      "model_module": "@jupyter-widgets/base",
      "model_module_version": "1.2.0",
      "model_name": "LayoutModel",
      "state": {}
     },
     "8a07a3c951764ba0aee7eafcc6e14cf8": {
      "model_module": "@jupyter-widgets/controls",
      "model_module_version": "1.5.0",
      "model_name": "VBoxModel",
      "state": {
       "_dom_classes": [
        "widget-interact"
       ],
       "children": [
        "IPY_MODEL_c620c7c2741a4d779464045a2b1c55fc",
        "IPY_MODEL_bdadffcec16a413892a898b91d12d243"
       ],
       "layout": "IPY_MODEL_72b7c4f34a4c4bf9b3cef82d9d8623f9"
      }
     },
     "8a6629847c9444038978b408b61b1d61": {
      "model_module": "@jupyter-widgets/base",
      "model_module_version": "1.2.0",
      "model_name": "LayoutModel",
      "state": {}
     },
     "8a7bfa379eb74819be7f9436ee5e8930": {
      "model_module": "@jupyter-widgets/base",
      "model_module_version": "1.2.0",
      "model_name": "LayoutModel",
      "state": {}
     },
     "8a9abdba76214aff8315416d98a3d89e": {
      "model_module": "@jupyter-widgets/base",
      "model_module_version": "1.2.0",
      "model_name": "LayoutModel",
      "state": {}
     },
     "8b32dd4064f9402e851de906d80f516b": {
      "model_module": "@jupyter-widgets/controls",
      "model_module_version": "1.5.0",
      "model_name": "DatePickerModel",
      "state": {
       "description": "date",
       "disabled": false,
       "layout": "IPY_MODEL_a7faa7f40c3f4737a96946e812dd9166",
       "style": "IPY_MODEL_24ce6b2b4bb940d8962a9930c04ba324",
       "value": {
        "date": 23,
        "month": 4,
        "year": 2018
       }
      }
     },
     "8b3337abc3024fb589c79f7408c130f0": {
      "model_module": "@jupyter-widgets/output",
      "model_module_version": "1.0.0",
      "model_name": "OutputModel",
      "state": {
       "layout": "IPY_MODEL_bcb6ff04af7a4476aa1b909a4dee7f73",
       "outputs": [
        {
         "name": "stdout",
         "output_type": "stream",
         "text": "2018-05-23 12:30:00 0        2018-05-23 12:30:00\n1        2018-05-23 13:00:00\n2        2018-05-23 13:30:00\n3        2018-05-23 14:00:00\n4        2018-05-23 14:30:00\n                ...         \n10629    2019-05-23 11:30:00\n10630    2019-05-23 12:00:00\n10631    2019-05-23 12:30:00\n10632    2019-05-23 13:00:00\n10633    2019-05-23 13:30:00\nName: Timestamp, Length: 10634, dtype: object False\n"
        }
       ]
      }
     },
     "8df3585e30024050aa9d766aa83c796c": {
      "model_module": "@jupyter-widgets/base",
      "model_module_version": "1.2.0",
      "model_name": "LayoutModel",
      "state": {}
     },
     "8e64037d020c4324842493bba4bdd087": {
      "model_module": "@jupyter-widgets/base",
      "model_module_version": "1.2.0",
      "model_name": "LayoutModel",
      "state": {}
     },
     "909e69cce1784acb8abdfe7c23dba3c9": {
      "model_module": "@jupyter-widgets/base",
      "model_module_version": "1.2.0",
      "model_name": "LayoutModel",
      "state": {}
     },
     "941107bf978e4f7ca1dec879f349698f": {
      "model_module": "@jupyter-widgets/controls",
      "model_module_version": "1.5.0",
      "model_name": "VBoxModel",
      "state": {
       "_dom_classes": [
        "widget-interact"
       ],
       "children": [
        "IPY_MODEL_71fc6d43e1884bdcb7295fe32f6f05c3",
        "IPY_MODEL_e377969b13d7425fb6e4050365cd9a72"
       ],
       "layout": "IPY_MODEL_b949f989ce65498091f0adc1d0ded2d4"
      }
     },
     "941e9f656c6a4d7c87ac51bc43522183": {
      "model_module": "@jupyter-widgets/base",
      "model_module_version": "1.2.0",
      "model_name": "LayoutModel",
      "state": {}
     },
     "963b602b7a4247fb8ff6c2d4e07cbb73": {
      "model_module": "@jupyter-widgets/output",
      "model_module_version": "1.0.0",
      "model_name": "OutputModel",
      "state": {
       "layout": "IPY_MODEL_58ef15e0b5d94451896ecfb56945b2a0",
       "outputs": [
        {
         "name": "stdout",
         "output_type": "stream",
         "text": "721\n(501, 5)\n"
        },
        {
         "ename": "ValueError",
         "evalue": "negative dimensions are not allowed",
         "output_type": "error",
         "traceback": [
          "\u001b[1;31m---------------------------------------------------------------------------\u001b[0m",
          "\u001b[1;31mValueError\u001b[0m                                Traceback (most recent call last)",
          "\u001b[1;32m~\\AppData\\Local\\Continuum\\anaconda3\\lib\\site-packages\\ipywidgets\\widgets\\interaction.py\u001b[0m in \u001b[0;36mupdate\u001b[1;34m(self, *args)\u001b[0m\n\u001b[0;32m    254\u001b[0m                     \u001b[0mvalue\u001b[0m \u001b[1;33m=\u001b[0m \u001b[0mwidget\u001b[0m\u001b[1;33m.\u001b[0m\u001b[0mget_interact_value\u001b[0m\u001b[1;33m(\u001b[0m\u001b[1;33m)\u001b[0m\u001b[1;33m\u001b[0m\u001b[1;33m\u001b[0m\u001b[0m\n\u001b[0;32m    255\u001b[0m                     \u001b[0mself\u001b[0m\u001b[1;33m.\u001b[0m\u001b[0mkwargs\u001b[0m\u001b[1;33m[\u001b[0m\u001b[0mwidget\u001b[0m\u001b[1;33m.\u001b[0m\u001b[0m_kwarg\u001b[0m\u001b[1;33m]\u001b[0m \u001b[1;33m=\u001b[0m \u001b[0mvalue\u001b[0m\u001b[1;33m\u001b[0m\u001b[1;33m\u001b[0m\u001b[0m\n\u001b[1;32m--> 256\u001b[1;33m                 \u001b[0mself\u001b[0m\u001b[1;33m.\u001b[0m\u001b[0mresult\u001b[0m \u001b[1;33m=\u001b[0m \u001b[0mself\u001b[0m\u001b[1;33m.\u001b[0m\u001b[0mf\u001b[0m\u001b[1;33m(\u001b[0m\u001b[1;33m**\u001b[0m\u001b[0mself\u001b[0m\u001b[1;33m.\u001b[0m\u001b[0mkwargs\u001b[0m\u001b[1;33m)\u001b[0m\u001b[1;33m\u001b[0m\u001b[1;33m\u001b[0m\u001b[0m\n\u001b[0m\u001b[0;32m    257\u001b[0m                 \u001b[0mshow_inline_matplotlib_plots\u001b[0m\u001b[1;33m(\u001b[0m\u001b[1;33m)\u001b[0m\u001b[1;33m\u001b[0m\u001b[1;33m\u001b[0m\u001b[0m\n\u001b[0;32m    258\u001b[0m                 \u001b[1;32mif\u001b[0m \u001b[0mself\u001b[0m\u001b[1;33m.\u001b[0m\u001b[0mauto_display\u001b[0m \u001b[1;32mand\u001b[0m \u001b[0mself\u001b[0m\u001b[1;33m.\u001b[0m\u001b[0mresult\u001b[0m \u001b[1;32mis\u001b[0m \u001b[1;32mnot\u001b[0m \u001b[1;32mNone\u001b[0m\u001b[1;33m:\u001b[0m\u001b[1;33m\u001b[0m\u001b[1;33m\u001b[0m\u001b[0m\n",
          "\u001b[1;32m<ipython-input-45-bbe5959ca03b>\u001b[0m in \u001b[0;36mpredict_price\u001b[1;34m(date)\u001b[0m\n\u001b[0;32m     11\u001b[0m         \u001b[0mx_test\u001b[0m \u001b[1;33m=\u001b[0m \u001b[0mmin_max_scaler\u001b[0m\u001b[1;33m.\u001b[0m\u001b[0mtransform\u001b[0m\u001b[1;33m(\u001b[0m\u001b[0mdf_test\u001b[0m\u001b[1;33m.\u001b[0m\u001b[0mloc\u001b[0m\u001b[1;33m[\u001b[0m\u001b[1;33m:\u001b[0m\u001b[1;33m,\u001b[0m\u001b[0mtrain_cols\u001b[0m\u001b[1;33m]\u001b[0m\u001b[1;33m)\u001b[0m\u001b[1;33m\u001b[0m\u001b[1;33m\u001b[0m\u001b[0m\n\u001b[0;32m     12\u001b[0m         \u001b[0mprint\u001b[0m\u001b[1;33m(\u001b[0m\u001b[0mx_test\u001b[0m\u001b[1;33m.\u001b[0m\u001b[0mshape\u001b[0m\u001b[1;33m)\u001b[0m\u001b[1;33m\u001b[0m\u001b[1;33m\u001b[0m\u001b[0m\n\u001b[1;32m---> 13\u001b[1;33m         \u001b[0mx_test_t\u001b[0m\u001b[1;33m,\u001b[0m \u001b[0my_test_t\u001b[0m \u001b[1;33m=\u001b[0m \u001b[0mbuild_timeseries\u001b[0m\u001b[1;33m(\u001b[0m\u001b[0mx_test\u001b[0m\u001b[1;33m,\u001b[0m\u001b[0mtarget_col\u001b[0m\u001b[1;33m,\u001b[0m \u001b[0mTIME_STEPS\u001b[0m\u001b[1;33m)\u001b[0m\u001b[1;33m\u001b[0m\u001b[1;33m\u001b[0m\u001b[0m\n\u001b[0m\u001b[0;32m     14\u001b[0m         \u001b[0my_pred\u001b[0m \u001b[1;33m=\u001b[0m \u001b[0msaved_model\u001b[0m\u001b[1;33m.\u001b[0m\u001b[0mpredict\u001b[0m\u001b[1;33m(\u001b[0m\u001b[0mtrim_dataset\u001b[0m\u001b[1;33m(\u001b[0m\u001b[0mx_test_t\u001b[0m\u001b[1;33m,\u001b[0m \u001b[0mBATCH_SIZE\u001b[0m\u001b[1;33m)\u001b[0m\u001b[1;33m,\u001b[0m \u001b[0mbatch_size\u001b[0m\u001b[1;33m=\u001b[0m\u001b[0mBATCH_SIZE\u001b[0m\u001b[1;33m)\u001b[0m\u001b[1;33m\u001b[0m\u001b[1;33m\u001b[0m\u001b[0m\n\u001b[0;32m     15\u001b[0m         \u001b[0my_pred\u001b[0m \u001b[1;33m=\u001b[0m \u001b[0my_pred\u001b[0m\u001b[1;33m.\u001b[0m\u001b[0mflatten\u001b[0m\u001b[1;33m(\u001b[0m\u001b[1;33m)\u001b[0m\u001b[1;33m\u001b[0m\u001b[1;33m\u001b[0m\u001b[0m\n",
          "\u001b[1;32m<ipython-input-9-e42b68179929>\u001b[0m in \u001b[0;36mbuild_timeseries\u001b[1;34m(mat, y_col_index, TIME_STEPS)\u001b[0m\n\u001b[0;32m      4\u001b[0m     \u001b[0mdim_0\u001b[0m \u001b[1;33m=\u001b[0m \u001b[0mmat\u001b[0m\u001b[1;33m.\u001b[0m\u001b[0mshape\u001b[0m\u001b[1;33m[\u001b[0m\u001b[1;36m0\u001b[0m\u001b[1;33m]\u001b[0m \u001b[1;33m-\u001b[0m \u001b[0mTIME_STEPS\u001b[0m\u001b[1;33m\u001b[0m\u001b[1;33m\u001b[0m\u001b[0m\n\u001b[0;32m      5\u001b[0m     \u001b[0mdim_1\u001b[0m \u001b[1;33m=\u001b[0m \u001b[0mmat\u001b[0m\u001b[1;33m.\u001b[0m\u001b[0mshape\u001b[0m\u001b[1;33m[\u001b[0m\u001b[1;36m1\u001b[0m\u001b[1;33m]\u001b[0m\u001b[1;33m\u001b[0m\u001b[1;33m\u001b[0m\u001b[0m\n\u001b[1;32m----> 6\u001b[1;33m     \u001b[0mx\u001b[0m \u001b[1;33m=\u001b[0m \u001b[0mnp\u001b[0m\u001b[1;33m.\u001b[0m\u001b[0mzeros\u001b[0m\u001b[1;33m(\u001b[0m\u001b[1;33m(\u001b[0m\u001b[0mdim_0\u001b[0m\u001b[1;33m,\u001b[0m \u001b[0mTIME_STEPS\u001b[0m\u001b[1;33m,\u001b[0m \u001b[0mdim_1\u001b[0m\u001b[1;33m)\u001b[0m\u001b[1;33m)\u001b[0m\u001b[1;33m\u001b[0m\u001b[1;33m\u001b[0m\u001b[0m\n\u001b[0m\u001b[0;32m      7\u001b[0m     \u001b[0my\u001b[0m \u001b[1;33m=\u001b[0m \u001b[0mnp\u001b[0m\u001b[1;33m.\u001b[0m\u001b[0mzeros\u001b[0m\u001b[1;33m(\u001b[0m\u001b[1;33m(\u001b[0m\u001b[0mdim_0\u001b[0m\u001b[1;33m,\u001b[0m\u001b[1;33m)\u001b[0m\u001b[1;33m)\u001b[0m\u001b[1;33m\u001b[0m\u001b[1;33m\u001b[0m\u001b[0m\n\u001b[0;32m      8\u001b[0m \u001b[1;33m\u001b[0m\u001b[0m\n",
          "\u001b[1;31mValueError\u001b[0m: negative dimensions are not allowed"
         ]
        }
       ]
      }
     },
     "972904202ac044aba5200ea46532b967": {
      "model_module": "@jupyter-widgets/base",
      "model_module_version": "1.2.0",
      "model_name": "LayoutModel",
      "state": {}
     },
     "97518623140f47b2bc3076ab0bb0a904": {
      "model_module": "@jupyter-widgets/base",
      "model_module_version": "1.2.0",
      "model_name": "LayoutModel",
      "state": {}
     },
     "97c81d0e70cd49a48dec0ea770e2a608": {
      "model_module": "@jupyter-widgets/controls",
      "model_module_version": "1.5.0",
      "model_name": "DescriptionStyleModel",
      "state": {
       "description_width": ""
      }
     },
     "97df6f5551794d9c85d7bd894dada97b": {
      "model_module": "@jupyter-widgets/controls",
      "model_module_version": "1.5.0",
      "model_name": "DescriptionStyleModel",
      "state": {
       "description_width": ""
      }
     },
     "99107272f62d464daff694068d2bbfd2": {
      "model_module": "@jupyter-widgets/base",
      "model_module_version": "1.2.0",
      "model_name": "LayoutModel",
      "state": {}
     },
     "9a4191aaa8c1476a9888a031a18b5217": {
      "model_module": "@jupyter-widgets/controls",
      "model_module_version": "1.5.0",
      "model_name": "DatePickerModel",
      "state": {
       "description": "date",
       "disabled": false,
       "layout": "IPY_MODEL_d20fd6adb0254e119d2ebdba3746e3c1",
       "style": "IPY_MODEL_747a20b7387544c5bd70087a62dd01e8",
       "value": {
        "date": 21,
        "month": 5,
        "year": 2018
       }
      }
     },
     "9a51a0f8ba064702a8ab8f365c82698c": {
      "model_module": "@jupyter-widgets/controls",
      "model_module_version": "1.5.0",
      "model_name": "DescriptionStyleModel",
      "state": {
       "description_width": ""
      }
     },
     "9a982bf7107d4292a7090243792cb8ac": {
      "model_module": "@jupyter-widgets/controls",
      "model_module_version": "1.5.0",
      "model_name": "HBoxModel",
      "state": {
       "children": [
        "IPY_MODEL_06c603bf293846628745098ab6295fa8",
        "IPY_MODEL_e0439f99e46f4ae3b7a995647e2d12e5"
       ],
       "layout": "IPY_MODEL_9ca2f2f6ff0c41548614c4f03b711205"
      }
     },
     "9b63b207eb444f1db4de514d246c09ce": {
      "model_module": "@jupyter-widgets/output",
      "model_module_version": "1.0.0",
      "model_name": "OutputModel",
      "state": {
       "layout": "IPY_MODEL_99107272f62d464daff694068d2bbfd2",
       "outputs": [
        {
         "name": "stdout",
         "output_type": "stream",
         "text": "Int64Index([0], dtype='int64')\n"
        },
        {
         "ename": "TypeError",
         "evalue": "cannot do slice indexing on <class 'pandas.core.indexes.range.RangeIndex'> with these indexers [Int64Index([0], dtype='int64')] of <class 'pandas.core.indexes.numeric.Int64Index'>",
         "output_type": "error",
         "traceback": [
          "\u001b[1;31m---------------------------------------------------------------------------\u001b[0m",
          "\u001b[1;31mTypeError\u001b[0m                                 Traceback (most recent call last)",
          "\u001b[1;32m~\\AppData\\Local\\Continuum\\anaconda3\\lib\\site-packages\\ipywidgets\\widgets\\interaction.py\u001b[0m in \u001b[0;36mupdate\u001b[1;34m(self, *args)\u001b[0m\n\u001b[0;32m    254\u001b[0m                     \u001b[0mvalue\u001b[0m \u001b[1;33m=\u001b[0m \u001b[0mwidget\u001b[0m\u001b[1;33m.\u001b[0m\u001b[0mget_interact_value\u001b[0m\u001b[1;33m(\u001b[0m\u001b[1;33m)\u001b[0m\u001b[1;33m\u001b[0m\u001b[1;33m\u001b[0m\u001b[0m\n\u001b[0;32m    255\u001b[0m                     \u001b[0mself\u001b[0m\u001b[1;33m.\u001b[0m\u001b[0mkwargs\u001b[0m\u001b[1;33m[\u001b[0m\u001b[0mwidget\u001b[0m\u001b[1;33m.\u001b[0m\u001b[0m_kwarg\u001b[0m\u001b[1;33m]\u001b[0m \u001b[1;33m=\u001b[0m \u001b[0mvalue\u001b[0m\u001b[1;33m\u001b[0m\u001b[1;33m\u001b[0m\u001b[0m\n\u001b[1;32m--> 256\u001b[1;33m                 \u001b[0mself\u001b[0m\u001b[1;33m.\u001b[0m\u001b[0mresult\u001b[0m \u001b[1;33m=\u001b[0m \u001b[0mself\u001b[0m\u001b[1;33m.\u001b[0m\u001b[0mf\u001b[0m\u001b[1;33m(\u001b[0m\u001b[1;33m**\u001b[0m\u001b[0mself\u001b[0m\u001b[1;33m.\u001b[0m\u001b[0mkwargs\u001b[0m\u001b[1;33m)\u001b[0m\u001b[1;33m\u001b[0m\u001b[1;33m\u001b[0m\u001b[0m\n\u001b[0m\u001b[0;32m    257\u001b[0m                 \u001b[0mshow_inline_matplotlib_plots\u001b[0m\u001b[1;33m(\u001b[0m\u001b[1;33m)\u001b[0m\u001b[1;33m\u001b[0m\u001b[1;33m\u001b[0m\u001b[0m\n\u001b[0;32m    258\u001b[0m                 \u001b[1;32mif\u001b[0m \u001b[0mself\u001b[0m\u001b[1;33m.\u001b[0m\u001b[0mauto_display\u001b[0m \u001b[1;32mand\u001b[0m \u001b[0mself\u001b[0m\u001b[1;33m.\u001b[0m\u001b[0mresult\u001b[0m \u001b[1;32mis\u001b[0m \u001b[1;32mnot\u001b[0m \u001b[1;32mNone\u001b[0m\u001b[1;33m:\u001b[0m\u001b[1;33m\u001b[0m\u001b[1;33m\u001b[0m\u001b[0m\n",
          "\u001b[1;32m<ipython-input-38-7ea5c8219f1a>\u001b[0m in \u001b[0;36mpredict_price\u001b[1;34m(date)\u001b[0m\n\u001b[0;32m      8\u001b[0m         \u001b[0mi\u001b[0m \u001b[1;33m=\u001b[0m \u001b[0mdf\u001b[0m\u001b[1;33m.\u001b[0m\u001b[0mindex\u001b[0m\u001b[1;33m[\u001b[0m\u001b[0md\u001b[0m\u001b[1;33m==\u001b[0m\u001b[0mdf\u001b[0m\u001b[1;33m[\u001b[0m\u001b[1;34m'Timestamp'\u001b[0m\u001b[1;33m]\u001b[0m\u001b[1;33m]\u001b[0m\u001b[1;33m\u001b[0m\u001b[1;33m\u001b[0m\u001b[0m\n\u001b[0;32m      9\u001b[0m         \u001b[0mprint\u001b[0m\u001b[1;33m(\u001b[0m\u001b[0mi\u001b[0m\u001b[1;33m)\u001b[0m\u001b[1;33m\u001b[0m\u001b[1;33m\u001b[0m\u001b[0m\n\u001b[1;32m---> 10\u001b[1;33m         \u001b[0mdf_test\u001b[0m \u001b[1;33m=\u001b[0m \u001b[0mdf\u001b[0m\u001b[1;33m.\u001b[0m\u001b[0miloc\u001b[0m\u001b[1;33m[\u001b[0m\u001b[0mi\u001b[0m\u001b[1;33m:\u001b[0m\u001b[0mi\u001b[0m\u001b[1;33m+\u001b[0m\u001b[1;36m500\u001b[0m\u001b[1;33m]\u001b[0m\u001b[1;33m\u001b[0m\u001b[1;33m\u001b[0m\u001b[0m\n\u001b[0m\u001b[0;32m     11\u001b[0m         \u001b[0mx_test\u001b[0m \u001b[1;33m=\u001b[0m \u001b[0mmin_max_scaler\u001b[0m\u001b[1;33m.\u001b[0m\u001b[0mtransform\u001b[0m\u001b[1;33m(\u001b[0m\u001b[0mdf_test\u001b[0m\u001b[1;33m.\u001b[0m\u001b[0mloc\u001b[0m\u001b[1;33m[\u001b[0m\u001b[1;33m:\u001b[0m\u001b[1;33m,\u001b[0m\u001b[0mtrain_cols\u001b[0m\u001b[1;33m]\u001b[0m\u001b[1;33m)\u001b[0m\u001b[1;33m\u001b[0m\u001b[1;33m\u001b[0m\u001b[0m\n\u001b[0;32m     12\u001b[0m         \u001b[0mx_test_t\u001b[0m\u001b[1;33m,\u001b[0m \u001b[0my_test_t\u001b[0m \u001b[1;33m=\u001b[0m \u001b[0mbuild_timeseries\u001b[0m\u001b[1;33m(\u001b[0m\u001b[0mx_test\u001b[0m\u001b[1;33m,\u001b[0m\u001b[0mtarget_col\u001b[0m\u001b[1;33m,\u001b[0m \u001b[0mTIME_STEPS\u001b[0m\u001b[1;33m)\u001b[0m\u001b[1;33m\u001b[0m\u001b[1;33m\u001b[0m\u001b[0m\n",
          "\u001b[1;32m~\\AppData\\Local\\Continuum\\anaconda3\\lib\\site-packages\\pandas\\core\\indexing.py\u001b[0m in \u001b[0;36m__getitem__\u001b[1;34m(self, key)\u001b[0m\n\u001b[0;32m   1408\u001b[0m \u001b[1;33m\u001b[0m\u001b[0m\n\u001b[0;32m   1409\u001b[0m             \u001b[0mmaybe_callable\u001b[0m \u001b[1;33m=\u001b[0m \u001b[0mcom\u001b[0m\u001b[1;33m.\u001b[0m\u001b[0mapply_if_callable\u001b[0m\u001b[1;33m(\u001b[0m\u001b[0mkey\u001b[0m\u001b[1;33m,\u001b[0m \u001b[0mself\u001b[0m\u001b[1;33m.\u001b[0m\u001b[0mobj\u001b[0m\u001b[1;33m)\u001b[0m\u001b[1;33m\u001b[0m\u001b[1;33m\u001b[0m\u001b[0m\n\u001b[1;32m-> 1410\u001b[1;33m             \u001b[1;32mreturn\u001b[0m \u001b[0mself\u001b[0m\u001b[1;33m.\u001b[0m\u001b[0m_getitem_axis\u001b[0m\u001b[1;33m(\u001b[0m\u001b[0mmaybe_callable\u001b[0m\u001b[1;33m,\u001b[0m \u001b[0maxis\u001b[0m\u001b[1;33m=\u001b[0m\u001b[0maxis\u001b[0m\u001b[1;33m)\u001b[0m\u001b[1;33m\u001b[0m\u001b[1;33m\u001b[0m\u001b[0m\n\u001b[0m\u001b[0;32m   1411\u001b[0m \u001b[1;33m\u001b[0m\u001b[0m\n\u001b[0;32m   1412\u001b[0m     \u001b[1;32mdef\u001b[0m \u001b[0m_is_scalar_access\u001b[0m\u001b[1;33m(\u001b[0m\u001b[0mself\u001b[0m\u001b[1;33m,\u001b[0m \u001b[0mkey\u001b[0m\u001b[1;33m:\u001b[0m \u001b[0mTuple\u001b[0m\u001b[1;33m)\u001b[0m\u001b[1;33m:\u001b[0m\u001b[1;33m\u001b[0m\u001b[1;33m\u001b[0m\u001b[0m\n",
          "\u001b[1;32m~\\AppData\\Local\\Continuum\\anaconda3\\lib\\site-packages\\pandas\\core\\indexing.py\u001b[0m in \u001b[0;36m_getitem_axis\u001b[1;34m(self, key, axis)\u001b[0m\n\u001b[0;32m   2110\u001b[0m     \u001b[1;32mdef\u001b[0m \u001b[0m_getitem_axis\u001b[0m\u001b[1;33m(\u001b[0m\u001b[0mself\u001b[0m\u001b[1;33m,\u001b[0m \u001b[0mkey\u001b[0m\u001b[1;33m,\u001b[0m \u001b[0maxis\u001b[0m\u001b[1;33m:\u001b[0m \u001b[0mint\u001b[0m\u001b[1;33m)\u001b[0m\u001b[1;33m:\u001b[0m\u001b[1;33m\u001b[0m\u001b[1;33m\u001b[0m\u001b[0m\n\u001b[0;32m   2111\u001b[0m         \u001b[1;32mif\u001b[0m \u001b[0misinstance\u001b[0m\u001b[1;33m(\u001b[0m\u001b[0mkey\u001b[0m\u001b[1;33m,\u001b[0m \u001b[0mslice\u001b[0m\u001b[1;33m)\u001b[0m\u001b[1;33m:\u001b[0m\u001b[1;33m\u001b[0m\u001b[1;33m\u001b[0m\u001b[0m\n\u001b[1;32m-> 2112\u001b[1;33m             \u001b[1;32mreturn\u001b[0m \u001b[0mself\u001b[0m\u001b[1;33m.\u001b[0m\u001b[0m_get_slice_axis\u001b[0m\u001b[1;33m(\u001b[0m\u001b[0mkey\u001b[0m\u001b[1;33m,\u001b[0m \u001b[0maxis\u001b[0m\u001b[1;33m=\u001b[0m\u001b[0maxis\u001b[0m\u001b[1;33m)\u001b[0m\u001b[1;33m\u001b[0m\u001b[1;33m\u001b[0m\u001b[0m\n\u001b[0m\u001b[0;32m   2113\u001b[0m \u001b[1;33m\u001b[0m\u001b[0m\n\u001b[0;32m   2114\u001b[0m         \u001b[1;32mif\u001b[0m \u001b[0misinstance\u001b[0m\u001b[1;33m(\u001b[0m\u001b[0mkey\u001b[0m\u001b[1;33m,\u001b[0m \u001b[0mlist\u001b[0m\u001b[1;33m)\u001b[0m\u001b[1;33m:\u001b[0m\u001b[1;33m\u001b[0m\u001b[1;33m\u001b[0m\u001b[0m\n",
          "\u001b[1;32m~\\AppData\\Local\\Continuum\\anaconda3\\lib\\site-packages\\pandas\\core\\indexing.py\u001b[0m in \u001b[0;36m_get_slice_axis\u001b[1;34m(self, slice_obj, axis)\u001b[0m\n\u001b[0;32m   1291\u001b[0m             \u001b[1;32mreturn\u001b[0m \u001b[0mobj\u001b[0m\u001b[1;33m.\u001b[0m\u001b[0mcopy\u001b[0m\u001b[1;33m(\u001b[0m\u001b[0mdeep\u001b[0m\u001b[1;33m=\u001b[0m\u001b[1;32mFalse\u001b[0m\u001b[1;33m)\u001b[0m\u001b[1;33m\u001b[0m\u001b[1;33m\u001b[0m\u001b[0m\n\u001b[0;32m   1292\u001b[0m \u001b[1;33m\u001b[0m\u001b[0m\n\u001b[1;32m-> 1293\u001b[1;33m         \u001b[0mindexer\u001b[0m \u001b[1;33m=\u001b[0m \u001b[0mself\u001b[0m\u001b[1;33m.\u001b[0m\u001b[0m_convert_slice_indexer\u001b[0m\u001b[1;33m(\u001b[0m\u001b[0mslice_obj\u001b[0m\u001b[1;33m,\u001b[0m \u001b[0maxis\u001b[0m\u001b[1;33m)\u001b[0m\u001b[1;33m\u001b[0m\u001b[1;33m\u001b[0m\u001b[0m\n\u001b[0m\u001b[0;32m   1294\u001b[0m         \u001b[1;32mreturn\u001b[0m \u001b[0mself\u001b[0m\u001b[1;33m.\u001b[0m\u001b[0m_slice\u001b[0m\u001b[1;33m(\u001b[0m\u001b[0mindexer\u001b[0m\u001b[1;33m,\u001b[0m \u001b[0maxis\u001b[0m\u001b[1;33m=\u001b[0m\u001b[0maxis\u001b[0m\u001b[1;33m,\u001b[0m \u001b[0mkind\u001b[0m\u001b[1;33m=\u001b[0m\u001b[1;34m\"iloc\"\u001b[0m\u001b[1;33m)\u001b[0m\u001b[1;33m\u001b[0m\u001b[1;33m\u001b[0m\u001b[0m\n\u001b[0;32m   1295\u001b[0m \u001b[1;33m\u001b[0m\u001b[0m\n",
          "\u001b[1;32m~\\AppData\\Local\\Continuum\\anaconda3\\lib\\site-packages\\pandas\\core\\indexing.py\u001b[0m in \u001b[0;36m_convert_slice_indexer\u001b[1;34m(self, key, axis)\u001b[0m\n\u001b[0;32m    274\u001b[0m         \u001b[1;31m# if we are accessing via lowered dim, use the last dim\u001b[0m\u001b[1;33m\u001b[0m\u001b[1;33m\u001b[0m\u001b[1;33m\u001b[0m\u001b[0m\n\u001b[0;32m    275\u001b[0m         \u001b[0max\u001b[0m \u001b[1;33m=\u001b[0m \u001b[0mself\u001b[0m\u001b[1;33m.\u001b[0m\u001b[0mobj\u001b[0m\u001b[1;33m.\u001b[0m\u001b[0m_get_axis\u001b[0m\u001b[1;33m(\u001b[0m\u001b[0mmin\u001b[0m\u001b[1;33m(\u001b[0m\u001b[0maxis\u001b[0m\u001b[1;33m,\u001b[0m \u001b[0mself\u001b[0m\u001b[1;33m.\u001b[0m\u001b[0mndim\u001b[0m \u001b[1;33m-\u001b[0m \u001b[1;36m1\u001b[0m\u001b[1;33m)\u001b[0m\u001b[1;33m)\u001b[0m\u001b[1;33m\u001b[0m\u001b[1;33m\u001b[0m\u001b[0m\n\u001b[1;32m--> 276\u001b[1;33m         \u001b[1;32mreturn\u001b[0m \u001b[0max\u001b[0m\u001b[1;33m.\u001b[0m\u001b[0m_convert_slice_indexer\u001b[0m\u001b[1;33m(\u001b[0m\u001b[0mkey\u001b[0m\u001b[1;33m,\u001b[0m \u001b[0mkind\u001b[0m\u001b[1;33m=\u001b[0m\u001b[0mself\u001b[0m\u001b[1;33m.\u001b[0m\u001b[0mname\u001b[0m\u001b[1;33m)\u001b[0m\u001b[1;33m\u001b[0m\u001b[1;33m\u001b[0m\u001b[0m\n\u001b[0m\u001b[0;32m    277\u001b[0m \u001b[1;33m\u001b[0m\u001b[0m\n\u001b[0;32m    278\u001b[0m     \u001b[1;32mdef\u001b[0m \u001b[0m_has_valid_setitem_indexer\u001b[0m\u001b[1;33m(\u001b[0m\u001b[0mself\u001b[0m\u001b[1;33m,\u001b[0m \u001b[0mindexer\u001b[0m\u001b[1;33m)\u001b[0m\u001b[1;33m:\u001b[0m\u001b[1;33m\u001b[0m\u001b[1;33m\u001b[0m\u001b[0m\n",
          "\u001b[1;32m~\\AppData\\Local\\Continuum\\anaconda3\\lib\\site-packages\\pandas\\core\\indexes\\base.py\u001b[0m in \u001b[0;36m_convert_slice_indexer\u001b[1;34m(self, key, kind)\u001b[0m\n\u001b[0;32m   3158\u001b[0m         \u001b[1;32mif\u001b[0m \u001b[0mkind\u001b[0m \u001b[1;33m==\u001b[0m \u001b[1;34m\"iloc\"\u001b[0m\u001b[1;33m:\u001b[0m\u001b[1;33m\u001b[0m\u001b[1;33m\u001b[0m\u001b[0m\n\u001b[0;32m   3159\u001b[0m             return slice(\n\u001b[1;32m-> 3160\u001b[1;33m                 \u001b[0mself\u001b[0m\u001b[1;33m.\u001b[0m\u001b[0m_validate_indexer\u001b[0m\u001b[1;33m(\u001b[0m\u001b[1;34m\"slice\"\u001b[0m\u001b[1;33m,\u001b[0m \u001b[0mkey\u001b[0m\u001b[1;33m.\u001b[0m\u001b[0mstart\u001b[0m\u001b[1;33m,\u001b[0m \u001b[0mkind\u001b[0m\u001b[1;33m)\u001b[0m\u001b[1;33m,\u001b[0m\u001b[1;33m\u001b[0m\u001b[1;33m\u001b[0m\u001b[0m\n\u001b[0m\u001b[0;32m   3161\u001b[0m                 \u001b[0mself\u001b[0m\u001b[1;33m.\u001b[0m\u001b[0m_validate_indexer\u001b[0m\u001b[1;33m(\u001b[0m\u001b[1;34m\"slice\"\u001b[0m\u001b[1;33m,\u001b[0m \u001b[0mkey\u001b[0m\u001b[1;33m.\u001b[0m\u001b[0mstop\u001b[0m\u001b[1;33m,\u001b[0m \u001b[0mkind\u001b[0m\u001b[1;33m)\u001b[0m\u001b[1;33m,\u001b[0m\u001b[1;33m\u001b[0m\u001b[1;33m\u001b[0m\u001b[0m\n\u001b[0;32m   3162\u001b[0m                 \u001b[0mself\u001b[0m\u001b[1;33m.\u001b[0m\u001b[0m_validate_indexer\u001b[0m\u001b[1;33m(\u001b[0m\u001b[1;34m\"slice\"\u001b[0m\u001b[1;33m,\u001b[0m \u001b[0mkey\u001b[0m\u001b[1;33m.\u001b[0m\u001b[0mstep\u001b[0m\u001b[1;33m,\u001b[0m \u001b[0mkind\u001b[0m\u001b[1;33m)\u001b[0m\u001b[1;33m,\u001b[0m\u001b[1;33m\u001b[0m\u001b[1;33m\u001b[0m\u001b[0m\n",
          "\u001b[1;32m~\\AppData\\Local\\Continuum\\anaconda3\\lib\\site-packages\\pandas\\core\\indexes\\base.py\u001b[0m in \u001b[0;36m_validate_indexer\u001b[1;34m(self, form, key, kind)\u001b[0m\n\u001b[0;32m   5062\u001b[0m             \u001b[1;32mpass\u001b[0m\u001b[1;33m\u001b[0m\u001b[1;33m\u001b[0m\u001b[0m\n\u001b[0;32m   5063\u001b[0m         \u001b[1;32melif\u001b[0m \u001b[0mkind\u001b[0m \u001b[1;32min\u001b[0m \u001b[1;33m[\u001b[0m\u001b[1;34m\"iloc\"\u001b[0m\u001b[1;33m,\u001b[0m \u001b[1;34m\"getitem\"\u001b[0m\u001b[1;33m]\u001b[0m\u001b[1;33m:\u001b[0m\u001b[1;33m\u001b[0m\u001b[1;33m\u001b[0m\u001b[0m\n\u001b[1;32m-> 5064\u001b[1;33m             \u001b[0mself\u001b[0m\u001b[1;33m.\u001b[0m\u001b[0m_invalid_indexer\u001b[0m\u001b[1;33m(\u001b[0m\u001b[0mform\u001b[0m\u001b[1;33m,\u001b[0m \u001b[0mkey\u001b[0m\u001b[1;33m)\u001b[0m\u001b[1;33m\u001b[0m\u001b[1;33m\u001b[0m\u001b[0m\n\u001b[0m\u001b[0;32m   5065\u001b[0m         \u001b[1;32mreturn\u001b[0m \u001b[0mkey\u001b[0m\u001b[1;33m\u001b[0m\u001b[1;33m\u001b[0m\u001b[0m\n\u001b[0;32m   5066\u001b[0m \u001b[1;33m\u001b[0m\u001b[0m\n",
          "\u001b[1;32m~\\AppData\\Local\\Continuum\\anaconda3\\lib\\site-packages\\pandas\\core\\indexes\\base.py\u001b[0m in \u001b[0;36m_invalid_indexer\u001b[1;34m(self, form, key)\u001b[0m\n\u001b[0;32m   3331\u001b[0m             \u001b[1;34m\"cannot do {form} indexing on {klass} with these \"\u001b[0m\u001b[1;33m\u001b[0m\u001b[1;33m\u001b[0m\u001b[0m\n\u001b[0;32m   3332\u001b[0m             \"indexers [{key}] of {kind}\".format(\n\u001b[1;32m-> 3333\u001b[1;33m                 \u001b[0mform\u001b[0m\u001b[1;33m=\u001b[0m\u001b[0mform\u001b[0m\u001b[1;33m,\u001b[0m \u001b[0mklass\u001b[0m\u001b[1;33m=\u001b[0m\u001b[0mtype\u001b[0m\u001b[1;33m(\u001b[0m\u001b[0mself\u001b[0m\u001b[1;33m)\u001b[0m\u001b[1;33m,\u001b[0m \u001b[0mkey\u001b[0m\u001b[1;33m=\u001b[0m\u001b[0mkey\u001b[0m\u001b[1;33m,\u001b[0m \u001b[0mkind\u001b[0m\u001b[1;33m=\u001b[0m\u001b[0mtype\u001b[0m\u001b[1;33m(\u001b[0m\u001b[0mkey\u001b[0m\u001b[1;33m)\u001b[0m\u001b[1;33m\u001b[0m\u001b[1;33m\u001b[0m\u001b[0m\n\u001b[0m\u001b[0;32m   3334\u001b[0m             )\n\u001b[0;32m   3335\u001b[0m         )\n",
          "\u001b[1;31mTypeError\u001b[0m: cannot do slice indexing on <class 'pandas.core.indexes.range.RangeIndex'> with these indexers [Int64Index([0], dtype='int64')] of <class 'pandas.core.indexes.numeric.Int64Index'>"
         ]
        }
       ]
      }
     },
     "9b9e87a4c0ef425fbe1be9930fa8f2aa": {
      "model_module": "@jupyter-widgets/controls",
      "model_module_version": "1.5.0",
      "model_name": "ProgressStyleModel",
      "state": {
       "description_width": ""
      }
     },
     "9bbc111948dc4d6cbdcad90d621f69ec": {
      "model_module": "@jupyter-widgets/controls",
      "model_module_version": "1.5.0",
      "model_name": "DatePickerModel",
      "state": {
       "description": "date",
       "disabled": false,
       "layout": "IPY_MODEL_7ced4bb728084570a4f61744e75059bd",
       "style": "IPY_MODEL_c8047225725a4767a50763fee1542052",
       "value": {
        "date": 23,
        "month": 4,
        "year": 2018
       }
      }
     },
     "9ca2f2f6ff0c41548614c4f03b711205": {
      "model_module": "@jupyter-widgets/base",
      "model_module_version": "1.2.0",
      "model_name": "LayoutModel",
      "state": {}
     },
     "9cfbb941be294802a09821177a8710f5": {
      "model_module": "@jupyter-widgets/controls",
      "model_module_version": "1.5.0",
      "model_name": "VBoxModel",
      "state": {
       "_dom_classes": [
        "widget-interact"
       ],
       "children": [
        "IPY_MODEL_e8cefc04013040ddbb771d41fcfba16f",
        "IPY_MODEL_dde0a1206ffe4e4283b29888ed5501c4"
       ],
       "layout": "IPY_MODEL_c3a290d6592841d9bc72d8a556b2d199"
      }
     },
     "9dff248b82a54a81822642f12d289fe9": {
      "model_module": "@jupyter-widgets/base",
      "model_module_version": "1.2.0",
      "model_name": "LayoutModel",
      "state": {}
     },
     "a0a4743f4df5460da80c3b4ad1d9f663": {
      "model_module": "@jupyter-widgets/controls",
      "model_module_version": "1.5.0",
      "model_name": "DescriptionStyleModel",
      "state": {
       "description_width": ""
      }
     },
     "a14535a733fe49279e687edb1846259a": {
      "model_module": "@jupyter-widgets/output",
      "model_module_version": "1.0.0",
      "model_name": "OutputModel",
      "state": {
       "layout": "IPY_MODEL_f0de22fef3a644a0a2cd4201d931ccd2"
      }
     },
     "a31323b6a8b4450d83f0b254ce8e9912": {
      "model_module": "@jupyter-widgets/controls",
      "model_module_version": "1.5.0",
      "model_name": "IntProgressModel",
      "state": {
       "bar_style": "success",
       "layout": "IPY_MODEL_3811fafa5b004d3ba5332ec7b5d3a238",
       "max": 5660,
       "style": "IPY_MODEL_9b9e87a4c0ef425fbe1be9930fa8f2aa",
       "value": 5660
      }
     },
     "a36450b99d8446788cdd120cae8d5eef": {
      "model_module": "@jupyter-widgets/base",
      "model_module_version": "1.2.0",
      "model_name": "LayoutModel",
      "state": {}
     },
     "a42c8832cea44b9d81c63cbeb44cbf63": {
      "model_module": "@jupyter-widgets/controls",
      "model_module_version": "1.5.0",
      "model_name": "DatePickerModel",
      "state": {
       "description": "date",
       "disabled": false,
       "layout": "IPY_MODEL_64a6db7f602f4ff494f492385e737685",
       "style": "IPY_MODEL_1d3e2053a6614a5b8cfed41e188da4df",
       "value": {
        "date": 23,
        "month": 4,
        "year": 2018
       }
      }
     },
     "a54724ef79e8400ca4700dc7eb869ab0": {
      "model_module": "@jupyter-widgets/base",
      "model_module_version": "1.2.0",
      "model_name": "LayoutModel",
      "state": {}
     },
     "a5878847ed7e42c38d4dbdc862fcc5fe": {
      "model_module": "@jupyter-widgets/controls",
      "model_module_version": "1.5.0",
      "model_name": "VBoxModel",
      "state": {
       "_dom_classes": [
        "widget-interact"
       ],
       "children": [
        "IPY_MODEL_54a9a446f272412daed6899f0a58d5e1",
        "IPY_MODEL_ae7a580f6d30434ab547cf8c456f8fbb"
       ],
       "layout": "IPY_MODEL_8df3585e30024050aa9d766aa83c796c"
      }
     },
     "a5ca3a4348684b878e47914824712fde": {
      "model_module": "@jupyter-widgets/controls",
      "model_module_version": "1.5.0",
      "model_name": "DescriptionStyleModel",
      "state": {
       "description_width": ""
      }
     },
     "a65223e470224b91aef7a0e1adf8b034": {
      "model_module": "@jupyter-widgets/controls",
      "model_module_version": "1.5.0",
      "model_name": "DatePickerModel",
      "state": {
       "description": "date",
       "disabled": false,
       "layout": "IPY_MODEL_2feeef9681db49db9a57750b24ebf4d2",
       "style": "IPY_MODEL_97df6f5551794d9c85d7bd894dada97b",
       "value": {
        "date": 23,
        "month": 4,
        "year": 2018
       }
      }
     },
     "a73ea4c2f090423293987d8769e7bcb9": {
      "model_module": "@jupyter-widgets/controls",
      "model_module_version": "1.5.0",
      "model_name": "VBoxModel",
      "state": {
       "_dom_classes": [
        "widget-interact"
       ],
       "children": [
        "IPY_MODEL_bfa9884e55e34d718233f96b80e8adba",
        "IPY_MODEL_6f6db7cbf4cb4a89b40294a21346cbe2"
       ],
       "layout": "IPY_MODEL_c38735f0e1b04041bf94b4792bfaa2bf"
      }
     },
     "a75556bc630642fb9b9175fa0dd12554": {
      "model_module": "@jupyter-widgets/controls",
      "model_module_version": "1.5.0",
      "model_name": "DescriptionStyleModel",
      "state": {
       "description_width": ""
      }
     },
     "a7ca7d84f0b14984a29c488abb4795f3": {
      "model_module": "@jupyter-widgets/controls",
      "model_module_version": "1.5.0",
      "model_name": "DescriptionStyleModel",
      "state": {
       "description_width": ""
      }
     },
     "a7d27d88a1564ac09ecd5677f3998a32": {
      "model_module": "@jupyter-widgets/base",
      "model_module_version": "1.2.0",
      "model_name": "LayoutModel",
      "state": {}
     },
     "a7faa7f40c3f4737a96946e812dd9166": {
      "model_module": "@jupyter-widgets/base",
      "model_module_version": "1.2.0",
      "model_name": "LayoutModel",
      "state": {}
     },
     "aaeabaf0b3884287bb1bf9cc2014339e": {
      "model_module": "@jupyter-widgets/base",
      "model_module_version": "1.2.0",
      "model_name": "LayoutModel",
      "state": {}
     },
     "aaf97247b5784e61993b0a45768181c9": {
      "model_module": "@jupyter-widgets/base",
      "model_module_version": "1.2.0",
      "model_name": "LayoutModel",
      "state": {}
     },
     "ab065a30353b42b2aa91fd902cea17ee": {
      "model_module": "@jupyter-widgets/base",
      "model_module_version": "1.2.0",
      "model_name": "LayoutModel",
      "state": {}
     },
     "ac6754bad09e4e5b937aa67a6f0a6d20": {
      "model_module": "@jupyter-widgets/base",
      "model_module_version": "1.2.0",
      "model_name": "LayoutModel",
      "state": {}
     },
     "ac9b0d59784c4fe3b3585eacf25dd539": {
      "model_module": "@jupyter-widgets/controls",
      "model_module_version": "1.5.0",
      "model_name": "VBoxModel",
      "state": {
       "_dom_classes": [
        "widget-interact"
       ],
       "children": [
        "IPY_MODEL_52a589bb8bab48e9afba5f7c366b7555",
        "IPY_MODEL_4bed69eaeaeb40ae9098a916957079ce",
        "IPY_MODEL_2d36b354149b4cf99fc5d25263524ec1"
       ],
       "layout": "IPY_MODEL_bd45ddcf470f48f9bb6748b993ad34a9"
      }
     },
     "ad1292425ae14063995817d588550eec": {
      "model_module": "@jupyter-widgets/output",
      "model_module_version": "1.0.0",
      "model_name": "OutputModel",
      "state": {
       "layout": "IPY_MODEL_4427e114354340f18c9c9a191db42e7f",
       "outputs": [
        {
         "name": "stdout",
         "output_type": "stream",
         "text": "2018-06-15\n"
        },
        {
         "ename": "AttributeError",
         "evalue": "'datetime.date' object has no attribute 'value'",
         "output_type": "error",
         "traceback": [
          "\u001b[1;31m---------------------------------------------------------------------------\u001b[0m",
          "\u001b[1;31mAttributeError\u001b[0m                            Traceback (most recent call last)",
          "\u001b[1;32m~\\AppData\\Local\\Continuum\\anaconda3\\lib\\site-packages\\ipywidgets\\widgets\\interaction.py\u001b[0m in \u001b[0;36mupdate\u001b[1;34m(self, *args)\u001b[0m\n\u001b[0;32m    254\u001b[0m                     \u001b[0mvalue\u001b[0m \u001b[1;33m=\u001b[0m \u001b[0mwidget\u001b[0m\u001b[1;33m.\u001b[0m\u001b[0mget_interact_value\u001b[0m\u001b[1;33m(\u001b[0m\u001b[1;33m)\u001b[0m\u001b[1;33m\u001b[0m\u001b[1;33m\u001b[0m\u001b[0m\n\u001b[0;32m    255\u001b[0m                     \u001b[0mself\u001b[0m\u001b[1;33m.\u001b[0m\u001b[0mkwargs\u001b[0m\u001b[1;33m[\u001b[0m\u001b[0mwidget\u001b[0m\u001b[1;33m.\u001b[0m\u001b[0m_kwarg\u001b[0m\u001b[1;33m]\u001b[0m \u001b[1;33m=\u001b[0m \u001b[0mvalue\u001b[0m\u001b[1;33m\u001b[0m\u001b[1;33m\u001b[0m\u001b[0m\n\u001b[1;32m--> 256\u001b[1;33m                 \u001b[0mself\u001b[0m\u001b[1;33m.\u001b[0m\u001b[0mresult\u001b[0m \u001b[1;33m=\u001b[0m \u001b[0mself\u001b[0m\u001b[1;33m.\u001b[0m\u001b[0mf\u001b[0m\u001b[1;33m(\u001b[0m\u001b[1;33m**\u001b[0m\u001b[0mself\u001b[0m\u001b[1;33m.\u001b[0m\u001b[0mkwargs\u001b[0m\u001b[1;33m)\u001b[0m\u001b[1;33m\u001b[0m\u001b[1;33m\u001b[0m\u001b[0m\n\u001b[0m\u001b[0;32m    257\u001b[0m                 \u001b[0mshow_inline_matplotlib_plots\u001b[0m\u001b[1;33m(\u001b[0m\u001b[1;33m)\u001b[0m\u001b[1;33m\u001b[0m\u001b[1;33m\u001b[0m\u001b[0m\n\u001b[0;32m    258\u001b[0m                 \u001b[1;32mif\u001b[0m \u001b[0mself\u001b[0m\u001b[1;33m.\u001b[0m\u001b[0mauto_display\u001b[0m \u001b[1;32mand\u001b[0m \u001b[0mself\u001b[0m\u001b[1;33m.\u001b[0m\u001b[0mresult\u001b[0m \u001b[1;32mis\u001b[0m \u001b[1;32mnot\u001b[0m \u001b[1;32mNone\u001b[0m\u001b[1;33m:\u001b[0m\u001b[1;33m\u001b[0m\u001b[1;33m\u001b[0m\u001b[0m\n",
          "\u001b[1;32m<ipython-input-52-30e6fc721c24>\u001b[0m in \u001b[0;36mpredict_price\u001b[1;34m(date)\u001b[0m\n\u001b[0;32m      3\u001b[0m \u001b[1;32mdef\u001b[0m \u001b[0mpredict_price\u001b[0m\u001b[1;33m(\u001b[0m\u001b[0mdate\u001b[0m\u001b[1;33m=\u001b[0m\u001b[0mwidgets\u001b[0m\u001b[1;33m.\u001b[0m\u001b[0mDatePicker\u001b[0m\u001b[1;33m(\u001b[0m\u001b[0mvalue\u001b[0m\u001b[1;33m=\u001b[0m\u001b[0mpd\u001b[0m\u001b[1;33m.\u001b[0m\u001b[0mto_datetime\u001b[0m\u001b[1;33m(\u001b[0m\u001b[0mdf\u001b[0m\u001b[1;33m[\u001b[0m\u001b[1;34m'Timestamp'\u001b[0m\u001b[1;33m]\u001b[0m\u001b[1;33m.\u001b[0m\u001b[0miloc\u001b[0m\u001b[1;33m[\u001b[0m\u001b[1;36m721\u001b[0m\u001b[1;33m]\u001b[0m\u001b[1;33m)\u001b[0m\u001b[1;33m)\u001b[0m\u001b[1;33m)\u001b[0m\u001b[1;33m:\u001b[0m\u001b[1;33m\u001b[0m\u001b[1;33m\u001b[0m\u001b[0m\n\u001b[0;32m      4\u001b[0m     \u001b[0mprint\u001b[0m\u001b[1;33m(\u001b[0m\u001b[0mdate\u001b[0m\u001b[1;33m)\u001b[0m\u001b[1;33m\u001b[0m\u001b[1;33m\u001b[0m\u001b[0m\n\u001b[1;32m----> 5\u001b[1;33m     \u001b[0md\u001b[0m \u001b[1;33m=\u001b[0m \u001b[0mpd\u001b[0m\u001b[1;33m.\u001b[0m\u001b[0mto_datetime\u001b[0m\u001b[1;33m(\u001b[0m\u001b[0mdate\u001b[0m\u001b[1;33m.\u001b[0m\u001b[0mvalue\u001b[0m\u001b[1;33m)\u001b[0m\u001b[1;33m\u001b[0m\u001b[1;33m\u001b[0m\u001b[0m\n\u001b[0m\u001b[0;32m      6\u001b[0m     \u001b[1;32mif\u001b[0m \u001b[0mlen\u001b[0m\u001b[1;33m(\u001b[0m\u001b[0mdf\u001b[0m\u001b[1;33m[\u001b[0m\u001b[0md\u001b[0m\u001b[1;33m==\u001b[0m\u001b[0mdf\u001b[0m\u001b[1;33m[\u001b[0m\u001b[1;34m'Timestamp'\u001b[0m\u001b[1;33m]\u001b[0m\u001b[1;33m]\u001b[0m\u001b[1;33m)\u001b[0m \u001b[1;33m<\u001b[0m \u001b[1;36m1\u001b[0m\u001b[1;33m:\u001b[0m\u001b[1;33m\u001b[0m\u001b[1;33m\u001b[0m\u001b[0m\n\u001b[0;32m      7\u001b[0m            \u001b[0mprint\u001b[0m\u001b[1;33m(\u001b[0m\u001b[1;34m\"Date out of range! Select again\"\u001b[0m\u001b[1;33m)\u001b[0m\u001b[1;33m\u001b[0m\u001b[1;33m\u001b[0m\u001b[0m\n",
          "\u001b[1;31mAttributeError\u001b[0m: 'datetime.date' object has no attribute 'value'"
         ]
        }
       ]
      }
     },
     "ae5b4053f5734543ac696626bb65e4e0": {
      "model_module": "@jupyter-widgets/base",
      "model_module_version": "1.2.0",
      "model_name": "LayoutModel",
      "state": {}
     },
     "ae7a580f6d30434ab547cf8c456f8fbb": {
      "model_module": "@jupyter-widgets/output",
      "model_module_version": "1.0.0",
      "model_name": "OutputModel",
      "state": {
       "layout": "IPY_MODEL_ae5b4053f5734543ac696626bb65e4e0",
       "outputs": [
        {
         "name": "stdout",
         "output_type": "stream",
         "text": "2018-06-29 00:00:00\n"
        },
        {
         "ename": "IndexError",
         "evalue": "index 0 is out of bounds for axis 0 with size 0",
         "output_type": "error",
         "traceback": [
          "\u001b[1;31m---------------------------------------------------------------------------\u001b[0m",
          "\u001b[1;31mIndexError\u001b[0m                                Traceback (most recent call last)",
          "\u001b[1;32m~\\AppData\\Local\\Continuum\\anaconda3\\lib\\site-packages\\ipywidgets\\widgets\\interaction.py\u001b[0m in \u001b[0;36mupdate\u001b[1;34m(self, *args)\u001b[0m\n\u001b[0;32m    254\u001b[0m                     \u001b[0mvalue\u001b[0m \u001b[1;33m=\u001b[0m \u001b[0mwidget\u001b[0m\u001b[1;33m.\u001b[0m\u001b[0mget_interact_value\u001b[0m\u001b[1;33m(\u001b[0m\u001b[1;33m)\u001b[0m\u001b[1;33m\u001b[0m\u001b[1;33m\u001b[0m\u001b[0m\n\u001b[0;32m    255\u001b[0m                     \u001b[0mself\u001b[0m\u001b[1;33m.\u001b[0m\u001b[0mkwargs\u001b[0m\u001b[1;33m[\u001b[0m\u001b[0mwidget\u001b[0m\u001b[1;33m.\u001b[0m\u001b[0m_kwarg\u001b[0m\u001b[1;33m]\u001b[0m \u001b[1;33m=\u001b[0m \u001b[0mvalue\u001b[0m\u001b[1;33m\u001b[0m\u001b[1;33m\u001b[0m\u001b[0m\n\u001b[1;32m--> 256\u001b[1;33m                 \u001b[0mself\u001b[0m\u001b[1;33m.\u001b[0m\u001b[0mresult\u001b[0m \u001b[1;33m=\u001b[0m \u001b[0mself\u001b[0m\u001b[1;33m.\u001b[0m\u001b[0mf\u001b[0m\u001b[1;33m(\u001b[0m\u001b[1;33m**\u001b[0m\u001b[0mself\u001b[0m\u001b[1;33m.\u001b[0m\u001b[0mkwargs\u001b[0m\u001b[1;33m)\u001b[0m\u001b[1;33m\u001b[0m\u001b[1;33m\u001b[0m\u001b[0m\n\u001b[0m\u001b[0;32m    257\u001b[0m                 \u001b[0mshow_inline_matplotlib_plots\u001b[0m\u001b[1;33m(\u001b[0m\u001b[1;33m)\u001b[0m\u001b[1;33m\u001b[0m\u001b[1;33m\u001b[0m\u001b[0m\n\u001b[0;32m    258\u001b[0m                 \u001b[1;32mif\u001b[0m \u001b[0mself\u001b[0m\u001b[1;33m.\u001b[0m\u001b[0mauto_display\u001b[0m \u001b[1;32mand\u001b[0m \u001b[0mself\u001b[0m\u001b[1;33m.\u001b[0m\u001b[0mresult\u001b[0m \u001b[1;32mis\u001b[0m \u001b[1;32mnot\u001b[0m \u001b[1;32mNone\u001b[0m\u001b[1;33m:\u001b[0m\u001b[1;33m\u001b[0m\u001b[1;33m\u001b[0m\u001b[0m\n",
          "\u001b[1;32m<ipython-input-58-f8c7ca451814>\u001b[0m in \u001b[0;36mpredict_price\u001b[1;34m(date)\u001b[0m\n\u001b[0;32m      7\u001b[0m            \u001b[0mprint\u001b[0m\u001b[1;33m(\u001b[0m\u001b[1;34m\"Date out of range! Select again\"\u001b[0m\u001b[1;33m)\u001b[0m\u001b[1;33m\u001b[0m\u001b[1;33m\u001b[0m\u001b[0m\n\u001b[0;32m      8\u001b[0m     \u001b[1;32melse\u001b[0m\u001b[1;33m:\u001b[0m\u001b[1;33m\u001b[0m\u001b[1;33m\u001b[0m\u001b[0m\n\u001b[1;32m----> 9\u001b[1;33m         \u001b[0mi\u001b[0m \u001b[1;33m=\u001b[0m \u001b[0mdf\u001b[0m\u001b[1;33m[\u001b[0m\u001b[0md\u001b[0m\u001b[1;33m==\u001b[0m\u001b[0mdf\u001b[0m\u001b[1;33m[\u001b[0m\u001b[1;34m'Timestamp'\u001b[0m\u001b[1;33m]\u001b[0m\u001b[1;33m]\u001b[0m\u001b[1;33m.\u001b[0m\u001b[0mindex\u001b[0m\u001b[1;33m.\u001b[0m\u001b[0mvalues\u001b[0m\u001b[1;33m.\u001b[0m\u001b[0mastype\u001b[0m\u001b[1;33m(\u001b[0m\u001b[0mint\u001b[0m\u001b[1;33m)\u001b[0m\u001b[1;33m[\u001b[0m\u001b[1;36m0\u001b[0m\u001b[1;33m]\u001b[0m\u001b[1;33m\u001b[0m\u001b[1;33m\u001b[0m\u001b[0m\n\u001b[0m\u001b[0;32m     10\u001b[0m         \u001b[1;31m#print(i)\u001b[0m\u001b[1;33m\u001b[0m\u001b[1;33m\u001b[0m\u001b[1;33m\u001b[0m\u001b[0m\n\u001b[0;32m     11\u001b[0m         \u001b[0mdf_test\u001b[0m \u001b[1;33m=\u001b[0m \u001b[0mdf\u001b[0m\u001b[1;33m.\u001b[0m\u001b[0mloc\u001b[0m\u001b[1;33m[\u001b[0m\u001b[1;33m:\u001b[0m\u001b[0mi\u001b[0m\u001b[1;33m+\u001b[0m\u001b[1;36m500\u001b[0m\u001b[1;33m]\u001b[0m\u001b[1;33m\u001b[0m\u001b[1;33m\u001b[0m\u001b[0m\n",
          "\u001b[1;31mIndexError\u001b[0m: index 0 is out of bounds for axis 0 with size 0"
         ]
        }
       ]
      }
     },
     "aeb0a5a10446454985917df96eb34c24": {
      "model_module": "@jupyter-widgets/output",
      "model_module_version": "1.0.0",
      "model_name": "OutputModel",
      "state": {
       "layout": "IPY_MODEL_e321c61a82b84ac284e00bbea772e9b0",
       "outputs": [
        {
         "ename": "AttributeError",
         "evalue": "'datetime.date' object has no attribute 'value'",
         "output_type": "error",
         "traceback": [
          "\u001b[1;31m---------------------------------------------------------------------------\u001b[0m",
          "\u001b[1;31mAttributeError\u001b[0m                            Traceback (most recent call last)",
          "\u001b[1;32m~\\AppData\\Local\\Continuum\\anaconda3\\lib\\site-packages\\ipywidgets\\widgets\\interaction.py\u001b[0m in \u001b[0;36mupdate\u001b[1;34m(self, *args)\u001b[0m\n\u001b[0;32m    254\u001b[0m                     \u001b[0mvalue\u001b[0m \u001b[1;33m=\u001b[0m \u001b[0mwidget\u001b[0m\u001b[1;33m.\u001b[0m\u001b[0mget_interact_value\u001b[0m\u001b[1;33m(\u001b[0m\u001b[1;33m)\u001b[0m\u001b[1;33m\u001b[0m\u001b[1;33m\u001b[0m\u001b[0m\n\u001b[0;32m    255\u001b[0m                     \u001b[0mself\u001b[0m\u001b[1;33m.\u001b[0m\u001b[0mkwargs\u001b[0m\u001b[1;33m[\u001b[0m\u001b[0mwidget\u001b[0m\u001b[1;33m.\u001b[0m\u001b[0m_kwarg\u001b[0m\u001b[1;33m]\u001b[0m \u001b[1;33m=\u001b[0m \u001b[0mvalue\u001b[0m\u001b[1;33m\u001b[0m\u001b[1;33m\u001b[0m\u001b[0m\n\u001b[1;32m--> 256\u001b[1;33m                 \u001b[0mself\u001b[0m\u001b[1;33m.\u001b[0m\u001b[0mresult\u001b[0m \u001b[1;33m=\u001b[0m \u001b[0mself\u001b[0m\u001b[1;33m.\u001b[0m\u001b[0mf\u001b[0m\u001b[1;33m(\u001b[0m\u001b[1;33m**\u001b[0m\u001b[0mself\u001b[0m\u001b[1;33m.\u001b[0m\u001b[0mkwargs\u001b[0m\u001b[1;33m)\u001b[0m\u001b[1;33m\u001b[0m\u001b[1;33m\u001b[0m\u001b[0m\n\u001b[0m\u001b[0;32m    257\u001b[0m                 \u001b[0mshow_inline_matplotlib_plots\u001b[0m\u001b[1;33m(\u001b[0m\u001b[1;33m)\u001b[0m\u001b[1;33m\u001b[0m\u001b[1;33m\u001b[0m\u001b[0m\n\u001b[0;32m    258\u001b[0m                 \u001b[1;32mif\u001b[0m \u001b[0mself\u001b[0m\u001b[1;33m.\u001b[0m\u001b[0mauto_display\u001b[0m \u001b[1;32mand\u001b[0m \u001b[0mself\u001b[0m\u001b[1;33m.\u001b[0m\u001b[0mresult\u001b[0m \u001b[1;32mis\u001b[0m \u001b[1;32mnot\u001b[0m \u001b[1;32mNone\u001b[0m\u001b[1;33m:\u001b[0m\u001b[1;33m\u001b[0m\u001b[1;33m\u001b[0m\u001b[0m\n",
          "\u001b[1;32m<ipython-input-51-8a65aac3d86e>\u001b[0m in \u001b[0;36mpredict_price\u001b[1;34m(date)\u001b[0m\n\u001b[0;32m      2\u001b[0m \u001b[1;33m@\u001b[0m\u001b[0minteract\u001b[0m\u001b[1;33m\u001b[0m\u001b[1;33m\u001b[0m\u001b[0m\n\u001b[0;32m      3\u001b[0m \u001b[1;32mdef\u001b[0m \u001b[0mpredict_price\u001b[0m\u001b[1;33m(\u001b[0m\u001b[0mdate\u001b[0m\u001b[1;33m=\u001b[0m\u001b[0mwidgets\u001b[0m\u001b[1;33m.\u001b[0m\u001b[0mDatePicker\u001b[0m\u001b[1;33m(\u001b[0m\u001b[0mvalue\u001b[0m\u001b[1;33m=\u001b[0m\u001b[0mpd\u001b[0m\u001b[1;33m.\u001b[0m\u001b[0mto_datetime\u001b[0m\u001b[1;33m(\u001b[0m\u001b[0mdf\u001b[0m\u001b[1;33m[\u001b[0m\u001b[1;34m'Timestamp'\u001b[0m\u001b[1;33m]\u001b[0m\u001b[1;33m.\u001b[0m\u001b[0miloc\u001b[0m\u001b[1;33m[\u001b[0m\u001b[1;36m721\u001b[0m\u001b[1;33m]\u001b[0m\u001b[1;33m)\u001b[0m\u001b[1;33m)\u001b[0m\u001b[1;33m)\u001b[0m\u001b[1;33m:\u001b[0m\u001b[1;33m\u001b[0m\u001b[1;33m\u001b[0m\u001b[0m\n\u001b[1;32m----> 4\u001b[1;33m     \u001b[0md\u001b[0m \u001b[1;33m=\u001b[0m \u001b[0mpd\u001b[0m\u001b[1;33m.\u001b[0m\u001b[0mto_datetime\u001b[0m\u001b[1;33m(\u001b[0m\u001b[0mdate\u001b[0m\u001b[1;33m.\u001b[0m\u001b[0mvalue\u001b[0m\u001b[1;33m)\u001b[0m\u001b[1;33m\u001b[0m\u001b[1;33m\u001b[0m\u001b[0m\n\u001b[0m\u001b[0;32m      5\u001b[0m     \u001b[1;32mif\u001b[0m \u001b[0mlen\u001b[0m\u001b[1;33m(\u001b[0m\u001b[0mdf\u001b[0m\u001b[1;33m[\u001b[0m\u001b[0md\u001b[0m\u001b[1;33m==\u001b[0m\u001b[0mdf\u001b[0m\u001b[1;33m[\u001b[0m\u001b[1;34m'Timestamp'\u001b[0m\u001b[1;33m]\u001b[0m\u001b[1;33m]\u001b[0m\u001b[1;33m)\u001b[0m \u001b[1;33m<\u001b[0m \u001b[1;36m1\u001b[0m\u001b[1;33m:\u001b[0m\u001b[1;33m\u001b[0m\u001b[1;33m\u001b[0m\u001b[0m\n\u001b[0;32m      6\u001b[0m            \u001b[0mprint\u001b[0m\u001b[1;33m(\u001b[0m\u001b[1;34m\"Date out of range! Select again\"\u001b[0m\u001b[1;33m)\u001b[0m\u001b[1;33m\u001b[0m\u001b[1;33m\u001b[0m\u001b[0m\n",
          "\u001b[1;31mAttributeError\u001b[0m: 'datetime.date' object has no attribute 'value'"
         ]
        }
       ]
      }
     },
     "aec328f16e0247ae9cb4cd0a955c6754": {
      "model_module": "@jupyter-widgets/base",
      "model_module_version": "1.2.0",
      "model_name": "LayoutModel",
      "state": {}
     },
     "aecabc4aec9b4a5582005471de935664": {
      "model_module": "@jupyter-widgets/controls",
      "model_module_version": "1.5.0",
      "model_name": "VBoxModel",
      "state": {
       "_dom_classes": [
        "widget-interact"
       ],
       "children": [
        "IPY_MODEL_058e3d56c4b441fba6cb772996bd09cd",
        "IPY_MODEL_675357e752894a34b959b55d54678efb"
       ],
       "layout": "IPY_MODEL_9dff248b82a54a81822642f12d289fe9"
      }
     },
     "af3f7f9ea558447783d13a90d5c491d3": {
      "model_module": "@jupyter-widgets/base",
      "model_module_version": "1.2.0",
      "model_name": "LayoutModel",
      "state": {}
     },
     "afc06a78868e429089dbf3f2606ac81a": {
      "model_module": "@jupyter-widgets/controls",
      "model_module_version": "1.5.0",
      "model_name": "DatePickerModel",
      "state": {
       "description": "date",
       "disabled": false,
       "layout": "IPY_MODEL_1c8ff4b92afb4fdf85e5f4e825b8f6c7",
       "style": "IPY_MODEL_f4b91c32298e4c2dab1556331c5647d8",
       "value": {
        "date": 23,
        "month": 4,
        "year": 2018
       }
      }
     },
     "b0666475f19941e495d0c493dc9f6977": {
      "model_module": "@jupyter-widgets/controls",
      "model_module_version": "1.5.0",
      "model_name": "VBoxModel",
      "state": {
       "_dom_classes": [
        "widget-interact"
       ],
       "children": [
        "IPY_MODEL_2a26658d87014d43b708ac4f78f53953",
        "IPY_MODEL_1742f009d9724f4fb631c4ac7bd671c0"
       ],
       "layout": "IPY_MODEL_66b4cbba1c4243f880e32917ae4dc741"
      }
     },
     "b086e0fda22741bbbcc2e74f8323da0b": {
      "model_module": "@jupyter-widgets/controls",
      "model_module_version": "1.5.0",
      "model_name": "VBoxModel",
      "state": {
       "_dom_classes": [
        "widget-interact"
       ],
       "children": [
        "IPY_MODEL_d543683da39c46ebbbffa02195f73150",
        "IPY_MODEL_e0e6c3d071a0491eafb2afe19ac2bd9b"
       ],
       "layout": "IPY_MODEL_e125586c1f61409992de505e091d4edd"
      }
     },
     "b0bd93270a43452ca0ccd8be4923d275": {
      "model_module": "@jupyter-widgets/output",
      "model_module_version": "1.0.0",
      "model_name": "OutputModel",
      "state": {
       "layout": "IPY_MODEL_8e64037d020c4324842493bba4bdd087",
       "outputs": [
        {
         "name": "stdout",
         "output_type": "stream",
         "text": "[Timestamp('2018-06-18 02:00:00'), Timestamp('2018-06-18 02:30:00'), Timestamp('2018-06-18 03:00:00'), Timestamp('2018-06-18 03:30:00'), Timestamp('2018-06-18 04:00:00'), Timestamp('2018-06-18 04:30:00'), Timestamp('2018-06-18 05:00:00'), Timestamp('2018-06-18 05:30:00'), Timestamp('2018-06-18 06:00:00'), Timestamp('2018-06-18 06:30:00'), Timestamp('2018-06-18 07:00:00'), Timestamp('2018-06-18 07:30:00'), Timestamp('2018-06-18 08:00:00'), Timestamp('2018-06-18 08:30:00'), Timestamp('2018-06-18 09:00:00'), Timestamp('2018-06-18 09:30:00'), Timestamp('2018-06-18 10:00:00'), Timestamp('2018-06-18 10:30:00'), Timestamp('2018-06-18 11:00:00'), Timestamp('2018-06-18 11:30:00'), Timestamp('2018-06-18 12:00:00'), Timestamp('2018-06-18 12:30:00'), Timestamp('2018-06-18 13:00:00'), Timestamp('2018-06-18 13:30:00'), Timestamp('2018-06-18 14:00:00'), Timestamp('2018-06-18 14:30:00'), Timestamp('2018-06-18 15:00:00'), Timestamp('2018-06-18 15:30:00'), Timestamp('2018-06-18 16:00:00'), Timestamp('2018-06-18 16:30:00'), Timestamp('2018-06-18 17:00:00'), Timestamp('2018-06-18 17:30:00'), Timestamp('2018-06-18 18:00:00'), Timestamp('2018-06-18 18:30:00'), Timestamp('2018-06-18 19:00:00'), Timestamp('2018-06-18 19:30:00'), Timestamp('2018-06-18 20:00:00'), Timestamp('2018-06-18 20:30:00'), Timestamp('2018-06-18 21:00:00'), Timestamp('2018-06-18 21:30:00'), Timestamp('2018-06-18 22:00:00'), Timestamp('2018-06-18 22:30:00'), Timestamp('2018-06-18 23:00:00'), Timestamp('2018-06-18 23:30:00'), Timestamp('2018-06-19 00:00:00'), Timestamp('2018-06-19 00:30:00'), Timestamp('2018-06-19 01:00:00'), Timestamp('2018-06-19 01:30:00'), Timestamp('2018-06-19 02:00:00'), Timestamp('2018-06-19 02:30:00'), Timestamp('2018-06-19 03:00:00'), Timestamp('2018-06-19 03:30:00'), Timestamp('2018-06-19 04:00:00'), Timestamp('2018-06-19 04:30:00'), Timestamp('2018-06-19 05:00:00'), Timestamp('2018-06-19 05:30:00'), Timestamp('2018-06-19 06:00:00'), Timestamp('2018-06-19 06:30:00'), Timestamp('2018-06-19 07:00:00'), Timestamp('2018-06-19 07:30:00'), Timestamp('2018-06-19 08:00:00'), Timestamp('2018-06-19 08:30:00'), Timestamp('2018-06-19 09:00:00'), Timestamp('2018-06-19 09:30:00'), Timestamp('2018-06-19 10:00:00'), Timestamp('2018-06-19 10:30:00'), Timestamp('2018-06-19 11:00:00'), Timestamp('2018-06-19 11:30:00'), Timestamp('2018-06-19 12:00:00'), Timestamp('2018-06-19 12:30:00'), Timestamp('2018-06-19 13:00:00'), Timestamp('2018-06-19 13:30:00'), Timestamp('2018-06-19 14:00:00'), Timestamp('2018-06-19 14:30:00'), Timestamp('2018-06-19 15:00:00'), Timestamp('2018-06-19 15:30:00'), Timestamp('2018-06-19 16:00:00'), Timestamp('2018-06-19 16:30:00'), Timestamp('2018-06-19 17:00:00'), Timestamp('2018-06-19 17:30:00'), Timestamp('2018-06-19 18:00:00'), Timestamp('2018-06-19 18:30:00'), Timestamp('2018-06-19 19:00:00'), Timestamp('2018-06-19 19:30:00'), Timestamp('2018-06-19 20:00:00'), Timestamp('2018-06-19 20:30:00'), Timestamp('2018-06-19 21:00:00'), Timestamp('2018-06-19 21:30:00'), Timestamp('2018-06-19 22:00:00'), Timestamp('2018-06-19 22:30:00'), Timestamp('2018-06-19 23:00:00'), Timestamp('2018-06-19 23:30:00'), Timestamp('2018-06-20 00:00:00'), Timestamp('2018-06-20 00:30:00'), Timestamp('2018-06-20 01:00:00'), Timestamp('2018-06-20 01:30:00'), Timestamp('2018-06-20 02:00:00'), Timestamp('2018-06-20 02:30:00'), Timestamp('2018-06-20 03:00:00'), Timestamp('2018-06-20 03:30:00'), Timestamp('2018-06-20 04:00:00'), Timestamp('2018-06-20 04:30:00'), Timestamp('2018-06-20 05:00:00'), Timestamp('2018-06-20 05:30:00'), Timestamp('2018-06-20 06:00:00'), Timestamp('2018-06-20 06:30:00'), Timestamp('2018-06-20 07:00:00'), Timestamp('2018-06-20 07:30:00'), Timestamp('2018-06-20 08:00:00'), Timestamp('2018-06-20 08:30:00'), Timestamp('2018-06-20 09:00:00'), Timestamp('2018-06-20 09:30:00'), Timestamp('2018-06-20 10:00:00'), Timestamp('2018-06-20 10:30:00'), Timestamp('2018-06-20 11:00:00'), Timestamp('2018-06-20 11:30:00'), Timestamp('2018-06-20 12:00:00'), Timestamp('2018-06-20 12:30:00'), Timestamp('2018-06-20 13:00:00'), Timestamp('2018-06-20 13:30:00'), Timestamp('2018-06-20 14:00:00'), Timestamp('2018-06-20 14:30:00'), Timestamp('2018-06-20 15:00:00'), Timestamp('2018-06-20 15:30:00'), Timestamp('2018-06-20 16:00:00'), Timestamp('2018-06-20 16:30:00'), Timestamp('2018-06-20 17:00:00'), Timestamp('2018-06-20 17:30:00'), Timestamp('2018-06-20 18:00:00'), Timestamp('2018-06-20 18:30:00'), Timestamp('2018-06-20 19:00:00'), Timestamp('2018-06-20 19:30:00'), Timestamp('2018-06-20 20:00:00'), Timestamp('2018-06-20 20:30:00'), Timestamp('2018-06-20 21:00:00'), Timestamp('2018-06-20 21:30:00'), Timestamp('2018-06-20 22:00:00'), Timestamp('2018-06-20 22:30:00'), Timestamp('2018-06-20 23:00:00'), Timestamp('2018-06-20 23:30:00'), Timestamp('2018-06-21 00:00:00'), Timestamp('2018-06-21 00:30:00'), Timestamp('2018-06-21 01:00:00'), Timestamp('2018-06-21 01:30:00'), Timestamp('2018-06-21 02:00:00'), Timestamp('2018-06-21 02:30:00'), Timestamp('2018-06-21 03:00:00'), Timestamp('2018-06-21 03:30:00'), Timestamp('2018-06-21 04:00:00'), Timestamp('2018-06-21 04:30:00'), Timestamp('2018-06-21 05:00:00'), Timestamp('2018-06-21 05:30:00'), Timestamp('2018-06-21 06:00:00'), Timestamp('2018-06-21 06:30:00'), Timestamp('2018-06-21 07:00:00'), Timestamp('2018-06-21 07:30:00'), Timestamp('2018-06-21 08:00:00'), Timestamp('2018-06-21 08:30:00'), Timestamp('2018-06-21 09:00:00'), Timestamp('2018-06-21 09:30:00'), Timestamp('2018-06-21 10:00:00'), Timestamp('2018-06-21 10:30:00'), Timestamp('2018-06-21 11:00:00'), Timestamp('2018-06-21 11:30:00'), Timestamp('2018-06-21 12:00:00'), Timestamp('2018-06-21 12:30:00'), Timestamp('2018-06-21 13:00:00'), Timestamp('2018-06-21 13:30:00'), Timestamp('2018-06-21 14:00:00'), Timestamp('2018-06-21 14:30:00'), Timestamp('2018-06-21 15:00:00'), Timestamp('2018-06-21 15:30:00'), Timestamp('2018-06-21 16:00:00'), Timestamp('2018-06-21 16:30:00'), Timestamp('2018-06-21 17:00:00'), Timestamp('2018-06-21 17:30:00'), Timestamp('2018-06-21 18:00:00'), Timestamp('2018-06-21 18:30:00'), Timestamp('2018-06-21 19:00:00'), Timestamp('2018-06-21 19:30:00'), Timestamp('2018-06-21 20:00:00'), Timestamp('2018-06-21 20:30:00'), Timestamp('2018-06-21 21:00:00'), Timestamp('2018-06-21 21:30:00'), Timestamp('2018-06-21 22:00:00'), Timestamp('2018-06-21 22:30:00'), Timestamp('2018-06-21 23:00:00'), Timestamp('2018-06-21 23:30:00'), Timestamp('2018-06-22 00:00:00'), Timestamp('2018-06-22 00:30:00'), Timestamp('2018-06-22 01:00:00'), Timestamp('2018-06-22 01:30:00'), Timestamp('2018-06-22 02:00:00'), Timestamp('2018-06-22 02:30:00'), Timestamp('2018-06-22 03:00:00'), Timestamp('2018-06-22 03:30:00'), Timestamp('2018-06-22 04:00:00'), Timestamp('2018-06-22 04:30:00'), Timestamp('2018-06-22 05:00:00'), Timestamp('2018-06-22 05:30:00'), Timestamp('2018-06-22 06:00:00'), Timestamp('2018-06-22 06:30:00'), Timestamp('2018-06-22 07:00:00'), Timestamp('2018-06-22 07:30:00'), Timestamp('2018-06-22 08:00:00'), Timestamp('2018-06-22 08:30:00'), Timestamp('2018-06-22 09:00:00'), Timestamp('2018-06-22 09:30:00'), Timestamp('2018-06-22 10:00:00'), Timestamp('2018-06-22 10:30:00'), Timestamp('2018-06-22 11:00:00'), Timestamp('2018-06-22 11:30:00'), Timestamp('2018-06-22 12:00:00'), Timestamp('2018-06-22 12:30:00'), Timestamp('2018-06-22 13:00:00'), Timestamp('2018-06-22 13:30:00'), Timestamp('2018-06-22 14:00:00'), Timestamp('2018-06-22 14:30:00'), Timestamp('2018-06-22 15:00:00'), Timestamp('2018-06-22 15:30:00'), Timestamp('2018-06-22 16:00:00'), Timestamp('2018-06-22 16:30:00'), Timestamp('2018-06-22 17:00:00'), Timestamp('2018-06-22 17:30:00'), Timestamp('2018-06-22 18:00:00'), Timestamp('2018-06-22 18:30:00'), Timestamp('2018-06-22 19:00:00'), Timestamp('2018-06-22 19:30:00'), Timestamp('2018-06-22 20:00:00'), Timestamp('2018-06-22 20:30:00'), Timestamp('2018-06-22 21:00:00'), Timestamp('2018-06-22 21:30:00'), Timestamp('2018-06-22 22:00:00'), Timestamp('2018-06-22 22:30:00'), Timestamp('2018-06-22 23:00:00'), Timestamp('2018-06-22 23:30:00'), Timestamp('2018-06-23 00:00:00'), Timestamp('2018-06-23 00:30:00'), Timestamp('2018-06-23 01:00:00'), Timestamp('2018-06-23 01:30:00'), Timestamp('2018-06-23 02:00:00'), Timestamp('2018-06-23 02:30:00'), Timestamp('2018-06-23 03:00:00'), Timestamp('2018-06-23 03:30:00'), Timestamp('2018-06-23 04:00:00'), Timestamp('2018-06-23 04:30:00'), Timestamp('2018-06-23 05:00:00'), Timestamp('2018-06-23 05:30:00'), Timestamp('2018-06-23 06:00:00'), Timestamp('2018-06-23 06:30:00'), Timestamp('2018-06-23 07:00:00'), Timestamp('2018-06-23 07:30:00'), Timestamp('2018-06-23 08:00:00'), Timestamp('2018-06-23 08:30:00'), Timestamp('2018-06-23 09:00:00'), Timestamp('2018-06-23 09:30:00'), Timestamp('2018-06-23 10:00:00'), Timestamp('2018-06-23 10:30:00'), Timestamp('2018-06-23 11:00:00'), Timestamp('2018-06-23 11:30:00'), Timestamp('2018-06-23 12:00:00'), Timestamp('2018-06-23 12:30:00'), Timestamp('2018-06-23 13:00:00'), Timestamp('2018-06-23 13:30:00'), Timestamp('2018-06-23 14:00:00'), Timestamp('2018-06-23 14:30:00'), Timestamp('2018-06-23 15:00:00'), Timestamp('2018-06-23 15:30:00'), Timestamp('2018-06-23 16:00:00'), Timestamp('2018-06-23 16:30:00'), Timestamp('2018-06-23 17:00:00'), Timestamp('2018-06-23 17:30:00'), Timestamp('2018-06-23 18:00:00'), Timestamp('2018-06-23 18:30:00'), Timestamp('2018-06-23 19:00:00'), Timestamp('2018-06-23 19:30:00'), Timestamp('2018-06-23 20:00:00'), Timestamp('2018-06-23 20:30:00'), Timestamp('2018-06-23 21:00:00'), Timestamp('2018-06-23 21:30:00'), Timestamp('2018-06-23 22:00:00'), Timestamp('2018-06-23 22:30:00'), Timestamp('2018-06-23 23:00:00'), Timestamp('2018-06-23 23:30:00'), Timestamp('2018-06-24 00:00:00'), Timestamp('2018-06-24 00:30:00'), Timestamp('2018-06-24 01:00:00'), Timestamp('2018-06-24 01:30:00'), Timestamp('2018-06-24 02:00:00'), Timestamp('2018-06-24 02:30:00'), Timestamp('2018-06-24 03:00:00'), Timestamp('2018-06-24 03:30:00'), Timestamp('2018-06-24 04:00:00'), Timestamp('2018-06-24 04:30:00'), Timestamp('2018-06-24 05:00:00'), Timestamp('2018-06-24 05:30:00'), Timestamp('2018-06-24 06:00:00'), Timestamp('2018-06-24 06:30:00'), Timestamp('2018-06-24 07:00:00'), Timestamp('2018-06-24 07:30:00'), Timestamp('2018-06-24 08:00:00'), Timestamp('2018-06-24 08:30:00'), Timestamp('2018-06-24 09:00:00'), Timestamp('2018-06-24 09:30:00'), Timestamp('2018-06-24 10:00:00'), Timestamp('2018-06-24 10:30:00'), Timestamp('2018-06-24 11:00:00'), Timestamp('2018-06-24 11:30:00'), Timestamp('2018-06-24 12:00:00'), Timestamp('2018-06-24 12:30:00'), Timestamp('2018-06-24 13:00:00'), Timestamp('2018-06-24 13:30:00'), Timestamp('2018-06-24 14:00:00'), Timestamp('2018-06-24 14:30:00'), Timestamp('2018-06-24 15:00:00'), Timestamp('2018-06-24 15:30:00'), Timestamp('2018-06-24 16:00:00'), Timestamp('2018-06-24 16:30:00'), Timestamp('2018-06-24 17:00:00'), Timestamp('2018-06-24 17:30:00'), Timestamp('2018-06-24 18:00:00'), Timestamp('2018-06-24 18:30:00'), Timestamp('2018-06-24 19:00:00'), Timestamp('2018-06-24 19:30:00'), Timestamp('2018-06-24 20:00:00'), Timestamp('2018-06-24 20:30:00'), Timestamp('2018-06-24 21:00:00'), Timestamp('2018-06-24 21:30:00'), Timestamp('2018-06-24 22:00:00'), Timestamp('2018-06-24 22:30:00'), Timestamp('2018-06-24 23:00:00'), Timestamp('2018-06-24 23:30:00'), Timestamp('2018-06-25 00:00:00'), Timestamp('2018-06-25 00:30:00'), Timestamp('2018-06-25 01:00:00'), Timestamp('2018-06-25 01:30:00'), Timestamp('2018-06-25 02:00:00'), Timestamp('2018-06-25 02:30:00'), Timestamp('2018-06-25 03:00:00'), Timestamp('2018-06-25 03:30:00'), Timestamp('2018-06-25 04:00:00'), Timestamp('2018-06-25 04:30:00'), Timestamp('2018-06-25 05:00:00'), Timestamp('2018-06-25 05:30:00'), Timestamp('2018-06-25 06:00:00'), Timestamp('2018-06-25 06:30:00'), Timestamp('2018-06-25 07:00:00'), Timestamp('2018-06-25 07:30:00'), Timestamp('2018-06-25 08:00:00'), Timestamp('2018-06-25 08:30:00'), Timestamp('2018-06-25 09:00:00'), Timestamp('2018-06-25 09:30:00'), Timestamp('2018-06-25 10:00:00'), Timestamp('2018-06-25 10:30:00'), Timestamp('2018-06-25 11:00:00'), Timestamp('2018-06-25 11:30:00'), Timestamp('2018-06-25 12:00:00'), Timestamp('2018-06-25 12:30:00'), Timestamp('2018-06-25 13:00:00'), Timestamp('2018-06-25 13:30:00'), Timestamp('2018-06-25 14:00:00'), Timestamp('2018-06-25 14:30:00'), Timestamp('2018-06-25 15:00:00'), Timestamp('2018-06-25 15:30:00'), Timestamp('2018-06-25 16:00:00'), Timestamp('2018-06-25 16:30:00'), Timestamp('2018-06-25 17:00:00'), Timestamp('2018-06-25 17:30:00'), Timestamp('2018-06-25 18:00:00'), Timestamp('2018-06-25 18:30:00'), Timestamp('2018-06-25 19:00:00'), Timestamp('2018-06-25 19:30:00'), Timestamp('2018-06-25 20:00:00'), Timestamp('2018-06-25 20:30:00'), Timestamp('2018-06-25 21:00:00'), Timestamp('2018-06-25 21:30:00'), Timestamp('2018-06-25 22:00:00'), Timestamp('2018-06-25 22:30:00'), Timestamp('2018-06-25 23:00:00'), Timestamp('2018-06-25 23:30:00'), Timestamp('2018-06-26 00:00:00'), Timestamp('2018-06-26 00:30:00'), Timestamp('2018-06-26 01:00:00'), Timestamp('2018-06-26 01:30:00'), Timestamp('2018-06-26 02:00:00'), Timestamp('2018-06-26 02:30:00'), Timestamp('2018-06-26 03:00:00'), Timestamp('2018-06-26 03:30:00'), Timestamp('2018-06-26 04:00:00'), Timestamp('2018-06-26 04:30:00'), Timestamp('2018-06-26 05:00:00'), Timestamp('2018-06-26 05:30:00'), Timestamp('2018-06-26 06:00:00'), Timestamp('2018-06-26 06:30:00'), Timestamp('2018-06-26 07:00:00'), Timestamp('2018-06-26 07:30:00'), Timestamp('2018-06-26 08:00:00'), Timestamp('2018-06-26 08:30:00'), Timestamp('2018-06-26 09:00:00'), Timestamp('2018-06-26 09:30:00'), Timestamp('2018-06-26 10:00:00'), Timestamp('2018-06-26 10:30:00'), Timestamp('2018-06-26 11:00:00'), Timestamp('2018-06-26 11:30:00'), Timestamp('2018-06-26 12:00:00'), Timestamp('2018-06-26 12:30:00'), Timestamp('2018-06-26 13:00:00'), Timestamp('2018-06-26 13:30:00'), Timestamp('2018-06-26 14:00:00'), Timestamp('2018-06-26 14:30:00'), Timestamp('2018-06-26 15:00:00'), Timestamp('2018-06-26 15:30:00'), Timestamp('2018-06-26 16:00:00'), Timestamp('2018-06-26 16:30:00'), Timestamp('2018-06-26 17:00:00'), Timestamp('2018-06-26 17:30:00'), Timestamp('2018-06-26 18:00:00'), Timestamp('2018-06-26 18:30:00'), Timestamp('2018-06-26 19:00:00'), Timestamp('2018-06-26 19:30:00'), Timestamp('2018-06-26 20:00:00'), Timestamp('2018-06-26 20:30:00'), Timestamp('2018-06-26 21:00:00'), Timestamp('2018-06-26 21:30:00'), Timestamp('2018-06-26 22:00:00'), Timestamp('2018-06-26 22:30:00'), Timestamp('2018-06-26 23:00:00'), Timestamp('2018-06-26 23:30:00'), Timestamp('2018-06-27 00:00:00'), Timestamp('2018-06-27 00:30:00'), Timestamp('2018-06-27 01:00:00'), Timestamp('2018-06-27 01:30:00'), Timestamp('2018-06-27 02:00:00'), Timestamp('2018-06-27 02:30:00'), Timestamp('2018-06-27 03:00:00'), Timestamp('2018-06-27 03:30:00'), Timestamp('2018-06-27 04:00:00'), Timestamp('2018-06-27 04:30:00'), Timestamp('2018-06-27 05:00:00'), Timestamp('2018-06-27 05:30:00'), Timestamp('2018-06-27 06:00:00'), Timestamp('2018-06-27 06:30:00'), Timestamp('2018-06-27 07:00:00'), Timestamp('2018-06-27 07:30:00'), Timestamp('2018-06-27 08:00:00'), Timestamp('2018-06-27 08:30:00'), Timestamp('2018-06-27 09:00:00'), Timestamp('2018-06-27 09:30:00'), Timestamp('2018-06-27 10:00:00'), Timestamp('2018-06-27 10:30:00'), Timestamp('2018-06-27 11:00:00'), Timestamp('2018-06-27 11:30:00'), Timestamp('2018-06-27 12:00:00'), Timestamp('2018-06-27 12:30:00'), Timestamp('2018-06-27 13:00:00'), Timestamp('2018-06-27 13:30:00'), Timestamp('2018-06-27 14:00:00'), Timestamp('2018-06-27 14:30:00'), Timestamp('2018-06-27 15:00:00'), Timestamp('2018-06-27 15:30:00'), Timestamp('2018-06-27 16:00:00'), Timestamp('2018-06-27 16:30:00'), Timestamp('2018-06-27 17:00:00'), Timestamp('2018-06-27 17:30:00'), Timestamp('2018-06-27 18:00:00'), Timestamp('2018-06-27 18:30:00'), Timestamp('2018-06-27 19:00:00'), Timestamp('2018-06-27 19:30:00'), Timestamp('2018-06-27 20:00:00'), Timestamp('2018-06-27 20:30:00'), Timestamp('2018-06-27 21:00:00'), Timestamp('2018-06-27 21:30:00'), Timestamp('2018-06-27 22:00:00'), Timestamp('2018-06-27 22:30:00'), Timestamp('2018-06-27 23:00:00'), Timestamp('2018-06-27 23:30:00'), Timestamp('2018-06-28 00:00:00'), Timestamp('2018-06-28 00:30:00'), Timestamp('2018-06-28 01:00:00'), Timestamp('2018-06-28 01:30:00')]"
        },
        {
         "name": "stdout",
         "output_type": "stream",
         "text": "\n"
        },
        {
         "data": {
          "image/png": "iVBORw0KGgoAAAANSUhEUgAAAYUAAAFHCAYAAABOA1D3AAAABHNCSVQICAgIfAhkiAAAAAlwSFlzAAALEgAACxIB0t1+/AAAADh0RVh0U29mdHdhcmUAbWF0cGxvdGxpYiB2ZXJzaW9uMy4xLjEsIGh0dHA6Ly9tYXRwbG90bGliLm9yZy8QZhcZAAAgAElEQVR4nOzdd3hUVfrA8e+bAgmpEHpCKKH3ElSQDoIFxd4VewHbrmthm+7+bKuuil1WFAsWxIYFUBBEpIP0XgIJNQkQSEjP+f1x7mQmvZBJILyf55ln5vYzE7jvPV2MMSillFIAPjWdAKWUUqcODQpKKaXyaVBQSimVT4OCUkqpfBoUlFJK5dOgoJRSKp8GBeUVItJKRIyI+DnLM0VkbCXOEy0iqSLiW/WpPLWJyJMi8nENp2GIiCR46dwDRWSLN86tKk+DwhlMROJEJN256R4UkfdFJNgb1zLGXGCM+aCcaRrhcdweY0ywMSbXG+k6WSIyRUSynN/wsIj8LCIdq+nafxWRXc61E0Tkc49t80XkjupIh8c1bxGRXCc9x0RktYiMLml/Y8xvxpgO1ZlGVTYNCupiY0ww0BvoC/y98A5i6b+Vkj3v/IaRwF5gsrcv6OS6bgJGONeOBeZ6+7rlsNhJTzj2d5gmIg0K7+TKQapTj/5HVwAYY/YCM4GukP+k+bSI/A6cANqISJiITBaR/SKyV0SechXriIiviLwoIkkishO4yPP8hZ9cReROEdkkIsdFZKOI9BaRj4Bo4DvnafPRYoqhmovIDOepfLuI3OlxzidFZJqIfOicd4OIxBb3fUXkbRF5sdC6b0Xkz87nx5zveFxEtojI8HL8hunANKBnofPe5nzXIyIyW0RaemybKCLxzpP1ShEZWNZ1HH2B2caYHc61DxhjJjnnfBoYCLzu/I6vO+v7i8hyEUlx3vt7pKOBk1Pc56Tzm+IuKiIPOH+vqDJ+izzgPSAQ+29niJObeUxEDgDvFy6aEpEWIvKViCSKSLIr3WX9hqqKGWP0dYa+gDjskyZAC2AD8H/O8nxgD9AF8AP8gW+Ad4AgoDGwDLjb2f8eYLNzngbAPMAAfh7nu8P5fBX2ibovIEBboGXhNDnLrQqd51fgTSAAe/NNBIY7254EMoALAV/gWWBJCd99EBAPiLNcH0gHmgMdnG3NPdIQU8J5pgBPOZ+DgI+ANR7bLwW2A52c3/HvwCKP7TcCEc62h4EDQIDH9/m4hOveCBwGHsHmEnwLbc//vZ3lBsARbO7CD7jOWY5wtv8AfO78Dv7AYGf9ECDB+fwPYBXQqIQ03QIsdD77AQ8Cx4Ew5zw5wH+Authg4XluX2AN8LLzOwYAA8rzG+qriu8LNZ0AfdXgH9/egFOBo8Bu52Yb6GybD/zbY98mQKZru7PuOmCe8/kX4B6PbSMpOSjMBh4sJU3FBgVswMkFQjy2PwtMcT4/Cczx2NYZSC/hOoINeoOc5TuBX5zPbYFDwAjAv4zfcAo2EB0F8oBdQHeP7TOB2z2WfbA5r5YlnO8I0MPj+xQbFJztNwBzgDQgGXjcY1v+7+0s3wQsK3T8YuyNvJmT9vrFXGMINoC/BCwEwkpJzy3YG/9RIAlYgvuhYwiQhRPwPNa5gkI/bID3K+a8FfoN9XVyLy0+UpcaY8KNMS2NMeOMLQJxiff43BL7BLlfRI6KyFFsrqGxs715of13l3LNFsCOSqS1OXDYGHO80HUiPZYPeHw+AQQUV35t7N3lM2xgA7gemOps2w48hL0pHxKRz0SkeSnpetEYE44NYOnYnIZLS2Cix292GBuQIgFE5GGnWCTF2R4GNCzlWp7fYaoxZgS2/P4e4N8iMqqE3ZtT9G/i+u1aYH/XIyUcGw7cBTxrjEkpI1lLnH9PDY0x5xhj5nhsSzTGZJRwXAtgtzEmp5htpf6GqmppUFCl8RxCNx6bU2jo/KcPN8aEGmO6ONv3Y/9ju0SXct54IKYc1yxsH9BAREIKXWdvKceU5lPgSqd8+mzgy/xEGPOJMWYA9oZksMUepTLG7MEWmUwUkUBndTy2iC3c4xVojFnk1B88BlyNfUoPB1KwN7xyM8ZkG2O+ANbi1AlR9Hfc53wXT67fLh77u4aXcIkjwGhsPcC5FUlb4aSWsi0eiC6hArrE3/Ak0qJKoEFBlYsxZj/wE/BfEQkVER8RiRGRwc4u04AHRCRKROoDj5dyuneBv4hIH6dlU1uPisODQJsS0hAPLAKeFZEAEekO3I7zhF+J7/QHtsjiXWyl7VEAEekgIsNEpC62aCgdW2xVnnP+jL0B3+WsehuYICJdnHOHichVzrYQbHFLIuAnIv8EQstzHbHNPy8SkRDnb3EBtv5nqbNL4d/xR6C9iFwvIn4icg22eO175287E3hTROqLiL+IDCr0veZji6u+FpGzy5PGClqGfbB4TkSCnL+vKwCV9huqKqZBQVXEzUAdYCP26XE6tjwa4H/YuoI12MrIr0o6ifNU+zTwCbYi8htsRSjYOoK/O0UFfynm8OuwxTT7gK+BJ5wbcWV9iq07+MRjXV3gOWy5+AFsEdlfK3DOF4BHRaSuMeZrbC7jMxE5BqwHLnD2m429GW/FFuVkULAIrjTHnDTtwZbhPw/ca4xZ6GyfiM0FHRGRV40xydin/Yex9Q+PAqONMUnO/jcB2djGAoewxWcFOL/zrcAMEelTznSWi7H9UC7G1ufsARKAa5xtpf2Gqoq5Wl4opZRSmlNQSinlpkFBKaVUPg0KSiml8mlQUEoplU+DglJKqXyn9UiFDRs2NK1atarpZCil1Gll5cqVScaYRsVt82pQcHpIvovtZWmA27Adgd7GDniVA4wzxixz9p+A7YyUCzxgjJld2vlbtWrFihUrvPcFlFKqFhKREoeh8XZOYSIwyxhzpYjUAephe77+yxgzU0QuxHa6GSIinYFrsb0ymwNzRKS9OUUnV1FKqdrIa3UKIhKKHZ54MoAxJssZRsDg7sofhu2ZCjAG+MwYk2mM2YUdKvcsb6VPKaVUUd7MKbTBjunyvoj0AFZiBwt7CJjtTHDiA7gm+ojEDrXrkoCOgqiUUtXKm0HBDzvF4/3GmKUiMhE7SFoY8CdjzJcicjU2JzGC4keGLDIGh4jchTPYWHR00YE4s7OzSUhIICOjpBF6VUUFBAQQFRWFv79/TSdFKeVl3gwKCdgJNFyjNk7HBoUB2BwDwBfYimjX/p5DL0fhLlrKZ+yUg5MAYmNjiwSNhIQEQkJCaNWqFSIVGoFYFcMYQ3JyMgkJCbRu3bqmk6OU8jKv1SkYYw4A8SLimnBkOHZ0zX2Aa7jlYcA25/MM4FoRqSsirYF22OF0KyQjI4OIiAgNCFVERIiIiNCcl1JnCG+3ProfmOq0PNqJHXb3W+wkJH7YoYLvAjDGbBCRadjAkQOMr2zLIw0IVUt/T6XOHF7t0WyMWW2MiTXGdDfGXGqMOWKMWWiM6WOM6WGMOdsYs9Jj/6eNMTHGmA7GmJneTJs3+fr60rNnT7p27cpVV13FiRMnKn2u+fPnM3r0aABmzJjBc889V+K+R48e5c0338xf3rdvH1deeWWlr63UGW/WX2HnrzWdimqlw1x4QWBgIKtXr2b9+vXUqVOHt99+u8B2Ywx5eXkVPu8ll1zC44+XPKFZ4aDQvHlzpk+fXuHrKKWA4wdgyRvw4SV22fP/bPIO2LWgZtLlZRoUvGzgwIFs376duLg4OnXqxLhx4+jduzfx8fH89NNP9OvXj969e3PVVVeRmpoKwKxZs+jYsSMDBgzgq6/cE5hNmTKF++67D4CDBw9y2WWX0aNHD3r06MGiRYt4/PHH2bFjBz179uSRRx4hLi6Orl3tlL0ZGRnceuutdOvWjV69ejFv3rz8c15++eWcf/75tGvXjkcffbSafyGlTlF7V7o/z/8P/LcDJG6xy6/1hg8urpl0eZkGBS/Kyclh5syZdOvWDYAtW7Zw880388cffxAUFMRTTz3FnDlzWLVqFbGxsbz00ktkZGRw55138t133/Hbb79x4MCBYs/9wAMPMHjwYNasWcOqVavo0qULzz33HDExMaxevZoXXnihwP5vvPEGAOvWrePTTz9l7Nix+ZXHq1ev5vPPP2fdunV8/vnnxMeXd0ZIpWqp4wfgs+vdy/OfgbRD8O198P2f3euza18DjNN6QLyy/Ou7DWzcd6xKz9m5eShPXNyl1H3S09Pp2bMnYHMKt99+O/v27aNly5acc845ACxZsoSNGzdy7rl2bvKsrCz69evH5s2bad26Ne3atQPgxhtvZNKkSUWu8csvv/Dhhx8Ctg4jLCyMI0eOlJimhQsXcv/99wPQsWNHWrZsydatWwEYPnw4YWFh9vt17szu3btp0aJFiedSqtZb9Jp9738/JG2zOYQ+t8CcJyDBo1Hksb0QEVMjSfSWWh0UaoqrTqGwoKCg/M/GGM477zw+/fTTAvusXr3aK619SpuLu27duvmffX19ycnJqfLrK3XaWPY/WPw6tBoII5+C3Gxw/f85uB4ObYYBD8GXt8OxfRoUTidlPdHXpHPOOYfx48ezfft22rZty4kTJ0hISKBjx47s2rWLHTt2EBMTUyRouAwfPpy33nqLhx56iNzcXNLS0ggJCeH48ePF7j9o0CCmTp3KsGHD2Lp1K3v27KFDhw6sWrXKm19TqdPPfueB7hInt+Dr0ZP/CqevbZLTverY3upLVzXROoUa0qhRI6ZMmcJ1111H9+7dOeecc9i8eTMBAQFMmjSJiy66iAEDBtCyZctij584cSLz5s2jW7du9OnThw0bNhAREcG5555L165deeSRRwrsP27cOHJzc+nWrRvXXHMNU6ZMKZBDUOqM5ZkTAEjZC5F9oEEpPfhDmzv7JlT+ujlZBa97ipDSihVOdbGxsabwfAqbNm2iU6dONZSi2kt/V1Ur5eXBv+vDOePg/GftutdioUlnuPrD0o99Nhp6XAMXvlD6fsVJPQQvtoOLX4U+Yyt+/EkSkZXGmNjitmlOQSl15kp2ioGWOP17jLFFQqFRZR8b3Aj2LIGDGyp+3biF9n3pOxU/1ss0KCilzlwJhWZuTD8C2ScgrByj9gc1hgNr4a3+kJkKiVthzWdlH2cMbPrOfs479Rp11OqKZqWUKtX+Ne7PqYfgiDNLZf1WZR8b7DHF8bMeQaTDBRAQVvwxmcdh5RTY4HRKTd4G66bD4V0w+JHij6lmmlNQSp2ads6HE4e9e43jHqPzr3gfJo+wn5t0LfvYgPDi1+/7o/j12RkwaQj89HfwC4T7V9lcw5e3w7ynCg6jUYM0KCilTj2pifDhGPjkmoLrPxwDU6+yLYaq6jpN7IgDzH/GvT686AReReRk2vfRL8ND6+Du3+xy4SKpzOO2CevClyB5u1038v9s/4aRT7n3Sy+582l10uIjpdSpZ/fv9j1hGSx+E/qNszfhnfOd9cuhZf8SDy+3tERo1sPekI85zUv960F5OpDmOYEpIMwGkfBoiGgLez36/uTlwrvnQeImu9x6MNz0Nfj42uX+90FwE/jqDjuMRlDEyX+nk6Q5BS/wHDr74osv5ujRo5U+V6tWrUhKSqrC1Cl1Gti9yP159gQbDDw7iqUeOvlr7FkKh3dAcGOI7G3XNekG9y0v3/EjnoRuV0GHC93rImNh7wp3/4PVU21AGPwYXDHZdn5zBQSXkCb2PS3xZL5NldGg4AWeQ2c3aNAgfzA6pWq1mY/D631tpenJOrgBWpxti2WCGtmhJ1I8gsLJ3kBzsuC9kfZzUEMY/oQt5x/wEISVozkq2JzBFe+Cf6B7XVQspB6Eo3vg4Eb7m0T3h8GPQ7crbQAqLMhZVxWBrgpoUPCyfv36sXev+x/zCy+8QN++fenevTtPPPFE/vpLL72UPn360KVLl2IHwFPqlPbTP2DpW5C0FZa+Xfb+ZUneDhHt7I2321Wwdba7TwGcXFDIPA6v9nIvBzaAhm3hr/vsjftkxAwDH3+Y2B3e6gfZaTDmdfAp5VYb5LRi2vLjKdHDWYOCF+Xm5jJ37lwuucRO0vHTTz+xbds2li1bxurVq1m5ciULFtiJOt577z1WrlzJihUrePXVV0lOTq7JpCtVfrnZsOhV9/LGGXaU0czix+EqU+ZxSD3gHmguso8tv//+T3bZP+jkgsKySe76AwDjtPop7cZdXhExcN6/3Mujnil7wLzA+vZ9/Ze2rqSG1e6K5pmPw4F1VXvOpt3ggpKnxAT30NlxcXH06dOH8847D7BB4aeffqJXL/uUkpqayrZt2xg0aBCvvvoqX3/9NQDx8fFs27aNiIiar3RSqkzpHnVmHS6yT7w//d0Gi4F/Lvm44hw/6G4mGtHWvjds594eWN9WzK54z44/1LQ7ZByDkKbQemAZ6TxiJ8tZ9g60GwmXvA6rPoSeN1QsjWU5Zxz4+Nlcg2faS+LjY3MLaYmQuBlanFW16amg2h0UaoirTiElJYXRo0fzxhtv8MADD2CMYcKECdx9990F9p8/fz5z5sxh8eLF1KtXjyFDhuRPgKPUKS/DIygMeRyummJnJVvzWcWCwr7VMGkwtBxglxt1tO8NPJ60/7Id/s95WPrlqYLHP5li37MzbF+Blv3s8vED8PM/Ye3ndrnF2TYghDTxTocxETj77rL38/TwFni6qbvJalmMKV8LqUqo3UGhjCd6bwsLC+PVV19lzJgx3HvvvYwaNYp//OMf3HDDDQQHB7N37178/f1JSUmhfv361KtXj82bN7NkyZIaTbdSFeJqXz/8CWjW3X7ucD7MeRIyUgr27s3LLdr6xmWf05Rz90KoG+bOKdQNdu/j6wddr7BFLcFNbTGTy875tnTg2F7IPAZ3L7DNTWc+Chu/tfuMfMpOnHOq8fGFBm3s3M/l8e5waNLFPbx3FardQeEU0KtXL3r06MFnn33GTTfdxKZNm+jXzz7BBAcH8/HHH3P++efz9ttv0717dzp06JA/O5tSpwVX8VHrQe51EU6xSfIOd3PPP6bCjPvgz5vdzTA9ueY/BnuMZxn/dZ9BPSeHcNkk+6TvVxeejbJjFYHt2Obp4yvsfpt/gG5X23P2ubXy39PbItraYTc2fQe5WTb4lSRpu61r8QINCl6QmppaYPm7777L//zggw/y4IMPFjlm5syZxZ4rLi6uStOmVJVzFR95Dvvgesp3FYdkHodvx9nPPz5s2+z7FZrPY/9a+96wPfS4ruC2Dhe4P/v62RfYJqvbfrZ1GFlpcOcvthx/3jO2B/Gn19h0DX7MtjA6lXW/GjZ/D5/faJdzMqHn9UX3Sz8KmSkQ5p0pczUoKKVOjqv4yNWKBtwT1Hx7H+RmFtx/03e2ddLAhyEtyfYTyEq1nb763Qejni7/tYMaQs/rbNDIOOoeyG7EE1AnCH6fCLf/dOoHBICOF9shu10to765F6L7FZ3sJyXevpdnKI5K0KCglDo5ruIjz7oDv7p2SIddv9rlzpdCow7Q906bY/h9Imz42s553KynzUnkZhXMEVREYLh9eRr0Fxtk/AMqd87q5uNjczpbZ0HMUHilu62sHzqh4H5H99h3LwUFr/ZTEJFwEZkuIptFZJOI9HPW3y8iW0Rkg4g877H/BBHZ7mwb5c20KaWqQF4urP7Y9h3wLfSMOXaGHSyu331w9Qcw9K92uOlRz9q+AQfXQ9vzbL1DSrz93OLsqk3f6RIQXEKa2JnYwqNtJXnCsoLbD260o7kChBc/Ve/J8nZOYSIwyxhzpYjUAeqJyFBgDNDdGJMpIo0BRKQzcC3QBWgOzBGR9saY3Ipe1BiDeKm51pnodJ6yVXnZznn2ybWkp9bY24qua9jWji+UlmRbK6UeskEipKl303q6qd/KBk6XnEyYeqVtXdX9WqjXwCuX9VpOQURCgUHAZABjTJYx5ihwL/CcMSbTWe8a8GMM8JkxJtMYswvYDlS4F0dAQADJycl6I6sixhiSk5MJCDjNnrhU9XB1Dr1jbsWOC23ubr4a3FgDQnHCo+FovHuehT8+sgHhislw+TunZT+FNkAi8L6I9ABWAg8C7YGBIvI0kAH8xRizHIgEPBvoJzjrKiQqKoqEhAQSE0+NEQdrg4CAAKKiyjlImDqzHNxoK0eLG+hNnZzwaFtJP+Ui26Jqy4+2eK20pqpVwJtBwQ/oDdxvjFkqIhOBx5319YFzgL7ANBFpAxQX9oo87ovIXcBdANHRRbOs/v7+tG7dush6pZQXHNoITTrXdCpqJ1edwZ5F9hXSDC74j9dyCC7eDAoJQIIxZqmzPB0bFBKAr4wt31kmInlAQ2e9Z8PbKMBjrjzLGDMJmAQQGxurZURK1ZTcbNvhrO2Imk5J7RTZ21Y297jeNrv1rwe+/l6/rNeCgjHmgIjEi0gHY8wWYDiwEdgBDAPmi0h7oA6QBMwAPhGRl7AVze2AZcWfXSlVo2ZNgBPJdvTSJl1qOjW1U1BDO1RHNfN266P7galOy6OdwK1AGvCeiKwHsoCxTq5hg4hMwwaOHGB8ZVoeKaW8bP8aWPKme7mxFh/VJl4NCsaY1UBsMZtuLGH/p4EKdGdUSlW7Zf8ruFye4aHVaUN7NCulimcMbPjKzkHsmnLyt//appGdx9gy7i6XFx3DSJ3WNCgopYq3exFMvw3OuhsudAYe2DjDvg9/ouwZxdRpSafjVEoVzzXCaeJm97ojcRB7uwaEWkyDglJnolkT4LuHSt/HNcRCljMUfPoROxJp4VE7Va2ixUdnKmPsNIWhzWo6Jaq67frN3Xqo9SDwC4COF9plY2ydgV8A7F1p1+1daecsWPWBXXYNT61qJQ0KZ6r1X8KXt8OQCXZeXVU77VlqexzXDXGv2+XR9n26MxPZkyn238T0QgPYnX0vbJ1pJ37JceYNb9TJu2lWNUqLj6ra7kXwfBt4/0LYPhde7QXvjrBz1Z5K9jrz4S6fbJ8OVe1zeBe8NxI+u6HgelcOwNPkUe6A0KCNe/25D9g5jXMyoP0FMH7Z6TFhjao0zSlUtbn/tj09962Gjy+36w7vhF+fh3PuhXoNT40x3g87E4SnHbLj2et/9Npn7ef2fdevkJJgX0fjYcdc2+Hs0Eb3vvHOWJRjv4eW59qiosjedjTTnjfaB4fuVxecSEfVSppTqEoHN8CexTDqGbj6Q2gzBO761U4esuojeLkL/PDnmk6llbQNmnS1n1dMhqlXQ8remk2TqlquOY8BpoyG90bBV3dA0252Qnuwk+O4jFsKrQfaGcBib7Xj7oB9iDnrTg0IZwjNKVSltZ+Dj5+dACMoAto5A4W1Hgjbf7afV0+F0a+AX52KnTvzOLzUBa74H7Q/iUnp1k6zFYmHd9g5coMbuysd130BA8pokaJOH9lp0Ly3bVJ6ZBeERkK7kXaaytBI+/fvdhVknYAtP9jpMtUZT3MKVWnPUojsYwOCp46jIaItdLrELq/9rOLnPrgRMlPgl6fc6/Ly4Ocn3PUDLsbAoc22KGvazbByil2/cQZ8dadN51l3Q59bYaTH+dI85qA4cdgGInX6yjphn+67Xw11Q2HMG3DxKxAWZYdfHv5PaNwJovrYzzpboUJzClUnLxcOrIVeNxXdFhED96+0N+v/DbM39vbnFz8xSfpRSFjhzmW4HHOKdvw86iM2fAW/v2Jfd8yFqFj3es9WJBu/hcVvQtIWaBAD45cWHIJ33BL48FI4tMkuGwOTBttpFq/7HDqcX/Hf43STmQrxS6HtcLu8+lPYtwoufKFm03UystLsv7GLJ9qXUuWgOYWqkrQNsk9A854l7yMCY163nYBcT/zZ6ZCbYz/vXgyfXANTr4B3BsHbAyA7A5ZOgm/G2X18nWKngxvh63vc5353OEwbC3uWwJaZ7vW3zbbNCrPT7XLMsKJjsjfuZNurJ26xy655dwE+vdamISez4r/J6WTB87ZhwB9TYfEb8M09sGxSTafq5GSn2fGJlKoAzSlUlf1r7HuzUoIC2LHneztFOmEt7FN+l0tt1v59jydy1/nmPQWLXnOvz0yBuIXw8ZV2LPu7frXLiZvgj4/h6G7bFLFhBzj/GYg+x77OuhM+va74idQBGneEddPsMAaf3wTBTe3EHgtfhvcvsE/NT55izWqrUvoR+/7tuMqfIyPFFued96/qrZTNzbEt3Bq1L7g+6wTU0aCgKkaDwsk6sN7enPevBr9AaNi+7GOG/s0+zc9zcgt/fAztPCqPgxrZJ/dtcwoGBIBj+21AyHGe/Jv3dOdO/Ou5n25v+AJanOU+LiIG7itlzqJGHe37L0/bYQ3Gfuce+2bfqpKPqy086096XAf7/rAVtHl5tjVOeeycDyvft0WD1VnktuhVmPsvuGehbVnkkn2iYOsipcpBi49O1sdXwKQhtgVP027gW444W68B3DbLdgq6+zd73Fd3urePfBqufA9G/NMuN+oIj8fb/U8kuQNCeKE5qiOdOoWYYQUDQnm4gsK6adC0u22jHhBecJ/c7Iqd83SSshdaD4Y/bYBL34Lu19j1rl685ZHs9P04vr/q01eapG32PW6he50xtk6hjgYFVTEaFE5GRgqkHnAvR/Ut/7Hh0bblT7PucNUH7hvule9BD+eG1Osm2578tlkQEOq+6YO9ad38bcFzthliA8zwf1b8u3iOZ9PT6QEbWCgoZByzA6kd3FDx85/qUhJscZ6rZY6rLL4iQeHwTvt+/EDp+1W1wPr2fdHr8N2DNiBkpwNGi49UhWlQqIztc+2T5a7fCq6vbP+BiBj3k2l9jxEo/epC75vc/+k9iwaGP1FwOAKAkCa2CKF5r4qnwccXbvoaul4JPa6161zXdTmw1uaIpo2t+PlPZdkZNriHRbrXuXqduyroy8MVFFKrKSi4hidJP2zf/QNtXVVKvC06Ai0+UhWmdQoVdWy/baUSFg2Zx2wRyznjbNl/dL/Kn3fEE1C/pbsXaXE8A4bnDayqxAyzL5fCxUeucfVNXtVfuzoYYyuU6zWwyzmZtt7k0Cb7nVqc7d7XlVOoTFDwZk5h+bvw0z+hy2V2DKNxi+2wKs16wkX/ta3QDqxz91bXnIKqIA0KFeUaTyZlDyBw13xb0TvksZM7b0jTskcr9fGxASi0+cldq7wKFx8dcPgb048AACAASURBVMbXP12bOW78Fr4YCyP+ZVuAvTvCPQZUSDNb/Obi6g+SU86gkJXmrkvYOgu2zq58zjH9qB3JNCq26N/6h4ft++qP7XvSNhsU6kXY8YzExwYF1wOE1imoCtLio4ra/L37c9crSu+X4A3nP2srnKtD4f4MrklXKjpEx6nC1Ypq7eew4Wt3QABoNdAWobm45iTOLmedwuFd9t11M542FtKS4cdH4YtbbdAoj6w0eGcgTLsJvrm34LbiRtp9o6/tvV4vwuYKGnawFc5afKQqSYNCeWz4Gub+n30lrLDNR4Maw+CTzB2cblwVzBnHim7Ly4N5z0LS9upNU0UciXPed9sn+fqtbDEM2Ap/T/lB4UT5zu0qOrriXdsAICcdts2GZe/YHuZrp5XvPHtX2o6DdYLtzT0jxXZUTD9i67IA6oRAn1vcN/zsNBsUwH6fuN/cRX1afKQqSIuPyuOLWwouj3jCdkI7E9z5iy2Lf3e47Y8BdrjtwuJ+g1+fsxWdD28+NcfRcT3NZ6fZG3avG22l/Iav7cBxnvycoFDe1keuXEfD9rbXuY8fLPAYImPvCjvyqCdjbDFRdD+b+8o8bodYBxtcPr3WzoUQ59GgIbA+PLLD5mpGPQvPODPnBTW0750uhvnP2KAHNrgoVQEaFMqSmlh03ZkSEMAO8Fe4CCUjxVbS+tW1vWnXfm6H3wbb8uaHh2H0S9Wf1tL8/qptPRXWwrbOAVvUE3u7vSkX/ptWtPVR0jYIbmKbDoOt6N2/2j7NR58NCc7ENpt/tM2Rm3a1uc4PL7G9zBu0gTn/soHXP8h2gOs8xtaDgA0y9VvbOTlcxVyeuYBWA+17RIytV9g+x/mOLcv/GymFBoWyuWapunUmpB60N5UzjeekQM162pvdkTg71PL8Z+C3/9pt54yzZeIr34ez7z61hmJe+b5973s7zHnSfg5vaXM0xQX5/OKjMoLC4Z0QGmWLa1wdAMH2SN+/2t6k254HsyfYIUNc177tJ3cOYMV77uP6P2AH5ROBgX9xB4XH4mywKNy7uk6w7YHuGgzRr64NOkfi7IROhZsVK1UGr9YpiEi4iEwXkc0isklE+nls+4uIGBFp6LFugohsF5EtInISkwZUoWSnt2jjzra8Niq29P1rK9e8vK7+FAtetHULrr4a7S+AAX+GYf+w4/5MGgrvnmcrWmtaXh4cP2gHBuz/gHt94R7hnvKLj0oJCotes9OtThpim7V6BgVXy6O6oXDWXTZIuAIC2FFsN82wFcOu/iZ9boWR/+duBdWsuy3iumKynWO5uOE27v0d7l5QsJI8op3zrrPpqYrzdkXzRGCWMaYj0APYBCAiLYDzgD2uHUWkM3At0AU4H3hTRHyLnLG6pR60zRPP9FmnbpwOfe+APk7HtXXT4K3+tqz87Hvg+s8guJF9Xfq2LbdPWGYrWtOP1kyaj8bDC+1sE9HsNJtz8bx5lhYUXLmjzFTIybKf138JbzhFQXP+BT/93d70TyTZCmnPnFF0P9tKbPTLduiTK6e4t415A44l2EEP245wd0os7iY+5g3odmXJ6azfqmjfFteDS/gZmKtVJ81rQUFEQoFBwGQAY0yWMcZ1d3gZeBTwnDF+DPCZMSbTGLML2A5UcAAfL0g9ZMekPxUrTqtTWJTtHFUnyLbx9w+yZfMmr2BPa7CDwV31gZ2WFOxw3tUteQds+s5WirvGlWrs5HYuec3egIOblHy8qy/Gz/+wc2Dk5dlOY4mb4d1hsNCpM7ngP3Y+ivP/485FgQ0+I59yj1zqOfFSl8vd528/CqL7289VVf4/8GE7PMqQCVVzPnVG8WadQhsgEXhfRHoAK4EHgeHAXmPMGil4o40EPO8eCc66mpV6qPSbx5noktfsa8YDdvL3NkOL7tPlUltBPff/bKuk+i3dN2VvS9kLr3m0JspKteXrkX3scu+b7as0vh59MQ6ugy0/QsO29gkfoN99NkB0uNB28jvnnuLP46lRJzvEeZ16cONXdsiQlv1tJXFEW/cEPyfL198Oj6JUJXgzKPgBvYH7jTFLRWQi8CQ29zCymP2LexQ3RXYSuQu4CyA6upTsf1VJPQQNWpe935nokldL3+4fYG++y96x9QuP7y5YfOMtR3YVXdf75qKd8UojYusIcjJsv4Edc229RLOecNFLdhTZiuYe75jj7vfQsp99uRSeaU+pGuLNOoUEIMEYs9RZno4NEq2BNSISB0QBq0SkqbO/ZyFoFLCv8EmNMZOMMbHGmNhGjRp5MfmO1IPFT5upymfoX+2TcNZxO6PbyTAGlr5jpxY9vAtm3O8eesPT0T3uz92vgcsmwbC/V/x645bAg2ts+hNW2ClRW5xt5zSuTHFi3WD9t6ROeV7LKRhjDohIvIh0MMZswRYbrTLG5OeRncAQa4xJEpEZwCci8hLQHGgHlDIrjBet/QK2/eSevyBI/yNXWmA43DAdnmsBO3+1FauVtXsRzHRaM815EnIzbeev8ctt56/kHZCW5A4KN31jW/JUtj7IdVxkH3cdQlhU5dOv1GnA262P7gemishaoCfwTEk7GmM2ANOAjcAsYLwxJtdrKUtY4R56uLDVH9vWNR+Mtq2OSmv9ocrmH2An7nH1+XA5cdh2Kssr56irx/a6P+dmwqBHbHv8lVPs3/Ljy+G9kTD/WbtPzNCqaSDQaoD7c0TMyZ9PqVOYVzuvGWNWAyU27DfGtCq0/DTwtDfTBMCOefDRpXDhi3buYk95ebDXGTgtI8WOb9SwndeTVOtFxcKqD20PaNfsdN+OtxW4Lc6y80iX5YQzb8DoV2yTz4gYWD4ZZj5im8K6xjYCO7R5VfEMCjFVVBms1CnqzOzR3Hqw7WX641/snAHdr3JvS95m50loM9TOudvp4hpLZq3SpKutZE3Z4+6stWuBfT+6p2hQ2D7X5i6CPeqN0o/Y9943uyusb/oaJg22M8KB7Slc1U2I/eraKVL9Awv27laqFjozg4KPD1z9IbzYzo4R4xkUXEUc5z9ni45Cm9VMGmsbVwuuw7tsIJ7zpG0qCnaiG08ZKbYoKDIW7pzrXp9+xP5NPFswNe9pK4LjfrOjh0bFeqeFU//7qv6cSp2Cztyhs+vUs2PeeJZTg61rqBtqR7vUgFB1XPMMHN5pO5Ot+sAui68NCpmp8OUddm4A1xDdB9YWPEf6keLH8nFNH9p5TPU0eVWqFjszcwouIc3sxDEnDsPqqXY4i20/2eGUixtnRlVeSDPwrQtz/22L51oOgLbD7JwBh3dCwnJY94V9ucZZco0/5JJ+uPig0OtG20KoumakU6oWO7ODQmhzGwS+GOsu3w6sb4cJUFXLx8cWISVuhsZd4Jbvbbl/8k47mJxrPoLo/hDvdG3JPlGwYjr9CAQ2KP781dVbWqlaToNC9gkbEEY8CSHNbbv2EB3Wwis6XmSDQst+7orgkKa213jiVjse0K0/2uKjFe/ZORoObXTPipZ6yF0MpZTyCg0KLn3vsMMTK+859yHbQ/zcB93rQpqCyYX4Jc4EMWInoBkywdY7/D4RGneEFVPsuEM9r6+x5Ct1Jjizg0LbEfYG1bS7BoTqEBBqh4L2FNLUvu9fA708BnELbgSdLoH1093rhvwVBjzk/XQqdQY7s4NCQBic9++aTsWZLdgJCogdedTTBc/b5qlH4uxENeUZiVQpdVLO7KCgap6r2W+Xy2wxkafgRnDTV9WfJqXOYBoUVM0KjbST93QcXdMpUUqhQUHVNBFbya+UOiVoDy2llFL5NCgopZTKp0FBKaVUPg0KSiml8mlQUEoplU+DglJKqXwaFJRSSuXToKCUUipfhYKCiAR5KyFKKaVqXrmCgoj0F5GNwCZnuYeIvOnVlCmllKp25c0pvAyMApIBjDFrgEHeSpRSSqmaUe7iI2NMfKFVuVWcFqWUUjWsvAPixYtIf8CISB3gAZyiJKWUUrVHeXMK9wDjgUggAejpLJdKRMJFZLqIbBaRTSLST0RecJbXisjXIhLusf8EEdkuIltEZFRlvpBSSqnKK1dOwRiTBNxQifNPBGYZY650chj1gJ+BCcaYHBH5DzABeExEOgPXAl2A5sAcEWlvjNFiKqWUqiblbX30QaEn+voi8l4Zx4RiK6MnAxhjsowxR40xPxljcpzdlgBRzucxwGfGmExjzC5gO3BWxb6OUkqpk1He4qPuxpijrgVjzBGgVxnHtAESgfdF5A8RebeYfg63ATOdz5GAZ2V2grNOKaVUNSlvUPARkfquBRFpQNlFT35Ab+AtY0wvIA143OMcfwNygKmuVcWcwxReISJ3icgKEVmRmJhYzuQrpZQqj/K2PvovsEhEpjvLVwFPl3FMApBgjFnqLE/HCQoiMhYYDQw3xhiP/Vt4HB8F7Ct8UmPMJGASQGxsbJGgoZRSqvLKlVMwxnwIXAEcBA4BlxtjPirjmAPYpqwdnFXDgY0icj7wGHCJMeaExyEzgGtFpK6ItAbaAcsq9G2UUkqdlFJzCiISaow55hQXHQA+8djWwBhzuIzz3w9MdVoe7QRuBZYDdYGfRQRgiTHmHmPMBhGZBmzEFiuN15ZHSilVvcoqPvoEW8yzkoLl++IstyntYGPMaiC20Oq2pez/NGUXSymllPKSUoOCMWa02Mf5wcaYPdWUJqWUUjWkzDoFpyL462pIi1JKqRpW3iapS0Skr1dTopRSqsaVt0nqUOAeEYnD9jcQbCaiu7cSppRSqvqVNyhc4NVUKKWUOiWU1SQ1ADtCaltgHTDZY9wipZRStUxZdQofYJuUrsPmFv7r9RQppZSqMWUVH3U2xnQDEJHJaA9jpZSq1crKKWS7PmixkVJK1X5l5RR6iMgx57MAgc6yq/VRqFdTp5RSqlqV1aPZt7oSopRSquaVt/OaUkqpM4AGBaWUUvk0KCillMqnQUEppVQ+DQpKKaXyaVBQSimVT4OCUkqpfBoUlFJK5dOgoJRSKp8GBaWUUvk0KCillMqnQUEppVQ+DQpKKaXyaVBQSimVz6tBQUTCRWS6iGwWkU0i0k9EGojIzyKyzXmv77H/BBHZLiJbRGSUN9OmlFKqKG/nFCYCs4wxHYEewCbgcWCuMaYdMNdZRkQ6A9cCXYDzgTdFROdzUEqpauS1oCAiocAgYDKAMSbLGHMUGAN84Oz2AXCp83kM8JkxJtMYswvYDpzlrfQppZQqyps5hTZAIvC+iPwhIu+KSBDQxBizH8B5b+zsHwnEexyf4KxTSilVTbwZFPyA3sBbxpheQBpOUVEJpJh1pshOIneJyAoRWZGYmFg1KVVKKQV4NygkAAnGmKXO8nRskDgoIs0AnPdDHvu38Dg+CthX+KTGmEnGmFhjTGyjRo28lnillDoTeS0oGGMOAPEi0sFZNRzYCMwAxjrrxgLfOp9nANeKSF0RaQ20A5Z5K31KKaWK8vPy+e8HpopIHWAncCs2EE0TkduBPcBVAMaYDSIyDRs4coDxxphcL6dPKaWUB68GBWPMaiC2mE3DS9j/aeBpb6ZJKaVUybRHs1JKqXwaFJRSSuXToKCUUiqfBgWllFL5NCgopZTKp0FBKaVUPg0KSiml8mlQUEoplU+DglJKqXwaFJRSSuXToKCUUiqfBgWllFL5NCgopZTKp0FBKaVUPg0KSiml8mlQUEoplU+DglJKqXwaFJRSSuXToKCUUiqfBgWllFL5NCgopZTKp0FBKaVUPg0KSiml8mlQUEoplU+DglJKqXxeDQoiEici60RktYiscNb1FJElrnUicpbH/hNEZLuIbBGRUd5Mm1JKqaL8quEaQ40xSR7LzwP/MsbMFJELneUhItIZuBboAjQH5ohIe2NMbjWkUSmlFDVTfGSAUOdzGLDP+TwG+MwYk2mM2QVsB84q5nillFJe4u2cggF+EhEDvGOMmQQ8BMwWkRexQam/s28ksMTj2ARnnVJKqWri7aBwrjFmn4g0Bn4Wkc3AlcCfjDFfisjVwGRgBCDFHG8KrxCRu4C7AKKjo72XcqWUOgN5tfjIGLPPeT8EfI0tDhoLfOXs8gXuIqIEoIXH4VG4i5Y8zznJGBNrjIlt1KiRt5KulFJnJK8FBREJEpEQ12dgJLAee6Mf7Ow2DNjmfJ4BXCsidUWkNdAOWOat9CmllCrKm8VHTYCvRcR1nU+MMbNEJBWYKCJ+QAZOUZAxZoOITAM2AjnAeG15pJRS1UuMKVJsf9qIjY01K1asqOlkKKXUaUVEVhpjYovbpj2alVKqAowxzNtyiGveWcxj09eSkV27CjSqo/OaUkqd1vLyDEt2JfPR4t2s25tCwpF06vr5sHTXYdKzc7lvWFvaNQ7GKS4/rWlQUEqpQtKzcrn/0z9YHneYQH9fklIzyckzNAyuQ99WDXhgWDsu7RXJG/O2M3HuNmas2UdkeCBdI0Pp2DSUW/q3on5QnVKvsf3QcWauO0DHZqEMbNeQAH/favp2pdM6BaWU8pCXZ/jL9DV8tWov/WMiaB4eSOOQurRpFMzo7s2K3Lx3JKayfNdh5m9JZOuh48QlpdEopC7PXdGdc2MacuREFnM3HWL+lkPk5BmiG9QjLjmNRTuSycrJA6BeHV8eHtmB2we0rpbvWFqdggYFpdQp7eCxDPYdTad7VDi+PidXPHPoWAar44+Snp1Lbp4hplEwPVqEk3g8k3lbDrEuIYUlO5PZdiiVh0a046ER7St8jfV7U3jwsz/YkZiGCLhusZHhgfj5CgdSMohpFExsq/rcNagNu5LSmLxwF/O3JPL8ld25OrZF6ReoAhoUlFKnjPSsXJJSM4mqH1hmGfycjQcZN3UVWbl5dGgSwjOXd6Wuny8+InRuHlrsMYnHM/l8+R5Wxx8lwN+Xjk1D2JmYxu87kjh4LLPI/hf3aM7iHckkpWYSUtePrpFhXN03ikt7Rla6jiA9K5fZGw6wKymN4Lp+DGrfiPZNbJ2DMabIebNy8rhtynKW7TrMN+PPLfG7VRUNCkqpapebZxDAx0c4kpbFvC2HmL3hAL9uTSQjO4+wQH/6tmpAo5C6hAX6ExFUBz9fITMnj+vOimbl7sPc/dFKOjUL5bqzonlt7jb2pWQAEFTHl1kPDaJFg3oA5OTm8Uf8UT5duofv1+7PDyJpWTkkHEknNMCPoR0b075JCP1iIggL9EeAJ7/byIKtiUSGB/LGDb3pHhmGz0nmRirrcFoWQ16Yx4hOTXjpmp5evZYGBaVUtfp29V7++e0G0rNyaRoWQMKRE+QZaBJal5Gdm9K+aQh/7DnChr3HSE7LIiU9i+xc973IVezSLTKMj+84m7BAf9Iyc/hgcRz+Pj5MnLuNLs1Def7K7izYlsT/Fuxkz+ETBNXx5co+UdzcvxUxjYIBOJGVQ4Cfb7E3++zcPP7Yc5T2TYIJr1d6xXB1eOSLNcxaf4Dlfx9RYsXz4bQsPlq8m+bhAVxVyaImDQpKqWphjOH93+N46oeNdI8K56zWDdh7NJ2YhkEM69SkxCdxYwzH0nNITsvkRFYuX6yIR0T403ntCQv0L7L/tBXxPDp9bf5yt8gw7hjYmqEdGxMaUHT/08XyuMNc9fZiLu3ZnK6RYSzYlsSYHs25rFckiamZvP97HJMX7iQ713DjOdE8dWm3Sl1Hg4JSyms27jvGpAU7iG5Qj0U7klmx+wgjOzfhlWt7Uq+O91q9r44/ypr4o/RpWZ8uzUNrRR8BgOdnbebN+TsAaBRSl8Tjmfj5CDl5BhEY06M5tw1oTfeo8EpfQ4OCUqpYuXmGw2lZ+AhEBNctss11my3u6X5XUhov/7yVGWvcgxlHBNXhoRHtuOHsljVWNl8bxCWlkZNnaNMwiO/X7WfD3hQaBtdleKfGtHGKxU5GaUFBO69Vg4QjJ1ibkELnZqG0jKhXa55o1OkrLTOHR79cy69bEknNzAGgY9MQAuv4knIim8TjmRx31kcE1eFvF3Xisl7u1jg/rN3PQ5//gZ+PD/cMjuHOga3Zc/gEbRsHE3IaF9+cKlo1DMr/fEmP5lzSo3m1XVuDghcZY3hnwU7++9OW/Eo0Px+hS/NQ7hkcw6guTb3+NJWXZ0jNyiE7J4+s3DyycwzHMrLZtP8Yew6fYNP+4zx+QUfaNj75pw91esjJzWP8J6tYsDWRa8+KpmPTEI5n5LBs12HyjKF5eCCDnRZBxsCvWxP587Q1rNh9hPFD2/LD2n08O3MzfaLr8+aNvWkcEgAUzWmo05MWH3lJbp7hT5+vZsaafVzYrSm3D2jN5gPH2XsknR/X7Scu+QQdm4Zw/7B2dI8Ko3FoXer6VV039/V7U/h02R5mrT9AclpWqfv+ZWR77hvWrsquXVvsTEylWVgggXVOjeEHqsrfvl7H1KV7eOayblx/dtmzF+blGf4zezPv/Lozf915nZvw6rW9at1vc6bQ4qMa8Pov25mxZh+PjOrAuCExiAh9WjYA4OGRHfh+7T5e/nkr4z9ZBUBdPx8GtW/En89rT6dmleu4Mm/zISYt2Mm2Q8dJSs0i0N+XYZ0a0zMqnLr+Pvj72le9Or60bxJCy4h6DP/vr2zaf7zKvndtkJdneH3edl6es5ULuzXjjet713SSqsx3a/Yxdeke7h7cplwBAWx9woQLOjG6W3NWJxylVUQ9zo1pqHUGtZQGBS/YtP8Yr/2yjUt6NGf80LZFtvv6CGN6RnJht2asiDtC/OETbNx/jK9WJXDBxN8Y1rExj4zqQGigP1sOHCO6QT22HUxlTUIK9er4cmG3prRtHJJ/vh2JqbwyZxvfrdlHdIN6DO/YhHZNgrm6b4sym+d1bBrCpgPHqvw3OF1l5+Zx3yermL3hIK0i6vHD2v3cP+wYHZt6t4dpcYwxZOca6vhVzQj3h45l8Lev19GzRTiPjOxQ4eO7RYXRLSqsStKiTl0aFKqYMYa/fb2OsEB/nrykS6n7+vv60C8mgn4xEQCMH9qWaSvieWv+Di6Y+Fsx+wvZuYYPFsUx4/4BRIYH2mEAPlmFAA8Ob8f4oW0rdBPpGhnGz5sOEn/4RH7v0MoyxrBoRzKrdh+hflAdBrRtWKDC7FTn+tvN3nCQv1/UiSv7RHH2M3N5b+Eunr+yR7WmZdH2JB77ai3xh9OJaRRE45AAwuv5Exboj7+vDyO7NGFA24YVarTw0s9bSc/O5aWre+Dnq1OpqOJpUKik3DzDrqQ0NuxL4eCxDAa3b0yHpiH8sG4/q/Yc5T9XdKNBGUPnFtYopC7jh7blurOi+X7tPnLzDG0aBZOcmknrhkF0aR7GnsMnuOyN37n67cX0aBHGnI2H6NgshMlj+9IopOIVfVfHtuD1X7Zz65TltIoIIrpBPR4Z1aHCZcX7U9J57Mt1LNiaWGB9dIN6XNE7ivFDY075G9Hrv2xn2ooEHhjejjsGtgHg+rOjef/3OAa3b8xF3ZsVOcYYw4Z9x9h+KJVdSWl8sSKeK/pE0bdVAzo2C6FxSADxh08wb8sh2jYKpl9MRJk38vV7U7jtg+VEhgfywLC2rN93jGPp2Ww/lMrR9GxSM3L4aMluRnRqwr/HdKF5eGCZ323rweNMWxHPLf1bV0mTRlV7aUVzJaRm5nDz5KWs2nM0f10dPx9mPjiQW95fRlAdP354YOBJj+hYkkU7knhj3nbikk7Qo0UYT1/arcyx20vz6bI9PDFjA42C67L3aDq9osN5/freRJbjZgO2F+ZtU5aTk2t47PwOXHtWNAdSMliwLZGfNx7kt21JjO3Xkn+N6VrpNJZkf0o6xlCuG6PLH3uOkJGdxzltGuTfoDcfOMZFry5kdPdmvHJNz/z1mTm53PC/pazbm8JbN/ZmWMcmACSnZvLh4t3MWLOPXUlpxV7H10foERXGur0p+a3PyqrUT07N5OLXFgLw7X0Dig30Gdm5fLR4Ny/+tAVfH+HFq3pwQdemdlz/1fv415guDGzXqMAxt76/jBW7j7DgkaEn9W9F1Q7aea2KPTljAx8ujuNvF3WmT8v6BPj7cMlrv5OVa8dG/+TOs+kf07Da03UycvMMvj7Cp8v2MOGrdVx3Vguevbw7h9OyCPD3KbFn6s7EVC5/axEN6tXhvVv6Fltc9H/fb2Tywl28d0ts/k31ZG0+cIx/f7eRRTuSAejQJIR/XtyZ/jER5BmKDcgHj2Xw4uwtfLEyAYAeUWH87+ZYMrLzGPv+Mo5nZPPTnwYXyeEdTsti7HvL2Lj/GA+PbM+BlAymr0wgPTuXc1pHcEnP5vRt1YAGQXWoX8+fIyey2XLgOL9uTWTxjiS6RYVxS//WvDJnKzPXH2D2QwML1Am55OTmcfN79ub95T39yyy/jz98gvs+WcWahJQC67tGhvL9/QPzl7ccOM6oVxbw2PkduXdITPl+YFWraVAoZE/yCd5duJMjJ7LJM4YHh7ejfZOC/0mNMaRn5xLo71sgu79hXwoXv7aQG89pyb89nnynLY/nye82cM/gGB4Yfno377zvk1Us2ZnMOzf14Yq3FnNZr0heLmbUxnlbDvHQZ6vx9RG+HteflhHF1x9k5uQy5vXfSU7L4tdHhpz00Aez1h/g/k9XERrgz63ntqJeHT+mLIpjz+ET1PXzITMnj35tInjx6h75uZ1N+49x47tLOZ6Rw/VnR9O+SQhPzthAVINAko5nIiJMHhtLbKsGxV4zNTOHuz9awe/bk6nj68MlPZtzz+CYCvXvcI2CGVm/Ht+M71+kCfILszfzxrwdvHBl93IPdJaZk8uzP27mw8VxPDi8PX6+wguzt7BkwnCahtn+Ay//vJVXf9nG8r+NoKH2JVBoUChi475jXPe/JTQIqsPhtCwyc3J5/PyOtG4UzL6j6SQcOcE3f+xj79F0WjQI5K5BMdx4djQ5eYbL3vyd/Ucz+OXhIYTVK9iyJy/P1Ipmer9tS+Smycvyl0MD/Fj75Kj8ZWMM01bEM+GrdXRoGspbN/Qus0J52a7DXP3OUC1cPQAAEbxJREFUYp6+rCs3nN2y0mlLPJ7JkBfm0a5JCO/d0jf/qT4jO5dv/tjLjsRUAD5Zuoes3DzO79qMoDq+fLt6H6GBfky94+z8p3TXGDNdmofy9o19yqxoz80zrNubQmR4YKXqbwBmrd/PPR+vYuK1PRnTMxKA7YdSWbA1kX9/v5Fr+7bguSu6V/i8xzKyCQ3wZ0diKsP/+ysPn9ee+52Hk1EvLyCsnj/T7u5XqTSr2kf7KRTSuXkoa54YCdhmeg9+tponv9uYv93X6XV83Vkt+GXzIf7xzXo6Nwvl1y2HWL/3GG/f2LtIQIDix4c5HQ1s14hP7jibnUlpLN6ZzIItifkTgxhjGDd1FTPXH2BA24a8c1MfguqW/c+ob6v6dGoWyrTl8ScVFF6Zs5WMnDxevqZngWKeAH9frj3L3e7+pnNa8b/fdvLZ8j34+/pwQdemPHp+x/ynZ4BHRnXgpn4taRRct1yV4L4+Qs8WlR+EDGBk56ZEN6jHC7O3UMfXh7aNg7n49YVkZOfRLTKszBZrJXE1PY5pFMywjo353287uax3JFk5eWw5eJwnLu58UulWZ44zMqdQWG6eYXX8UXLzDJH1A2kS4r5JHM/Ipu/Tc8jItvUFl/eO5KWrvTsBxqlkyu+7ePK7jSz723AahwTk5yLG9mvJXy/qVKFe2G/N38F/Zm1m4WNDiapfseavmTm5vDV/B6/M2cbtA1rzj9Hlu8llZOfi6yP4n0Itn37ZfJDbprj/3dar48sTF3fm0l6RVdKrPS4pjdGvLeScNhH0bhnO87O2sOjxYRWqjFe1W2k5hVPnf0oN8vUR+rSsz1mtGzjzqLp/lpAAf+4eZCvnzuvchOcur3jW/nTmar647aAtlvlgURwNg+tWOCAAXNC1KWDrBFw27T/G+a8s4NkfN5GXV/ABZfGOZCYv3MWHi+O4YOJvvDLHdgj8SwU6XgX4+55SAQFgWMcmLPvrcHq2CKdTs1C+vLc/1/SNrrJhTlo1DOKuQW2Ys+kgL8zeQo8W4RoQVLl5tfhIROKA40AukOOKTCJyP3AfkAP8YIx51Fk/Abjd2f8BY8xsb6avvP50XnvO79qUdo2DT/m29lWtV3Q4dXx9mL3hADsTU/ll8yHuGRxTqRtYq4ZBdG4Wyg/r9nP7gNYcPZHNbVOWsz8lg80HjuPjI1wd24KmoQHMWLOXCV+twxUnOjYN4f1b+zK0Q+Mq/oY1o3FoAN+MP9dr57/13Fa89PNWjKFaR9hUp7/qqFMYaoxJci2IyFBgDNDdGJMpIo2d9Z2Ba4EuQHP+v71zD9KqvO/458tdxaKwKA6IKAU1iZcqoY2GgNZU03a8tZLOxBiTpmamTY1pa9omM9XESYxp0jrkYqqpMXhJRnMhVFtRG6U2wpgECKKCjhe8AKKUGq5G3F//OGeXt+uuLsjzPstzvp+ZM5z3nH33c77Lvue3z+WcA/dImhoRr7XhGN+U3b0f0d7O/iOGMmNKB3MXrQZg/AH78LGZuz+t8Y9PnMDnbn+EK25/lEVPbmDD5l8z/+Mnc/1/P8U19z3BNfXDRQBmTOngC+ccwys7XmPy2JG+5fgusP+IoVx3wTSeeHEzHz5pUu7DMXsRSccU6pbCtB5F4Vbg2oi4p8fX/j1ARFxZv14AXB4Ri/r6/gP5Lqklsfblbdy4aDXvGD+K90wdy8h+DCz3RWdncPH3lnL78rV0jBzOl887lllHHkRE8IvVG1m9YStPb9jCfsOH8KfvPnzAdf0YUwI5Zx8FcJekAP4lIq4FpgIzJH0e2A78TUT8DBgPLG5573P1NpOZQ0btw6fOOGqPfK9Bg8RXZh/H+95xCDOP3FlgJDFt0ug+rxMwxrSH1EXh5IhYU3cR3S1pZe08EPgd4J3ArZKOAHrrG3hdM0bSRcBFABMn9u/Wv2ZgMXzI4F7vI2SMyU/StnlErKn/XQ/8CJhO1QL4YVQ8CHQCHfX21ss4JwBr6EFEXBsR0yJi2tixY3vuNsYY8xZIVhQk7Sdp/6514PeAFcA84NR6+1RgGPASMB/4E0nDJR0OTAEe7O17G2OMSUPK7qODgR/VM0aGALdExJ2ShgHXS1oB/Br4UFSj3Q/Xg9CPUE1V/YuBMvPIGGOagq9oNsaYhuErmo0xxvQLFwVjjDHduCgYY4zpxkXBGGNMN3v1QLOkF4HVu/i2DqopsDnI5XbmZriduRnuPeE9LCJ6vdBrry4Ku4Okn/c16l6q25mb4XbmZrhTe919ZIwxphsXBWOMMd00sShc20C3MzfD7czNcCf1Nm5MwRhjTN80saVgjDGmD1wUjDHGdOOiYIwxppvUT17LjqT3AC9ExCpJ76Z64tujEXFHYu9I4AyqBwftAB4H7oqIzpTe2j2qdo+nenrdGmBBRPxvancfx/PeiLg7seM3gLER8USP7cdGxPKE3nEAEbFO0lhgBrAqIh5O5XyDY/lCRHy6zc7Dgd8CHomIlYldE4H1EbFd1T35LwROoLrd/nURsSOR90yqz+72FN+/H/62nsOKHmiWdDXV096GAAuA3wX+A5gJLI2ISxN5ZwOXAr8ETgEeoGqVHQN8ICIeSuGt3RcAlwF3Ac/XmycA7wU+GxFzU7nf4JieiYhkz06tf95XA+uBocCF9XO/kbQkIk5I5P0Y8HdUj5K9iuok9TBwMvCliPjXFN7aPafnJuCDwFyAiLg4kXdeRJxdr59F9XO/DzgJuDIibkjhrX0rgOkRsVXSVcBkWh7aFREfSeTdBmyhOnd8l+oPrLY86yXLOSwiil2oPqAC9gU2AvvW24cCKxJ6l7e4Oqh+iQCOBR5InHkVcEAv2w8EHkvond/H8m/AlsSZlwGH1OvTgZXAufXrpQm9D9W/W2OAzcC4lp/1ssSZnwNuAi4APlQvL3atJ/QubVl/ADi8Xu8Afpk48yMt678ABrW8TuYGltb/p38G/CfwAvBNYGbKvLW77eew0ruPIiJCUleXTVezqJO04ykCttXrW4CD6oNZXndzpETszNlKZ70vFTOA86lOjj2PZ3pCL8DgiFgLEBEPSjoFuF3SBHr/WewpXo2IrcBWSU9ExLr6GDZKSt0EPxq4gqqb8NKIeF7SZRHxncTe1lxDIuIpgIh4qeVzlopnJZ0aET8Bnqbqml0taUxib0TERuA64Lq6y3A28EVJEyLi0Dd++1t2t/UcVnpRuEPS/cAI4FvArZIWUzW9/iuh99+BOyUtBN4H3AYgaTRpT8wAnweWSLoLeLbeNpGq++iKhN7FwNaIWNhzh6RVCb0AmyRNjno8ISLWSppF1bXw9oTeTklDI+JV4A+6NkoaQeJJHBGxCbhE0onATZLuSO2sOU7Sr6h+j4dLGhfVeMowYHBi90eBuZIuB14Glknq+iv+rxJ6/99nti7+c4A5kg5L6IUM57CixxQAJL2LqtouljQZOAd4Bvh+JBz0lfT7wNuomrV319sGAUMj4pVU3tpzIHA61UCzqLoaFtR/7RSHpOOoCtLjPbYPBWZHxM2JvBOBtXVRaN0+Hjg6Iu5J4e3lOAT8OfCuiDi/Hc5ejuEAqsyL2uA6GphK9Uftc8DPEn+WZ0XEfam+fz/8bT2HFV8UjDHG9J/GXqcgKdkMoJxeSYdK+p6k+yV9uv5ruWvfvNK8Od3O7MwlZi66KEg6t4/lj4BxpXlrrqeaIviXwCHAwpaBuJT9n7m8Od3O7MzlZU49pSrnArwK3AB8u5dlU2ne2r2sx+vzqaa1TQaWlOZ1Zmd25j27lD77aDnw5YhY0XOHpNMK9AIMlTQi6qsvI+ImSeuoLnzZr0BvTrczO3NxmYvuPgIuAX7Vx75zCvRCNW3tt1s3RDUL5jzgdUWqAG9OtzO3z5vT3ajMnn1kjDGmm9JbCq9D0pImeXO6nbkZbmcuy924okD6K4oHmjen25mb4XbmgtxNLApJb5k9AL053c7cDLczF+Ru1JiCqpvRTQGejDbe8iGXN6fbmZ25VHfxmVPOsc29UN1auKNeP53qBnH3AKuB80rzOrMzO3M53lzuZGEGwgI81LL+ADCpXk967/dcXmd2Zmcux5vLXfqYwiDtfH5BJ9WdBYmIl0h72/Bc3pxuZ3ZmZy7AXfoVzZ8F7pX0deCnwG2Sfkz1+L47C/TmdDuzMztzAe7iB5ol/SbVY/Ra778+LyIWlOjN6XZmZ07pzeluUubii4Ixxpj+U3r3EZJOB86megpZAGuAH0dE0mZfLm9OtzM7c0pvTneTMhfdUpB0NVWTay5VkwtgAnAB8HhEfKIkb063MztzSm9Od9Myl14UHouIqb1sF/BYREwpyZvT7czt8+Z0O3P7vLncpU9J3S5pei/b3wlsL9Cb0+3M7fPmdDtz+7xZ3KWPKVwIXCNpf3Y2vQ6letbBhQV6c7pzeXO6c3lzunN5c7pzebO4i+4+6kLSOKpBGgHPRcS6kr053c7szKW6G5M51eXZA3UBLm+S15mb4XXmZnjb4S59TKE3zmyYN6fbmZvhduaC3E0sCn4oR/nenG5nboa72MyNGFNoRdKgiOhsijen25mb4XbmstxFtxQkjZb0D5I+qorPAPMl/aOkA0vz5nQ7szM7cxnuoosC1QMq9gNOBO4FxgFXAduAGwr05nQ7szOn9OZ0NytzrhH0No3SL6v/FfB8b/tK8jqzMztzOd5c7tJbCoPqJtahwEhJkwAkjQGGFejN6XZmZ3bmAtylX9F8JbCyXv8I8C1JAbyN6uEVpXlzup3ZmZ25AHfxs48kDabKuUPSEOB4qmbY2hK9Od3O7MwpvTndTcpcfFHoC0lHRcTKN//KMrw53c7cDLczl+FuclF4JiImNsWb0+3MzXA7cxnuoscUJM3paxdwQGnenG5nbp83p9uZ2+fN5S66pSBpE/DXwCu97P5KRHSU5M3pdub2eXO6nbl93mzulHNscy/AT4CT+tj3VGleZ3ZmZy7Hm8tdekthNLA9IrY2wZvT7cztxZnL9+ZyF10UjDHG7BpFX9EsaZSkL0paKWlDvTxab0s5MJXFm9PtzM7szGW4iy4KwK3ARmBWRIyJiDHAKfW22wr05nQ7szM7cwHuoruPJK2KiCN3dd/e6s3pdub2eXO6nbl93lzu0lsKqyV9StLBXRskHSzpb4FnC/TmdDtz+7w53c7cPm8Wd+lF4f3AGGChpI2S/ge4DxgNzC7Qm9PtzM7szCW4U86xHQgLcBRwGjCyx/YzSvQ6szM7czneHO6kYXIvwMXAKmAe8DRwVsu+JaV5ndmZnbkcby53sjADYQEe6qquwCTg58An6tdLS/M6szM7czneXO6ib4gHDI6IzQAR8bSkWcD3JR1GdUOp0rw53c7szM5cgLv0geZ1ko7velH/cP8Q6ACOKdCb0+3MzuzMBbhLv05hArAjItb1su/kiPhpSd6cbmdunzen25nb583lLrooGGOM2TVK7z4yxhizC7goGGOM6ab02UfG7DEkvUY1RXAosAP4DnB1RHRmPTBj9iAuCsb0n20RcTyApIOAW4BRwGVZj8qYPYi7j4zZDSJiPXAR8HFVTJJ0v6Ql9XISgKQbJZ3V9T5JN0s6U9LbJT0oaZmk5ZKm5MpiTCuefWRMP5G0OSJG9ti2kereNJuAzojYXp/gvxsR0yTNBD4ZEWdLGgUsA6YA/wwsjoibJQ2jukhpW3sTGfN63H1kzFuj66rSocDX6guNXgOmAkTEQklfr7ubzgV+EBE7JC0CPlPPQ/9hRDye4+CN6Ym7j4zZTSQdQVUA1gOfBF4AjgOmAcNavvRG4APAh4FvA0TELcCZwDZggaRT23fkxvSNi4Ixu4GkscA3ga9F1Qc7Clhbz0T6IDC45ctvAC4BiIiH6/cfATwZEXOA+cCx7Tt6Y/rG3UfG9J99JC1j55TUG4F/qvd9A/iBpPOAe4EtXW+KiBckPUp1++Mu3g+cL+lVYB3wuTYcvzFvigeajUmMpH2prm84ISJezn08xrwR7j4yJiGSTgNWAl91QTB7A24pGGOM6cYtBWOMMd24KBhjjOnGRcEYY0w3LgrGGGO6cVEwxhjTjYuCMcaYbv4PYnlenW8AauwAAAAASUVORK5CYII=\n",
          "text/plain": "<Figure size 432x288 with 1 Axes>"
         },
         "metadata": {
          "needs_background": "light"
         },
         "output_type": "display_data"
        }
       ]
      }
     },
     "b0dd362e61cd47be9e418beb8432ef40": {
      "model_module": "@jupyter-widgets/controls",
      "model_module_version": "1.5.0",
      "model_name": "DatePickerModel",
      "state": {
       "description": "date",
       "disabled": false,
       "layout": "IPY_MODEL_f31b0579363b491a959e586c2ad2d33c",
       "style": "IPY_MODEL_3c2bea58ed21475d94dd02acaa6ea198",
       "value": {
        "date": 18,
        "month": 5,
        "year": 2018
       }
      }
     },
     "b12c133f6fef4309a97697300a17a52e": {
      "model_module": "@jupyter-widgets/controls",
      "model_module_version": "1.5.0",
      "model_name": "DatePickerModel",
      "state": {
       "description": "date",
       "disabled": false,
       "layout": "IPY_MODEL_7c8343baeb0e48b892db698644925444",
       "style": "IPY_MODEL_0ca52782ce38403ba40c65cd2fcd5b63",
       "value": {
        "date": 23,
        "month": 4,
        "year": 2018
       }
      }
     },
     "b22c4b983c0b499994bbd3a7eea82f17": {
      "model_module": "@jupyter-widgets/base",
      "model_module_version": "1.2.0",
      "model_name": "LayoutModel",
      "state": {}
     },
     "b2d88bb4539740e4aa392e28ba7de2a4": {
      "model_module": "@jupyter-widgets/base",
      "model_module_version": "1.2.0",
      "model_name": "LayoutModel",
      "state": {}
     },
     "b380773eb87d4cc8b59262be6d351620": {
      "model_module": "@jupyter-widgets/base",
      "model_module_version": "1.2.0",
      "model_name": "LayoutModel",
      "state": {}
     },
     "b39a653b630145f5b104d320d11742d1": {
      "model_module": "@jupyter-widgets/output",
      "model_module_version": "1.0.0",
      "model_name": "OutputModel",
      "state": {
       "layout": "IPY_MODEL_0ede8b1b2d6249038f973da79e237487",
       "outputs": [
        {
         "name": "stdout",
         "output_type": "stream",
         "text": "Int64Index([0], dtype='int64')\n"
        }
       ]
      }
     },
     "b41f286d717743609ba79f2424f44a75": {
      "model_module": "@jupyter-widgets/base",
      "model_module_version": "1.2.0",
      "model_name": "LayoutModel",
      "state": {}
     },
     "b5292570e4fc4b0282f02090abb90087": {
      "model_module": "@jupyter-widgets/controls",
      "model_module_version": "1.5.0",
      "model_name": "DescriptionStyleModel",
      "state": {
       "description_width": ""
      }
     },
     "b579d8a1891946a7b30f4cfaebc1ca83": {
      "model_module": "@jupyter-widgets/base",
      "model_module_version": "1.2.0",
      "model_name": "LayoutModel",
      "state": {}
     },
     "b717bf2ccae54087b68aa44615945aba": {
      "model_module": "@jupyter-widgets/base",
      "model_module_version": "1.2.0",
      "model_name": "LayoutModel",
      "state": {}
     },
     "b74fd0ade2a64a8a9db8ebc8b6b34688": {
      "model_module": "@jupyter-widgets/base",
      "model_module_version": "1.2.0",
      "model_name": "LayoutModel",
      "state": {}
     },
     "b942fac2e77141afb791a7be3f2b8335": {
      "model_module": "@jupyter-widgets/base",
      "model_module_version": "1.2.0",
      "model_name": "LayoutModel",
      "state": {}
     },
     "b949f989ce65498091f0adc1d0ded2d4": {
      "model_module": "@jupyter-widgets/base",
      "model_module_version": "1.2.0",
      "model_name": "LayoutModel",
      "state": {}
     },
     "b9ac5f8ce32c46d0a281abda0d97ddb0": {
      "model_module": "@jupyter-widgets/controls",
      "model_module_version": "1.5.0",
      "model_name": "VBoxModel",
      "state": {
       "_dom_classes": [
        "widget-interact"
       ],
       "children": [
        "IPY_MODEL_9a4191aaa8c1476a9888a031a18b5217",
        "IPY_MODEL_d1cc861afad74fbeae12785045608c83"
       ],
       "layout": "IPY_MODEL_2b2ccb1e39bb40498a972e0ba9777fa2"
      }
     },
     "bac2ada0f5f64c7789de1b090f295335": {
      "model_module": "@jupyter-widgets/controls",
      "model_module_version": "1.5.0",
      "model_name": "DatePickerModel",
      "state": {
       "description": "date",
       "disabled": false,
       "layout": "IPY_MODEL_431b3940002c43a8985cf71c61354c8f",
       "style": "IPY_MODEL_17d2af79047f4413b18307580c75e624",
       "value": {
        "date": 22,
        "month": 5,
        "year": 2018
       }
      }
     },
     "bae17054193248ab93b5bf8632120e71": {
      "model_module": "@jupyter-widgets/base",
      "model_module_version": "1.2.0",
      "model_name": "LayoutModel",
      "state": {}
     },
     "bbafff7724484b9d8be0d07a47d6a8cf": {
      "model_module": "@jupyter-widgets/controls",
      "model_module_version": "1.5.0",
      "model_name": "DescriptionStyleModel",
      "state": {
       "description_width": ""
      }
     },
     "bcb6ff04af7a4476aa1b909a4dee7f73": {
      "model_module": "@jupyter-widgets/base",
      "model_module_version": "1.2.0",
      "model_name": "LayoutModel",
      "state": {}
     },
     "bcf70f0a2cc8489081dafb0a34e40c38": {
      "model_module": "@jupyter-widgets/controls",
      "model_module_version": "1.5.0",
      "model_name": "VBoxModel",
      "state": {
       "_dom_classes": [
        "widget-interact"
       ],
       "children": [
        "IPY_MODEL_33422f1e6af648a6b07c88cc173d9e9e",
        "IPY_MODEL_5369416ace604759af7e54424fab4b24"
       ],
       "layout": "IPY_MODEL_faec0cebffb74c468bbd8dbca2fec9a9"
      }
     },
     "bd45ddcf470f48f9bb6748b993ad34a9": {
      "model_module": "@jupyter-widgets/base",
      "model_module_version": "1.2.0",
      "model_name": "LayoutModel",
      "state": {}
     },
     "bd48970376e347c6af8f0048c0a5c1de": {
      "model_module": "@jupyter-widgets/controls",
      "model_module_version": "1.5.0",
      "model_name": "DescriptionStyleModel",
      "state": {
       "description_width": ""
      }
     },
     "bd52369e78f7474ba8bb4e1a32b9e43f": {
      "model_module": "@jupyter-widgets/base",
      "model_module_version": "1.2.0",
      "model_name": "LayoutModel",
      "state": {}
     },
     "bd789bcafd6348c599321814bc3c4cac": {
      "model_module": "@jupyter-widgets/controls",
      "model_module_version": "1.5.0",
      "model_name": "DescriptionStyleModel",
      "state": {
       "description_width": ""
      }
     },
     "bdadffcec16a413892a898b91d12d243": {
      "model_module": "@jupyter-widgets/output",
      "model_module_version": "1.0.0",
      "model_name": "OutputModel",
      "state": {
       "layout": "IPY_MODEL_047ab705fa604192b6d0935cadeb1c23",
       "outputs": [
        {
         "ename": "AttributeError",
         "evalue": "'Timestamp' object has no attribute 'AddHours'",
         "output_type": "error",
         "traceback": [
          "\u001b[1;31m---------------------------------------------------------------------------\u001b[0m",
          "\u001b[1;31mAttributeError\u001b[0m                            Traceback (most recent call last)",
          "\u001b[1;32m~\\AppData\\Local\\Continuum\\anaconda3\\lib\\site-packages\\ipywidgets\\widgets\\interaction.py\u001b[0m in \u001b[0;36mupdate\u001b[1;34m(self, *args)\u001b[0m\n\u001b[0;32m    254\u001b[0m                     \u001b[0mvalue\u001b[0m \u001b[1;33m=\u001b[0m \u001b[0mwidget\u001b[0m\u001b[1;33m.\u001b[0m\u001b[0mget_interact_value\u001b[0m\u001b[1;33m(\u001b[0m\u001b[1;33m)\u001b[0m\u001b[1;33m\u001b[0m\u001b[1;33m\u001b[0m\u001b[0m\n\u001b[0;32m    255\u001b[0m                     \u001b[0mself\u001b[0m\u001b[1;33m.\u001b[0m\u001b[0mkwargs\u001b[0m\u001b[1;33m[\u001b[0m\u001b[0mwidget\u001b[0m\u001b[1;33m.\u001b[0m\u001b[0m_kwarg\u001b[0m\u001b[1;33m]\u001b[0m \u001b[1;33m=\u001b[0m \u001b[0mvalue\u001b[0m\u001b[1;33m\u001b[0m\u001b[1;33m\u001b[0m\u001b[0m\n\u001b[1;32m--> 256\u001b[1;33m                 \u001b[0mself\u001b[0m\u001b[1;33m.\u001b[0m\u001b[0mresult\u001b[0m \u001b[1;33m=\u001b[0m \u001b[0mself\u001b[0m\u001b[1;33m.\u001b[0m\u001b[0mf\u001b[0m\u001b[1;33m(\u001b[0m\u001b[1;33m**\u001b[0m\u001b[0mself\u001b[0m\u001b[1;33m.\u001b[0m\u001b[0mkwargs\u001b[0m\u001b[1;33m)\u001b[0m\u001b[1;33m\u001b[0m\u001b[1;33m\u001b[0m\u001b[0m\n\u001b[0m\u001b[0;32m    257\u001b[0m                 \u001b[0mshow_inline_matplotlib_plots\u001b[0m\u001b[1;33m(\u001b[0m\u001b[1;33m)\u001b[0m\u001b[1;33m\u001b[0m\u001b[1;33m\u001b[0m\u001b[0m\n\u001b[0;32m    258\u001b[0m                 \u001b[1;32mif\u001b[0m \u001b[0mself\u001b[0m\u001b[1;33m.\u001b[0m\u001b[0mauto_display\u001b[0m \u001b[1;32mand\u001b[0m \u001b[0mself\u001b[0m\u001b[1;33m.\u001b[0m\u001b[0mresult\u001b[0m \u001b[1;32mis\u001b[0m \u001b[1;32mnot\u001b[0m \u001b[1;32mNone\u001b[0m\u001b[1;33m:\u001b[0m\u001b[1;33m\u001b[0m\u001b[1;33m\u001b[0m\u001b[0m\n",
          "\u001b[1;32m<ipython-input-61-d5b392617f43>\u001b[0m in \u001b[0;36mpredict_price\u001b[1;34m(date)\u001b[0m\n\u001b[0;32m     28\u001b[0m         \u001b[1;32mfrom\u001b[0m \u001b[0mmatplotlib\u001b[0m \u001b[1;32mimport\u001b[0m \u001b[0mpyplot\u001b[0m \u001b[1;32mas\u001b[0m \u001b[0mplt\u001b[0m\u001b[1;33m\u001b[0m\u001b[1;33m\u001b[0m\u001b[0m\n\u001b[0;32m     29\u001b[0m         \u001b[0mplt\u001b[0m\u001b[1;33m.\u001b[0m\u001b[0mfigure\u001b[0m\u001b[1;33m(\u001b[0m\u001b[1;33m)\u001b[0m\u001b[1;33m\u001b[0m\u001b[1;33m\u001b[0m\u001b[0m\n\u001b[1;32m---> 30\u001b[1;33m         \u001b[0mplt\u001b[0m\u001b[1;33m.\u001b[0m\u001b[0mplot\u001b[0m\u001b[1;33m(\u001b[0m\u001b[1;33m[\u001b[0m\u001b[0md\u001b[0m\u001b[1;33m.\u001b[0m\u001b[0mAddHours\u001b[0m\u001b[1;33m(\u001b[0m\u001b[0mx\u001b[0m\u001b[1;33m/\u001b[0m\u001b[1;36m48.0\u001b[0m\u001b[1;33m)\u001b[0m\u001b[1;33m.\u001b[0m\u001b[0mdate\u001b[0m\u001b[1;33m(\u001b[0m\u001b[1;33m)\u001b[0m \u001b[1;32mfor\u001b[0m \u001b[0mx\u001b[0m \u001b[1;32min\u001b[0m \u001b[0mrange\u001b[0m\u001b[1;33m(\u001b[0m\u001b[0mlen\u001b[0m\u001b[1;33m(\u001b[0m\u001b[0my_pred_org\u001b[0m\u001b[1;33m)\u001b[0m\u001b[1;33m)\u001b[0m\u001b[1;33m]\u001b[0m\u001b[1;33m,\u001b[0m\u001b[0my_pred_org\u001b[0m\u001b[1;33m)\u001b[0m\u001b[1;33m\u001b[0m\u001b[1;33m\u001b[0m\u001b[0m\n\u001b[0m\u001b[0;32m     31\u001b[0m         \u001b[0mplt\u001b[0m\u001b[1;33m.\u001b[0m\u001b[0mplot\u001b[0m\u001b[1;33m(\u001b[0m\u001b[1;33m[\u001b[0m\u001b[0mx\u001b[0m\u001b[1;33m/\u001b[0m\u001b[1;36m48.0\u001b[0m \u001b[1;32mfor\u001b[0m \u001b[0mx\u001b[0m \u001b[1;32min\u001b[0m \u001b[0mrange\u001b[0m\u001b[1;33m(\u001b[0m\u001b[0mlen\u001b[0m\u001b[1;33m(\u001b[0m\u001b[0my_pred_org\u001b[0m\u001b[1;33m)\u001b[0m\u001b[1;33m)\u001b[0m\u001b[1;33m]\u001b[0m\u001b[1;33m,\u001b[0m\u001b[0my_test_t_org\u001b[0m\u001b[1;33m)\u001b[0m\u001b[1;33m\u001b[0m\u001b[1;33m\u001b[0m\u001b[0m\n\u001b[0;32m     32\u001b[0m         \u001b[0mplt\u001b[0m\u001b[1;33m.\u001b[0m\u001b[0mtitle\u001b[0m\u001b[1;33m(\u001b[0m\u001b[1;34m'Prediction vs Real Stock Price'\u001b[0m\u001b[1;33m)\u001b[0m\u001b[1;33m\u001b[0m\u001b[1;33m\u001b[0m\u001b[0m\n",
          "\u001b[1;32m<ipython-input-61-d5b392617f43>\u001b[0m in \u001b[0;36m<listcomp>\u001b[1;34m(.0)\u001b[0m\n\u001b[0;32m     28\u001b[0m         \u001b[1;32mfrom\u001b[0m \u001b[0mmatplotlib\u001b[0m \u001b[1;32mimport\u001b[0m \u001b[0mpyplot\u001b[0m \u001b[1;32mas\u001b[0m \u001b[0mplt\u001b[0m\u001b[1;33m\u001b[0m\u001b[1;33m\u001b[0m\u001b[0m\n\u001b[0;32m     29\u001b[0m         \u001b[0mplt\u001b[0m\u001b[1;33m.\u001b[0m\u001b[0mfigure\u001b[0m\u001b[1;33m(\u001b[0m\u001b[1;33m)\u001b[0m\u001b[1;33m\u001b[0m\u001b[1;33m\u001b[0m\u001b[0m\n\u001b[1;32m---> 30\u001b[1;33m         \u001b[0mplt\u001b[0m\u001b[1;33m.\u001b[0m\u001b[0mplot\u001b[0m\u001b[1;33m(\u001b[0m\u001b[1;33m[\u001b[0m\u001b[0md\u001b[0m\u001b[1;33m.\u001b[0m\u001b[0mAddHours\u001b[0m\u001b[1;33m(\u001b[0m\u001b[0mx\u001b[0m\u001b[1;33m/\u001b[0m\u001b[1;36m48.0\u001b[0m\u001b[1;33m)\u001b[0m\u001b[1;33m.\u001b[0m\u001b[0mdate\u001b[0m\u001b[1;33m(\u001b[0m\u001b[1;33m)\u001b[0m \u001b[1;32mfor\u001b[0m \u001b[0mx\u001b[0m \u001b[1;32min\u001b[0m \u001b[0mrange\u001b[0m\u001b[1;33m(\u001b[0m\u001b[0mlen\u001b[0m\u001b[1;33m(\u001b[0m\u001b[0my_pred_org\u001b[0m\u001b[1;33m)\u001b[0m\u001b[1;33m)\u001b[0m\u001b[1;33m]\u001b[0m\u001b[1;33m,\u001b[0m\u001b[0my_pred_org\u001b[0m\u001b[1;33m)\u001b[0m\u001b[1;33m\u001b[0m\u001b[1;33m\u001b[0m\u001b[0m\n\u001b[0m\u001b[0;32m     31\u001b[0m         \u001b[0mplt\u001b[0m\u001b[1;33m.\u001b[0m\u001b[0mplot\u001b[0m\u001b[1;33m(\u001b[0m\u001b[1;33m[\u001b[0m\u001b[0mx\u001b[0m\u001b[1;33m/\u001b[0m\u001b[1;36m48.0\u001b[0m \u001b[1;32mfor\u001b[0m \u001b[0mx\u001b[0m \u001b[1;32min\u001b[0m \u001b[0mrange\u001b[0m\u001b[1;33m(\u001b[0m\u001b[0mlen\u001b[0m\u001b[1;33m(\u001b[0m\u001b[0my_pred_org\u001b[0m\u001b[1;33m)\u001b[0m\u001b[1;33m)\u001b[0m\u001b[1;33m]\u001b[0m\u001b[1;33m,\u001b[0m\u001b[0my_test_t_org\u001b[0m\u001b[1;33m)\u001b[0m\u001b[1;33m\u001b[0m\u001b[1;33m\u001b[0m\u001b[0m\n\u001b[0;32m     32\u001b[0m         \u001b[0mplt\u001b[0m\u001b[1;33m.\u001b[0m\u001b[0mtitle\u001b[0m\u001b[1;33m(\u001b[0m\u001b[1;34m'Prediction vs Real Stock Price'\u001b[0m\u001b[1;33m)\u001b[0m\u001b[1;33m\u001b[0m\u001b[1;33m\u001b[0m\u001b[0m\n",
          "\u001b[1;31mAttributeError\u001b[0m: 'Timestamp' object has no attribute 'AddHours'"
         ]
        }
       ]
      }
     },
     "bddd0711730b437e93b53881c8420172": {
      "model_module": "@jupyter-widgets/controls",
      "model_module_version": "1.5.0",
      "model_name": "DescriptionStyleModel",
      "state": {
       "description_width": ""
      }
     },
     "bfa57ca9fd5c4b46801bebe49206b9cc": {
      "model_module": "@jupyter-widgets/base",
      "model_module_version": "1.2.0",
      "model_name": "LayoutModel",
      "state": {}
     },
     "bfa9884e55e34d718233f96b80e8adba": {
      "model_module": "@jupyter-widgets/controls",
      "model_module_version": "1.5.0",
      "model_name": "DatePickerModel",
      "state": {
       "description": "date",
       "disabled": false,
       "layout": "IPY_MODEL_5ae5545461de4a56bfecba0c2cab39eb",
       "style": "IPY_MODEL_7f099d5ee9b441f6be53d0f2843d6ff9",
       "value": {
        "date": 23,
        "month": 4,
        "year": 2018
       }
      }
     },
     "bfaf95fe6748404881601bcce2553230": {
      "model_module": "@jupyter-widgets/controls",
      "model_module_version": "1.5.0",
      "model_name": "DescriptionStyleModel",
      "state": {
       "description_width": ""
      }
     },
     "c086a4ad2dc041db9531f886f3018572": {
      "model_module": "@jupyter-widgets/output",
      "model_module_version": "1.0.0",
      "model_name": "OutputModel",
      "state": {
       "layout": "IPY_MODEL_aaeabaf0b3884287bb1bf9cc2014339e",
       "outputs": [
        {
         "data": {
          "image/png": "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\n",
          "text/plain": "<Figure size 432x288 with 1 Axes>"
         },
         "metadata": {
          "needs_background": "light"
         },
         "output_type": "display_data"
        }
       ]
      }
     },
     "c09cbe848c484a4e86b212cedc7f1be0": {
      "model_module": "@jupyter-widgets/controls",
      "model_module_version": "1.5.0",
      "model_name": "DescriptionStyleModel",
      "state": {
       "description_width": ""
      }
     },
     "c1a376eac231464cbc229171ade04394": {
      "model_module": "@jupyter-widgets/controls",
      "model_module_version": "1.5.0",
      "model_name": "DescriptionStyleModel",
      "state": {
       "description_width": ""
      }
     },
     "c1f3e8f0ea17460289a7debe8605ffe5": {
      "model_module": "@jupyter-widgets/output",
      "model_module_version": "1.0.0",
      "model_name": "OutputModel",
      "state": {
       "layout": "IPY_MODEL_c92000d152824ac09817536cfa609ac2",
       "outputs": [
        {
         "data": {
          "image/png": "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\n",
          "text/plain": "<Figure size 432x288 with 1 Axes>"
         },
         "metadata": {
          "needs_background": "light"
         },
         "output_type": "display_data"
        }
       ]
      }
     },
     "c1f488baf6d04034afe11b4d7e8c89b7": {
      "model_module": "@jupyter-widgets/base",
      "model_module_version": "1.2.0",
      "model_name": "LayoutModel",
      "state": {}
     },
     "c2eaf19ddf354a5e839517838487c9e1": {
      "model_module": "@jupyter-widgets/base",
      "model_module_version": "1.2.0",
      "model_name": "LayoutModel",
      "state": {}
     },
     "c318041f6e134afeba6891c88e6bf7b9": {
      "model_module": "@jupyter-widgets/base",
      "model_module_version": "1.2.0",
      "model_name": "LayoutModel",
      "state": {}
     },
     "c38735f0e1b04041bf94b4792bfaa2bf": {
      "model_module": "@jupyter-widgets/base",
      "model_module_version": "1.2.0",
      "model_name": "LayoutModel",
      "state": {}
     },
     "c3a290d6592841d9bc72d8a556b2d199": {
      "model_module": "@jupyter-widgets/base",
      "model_module_version": "1.2.0",
      "model_name": "LayoutModel",
      "state": {}
     },
     "c3cd40d560fa4f54a901a4fce7ada5d5": {
      "model_module": "@jupyter-widgets/controls",
      "model_module_version": "1.5.0",
      "model_name": "VBoxModel",
      "state": {
       "_dom_classes": [
        "widget-interact"
       ],
       "children": [
        "IPY_MODEL_a42c8832cea44b9d81c63cbeb44cbf63",
        "IPY_MODEL_e365e6896bd6430f9d541d54ede6d1f0"
       ],
       "layout": "IPY_MODEL_5ba84b51d1344547976a8673f8a76f27"
      }
     },
     "c4695a65b21a4c099d17b59b328aba83": {
      "model_module": "@jupyter-widgets/controls",
      "model_module_version": "1.5.0",
      "model_name": "DatePickerModel",
      "state": {
       "description": "date",
       "disabled": false,
       "layout": "IPY_MODEL_41d1cfc992054576b0c5727c9932865e",
       "style": "IPY_MODEL_15db61692fa646259edb11a847f13748",
       "value": {
        "date": 18,
        "month": 5,
        "year": 2018
       }
      }
     },
     "c55d357badf74bdbb81727eaa314ce61": {
      "model_module": "@jupyter-widgets/controls",
      "model_module_version": "1.5.0",
      "model_name": "IntProgressModel",
      "state": {
       "bar_style": "success",
       "layout": "IPY_MODEL_a54724ef79e8400ca4700dc7eb869ab0",
       "max": 502,
       "style": "IPY_MODEL_36cb89025a58445ca6ca7d308440dcd6",
       "value": 502
      }
     },
     "c588e33340e0414f864a68b20950c5b9": {
      "model_module": "@jupyter-widgets/controls",
      "model_module_version": "1.5.0",
      "model_name": "DatePickerModel",
      "state": {
       "description": "date",
       "disabled": false,
       "layout": "IPY_MODEL_aaf97247b5784e61993b0a45768181c9",
       "style": "IPY_MODEL_a7ca7d84f0b14984a29c488abb4795f3",
       "value": {
        "date": 18,
        "month": 5,
        "year": 2018
       }
      }
     },
     "c5f67ae3490f4cea805d9cd6b5f311df": {
      "model_module": "@jupyter-widgets/controls",
      "model_module_version": "1.5.0",
      "model_name": "DatePickerModel",
      "state": {
       "description": "date",
       "disabled": false,
       "layout": "IPY_MODEL_fefd9495c92e49629f6a4ee0989ad93c",
       "style": "IPY_MODEL_70aae515e3db4cffaf6463fa90e3f6d6",
       "value": {
        "date": 23,
        "month": 4,
        "year": 2018
       }
      }
     },
     "c620c7c2741a4d779464045a2b1c55fc": {
      "model_module": "@jupyter-widgets/controls",
      "model_module_version": "1.5.0",
      "model_name": "DatePickerModel",
      "state": {
       "description": "date",
       "disabled": false,
       "layout": "IPY_MODEL_c83d2c5e1aab45879216c0c8191b4865",
       "style": "IPY_MODEL_bfaf95fe6748404881601bcce2553230",
       "value": {
        "date": 18,
        "month": 5,
        "year": 2018
       }
      }
     },
     "c648b1d08fc94d69a264d2cab61c64f2": {
      "model_module": "@jupyter-widgets/controls",
      "model_module_version": "1.5.0",
      "model_name": "ProgressStyleModel",
      "state": {
       "description_width": ""
      }
     },
     "c799e40cce6448dda2096fcc6a24c0a1": {
      "model_module": "@jupyter-widgets/controls",
      "model_module_version": "1.5.0",
      "model_name": "VBoxModel",
      "state": {
       "_dom_classes": [
        "widget-interact"
       ],
       "children": [
        "IPY_MODEL_871d3e076a6042be9610efe7bbbb1d8c",
        "IPY_MODEL_d87d9e88bd1b4669a1b63b719e8e12f6"
       ],
       "layout": "IPY_MODEL_3d3b0c08d3484dd686a3199b5226e558"
      }
     },
     "c8047225725a4767a50763fee1542052": {
      "model_module": "@jupyter-widgets/controls",
      "model_module_version": "1.5.0",
      "model_name": "DescriptionStyleModel",
      "state": {
       "description_width": ""
      }
     },
     "c83d2c5e1aab45879216c0c8191b4865": {
      "model_module": "@jupyter-widgets/base",
      "model_module_version": "1.2.0",
      "model_name": "LayoutModel",
      "state": {}
     },
     "c8dc98e252784d25bdd8b21d02383847": {
      "model_module": "@jupyter-widgets/output",
      "model_module_version": "1.0.0",
      "model_name": "OutputModel",
      "state": {
       "layout": "IPY_MODEL_dcf7497de62a408795d82bf66f2ce01c",
       "outputs": [
        {
         "name": "stdout",
         "output_type": "stream",
         "text": "False\n"
        }
       ]
      }
     },
     "c92000d152824ac09817536cfa609ac2": {
      "model_module": "@jupyter-widgets/base",
      "model_module_version": "1.2.0",
      "model_name": "LayoutModel",
      "state": {}
     },
     "c93b271fa42541969e9df80ffe5bd0e6": {
      "model_module": "@jupyter-widgets/base",
      "model_module_version": "1.2.0",
      "model_name": "LayoutModel",
      "state": {}
     },
     "ca1c6bb60a734f9b840ed801f862434f": {
      "model_module": "@jupyter-widgets/base",
      "model_module_version": "1.2.0",
      "model_name": "LayoutModel",
      "state": {}
     },
     "cb467e11788d456fb0080381c695d889": {
      "model_module": "@jupyter-widgets/controls",
      "model_module_version": "1.5.0",
      "model_name": "DescriptionStyleModel",
      "state": {
       "description_width": ""
      }
     },
     "cd6d8b6cc42e485d97dfe20cf99ee237": {
      "model_module": "@jupyter-widgets/controls",
      "model_module_version": "1.5.0",
      "model_name": "VBoxModel",
      "state": {
       "_dom_classes": [
        "widget-interact"
       ],
       "children": [
        "IPY_MODEL_85ebf31dd69a42e38fc2df2c10a52b76",
        "IPY_MODEL_049c56edaf3640ed984aee7622b77d23"
       ],
       "layout": "IPY_MODEL_e43a66ef646e4e0da9bb9981ab6cfc00"
      }
     },
     "d1344c2874f645108ea801f077a8b905": {
      "model_module": "@jupyter-widgets/controls",
      "model_module_version": "1.5.0",
      "model_name": "DescriptionStyleModel",
      "state": {
       "description_width": ""
      }
     },
     "d14af4396b5d4a5eaeefb511faa26460": {
      "model_module": "@jupyter-widgets/base",
      "model_module_version": "1.2.0",
      "model_name": "LayoutModel",
      "state": {}
     },
     "d1cc861afad74fbeae12785045608c83": {
      "model_module": "@jupyter-widgets/output",
      "model_module_version": "1.0.0",
      "model_name": "OutputModel",
      "state": {
       "layout": "IPY_MODEL_67c872ea1f4749ed8e2cb2fcf1326dc7",
       "outputs": [
        {
         "name": "stdout",
         "output_type": "stream",
         "text": "2018-06-21 00:00:00\nDate out of range! Select again\n"
        }
       ]
      }
     },
     "d20fd6adb0254e119d2ebdba3746e3c1": {
      "model_module": "@jupyter-widgets/base",
      "model_module_version": "1.2.0",
      "model_name": "LayoutModel",
      "state": {}
     },
     "d2337b9ee76b458eae8514815c933a5f": {
      "model_module": "@jupyter-widgets/base",
      "model_module_version": "1.2.0",
      "model_name": "LayoutModel",
      "state": {}
     },
     "d3288eabbdae4fcdac88ad9f4e0d8aea": {
      "model_module": "@jupyter-widgets/controls",
      "model_module_version": "1.5.0",
      "model_name": "VBoxModel",
      "state": {
       "_dom_classes": [
        "widget-interact"
       ],
       "children": [
        "IPY_MODEL_249fbb79b605417887513010ece652c6",
        "IPY_MODEL_4648512f1455428abf19860165efdaaf",
        "IPY_MODEL_c1f3e8f0ea17460289a7debe8605ffe5"
       ],
       "layout": "IPY_MODEL_18712f79507b4c74bace5a4ed243929e"
      }
     },
     "d543683da39c46ebbbffa02195f73150": {
      "model_module": "@jupyter-widgets/controls",
      "model_module_version": "1.5.0",
      "model_name": "DatePickerModel",
      "state": {
       "description": "date",
       "disabled": false,
       "layout": "IPY_MODEL_816146fc89a24bb3b145d72b83e863a7",
       "style": "IPY_MODEL_bddd0711730b437e93b53881c8420172",
       "value": {
        "date": 23,
        "month": 4,
        "year": 2018
       }
      }
     },
     "d87d9e88bd1b4669a1b63b719e8e12f6": {
      "model_module": "@jupyter-widgets/output",
      "model_module_version": "1.0.0",
      "model_name": "OutputModel",
      "state": {
       "layout": "IPY_MODEL_f71c798644fb49d2a9eb20f4b418928e",
       "outputs": [
        {
         "name": "stdout",
         "output_type": "stream",
         "text": "Int64Index([0], dtype='int64')\n"
        },
        {
         "ename": "TypeError",
         "evalue": "'Int64Index([0], dtype='int64')' is an invalid key",
         "output_type": "error",
         "traceback": [
          "\u001b[1;31m---------------------------------------------------------------------------\u001b[0m",
          "\u001b[1;31mTypeError\u001b[0m                                 Traceback (most recent call last)",
          "\u001b[1;32m~\\AppData\\Local\\Continuum\\anaconda3\\lib\\site-packages\\ipywidgets\\widgets\\interaction.py\u001b[0m in \u001b[0;36mupdate\u001b[1;34m(self, *args)\u001b[0m\n\u001b[0;32m    254\u001b[0m                     \u001b[0mvalue\u001b[0m \u001b[1;33m=\u001b[0m \u001b[0mwidget\u001b[0m\u001b[1;33m.\u001b[0m\u001b[0mget_interact_value\u001b[0m\u001b[1;33m(\u001b[0m\u001b[1;33m)\u001b[0m\u001b[1;33m\u001b[0m\u001b[1;33m\u001b[0m\u001b[0m\n\u001b[0;32m    255\u001b[0m                     \u001b[0mself\u001b[0m\u001b[1;33m.\u001b[0m\u001b[0mkwargs\u001b[0m\u001b[1;33m[\u001b[0m\u001b[0mwidget\u001b[0m\u001b[1;33m.\u001b[0m\u001b[0m_kwarg\u001b[0m\u001b[1;33m]\u001b[0m \u001b[1;33m=\u001b[0m \u001b[0mvalue\u001b[0m\u001b[1;33m\u001b[0m\u001b[1;33m\u001b[0m\u001b[0m\n\u001b[1;32m--> 256\u001b[1;33m                 \u001b[0mself\u001b[0m\u001b[1;33m.\u001b[0m\u001b[0mresult\u001b[0m \u001b[1;33m=\u001b[0m \u001b[0mself\u001b[0m\u001b[1;33m.\u001b[0m\u001b[0mf\u001b[0m\u001b[1;33m(\u001b[0m\u001b[1;33m**\u001b[0m\u001b[0mself\u001b[0m\u001b[1;33m.\u001b[0m\u001b[0mkwargs\u001b[0m\u001b[1;33m)\u001b[0m\u001b[1;33m\u001b[0m\u001b[1;33m\u001b[0m\u001b[0m\n\u001b[0m\u001b[0;32m    257\u001b[0m                 \u001b[0mshow_inline_matplotlib_plots\u001b[0m\u001b[1;33m(\u001b[0m\u001b[1;33m)\u001b[0m\u001b[1;33m\u001b[0m\u001b[1;33m\u001b[0m\u001b[0m\n\u001b[0;32m    258\u001b[0m                 \u001b[1;32mif\u001b[0m \u001b[0mself\u001b[0m\u001b[1;33m.\u001b[0m\u001b[0mauto_display\u001b[0m \u001b[1;32mand\u001b[0m \u001b[0mself\u001b[0m\u001b[1;33m.\u001b[0m\u001b[0mresult\u001b[0m \u001b[1;32mis\u001b[0m \u001b[1;32mnot\u001b[0m \u001b[1;32mNone\u001b[0m\u001b[1;33m:\u001b[0m\u001b[1;33m\u001b[0m\u001b[1;33m\u001b[0m\u001b[0m\n",
          "\u001b[1;32m<ipython-input-39-daeee73f1530>\u001b[0m in \u001b[0;36mpredict_price\u001b[1;34m(date)\u001b[0m\n\u001b[0;32m      8\u001b[0m         \u001b[0mi\u001b[0m \u001b[1;33m=\u001b[0m \u001b[0mdf\u001b[0m\u001b[1;33m.\u001b[0m\u001b[0mindex\u001b[0m\u001b[1;33m[\u001b[0m\u001b[0md\u001b[0m\u001b[1;33m==\u001b[0m\u001b[0mdf\u001b[0m\u001b[1;33m[\u001b[0m\u001b[1;34m'Timestamp'\u001b[0m\u001b[1;33m]\u001b[0m\u001b[1;33m]\u001b[0m\u001b[1;33m\u001b[0m\u001b[1;33m\u001b[0m\u001b[0m\n\u001b[0;32m      9\u001b[0m         \u001b[0mprint\u001b[0m\u001b[1;33m(\u001b[0m\u001b[0mi\u001b[0m\u001b[1;33m)\u001b[0m\u001b[1;33m\u001b[0m\u001b[1;33m\u001b[0m\u001b[0m\n\u001b[1;32m---> 10\u001b[1;33m         \u001b[0mdf_test\u001b[0m \u001b[1;33m=\u001b[0m \u001b[0mdf\u001b[0m\u001b[1;33m.\u001b[0m\u001b[0mloc\u001b[0m\u001b[1;33m[\u001b[0m\u001b[0mi\u001b[0m\u001b[1;33m:\u001b[0m\u001b[0mi\u001b[0m\u001b[1;33m+\u001b[0m\u001b[1;36m500\u001b[0m\u001b[1;33m]\u001b[0m\u001b[1;33m\u001b[0m\u001b[1;33m\u001b[0m\u001b[0m\n\u001b[0m\u001b[0;32m     11\u001b[0m         \u001b[0mx_test\u001b[0m \u001b[1;33m=\u001b[0m \u001b[0mmin_max_scaler\u001b[0m\u001b[1;33m.\u001b[0m\u001b[0mtransform\u001b[0m\u001b[1;33m(\u001b[0m\u001b[0mdf_test\u001b[0m\u001b[1;33m.\u001b[0m\u001b[0mloc\u001b[0m\u001b[1;33m[\u001b[0m\u001b[1;33m:\u001b[0m\u001b[1;33m,\u001b[0m\u001b[0mtrain_cols\u001b[0m\u001b[1;33m]\u001b[0m\u001b[1;33m)\u001b[0m\u001b[1;33m\u001b[0m\u001b[1;33m\u001b[0m\u001b[0m\n\u001b[0;32m     12\u001b[0m         \u001b[0mx_test_t\u001b[0m\u001b[1;33m,\u001b[0m \u001b[0my_test_t\u001b[0m \u001b[1;33m=\u001b[0m \u001b[0mbuild_timeseries\u001b[0m\u001b[1;33m(\u001b[0m\u001b[0mx_test\u001b[0m\u001b[1;33m,\u001b[0m\u001b[0mtarget_col\u001b[0m\u001b[1;33m,\u001b[0m \u001b[0mTIME_STEPS\u001b[0m\u001b[1;33m)\u001b[0m\u001b[1;33m\u001b[0m\u001b[1;33m\u001b[0m\u001b[0m\n",
          "\u001b[1;32m~\\AppData\\Local\\Continuum\\anaconda3\\lib\\site-packages\\pandas\\core\\indexing.py\u001b[0m in \u001b[0;36m__getitem__\u001b[1;34m(self, key)\u001b[0m\n\u001b[0;32m   1408\u001b[0m \u001b[1;33m\u001b[0m\u001b[0m\n\u001b[0;32m   1409\u001b[0m             \u001b[0mmaybe_callable\u001b[0m \u001b[1;33m=\u001b[0m \u001b[0mcom\u001b[0m\u001b[1;33m.\u001b[0m\u001b[0mapply_if_callable\u001b[0m\u001b[1;33m(\u001b[0m\u001b[0mkey\u001b[0m\u001b[1;33m,\u001b[0m \u001b[0mself\u001b[0m\u001b[1;33m.\u001b[0m\u001b[0mobj\u001b[0m\u001b[1;33m)\u001b[0m\u001b[1;33m\u001b[0m\u001b[1;33m\u001b[0m\u001b[0m\n\u001b[1;32m-> 1410\u001b[1;33m             \u001b[1;32mreturn\u001b[0m \u001b[0mself\u001b[0m\u001b[1;33m.\u001b[0m\u001b[0m_getitem_axis\u001b[0m\u001b[1;33m(\u001b[0m\u001b[0mmaybe_callable\u001b[0m\u001b[1;33m,\u001b[0m \u001b[0maxis\u001b[0m\u001b[1;33m=\u001b[0m\u001b[0maxis\u001b[0m\u001b[1;33m)\u001b[0m\u001b[1;33m\u001b[0m\u001b[1;33m\u001b[0m\u001b[0m\n\u001b[0m\u001b[0;32m   1411\u001b[0m \u001b[1;33m\u001b[0m\u001b[0m\n\u001b[0;32m   1412\u001b[0m     \u001b[1;32mdef\u001b[0m \u001b[0m_is_scalar_access\u001b[0m\u001b[1;33m(\u001b[0m\u001b[0mself\u001b[0m\u001b[1;33m,\u001b[0m \u001b[0mkey\u001b[0m\u001b[1;33m:\u001b[0m \u001b[0mTuple\u001b[0m\u001b[1;33m)\u001b[0m\u001b[1;33m:\u001b[0m\u001b[1;33m\u001b[0m\u001b[1;33m\u001b[0m\u001b[0m\n",
          "\u001b[1;32m~\\AppData\\Local\\Continuum\\anaconda3\\lib\\site-packages\\pandas\\core\\indexing.py\u001b[0m in \u001b[0;36m_getitem_axis\u001b[1;34m(self, key, axis)\u001b[0m\n\u001b[0;32m   1770\u001b[0m         \u001b[1;32mif\u001b[0m \u001b[0misinstance\u001b[0m\u001b[1;33m(\u001b[0m\u001b[0mkey\u001b[0m\u001b[1;33m,\u001b[0m \u001b[0mslice\u001b[0m\u001b[1;33m)\u001b[0m\u001b[1;33m:\u001b[0m\u001b[1;33m\u001b[0m\u001b[1;33m\u001b[0m\u001b[0m\n\u001b[0;32m   1771\u001b[0m             \u001b[0mself\u001b[0m\u001b[1;33m.\u001b[0m\u001b[0m_validate_key\u001b[0m\u001b[1;33m(\u001b[0m\u001b[0mkey\u001b[0m\u001b[1;33m,\u001b[0m \u001b[0maxis\u001b[0m\u001b[1;33m)\u001b[0m\u001b[1;33m\u001b[0m\u001b[1;33m\u001b[0m\u001b[0m\n\u001b[1;32m-> 1772\u001b[1;33m             \u001b[1;32mreturn\u001b[0m \u001b[0mself\u001b[0m\u001b[1;33m.\u001b[0m\u001b[0m_get_slice_axis\u001b[0m\u001b[1;33m(\u001b[0m\u001b[0mkey\u001b[0m\u001b[1;33m,\u001b[0m \u001b[0maxis\u001b[0m\u001b[1;33m=\u001b[0m\u001b[0maxis\u001b[0m\u001b[1;33m)\u001b[0m\u001b[1;33m\u001b[0m\u001b[1;33m\u001b[0m\u001b[0m\n\u001b[0m\u001b[0;32m   1773\u001b[0m         \u001b[1;32melif\u001b[0m \u001b[0mcom\u001b[0m\u001b[1;33m.\u001b[0m\u001b[0mis_bool_indexer\u001b[0m\u001b[1;33m(\u001b[0m\u001b[0mkey\u001b[0m\u001b[1;33m)\u001b[0m\u001b[1;33m:\u001b[0m\u001b[1;33m\u001b[0m\u001b[1;33m\u001b[0m\u001b[0m\n\u001b[0;32m   1774\u001b[0m             \u001b[1;32mreturn\u001b[0m \u001b[0mself\u001b[0m\u001b[1;33m.\u001b[0m\u001b[0m_getbool_axis\u001b[0m\u001b[1;33m(\u001b[0m\u001b[0mkey\u001b[0m\u001b[1;33m,\u001b[0m \u001b[0maxis\u001b[0m\u001b[1;33m=\u001b[0m\u001b[0maxis\u001b[0m\u001b[1;33m)\u001b[0m\u001b[1;33m\u001b[0m\u001b[1;33m\u001b[0m\u001b[0m\n",
          "\u001b[1;32m~\\AppData\\Local\\Continuum\\anaconda3\\lib\\site-packages\\pandas\\core\\indexing.py\u001b[0m in \u001b[0;36m_get_slice_axis\u001b[1;34m(self, slice_obj, axis)\u001b[0m\n\u001b[0;32m   1438\u001b[0m         \u001b[0mlabels\u001b[0m \u001b[1;33m=\u001b[0m \u001b[0mobj\u001b[0m\u001b[1;33m.\u001b[0m\u001b[0m_get_axis\u001b[0m\u001b[1;33m(\u001b[0m\u001b[0maxis\u001b[0m\u001b[1;33m)\u001b[0m\u001b[1;33m\u001b[0m\u001b[1;33m\u001b[0m\u001b[0m\n\u001b[0;32m   1439\u001b[0m         indexer = labels.slice_indexer(\n\u001b[1;32m-> 1440\u001b[1;33m             \u001b[0mslice_obj\u001b[0m\u001b[1;33m.\u001b[0m\u001b[0mstart\u001b[0m\u001b[1;33m,\u001b[0m \u001b[0mslice_obj\u001b[0m\u001b[1;33m.\u001b[0m\u001b[0mstop\u001b[0m\u001b[1;33m,\u001b[0m \u001b[0mslice_obj\u001b[0m\u001b[1;33m.\u001b[0m\u001b[0mstep\u001b[0m\u001b[1;33m,\u001b[0m \u001b[0mkind\u001b[0m\u001b[1;33m=\u001b[0m\u001b[0mself\u001b[0m\u001b[1;33m.\u001b[0m\u001b[0mname\u001b[0m\u001b[1;33m\u001b[0m\u001b[1;33m\u001b[0m\u001b[0m\n\u001b[0m\u001b[0;32m   1441\u001b[0m         )\n\u001b[0;32m   1442\u001b[0m \u001b[1;33m\u001b[0m\u001b[0m\n",
          "\u001b[1;32m~\\AppData\\Local\\Continuum\\anaconda3\\lib\\site-packages\\pandas\\core\\indexes\\base.py\u001b[0m in \u001b[0;36mslice_indexer\u001b[1;34m(self, start, end, step, kind)\u001b[0m\n\u001b[0;32m   5025\u001b[0m         \u001b[0mslice\u001b[0m\u001b[1;33m(\u001b[0m\u001b[1;36m1\u001b[0m\u001b[1;33m,\u001b[0m \u001b[1;36m3\u001b[0m\u001b[1;33m)\u001b[0m\u001b[1;33m\u001b[0m\u001b[1;33m\u001b[0m\u001b[0m\n\u001b[0;32m   5026\u001b[0m         \"\"\"\n\u001b[1;32m-> 5027\u001b[1;33m         \u001b[0mstart_slice\u001b[0m\u001b[1;33m,\u001b[0m \u001b[0mend_slice\u001b[0m \u001b[1;33m=\u001b[0m \u001b[0mself\u001b[0m\u001b[1;33m.\u001b[0m\u001b[0mslice_locs\u001b[0m\u001b[1;33m(\u001b[0m\u001b[0mstart\u001b[0m\u001b[1;33m,\u001b[0m \u001b[0mend\u001b[0m\u001b[1;33m,\u001b[0m \u001b[0mstep\u001b[0m\u001b[1;33m=\u001b[0m\u001b[0mstep\u001b[0m\u001b[1;33m,\u001b[0m \u001b[0mkind\u001b[0m\u001b[1;33m=\u001b[0m\u001b[0mkind\u001b[0m\u001b[1;33m)\u001b[0m\u001b[1;33m\u001b[0m\u001b[1;33m\u001b[0m\u001b[0m\n\u001b[0m\u001b[0;32m   5028\u001b[0m \u001b[1;33m\u001b[0m\u001b[0m\n\u001b[0;32m   5029\u001b[0m         \u001b[1;31m# return a slice\u001b[0m\u001b[1;33m\u001b[0m\u001b[1;33m\u001b[0m\u001b[1;33m\u001b[0m\u001b[0m\n",
          "\u001b[1;32m~\\AppData\\Local\\Continuum\\anaconda3\\lib\\site-packages\\pandas\\core\\indexes\\base.py\u001b[0m in \u001b[0;36mslice_locs\u001b[1;34m(self, start, end, step, kind)\u001b[0m\n\u001b[0;32m   5239\u001b[0m         \u001b[0mstart_slice\u001b[0m \u001b[1;33m=\u001b[0m \u001b[1;32mNone\u001b[0m\u001b[1;33m\u001b[0m\u001b[1;33m\u001b[0m\u001b[0m\n\u001b[0;32m   5240\u001b[0m         \u001b[1;32mif\u001b[0m \u001b[0mstart\u001b[0m \u001b[1;32mis\u001b[0m \u001b[1;32mnot\u001b[0m \u001b[1;32mNone\u001b[0m\u001b[1;33m:\u001b[0m\u001b[1;33m\u001b[0m\u001b[1;33m\u001b[0m\u001b[0m\n\u001b[1;32m-> 5241\u001b[1;33m             \u001b[0mstart_slice\u001b[0m \u001b[1;33m=\u001b[0m \u001b[0mself\u001b[0m\u001b[1;33m.\u001b[0m\u001b[0mget_slice_bound\u001b[0m\u001b[1;33m(\u001b[0m\u001b[0mstart\u001b[0m\u001b[1;33m,\u001b[0m \u001b[1;34m\"left\"\u001b[0m\u001b[1;33m,\u001b[0m \u001b[0mkind\u001b[0m\u001b[1;33m)\u001b[0m\u001b[1;33m\u001b[0m\u001b[1;33m\u001b[0m\u001b[0m\n\u001b[0m\u001b[0;32m   5242\u001b[0m         \u001b[1;32mif\u001b[0m \u001b[0mstart_slice\u001b[0m \u001b[1;32mis\u001b[0m \u001b[1;32mNone\u001b[0m\u001b[1;33m:\u001b[0m\u001b[1;33m\u001b[0m\u001b[1;33m\u001b[0m\u001b[0m\n\u001b[0;32m   5243\u001b[0m             \u001b[0mstart_slice\u001b[0m \u001b[1;33m=\u001b[0m \u001b[1;36m0\u001b[0m\u001b[1;33m\u001b[0m\u001b[1;33m\u001b[0m\u001b[0m\n",
          "\u001b[1;32m~\\AppData\\Local\\Continuum\\anaconda3\\lib\\site-packages\\pandas\\core\\indexes\\base.py\u001b[0m in \u001b[0;36mget_slice_bound\u001b[1;34m(self, label, side, kind)\u001b[0m\n\u001b[0;32m   5155\u001b[0m         \u001b[1;31m# we need to look up the label\u001b[0m\u001b[1;33m\u001b[0m\u001b[1;33m\u001b[0m\u001b[1;33m\u001b[0m\u001b[0m\n\u001b[0;32m   5156\u001b[0m         \u001b[1;32mtry\u001b[0m\u001b[1;33m:\u001b[0m\u001b[1;33m\u001b[0m\u001b[1;33m\u001b[0m\u001b[0m\n\u001b[1;32m-> 5157\u001b[1;33m             \u001b[0mslc\u001b[0m \u001b[1;33m=\u001b[0m \u001b[0mself\u001b[0m\u001b[1;33m.\u001b[0m\u001b[0mget_loc\u001b[0m\u001b[1;33m(\u001b[0m\u001b[0mlabel\u001b[0m\u001b[1;33m)\u001b[0m\u001b[1;33m\u001b[0m\u001b[1;33m\u001b[0m\u001b[0m\n\u001b[0m\u001b[0;32m   5158\u001b[0m         \u001b[1;32mexcept\u001b[0m \u001b[0mKeyError\u001b[0m \u001b[1;32mas\u001b[0m \u001b[0merr\u001b[0m\u001b[1;33m:\u001b[0m\u001b[1;33m\u001b[0m\u001b[1;33m\u001b[0m\u001b[0m\n\u001b[0;32m   5159\u001b[0m             \u001b[1;32mtry\u001b[0m\u001b[1;33m:\u001b[0m\u001b[1;33m\u001b[0m\u001b[1;33m\u001b[0m\u001b[0m\n",
          "\u001b[1;32m~\\AppData\\Local\\Continuum\\anaconda3\\lib\\site-packages\\pandas\\core\\indexes\\range.py\u001b[0m in \u001b[0;36mget_loc\u001b[1;34m(self, key, method, tolerance)\u001b[0m\n\u001b[0;32m    377\u001b[0m             \u001b[1;32mexcept\u001b[0m \u001b[0mValueError\u001b[0m\u001b[1;33m:\u001b[0m\u001b[1;33m\u001b[0m\u001b[1;33m\u001b[0m\u001b[0m\n\u001b[0;32m    378\u001b[0m                 \u001b[1;32mraise\u001b[0m \u001b[0mKeyError\u001b[0m\u001b[1;33m(\u001b[0m\u001b[0mkey\u001b[0m\u001b[1;33m)\u001b[0m\u001b[1;33m\u001b[0m\u001b[1;33m\u001b[0m\u001b[0m\n\u001b[1;32m--> 379\u001b[1;33m         \u001b[1;32mreturn\u001b[0m \u001b[0msuper\u001b[0m\u001b[1;33m(\u001b[0m\u001b[1;33m)\u001b[0m\u001b[1;33m.\u001b[0m\u001b[0mget_loc\u001b[0m\u001b[1;33m(\u001b[0m\u001b[0mkey\u001b[0m\u001b[1;33m,\u001b[0m \u001b[0mmethod\u001b[0m\u001b[1;33m=\u001b[0m\u001b[0mmethod\u001b[0m\u001b[1;33m,\u001b[0m \u001b[0mtolerance\u001b[0m\u001b[1;33m=\u001b[0m\u001b[0mtolerance\u001b[0m\u001b[1;33m)\u001b[0m\u001b[1;33m\u001b[0m\u001b[1;33m\u001b[0m\u001b[0m\n\u001b[0m\u001b[0;32m    380\u001b[0m \u001b[1;33m\u001b[0m\u001b[0m\n\u001b[0;32m    381\u001b[0m     \u001b[1;33m@\u001b[0m\u001b[0mAppender\u001b[0m\u001b[1;33m(\u001b[0m\u001b[0m_index_shared_docs\u001b[0m\u001b[1;33m[\u001b[0m\u001b[1;34m\"get_indexer\"\u001b[0m\u001b[1;33m]\u001b[0m\u001b[1;33m)\u001b[0m\u001b[1;33m\u001b[0m\u001b[1;33m\u001b[0m\u001b[0m\n",
          "\u001b[1;32m~\\AppData\\Local\\Continuum\\anaconda3\\lib\\site-packages\\pandas\\core\\indexes\\base.py\u001b[0m in \u001b[0;36mget_loc\u001b[1;34m(self, key, method, tolerance)\u001b[0m\n\u001b[0;32m   2888\u001b[0m                 )\n\u001b[0;32m   2889\u001b[0m             \u001b[1;32mtry\u001b[0m\u001b[1;33m:\u001b[0m\u001b[1;33m\u001b[0m\u001b[1;33m\u001b[0m\u001b[0m\n\u001b[1;32m-> 2890\u001b[1;33m                 \u001b[1;32mreturn\u001b[0m \u001b[0mself\u001b[0m\u001b[1;33m.\u001b[0m\u001b[0m_engine\u001b[0m\u001b[1;33m.\u001b[0m\u001b[0mget_loc\u001b[0m\u001b[1;33m(\u001b[0m\u001b[0mkey\u001b[0m\u001b[1;33m)\u001b[0m\u001b[1;33m\u001b[0m\u001b[1;33m\u001b[0m\u001b[0m\n\u001b[0m\u001b[0;32m   2891\u001b[0m             \u001b[1;32mexcept\u001b[0m \u001b[0mKeyError\u001b[0m\u001b[1;33m:\u001b[0m\u001b[1;33m\u001b[0m\u001b[1;33m\u001b[0m\u001b[0m\n\u001b[0;32m   2892\u001b[0m                 \u001b[1;32mreturn\u001b[0m \u001b[0mself\u001b[0m\u001b[1;33m.\u001b[0m\u001b[0m_engine\u001b[0m\u001b[1;33m.\u001b[0m\u001b[0mget_loc\u001b[0m\u001b[1;33m(\u001b[0m\u001b[0mself\u001b[0m\u001b[1;33m.\u001b[0m\u001b[0m_maybe_cast_indexer\u001b[0m\u001b[1;33m(\u001b[0m\u001b[0mkey\u001b[0m\u001b[1;33m)\u001b[0m\u001b[1;33m)\u001b[0m\u001b[1;33m\u001b[0m\u001b[1;33m\u001b[0m\u001b[0m\n",
          "\u001b[1;32mpandas/_libs/index.pyx\u001b[0m in \u001b[0;36mpandas._libs.index.IndexEngine.get_loc\u001b[1;34m()\u001b[0m\n",
          "\u001b[1;32mpandas/_libs/index.pyx\u001b[0m in \u001b[0;36mpandas._libs.index.IndexEngine.get_loc\u001b[1;34m()\u001b[0m\n",
          "\u001b[1;31mTypeError\u001b[0m: 'Int64Index([0], dtype='int64')' is an invalid key"
         ]
        }
       ]
      }
     },
     "d88aa9badd77465ca84ab04f646fc1f4": {
      "model_module": "@jupyter-widgets/output",
      "model_module_version": "1.0.0",
      "model_name": "OutputModel",
      "state": {
       "layout": "IPY_MODEL_733dd0ecba1d48abb55f4a04c54e4f9a",
       "outputs": [
        {
         "name": "stdout",
         "output_type": "stream",
         "text": "False\n"
        }
       ]
      }
     },
     "dac93ecf49b14de5994fcdcb48f826bc": {
      "model_module": "@jupyter-widgets/controls",
      "model_module_version": "1.5.0",
      "model_name": "DatePickerModel",
      "state": {
       "description": "date",
       "disabled": false,
       "layout": "IPY_MODEL_87431b76edd347fda25c9a705b2112e4",
       "style": "IPY_MODEL_ec887197c4014d87bcd583b8ae1ef949",
       "value": {
        "date": 18,
        "month": 5,
        "year": 2018
       }
      }
     },
     "db71aa8cbcb84421b0db8b188d461d00": {
      "model_module": "@jupyter-widgets/controls",
      "model_module_version": "1.5.0",
      "model_name": "HBoxModel",
      "state": {
       "children": [
        "IPY_MODEL_a31323b6a8b4450d83f0b254ce8e9912",
        "IPY_MODEL_e45e9063f21d40e79c205a82a5392bb5"
       ],
       "layout": "IPY_MODEL_c1f488baf6d04034afe11b4d7e8c89b7"
      }
     },
     "db818de63463477693023f3f360e93f0": {
      "model_module": "@jupyter-widgets/base",
      "model_module_version": "1.2.0",
      "model_name": "LayoutModel",
      "state": {}
     },
     "dbf9f6eb63604577bdac5efae92b6972": {
      "model_module": "@jupyter-widgets/base",
      "model_module_version": "1.2.0",
      "model_name": "LayoutModel",
      "state": {}
     },
     "dc367b3885f5448c8bf09bb3aaa1abe4": {
      "model_module": "@jupyter-widgets/base",
      "model_module_version": "1.2.0",
      "model_name": "LayoutModel",
      "state": {}
     },
     "dcf7497de62a408795d82bf66f2ce01c": {
      "model_module": "@jupyter-widgets/base",
      "model_module_version": "1.2.0",
      "model_name": "LayoutModel",
      "state": {}
     },
     "dd9b7c94c583442384722ca627e2371a": {
      "model_module": "@jupyter-widgets/base",
      "model_module_version": "1.2.0",
      "model_name": "LayoutModel",
      "state": {}
     },
     "dddea254bb7e4546ae22e7d2255be130": {
      "model_module": "@jupyter-widgets/base",
      "model_module_version": "1.2.0",
      "model_name": "LayoutModel",
      "state": {}
     },
     "dde0a1206ffe4e4283b29888ed5501c4": {
      "model_module": "@jupyter-widgets/output",
      "model_module_version": "1.0.0",
      "model_name": "OutputModel",
      "state": {
       "layout": "IPY_MODEL_892d91d6a6d44c9f9f07e3575614dd6e",
       "outputs": [
        {
         "name": "stdout",
         "output_type": "stream",
         "text": "Int64Index([0], dtype='int64')\n"
        },
        {
         "ename": "TypeError",
         "evalue": "'Int64Index([0], dtype='int64')' is an invalid key",
         "output_type": "error",
         "traceback": [
          "\u001b[1;31m---------------------------------------------------------------------------\u001b[0m",
          "\u001b[1;31mTypeError\u001b[0m                                 Traceback (most recent call last)",
          "\u001b[1;32m~\\AppData\\Local\\Continuum\\anaconda3\\lib\\site-packages\\ipywidgets\\widgets\\interaction.py\u001b[0m in \u001b[0;36mupdate\u001b[1;34m(self, *args)\u001b[0m\n\u001b[0;32m    254\u001b[0m                     \u001b[0mvalue\u001b[0m \u001b[1;33m=\u001b[0m \u001b[0mwidget\u001b[0m\u001b[1;33m.\u001b[0m\u001b[0mget_interact_value\u001b[0m\u001b[1;33m(\u001b[0m\u001b[1;33m)\u001b[0m\u001b[1;33m\u001b[0m\u001b[1;33m\u001b[0m\u001b[0m\n\u001b[0;32m    255\u001b[0m                     \u001b[0mself\u001b[0m\u001b[1;33m.\u001b[0m\u001b[0mkwargs\u001b[0m\u001b[1;33m[\u001b[0m\u001b[0mwidget\u001b[0m\u001b[1;33m.\u001b[0m\u001b[0m_kwarg\u001b[0m\u001b[1;33m]\u001b[0m \u001b[1;33m=\u001b[0m \u001b[0mvalue\u001b[0m\u001b[1;33m\u001b[0m\u001b[1;33m\u001b[0m\u001b[0m\n\u001b[1;32m--> 256\u001b[1;33m                 \u001b[0mself\u001b[0m\u001b[1;33m.\u001b[0m\u001b[0mresult\u001b[0m \u001b[1;33m=\u001b[0m \u001b[0mself\u001b[0m\u001b[1;33m.\u001b[0m\u001b[0mf\u001b[0m\u001b[1;33m(\u001b[0m\u001b[1;33m**\u001b[0m\u001b[0mself\u001b[0m\u001b[1;33m.\u001b[0m\u001b[0mkwargs\u001b[0m\u001b[1;33m)\u001b[0m\u001b[1;33m\u001b[0m\u001b[1;33m\u001b[0m\u001b[0m\n\u001b[0m\u001b[0;32m    257\u001b[0m                 \u001b[0mshow_inline_matplotlib_plots\u001b[0m\u001b[1;33m(\u001b[0m\u001b[1;33m)\u001b[0m\u001b[1;33m\u001b[0m\u001b[1;33m\u001b[0m\u001b[0m\n\u001b[0;32m    258\u001b[0m                 \u001b[1;32mif\u001b[0m \u001b[0mself\u001b[0m\u001b[1;33m.\u001b[0m\u001b[0mauto_display\u001b[0m \u001b[1;32mand\u001b[0m \u001b[0mself\u001b[0m\u001b[1;33m.\u001b[0m\u001b[0mresult\u001b[0m \u001b[1;32mis\u001b[0m \u001b[1;32mnot\u001b[0m \u001b[1;32mNone\u001b[0m\u001b[1;33m:\u001b[0m\u001b[1;33m\u001b[0m\u001b[1;33m\u001b[0m\u001b[0m\n",
          "\u001b[1;32m<ipython-input-41-e713bbb1317f>\u001b[0m in \u001b[0;36mpredict_price\u001b[1;34m(date)\u001b[0m\n\u001b[0;32m      8\u001b[0m         \u001b[0mi\u001b[0m \u001b[1;33m=\u001b[0m \u001b[0mdf\u001b[0m\u001b[1;33m[\u001b[0m\u001b[0md\u001b[0m\u001b[1;33m==\u001b[0m\u001b[0mdf\u001b[0m\u001b[1;33m[\u001b[0m\u001b[1;34m'Timestamp'\u001b[0m\u001b[1;33m]\u001b[0m\u001b[1;33m]\u001b[0m\u001b[1;33m.\u001b[0m\u001b[0mindex\u001b[0m\u001b[1;33m\u001b[0m\u001b[1;33m\u001b[0m\u001b[0m\n\u001b[0;32m      9\u001b[0m         \u001b[0mprint\u001b[0m\u001b[1;33m(\u001b[0m\u001b[0mi\u001b[0m\u001b[1;33m)\u001b[0m\u001b[1;33m\u001b[0m\u001b[1;33m\u001b[0m\u001b[0m\n\u001b[1;32m---> 10\u001b[1;33m         \u001b[0mdf_test\u001b[0m \u001b[1;33m=\u001b[0m \u001b[0mdf\u001b[0m\u001b[1;33m.\u001b[0m\u001b[0mloc\u001b[0m\u001b[1;33m[\u001b[0m\u001b[0mi\u001b[0m\u001b[1;33m:\u001b[0m\u001b[0mi\u001b[0m\u001b[1;33m+\u001b[0m\u001b[1;36m500\u001b[0m\u001b[1;33m]\u001b[0m\u001b[1;33m\u001b[0m\u001b[1;33m\u001b[0m\u001b[0m\n\u001b[0m\u001b[0;32m     11\u001b[0m         \u001b[0mx_test\u001b[0m \u001b[1;33m=\u001b[0m \u001b[0mmin_max_scaler\u001b[0m\u001b[1;33m.\u001b[0m\u001b[0mtransform\u001b[0m\u001b[1;33m(\u001b[0m\u001b[0mdf_test\u001b[0m\u001b[1;33m.\u001b[0m\u001b[0mloc\u001b[0m\u001b[1;33m[\u001b[0m\u001b[1;33m:\u001b[0m\u001b[1;33m,\u001b[0m\u001b[0mtrain_cols\u001b[0m\u001b[1;33m]\u001b[0m\u001b[1;33m)\u001b[0m\u001b[1;33m\u001b[0m\u001b[1;33m\u001b[0m\u001b[0m\n\u001b[0;32m     12\u001b[0m         \u001b[0mx_test_t\u001b[0m\u001b[1;33m,\u001b[0m \u001b[0my_test_t\u001b[0m \u001b[1;33m=\u001b[0m \u001b[0mbuild_timeseries\u001b[0m\u001b[1;33m(\u001b[0m\u001b[0mx_test\u001b[0m\u001b[1;33m,\u001b[0m\u001b[0mtarget_col\u001b[0m\u001b[1;33m,\u001b[0m \u001b[0mTIME_STEPS\u001b[0m\u001b[1;33m)\u001b[0m\u001b[1;33m\u001b[0m\u001b[1;33m\u001b[0m\u001b[0m\n",
          "\u001b[1;32m~\\AppData\\Local\\Continuum\\anaconda3\\lib\\site-packages\\pandas\\core\\indexing.py\u001b[0m in \u001b[0;36m__getitem__\u001b[1;34m(self, key)\u001b[0m\n\u001b[0;32m   1408\u001b[0m \u001b[1;33m\u001b[0m\u001b[0m\n\u001b[0;32m   1409\u001b[0m             \u001b[0mmaybe_callable\u001b[0m \u001b[1;33m=\u001b[0m \u001b[0mcom\u001b[0m\u001b[1;33m.\u001b[0m\u001b[0mapply_if_callable\u001b[0m\u001b[1;33m(\u001b[0m\u001b[0mkey\u001b[0m\u001b[1;33m,\u001b[0m \u001b[0mself\u001b[0m\u001b[1;33m.\u001b[0m\u001b[0mobj\u001b[0m\u001b[1;33m)\u001b[0m\u001b[1;33m\u001b[0m\u001b[1;33m\u001b[0m\u001b[0m\n\u001b[1;32m-> 1410\u001b[1;33m             \u001b[1;32mreturn\u001b[0m \u001b[0mself\u001b[0m\u001b[1;33m.\u001b[0m\u001b[0m_getitem_axis\u001b[0m\u001b[1;33m(\u001b[0m\u001b[0mmaybe_callable\u001b[0m\u001b[1;33m,\u001b[0m \u001b[0maxis\u001b[0m\u001b[1;33m=\u001b[0m\u001b[0maxis\u001b[0m\u001b[1;33m)\u001b[0m\u001b[1;33m\u001b[0m\u001b[1;33m\u001b[0m\u001b[0m\n\u001b[0m\u001b[0;32m   1411\u001b[0m \u001b[1;33m\u001b[0m\u001b[0m\n\u001b[0;32m   1412\u001b[0m     \u001b[1;32mdef\u001b[0m \u001b[0m_is_scalar_access\u001b[0m\u001b[1;33m(\u001b[0m\u001b[0mself\u001b[0m\u001b[1;33m,\u001b[0m \u001b[0mkey\u001b[0m\u001b[1;33m:\u001b[0m \u001b[0mTuple\u001b[0m\u001b[1;33m)\u001b[0m\u001b[1;33m:\u001b[0m\u001b[1;33m\u001b[0m\u001b[1;33m\u001b[0m\u001b[0m\n",
          "\u001b[1;32m~\\AppData\\Local\\Continuum\\anaconda3\\lib\\site-packages\\pandas\\core\\indexing.py\u001b[0m in \u001b[0;36m_getitem_axis\u001b[1;34m(self, key, axis)\u001b[0m\n\u001b[0;32m   1770\u001b[0m         \u001b[1;32mif\u001b[0m \u001b[0misinstance\u001b[0m\u001b[1;33m(\u001b[0m\u001b[0mkey\u001b[0m\u001b[1;33m,\u001b[0m \u001b[0mslice\u001b[0m\u001b[1;33m)\u001b[0m\u001b[1;33m:\u001b[0m\u001b[1;33m\u001b[0m\u001b[1;33m\u001b[0m\u001b[0m\n\u001b[0;32m   1771\u001b[0m             \u001b[0mself\u001b[0m\u001b[1;33m.\u001b[0m\u001b[0m_validate_key\u001b[0m\u001b[1;33m(\u001b[0m\u001b[0mkey\u001b[0m\u001b[1;33m,\u001b[0m \u001b[0maxis\u001b[0m\u001b[1;33m)\u001b[0m\u001b[1;33m\u001b[0m\u001b[1;33m\u001b[0m\u001b[0m\n\u001b[1;32m-> 1772\u001b[1;33m             \u001b[1;32mreturn\u001b[0m \u001b[0mself\u001b[0m\u001b[1;33m.\u001b[0m\u001b[0m_get_slice_axis\u001b[0m\u001b[1;33m(\u001b[0m\u001b[0mkey\u001b[0m\u001b[1;33m,\u001b[0m \u001b[0maxis\u001b[0m\u001b[1;33m=\u001b[0m\u001b[0maxis\u001b[0m\u001b[1;33m)\u001b[0m\u001b[1;33m\u001b[0m\u001b[1;33m\u001b[0m\u001b[0m\n\u001b[0m\u001b[0;32m   1773\u001b[0m         \u001b[1;32melif\u001b[0m \u001b[0mcom\u001b[0m\u001b[1;33m.\u001b[0m\u001b[0mis_bool_indexer\u001b[0m\u001b[1;33m(\u001b[0m\u001b[0mkey\u001b[0m\u001b[1;33m)\u001b[0m\u001b[1;33m:\u001b[0m\u001b[1;33m\u001b[0m\u001b[1;33m\u001b[0m\u001b[0m\n\u001b[0;32m   1774\u001b[0m             \u001b[1;32mreturn\u001b[0m \u001b[0mself\u001b[0m\u001b[1;33m.\u001b[0m\u001b[0m_getbool_axis\u001b[0m\u001b[1;33m(\u001b[0m\u001b[0mkey\u001b[0m\u001b[1;33m,\u001b[0m \u001b[0maxis\u001b[0m\u001b[1;33m=\u001b[0m\u001b[0maxis\u001b[0m\u001b[1;33m)\u001b[0m\u001b[1;33m\u001b[0m\u001b[1;33m\u001b[0m\u001b[0m\n",
          "\u001b[1;32m~\\AppData\\Local\\Continuum\\anaconda3\\lib\\site-packages\\pandas\\core\\indexing.py\u001b[0m in \u001b[0;36m_get_slice_axis\u001b[1;34m(self, slice_obj, axis)\u001b[0m\n\u001b[0;32m   1438\u001b[0m         \u001b[0mlabels\u001b[0m \u001b[1;33m=\u001b[0m \u001b[0mobj\u001b[0m\u001b[1;33m.\u001b[0m\u001b[0m_get_axis\u001b[0m\u001b[1;33m(\u001b[0m\u001b[0maxis\u001b[0m\u001b[1;33m)\u001b[0m\u001b[1;33m\u001b[0m\u001b[1;33m\u001b[0m\u001b[0m\n\u001b[0;32m   1439\u001b[0m         indexer = labels.slice_indexer(\n\u001b[1;32m-> 1440\u001b[1;33m             \u001b[0mslice_obj\u001b[0m\u001b[1;33m.\u001b[0m\u001b[0mstart\u001b[0m\u001b[1;33m,\u001b[0m \u001b[0mslice_obj\u001b[0m\u001b[1;33m.\u001b[0m\u001b[0mstop\u001b[0m\u001b[1;33m,\u001b[0m \u001b[0mslice_obj\u001b[0m\u001b[1;33m.\u001b[0m\u001b[0mstep\u001b[0m\u001b[1;33m,\u001b[0m \u001b[0mkind\u001b[0m\u001b[1;33m=\u001b[0m\u001b[0mself\u001b[0m\u001b[1;33m.\u001b[0m\u001b[0mname\u001b[0m\u001b[1;33m\u001b[0m\u001b[1;33m\u001b[0m\u001b[0m\n\u001b[0m\u001b[0;32m   1441\u001b[0m         )\n\u001b[0;32m   1442\u001b[0m \u001b[1;33m\u001b[0m\u001b[0m\n",
          "\u001b[1;32m~\\AppData\\Local\\Continuum\\anaconda3\\lib\\site-packages\\pandas\\core\\indexes\\base.py\u001b[0m in \u001b[0;36mslice_indexer\u001b[1;34m(self, start, end, step, kind)\u001b[0m\n\u001b[0;32m   5025\u001b[0m         \u001b[0mslice\u001b[0m\u001b[1;33m(\u001b[0m\u001b[1;36m1\u001b[0m\u001b[1;33m,\u001b[0m \u001b[1;36m3\u001b[0m\u001b[1;33m)\u001b[0m\u001b[1;33m\u001b[0m\u001b[1;33m\u001b[0m\u001b[0m\n\u001b[0;32m   5026\u001b[0m         \"\"\"\n\u001b[1;32m-> 5027\u001b[1;33m         \u001b[0mstart_slice\u001b[0m\u001b[1;33m,\u001b[0m \u001b[0mend_slice\u001b[0m \u001b[1;33m=\u001b[0m \u001b[0mself\u001b[0m\u001b[1;33m.\u001b[0m\u001b[0mslice_locs\u001b[0m\u001b[1;33m(\u001b[0m\u001b[0mstart\u001b[0m\u001b[1;33m,\u001b[0m \u001b[0mend\u001b[0m\u001b[1;33m,\u001b[0m \u001b[0mstep\u001b[0m\u001b[1;33m=\u001b[0m\u001b[0mstep\u001b[0m\u001b[1;33m,\u001b[0m \u001b[0mkind\u001b[0m\u001b[1;33m=\u001b[0m\u001b[0mkind\u001b[0m\u001b[1;33m)\u001b[0m\u001b[1;33m\u001b[0m\u001b[1;33m\u001b[0m\u001b[0m\n\u001b[0m\u001b[0;32m   5028\u001b[0m \u001b[1;33m\u001b[0m\u001b[0m\n\u001b[0;32m   5029\u001b[0m         \u001b[1;31m# return a slice\u001b[0m\u001b[1;33m\u001b[0m\u001b[1;33m\u001b[0m\u001b[1;33m\u001b[0m\u001b[0m\n",
          "\u001b[1;32m~\\AppData\\Local\\Continuum\\anaconda3\\lib\\site-packages\\pandas\\core\\indexes\\base.py\u001b[0m in \u001b[0;36mslice_locs\u001b[1;34m(self, start, end, step, kind)\u001b[0m\n\u001b[0;32m   5239\u001b[0m         \u001b[0mstart_slice\u001b[0m \u001b[1;33m=\u001b[0m \u001b[1;32mNone\u001b[0m\u001b[1;33m\u001b[0m\u001b[1;33m\u001b[0m\u001b[0m\n\u001b[0;32m   5240\u001b[0m         \u001b[1;32mif\u001b[0m \u001b[0mstart\u001b[0m \u001b[1;32mis\u001b[0m \u001b[1;32mnot\u001b[0m \u001b[1;32mNone\u001b[0m\u001b[1;33m:\u001b[0m\u001b[1;33m\u001b[0m\u001b[1;33m\u001b[0m\u001b[0m\n\u001b[1;32m-> 5241\u001b[1;33m             \u001b[0mstart_slice\u001b[0m \u001b[1;33m=\u001b[0m \u001b[0mself\u001b[0m\u001b[1;33m.\u001b[0m\u001b[0mget_slice_bound\u001b[0m\u001b[1;33m(\u001b[0m\u001b[0mstart\u001b[0m\u001b[1;33m,\u001b[0m \u001b[1;34m\"left\"\u001b[0m\u001b[1;33m,\u001b[0m \u001b[0mkind\u001b[0m\u001b[1;33m)\u001b[0m\u001b[1;33m\u001b[0m\u001b[1;33m\u001b[0m\u001b[0m\n\u001b[0m\u001b[0;32m   5242\u001b[0m         \u001b[1;32mif\u001b[0m \u001b[0mstart_slice\u001b[0m \u001b[1;32mis\u001b[0m \u001b[1;32mNone\u001b[0m\u001b[1;33m:\u001b[0m\u001b[1;33m\u001b[0m\u001b[1;33m\u001b[0m\u001b[0m\n\u001b[0;32m   5243\u001b[0m             \u001b[0mstart_slice\u001b[0m \u001b[1;33m=\u001b[0m \u001b[1;36m0\u001b[0m\u001b[1;33m\u001b[0m\u001b[1;33m\u001b[0m\u001b[0m\n",
          "\u001b[1;32m~\\AppData\\Local\\Continuum\\anaconda3\\lib\\site-packages\\pandas\\core\\indexes\\base.py\u001b[0m in \u001b[0;36mget_slice_bound\u001b[1;34m(self, label, side, kind)\u001b[0m\n\u001b[0;32m   5155\u001b[0m         \u001b[1;31m# we need to look up the label\u001b[0m\u001b[1;33m\u001b[0m\u001b[1;33m\u001b[0m\u001b[1;33m\u001b[0m\u001b[0m\n\u001b[0;32m   5156\u001b[0m         \u001b[1;32mtry\u001b[0m\u001b[1;33m:\u001b[0m\u001b[1;33m\u001b[0m\u001b[1;33m\u001b[0m\u001b[0m\n\u001b[1;32m-> 5157\u001b[1;33m             \u001b[0mslc\u001b[0m \u001b[1;33m=\u001b[0m \u001b[0mself\u001b[0m\u001b[1;33m.\u001b[0m\u001b[0mget_loc\u001b[0m\u001b[1;33m(\u001b[0m\u001b[0mlabel\u001b[0m\u001b[1;33m)\u001b[0m\u001b[1;33m\u001b[0m\u001b[1;33m\u001b[0m\u001b[0m\n\u001b[0m\u001b[0;32m   5158\u001b[0m         \u001b[1;32mexcept\u001b[0m \u001b[0mKeyError\u001b[0m \u001b[1;32mas\u001b[0m \u001b[0merr\u001b[0m\u001b[1;33m:\u001b[0m\u001b[1;33m\u001b[0m\u001b[1;33m\u001b[0m\u001b[0m\n\u001b[0;32m   5159\u001b[0m             \u001b[1;32mtry\u001b[0m\u001b[1;33m:\u001b[0m\u001b[1;33m\u001b[0m\u001b[1;33m\u001b[0m\u001b[0m\n",
          "\u001b[1;32m~\\AppData\\Local\\Continuum\\anaconda3\\lib\\site-packages\\pandas\\core\\indexes\\range.py\u001b[0m in \u001b[0;36mget_loc\u001b[1;34m(self, key, method, tolerance)\u001b[0m\n\u001b[0;32m    377\u001b[0m             \u001b[1;32mexcept\u001b[0m \u001b[0mValueError\u001b[0m\u001b[1;33m:\u001b[0m\u001b[1;33m\u001b[0m\u001b[1;33m\u001b[0m\u001b[0m\n\u001b[0;32m    378\u001b[0m                 \u001b[1;32mraise\u001b[0m \u001b[0mKeyError\u001b[0m\u001b[1;33m(\u001b[0m\u001b[0mkey\u001b[0m\u001b[1;33m)\u001b[0m\u001b[1;33m\u001b[0m\u001b[1;33m\u001b[0m\u001b[0m\n\u001b[1;32m--> 379\u001b[1;33m         \u001b[1;32mreturn\u001b[0m \u001b[0msuper\u001b[0m\u001b[1;33m(\u001b[0m\u001b[1;33m)\u001b[0m\u001b[1;33m.\u001b[0m\u001b[0mget_loc\u001b[0m\u001b[1;33m(\u001b[0m\u001b[0mkey\u001b[0m\u001b[1;33m,\u001b[0m \u001b[0mmethod\u001b[0m\u001b[1;33m=\u001b[0m\u001b[0mmethod\u001b[0m\u001b[1;33m,\u001b[0m \u001b[0mtolerance\u001b[0m\u001b[1;33m=\u001b[0m\u001b[0mtolerance\u001b[0m\u001b[1;33m)\u001b[0m\u001b[1;33m\u001b[0m\u001b[1;33m\u001b[0m\u001b[0m\n\u001b[0m\u001b[0;32m    380\u001b[0m \u001b[1;33m\u001b[0m\u001b[0m\n\u001b[0;32m    381\u001b[0m     \u001b[1;33m@\u001b[0m\u001b[0mAppender\u001b[0m\u001b[1;33m(\u001b[0m\u001b[0m_index_shared_docs\u001b[0m\u001b[1;33m[\u001b[0m\u001b[1;34m\"get_indexer\"\u001b[0m\u001b[1;33m]\u001b[0m\u001b[1;33m)\u001b[0m\u001b[1;33m\u001b[0m\u001b[1;33m\u001b[0m\u001b[0m\n",
          "\u001b[1;32m~\\AppData\\Local\\Continuum\\anaconda3\\lib\\site-packages\\pandas\\core\\indexes\\base.py\u001b[0m in \u001b[0;36mget_loc\u001b[1;34m(self, key, method, tolerance)\u001b[0m\n\u001b[0;32m   2888\u001b[0m                 )\n\u001b[0;32m   2889\u001b[0m             \u001b[1;32mtry\u001b[0m\u001b[1;33m:\u001b[0m\u001b[1;33m\u001b[0m\u001b[1;33m\u001b[0m\u001b[0m\n\u001b[1;32m-> 2890\u001b[1;33m                 \u001b[1;32mreturn\u001b[0m \u001b[0mself\u001b[0m\u001b[1;33m.\u001b[0m\u001b[0m_engine\u001b[0m\u001b[1;33m.\u001b[0m\u001b[0mget_loc\u001b[0m\u001b[1;33m(\u001b[0m\u001b[0mkey\u001b[0m\u001b[1;33m)\u001b[0m\u001b[1;33m\u001b[0m\u001b[1;33m\u001b[0m\u001b[0m\n\u001b[0m\u001b[0;32m   2891\u001b[0m             \u001b[1;32mexcept\u001b[0m \u001b[0mKeyError\u001b[0m\u001b[1;33m:\u001b[0m\u001b[1;33m\u001b[0m\u001b[1;33m\u001b[0m\u001b[0m\n\u001b[0;32m   2892\u001b[0m                 \u001b[1;32mreturn\u001b[0m \u001b[0mself\u001b[0m\u001b[1;33m.\u001b[0m\u001b[0m_engine\u001b[0m\u001b[1;33m.\u001b[0m\u001b[0mget_loc\u001b[0m\u001b[1;33m(\u001b[0m\u001b[0mself\u001b[0m\u001b[1;33m.\u001b[0m\u001b[0m_maybe_cast_indexer\u001b[0m\u001b[1;33m(\u001b[0m\u001b[0mkey\u001b[0m\u001b[1;33m)\u001b[0m\u001b[1;33m)\u001b[0m\u001b[1;33m\u001b[0m\u001b[1;33m\u001b[0m\u001b[0m\n",
          "\u001b[1;32mpandas/_libs/index.pyx\u001b[0m in \u001b[0;36mpandas._libs.index.IndexEngine.get_loc\u001b[1;34m()\u001b[0m\n",
          "\u001b[1;32mpandas/_libs/index.pyx\u001b[0m in \u001b[0;36mpandas._libs.index.IndexEngine.get_loc\u001b[1;34m()\u001b[0m\n",
          "\u001b[1;31mTypeError\u001b[0m: 'Int64Index([0], dtype='int64')' is an invalid key"
         ]
        }
       ]
      }
     },
     "de151c8ef33340eba9e9ec92805def76": {
      "model_module": "@jupyter-widgets/controls",
      "model_module_version": "1.5.0",
      "model_name": "DescriptionStyleModel",
      "state": {
       "description_width": ""
      }
     },
     "e0439f99e46f4ae3b7a995647e2d12e5": {
      "model_module": "@jupyter-widgets/controls",
      "model_module_version": "1.5.0",
      "model_name": "HTMLModel",
      "state": {
       "layout": "IPY_MODEL_bfa57ca9fd5c4b46801bebe49206b9cc",
       "style": "IPY_MODEL_62d28e926c7742eeb632a11b59a6a0ce",
       "value": "100% 502/502 [00:00&lt;00:00, 11641.18it/s]"
      }
     },
     "e0e6c3d071a0491eafb2afe19ac2bd9b": {
      "model_module": "@jupyter-widgets/output",
      "model_module_version": "1.0.0",
      "model_name": "OutputModel",
      "state": {
       "layout": "IPY_MODEL_17090b0c11664f71a3fb370adbf5b216",
       "outputs": [
        {
         "name": "stdout",
         "output_type": "stream",
         "text": "2018-05-23 12:30:00 2018-05-23 12:30:00\n"
        }
       ]
      }
     },
     "e125586c1f61409992de505e091d4edd": {
      "model_module": "@jupyter-widgets/base",
      "model_module_version": "1.2.0",
      "model_name": "LayoutModel",
      "state": {}
     },
     "e1b7f8020d4b4535b7deb21b5b8b98cb": {
      "model_module": "@jupyter-widgets/controls",
      "model_module_version": "1.5.0",
      "model_name": "HTMLModel",
      "state": {
       "layout": "IPY_MODEL_286680a93aa744fdb7bbd8d8d58face3",
       "style": "IPY_MODEL_bbafff7724484b9d8be0d07a47d6a8cf",
       "value": "100% 502/502 [00:00&lt;00:00, 9446.50it/s]"
      }
     },
     "e27c9f380da14580ac410115d7444945": {
      "model_module": "@jupyter-widgets/controls",
      "model_module_version": "1.5.0",
      "model_name": "DatePickerModel",
      "state": {
       "description": "date",
       "disabled": false,
       "layout": "IPY_MODEL_192b32361ed145dab4689d6afef90256",
       "style": "IPY_MODEL_89889ea0345f449d8daaac942febfbae",
       "value": {
        "date": 23,
        "month": 4,
        "year": 2018
       }
      }
     },
     "e321c61a82b84ac284e00bbea772e9b0": {
      "model_module": "@jupyter-widgets/base",
      "model_module_version": "1.2.0",
      "model_name": "LayoutModel",
      "state": {}
     },
     "e35683b9153f451dbcda9e27834c1006": {
      "model_module": "@jupyter-widgets/controls",
      "model_module_version": "1.5.0",
      "model_name": "HTMLModel",
      "state": {
       "layout": "IPY_MODEL_03010c6807564c02b8fee9c050471d7e",
       "style": "IPY_MODEL_1d2dd022fd8941668a3c9f5b94e7f7a5",
       "value": "100% 3534/3534 [00:00&lt;00:00, 19000.50it/s]"
      }
     },
     "e365e6896bd6430f9d541d54ede6d1f0": {
      "model_module": "@jupyter-widgets/output",
      "model_module_version": "1.0.0",
      "model_name": "OutputModel",
      "state": {
       "layout": "IPY_MODEL_8427fa82b13c4a5bb9eff97b39d981fc",
       "outputs": [
        {
         "name": "stdout",
         "output_type": "stream",
         "text": "0\n"
        },
        {
         "ename": "ValueError",
         "evalue": "negative dimensions are not allowed",
         "output_type": "error",
         "traceback": [
          "\u001b[1;31m---------------------------------------------------------------------------\u001b[0m",
          "\u001b[1;31mValueError\u001b[0m                                Traceback (most recent call last)",
          "\u001b[1;32m~\\AppData\\Local\\Continuum\\anaconda3\\lib\\site-packages\\ipywidgets\\widgets\\interaction.py\u001b[0m in \u001b[0;36mupdate\u001b[1;34m(self, *args)\u001b[0m\n\u001b[0;32m    254\u001b[0m                     \u001b[0mvalue\u001b[0m \u001b[1;33m=\u001b[0m \u001b[0mwidget\u001b[0m\u001b[1;33m.\u001b[0m\u001b[0mget_interact_value\u001b[0m\u001b[1;33m(\u001b[0m\u001b[1;33m)\u001b[0m\u001b[1;33m\u001b[0m\u001b[1;33m\u001b[0m\u001b[0m\n\u001b[0;32m    255\u001b[0m                     \u001b[0mself\u001b[0m\u001b[1;33m.\u001b[0m\u001b[0mkwargs\u001b[0m\u001b[1;33m[\u001b[0m\u001b[0mwidget\u001b[0m\u001b[1;33m.\u001b[0m\u001b[0m_kwarg\u001b[0m\u001b[1;33m]\u001b[0m \u001b[1;33m=\u001b[0m \u001b[0mvalue\u001b[0m\u001b[1;33m\u001b[0m\u001b[1;33m\u001b[0m\u001b[0m\n\u001b[1;32m--> 256\u001b[1;33m                 \u001b[0mself\u001b[0m\u001b[1;33m.\u001b[0m\u001b[0mresult\u001b[0m \u001b[1;33m=\u001b[0m \u001b[0mself\u001b[0m\u001b[1;33m.\u001b[0m\u001b[0mf\u001b[0m\u001b[1;33m(\u001b[0m\u001b[1;33m**\u001b[0m\u001b[0mself\u001b[0m\u001b[1;33m.\u001b[0m\u001b[0mkwargs\u001b[0m\u001b[1;33m)\u001b[0m\u001b[1;33m\u001b[0m\u001b[1;33m\u001b[0m\u001b[0m\n\u001b[0m\u001b[0;32m    257\u001b[0m                 \u001b[0mshow_inline_matplotlib_plots\u001b[0m\u001b[1;33m(\u001b[0m\u001b[1;33m)\u001b[0m\u001b[1;33m\u001b[0m\u001b[1;33m\u001b[0m\u001b[0m\n\u001b[0;32m    258\u001b[0m                 \u001b[1;32mif\u001b[0m \u001b[0mself\u001b[0m\u001b[1;33m.\u001b[0m\u001b[0mauto_display\u001b[0m \u001b[1;32mand\u001b[0m \u001b[0mself\u001b[0m\u001b[1;33m.\u001b[0m\u001b[0mresult\u001b[0m \u001b[1;32mis\u001b[0m \u001b[1;32mnot\u001b[0m \u001b[1;32mNone\u001b[0m\u001b[1;33m:\u001b[0m\u001b[1;33m\u001b[0m\u001b[1;33m\u001b[0m\u001b[0m\n",
          "\u001b[1;32m<ipython-input-42-f13e1f48786d>\u001b[0m in \u001b[0;36mpredict_price\u001b[1;34m(date)\u001b[0m\n\u001b[0;32m     10\u001b[0m         \u001b[0mdf_test\u001b[0m \u001b[1;33m=\u001b[0m \u001b[0mdf\u001b[0m\u001b[1;33m.\u001b[0m\u001b[0mloc\u001b[0m\u001b[1;33m[\u001b[0m\u001b[0mi\u001b[0m\u001b[1;33m:\u001b[0m\u001b[0mi\u001b[0m\u001b[1;33m+\u001b[0m\u001b[1;36m500\u001b[0m\u001b[1;33m]\u001b[0m\u001b[1;33m\u001b[0m\u001b[1;33m\u001b[0m\u001b[0m\n\u001b[0;32m     11\u001b[0m         \u001b[0mx_test\u001b[0m \u001b[1;33m=\u001b[0m \u001b[0mmin_max_scaler\u001b[0m\u001b[1;33m.\u001b[0m\u001b[0mtransform\u001b[0m\u001b[1;33m(\u001b[0m\u001b[0mdf_test\u001b[0m\u001b[1;33m.\u001b[0m\u001b[0mloc\u001b[0m\u001b[1;33m[\u001b[0m\u001b[1;33m:\u001b[0m\u001b[1;33m,\u001b[0m\u001b[0mtrain_cols\u001b[0m\u001b[1;33m]\u001b[0m\u001b[1;33m)\u001b[0m\u001b[1;33m\u001b[0m\u001b[1;33m\u001b[0m\u001b[0m\n\u001b[1;32m---> 12\u001b[1;33m         \u001b[0mx_test_t\u001b[0m\u001b[1;33m,\u001b[0m \u001b[0my_test_t\u001b[0m \u001b[1;33m=\u001b[0m \u001b[0mbuild_timeseries\u001b[0m\u001b[1;33m(\u001b[0m\u001b[0mx_test\u001b[0m\u001b[1;33m,\u001b[0m\u001b[0mtarget_col\u001b[0m\u001b[1;33m,\u001b[0m \u001b[0mTIME_STEPS\u001b[0m\u001b[1;33m)\u001b[0m\u001b[1;33m\u001b[0m\u001b[1;33m\u001b[0m\u001b[0m\n\u001b[0m\u001b[0;32m     13\u001b[0m         \u001b[0my_pred\u001b[0m \u001b[1;33m=\u001b[0m \u001b[0msaved_model\u001b[0m\u001b[1;33m.\u001b[0m\u001b[0mpredict\u001b[0m\u001b[1;33m(\u001b[0m\u001b[0mtrim_dataset\u001b[0m\u001b[1;33m(\u001b[0m\u001b[0mx_test_t\u001b[0m\u001b[1;33m,\u001b[0m \u001b[0mBATCH_SIZE\u001b[0m\u001b[1;33m)\u001b[0m\u001b[1;33m,\u001b[0m \u001b[0mbatch_size\u001b[0m\u001b[1;33m=\u001b[0m\u001b[0mBATCH_SIZE\u001b[0m\u001b[1;33m)\u001b[0m\u001b[1;33m\u001b[0m\u001b[1;33m\u001b[0m\u001b[0m\n\u001b[0;32m     14\u001b[0m         \u001b[0my_pred\u001b[0m \u001b[1;33m=\u001b[0m \u001b[0my_pred\u001b[0m\u001b[1;33m.\u001b[0m\u001b[0mflatten\u001b[0m\u001b[1;33m(\u001b[0m\u001b[1;33m)\u001b[0m\u001b[1;33m\u001b[0m\u001b[1;33m\u001b[0m\u001b[0m\n",
          "\u001b[1;32m<ipython-input-9-e42b68179929>\u001b[0m in \u001b[0;36mbuild_timeseries\u001b[1;34m(mat, y_col_index, TIME_STEPS)\u001b[0m\n\u001b[0;32m      4\u001b[0m     \u001b[0mdim_0\u001b[0m \u001b[1;33m=\u001b[0m \u001b[0mmat\u001b[0m\u001b[1;33m.\u001b[0m\u001b[0mshape\u001b[0m\u001b[1;33m[\u001b[0m\u001b[1;36m0\u001b[0m\u001b[1;33m]\u001b[0m \u001b[1;33m-\u001b[0m \u001b[0mTIME_STEPS\u001b[0m\u001b[1;33m\u001b[0m\u001b[1;33m\u001b[0m\u001b[0m\n\u001b[0;32m      5\u001b[0m     \u001b[0mdim_1\u001b[0m \u001b[1;33m=\u001b[0m \u001b[0mmat\u001b[0m\u001b[1;33m.\u001b[0m\u001b[0mshape\u001b[0m\u001b[1;33m[\u001b[0m\u001b[1;36m1\u001b[0m\u001b[1;33m]\u001b[0m\u001b[1;33m\u001b[0m\u001b[1;33m\u001b[0m\u001b[0m\n\u001b[1;32m----> 6\u001b[1;33m     \u001b[0mx\u001b[0m \u001b[1;33m=\u001b[0m \u001b[0mnp\u001b[0m\u001b[1;33m.\u001b[0m\u001b[0mzeros\u001b[0m\u001b[1;33m(\u001b[0m\u001b[1;33m(\u001b[0m\u001b[0mdim_0\u001b[0m\u001b[1;33m,\u001b[0m \u001b[0mTIME_STEPS\u001b[0m\u001b[1;33m,\u001b[0m \u001b[0mdim_1\u001b[0m\u001b[1;33m)\u001b[0m\u001b[1;33m)\u001b[0m\u001b[1;33m\u001b[0m\u001b[1;33m\u001b[0m\u001b[0m\n\u001b[0m\u001b[0;32m      7\u001b[0m     \u001b[0my\u001b[0m \u001b[1;33m=\u001b[0m \u001b[0mnp\u001b[0m\u001b[1;33m.\u001b[0m\u001b[0mzeros\u001b[0m\u001b[1;33m(\u001b[0m\u001b[1;33m(\u001b[0m\u001b[0mdim_0\u001b[0m\u001b[1;33m,\u001b[0m\u001b[1;33m)\u001b[0m\u001b[1;33m)\u001b[0m\u001b[1;33m\u001b[0m\u001b[1;33m\u001b[0m\u001b[0m\n\u001b[0;32m      8\u001b[0m \u001b[1;33m\u001b[0m\u001b[0m\n",
          "\u001b[1;31mValueError\u001b[0m: negative dimensions are not allowed"
         ]
        }
       ]
      }
     },
     "e377969b13d7425fb6e4050365cd9a72": {
      "model_module": "@jupyter-widgets/output",
      "model_module_version": "1.0.0",
      "model_name": "OutputModel",
      "state": {
       "layout": "IPY_MODEL_0b6e7375d9834a398b6a704035d65293",
       "outputs": [
        {
         "name": "stdout",
         "output_type": "stream",
         "text": "Date out of range! Select again\n"
        }
       ]
      }
     },
     "e431ed017ee84f179f484131e0a5596e": {
      "model_module": "@jupyter-widgets/base",
      "model_module_version": "1.2.0",
      "model_name": "LayoutModel",
      "state": {}
     },
     "e43a66ef646e4e0da9bb9981ab6cfc00": {
      "model_module": "@jupyter-widgets/base",
      "model_module_version": "1.2.0",
      "model_name": "LayoutModel",
      "state": {}
     },
     "e45e9063f21d40e79c205a82a5392bb5": {
      "model_module": "@jupyter-widgets/controls",
      "model_module_version": "1.5.0",
      "model_name": "HTMLModel",
      "state": {
       "layout": "IPY_MODEL_e56a72ba678a4e4699df7afaa5ec2b90",
       "style": "IPY_MODEL_0807f6051523479da3ff264b315e3f7d",
       "value": "100% 5660/5660 [00:00&lt;00:00, 20489.39it/s]"
      }
     },
     "e56a72ba678a4e4699df7afaa5ec2b90": {
      "model_module": "@jupyter-widgets/base",
      "model_module_version": "1.2.0",
      "model_name": "LayoutModel",
      "state": {}
     },
     "e67956c7a98c4b76ae825abbcbc04828": {
      "model_module": "@jupyter-widgets/base",
      "model_module_version": "1.2.0",
      "model_name": "LayoutModel",
      "state": {}
     },
     "e7818e4f5e8d4f6a83d47228bd4853e8": {
      "model_module": "@jupyter-widgets/base",
      "model_module_version": "1.2.0",
      "model_name": "LayoutModel",
      "state": {}
     },
     "e89bee84d8e94d2eb2b1acf023d3d491": {
      "model_module": "@jupyter-widgets/controls",
      "model_module_version": "1.5.0",
      "model_name": "IntProgressModel",
      "state": {
       "bar_style": "success",
       "layout": "IPY_MODEL_1825b88c316c4642abd9d1b9e028ed67",
       "max": 3534,
       "style": "IPY_MODEL_18b6bd6cc6ac4df1bc9bcd80697198de",
       "value": 3534
      }
     },
     "e8cefc04013040ddbb771d41fcfba16f": {
      "model_module": "@jupyter-widgets/controls",
      "model_module_version": "1.5.0",
      "model_name": "DatePickerModel",
      "state": {
       "description": "date",
       "disabled": false,
       "layout": "IPY_MODEL_dbf9f6eb63604577bdac5efae92b6972",
       "style": "IPY_MODEL_72eb9f2e5cd34ef8a702292291ca49a4",
       "value": {
        "date": 23,
        "month": 4,
        "year": 2018
       }
      }
     },
     "ea45cd896d0246efba0d257e0a897086": {
      "model_module": "@jupyter-widgets/base",
      "model_module_version": "1.2.0",
      "model_name": "LayoutModel",
      "state": {}
     },
     "ec86fdeae7d44889b7442aa4d5c57bca": {
      "model_module": "@jupyter-widgets/base",
      "model_module_version": "1.2.0",
      "model_name": "LayoutModel",
      "state": {}
     },
     "ec887197c4014d87bcd583b8ae1ef949": {
      "model_module": "@jupyter-widgets/controls",
      "model_module_version": "1.5.0",
      "model_name": "DescriptionStyleModel",
      "state": {
       "description_width": ""
      }
     },
     "ee33a369caa14f6180940c74a9a25eef": {
      "model_module": "@jupyter-widgets/controls",
      "model_module_version": "1.5.0",
      "model_name": "DatePickerModel",
      "state": {
       "description": "Pick a Date",
       "disabled": false,
       "layout": "IPY_MODEL_dddea254bb7e4546ae22e7d2255be130",
       "style": "IPY_MODEL_4abf1d4e7693403f8435547b980f3035"
      }
     },
     "ef0a2f8cf6ea4d9da49df381c98d9209": {
      "model_module": "@jupyter-widgets/base",
      "model_module_version": "1.2.0",
      "model_name": "LayoutModel",
      "state": {}
     },
     "ef0b9f86b5f145caa1b253c09294cf22": {
      "model_module": "@jupyter-widgets/base",
      "model_module_version": "1.2.0",
      "model_name": "LayoutModel",
      "state": {}
     },
     "ef170f08566d4c478bc76a6c8e012df2": {
      "model_module": "@jupyter-widgets/base",
      "model_module_version": "1.2.0",
      "model_name": "LayoutModel",
      "state": {}
     },
     "f03e03c3654847c9834ad1da22991b1c": {
      "model_module": "@jupyter-widgets/base",
      "model_module_version": "1.2.0",
      "model_name": "LayoutModel",
      "state": {}
     },
     "f0de22fef3a644a0a2cd4201d931ccd2": {
      "model_module": "@jupyter-widgets/base",
      "model_module_version": "1.2.0",
      "model_name": "LayoutModel",
      "state": {}
     },
     "f31b0579363b491a959e586c2ad2d33c": {
      "model_module": "@jupyter-widgets/base",
      "model_module_version": "1.2.0",
      "model_name": "LayoutModel",
      "state": {}
     },
     "f3ea3a787ce64f9380d7213d4f6a5d9a": {
      "model_module": "@jupyter-widgets/output",
      "model_module_version": "1.0.0",
      "model_name": "OutputModel",
      "state": {
       "layout": "IPY_MODEL_619bd86e05774c2b8c8bc61f171a986b",
       "outputs": [
        {
         "name": "stdout",
         "output_type": "stream",
         "text": "0\n[[0.78725398 0.79339623 0.78484565 0.79174484 0.0654991 ]\n [0.78725398 0.79622642 0.78952292 0.79080675 0.08360166]\n [0.79381443 0.79811321 0.78952292 0.79737336 0.11254221]\n ...\n [0.68978444 0.69811321 0.69223573 0.69043152 0.02921542]\n [0.69259606 0.6990566  0.69130028 0.69699812 0.04771067]\n [0.69447048 0.7009434  0.69410664 0.69981238 0.089217  ]]\n"
        },
        {
         "ename": "ValueError",
         "evalue": "negative dimensions are not allowed",
         "output_type": "error",
         "traceback": [
          "\u001b[1;31m---------------------------------------------------------------------------\u001b[0m",
          "\u001b[1;31mValueError\u001b[0m                                Traceback (most recent call last)",
          "\u001b[1;32m~\\AppData\\Local\\Continuum\\anaconda3\\lib\\site-packages\\ipywidgets\\widgets\\interaction.py\u001b[0m in \u001b[0;36mupdate\u001b[1;34m(self, *args)\u001b[0m\n\u001b[0;32m    254\u001b[0m                     \u001b[0mvalue\u001b[0m \u001b[1;33m=\u001b[0m \u001b[0mwidget\u001b[0m\u001b[1;33m.\u001b[0m\u001b[0mget_interact_value\u001b[0m\u001b[1;33m(\u001b[0m\u001b[1;33m)\u001b[0m\u001b[1;33m\u001b[0m\u001b[1;33m\u001b[0m\u001b[0m\n\u001b[0;32m    255\u001b[0m                     \u001b[0mself\u001b[0m\u001b[1;33m.\u001b[0m\u001b[0mkwargs\u001b[0m\u001b[1;33m[\u001b[0m\u001b[0mwidget\u001b[0m\u001b[1;33m.\u001b[0m\u001b[0m_kwarg\u001b[0m\u001b[1;33m]\u001b[0m \u001b[1;33m=\u001b[0m \u001b[0mvalue\u001b[0m\u001b[1;33m\u001b[0m\u001b[1;33m\u001b[0m\u001b[0m\n\u001b[1;32m--> 256\u001b[1;33m                 \u001b[0mself\u001b[0m\u001b[1;33m.\u001b[0m\u001b[0mresult\u001b[0m \u001b[1;33m=\u001b[0m \u001b[0mself\u001b[0m\u001b[1;33m.\u001b[0m\u001b[0mf\u001b[0m\u001b[1;33m(\u001b[0m\u001b[1;33m**\u001b[0m\u001b[0mself\u001b[0m\u001b[1;33m.\u001b[0m\u001b[0mkwargs\u001b[0m\u001b[1;33m)\u001b[0m\u001b[1;33m\u001b[0m\u001b[1;33m\u001b[0m\u001b[0m\n\u001b[0m\u001b[0;32m    257\u001b[0m                 \u001b[0mshow_inline_matplotlib_plots\u001b[0m\u001b[1;33m(\u001b[0m\u001b[1;33m)\u001b[0m\u001b[1;33m\u001b[0m\u001b[1;33m\u001b[0m\u001b[0m\n\u001b[0;32m    258\u001b[0m                 \u001b[1;32mif\u001b[0m \u001b[0mself\u001b[0m\u001b[1;33m.\u001b[0m\u001b[0mauto_display\u001b[0m \u001b[1;32mand\u001b[0m \u001b[0mself\u001b[0m\u001b[1;33m.\u001b[0m\u001b[0mresult\u001b[0m \u001b[1;32mis\u001b[0m \u001b[1;32mnot\u001b[0m \u001b[1;32mNone\u001b[0m\u001b[1;33m:\u001b[0m\u001b[1;33m\u001b[0m\u001b[1;33m\u001b[0m\u001b[0m\n",
          "\u001b[1;32m<ipython-input-43-5ad7ecc54201>\u001b[0m in \u001b[0;36mpredict_price\u001b[1;34m(date)\u001b[0m\n\u001b[0;32m     11\u001b[0m         \u001b[0mx_test\u001b[0m \u001b[1;33m=\u001b[0m \u001b[0mmin_max_scaler\u001b[0m\u001b[1;33m.\u001b[0m\u001b[0mtransform\u001b[0m\u001b[1;33m(\u001b[0m\u001b[0mdf_test\u001b[0m\u001b[1;33m.\u001b[0m\u001b[0mloc\u001b[0m\u001b[1;33m[\u001b[0m\u001b[1;33m:\u001b[0m\u001b[1;33m,\u001b[0m\u001b[0mtrain_cols\u001b[0m\u001b[1;33m]\u001b[0m\u001b[1;33m)\u001b[0m\u001b[1;33m\u001b[0m\u001b[1;33m\u001b[0m\u001b[0m\n\u001b[0;32m     12\u001b[0m         \u001b[0mprint\u001b[0m\u001b[1;33m(\u001b[0m\u001b[0mx_test\u001b[0m\u001b[1;33m)\u001b[0m\u001b[1;33m\u001b[0m\u001b[1;33m\u001b[0m\u001b[0m\n\u001b[1;32m---> 13\u001b[1;33m         \u001b[0mx_test_t\u001b[0m\u001b[1;33m,\u001b[0m \u001b[0my_test_t\u001b[0m \u001b[1;33m=\u001b[0m \u001b[0mbuild_timeseries\u001b[0m\u001b[1;33m(\u001b[0m\u001b[0mx_test\u001b[0m\u001b[1;33m,\u001b[0m\u001b[0mtarget_col\u001b[0m\u001b[1;33m,\u001b[0m \u001b[0mTIME_STEPS\u001b[0m\u001b[1;33m)\u001b[0m\u001b[1;33m\u001b[0m\u001b[1;33m\u001b[0m\u001b[0m\n\u001b[0m\u001b[0;32m     14\u001b[0m         \u001b[0my_pred\u001b[0m \u001b[1;33m=\u001b[0m \u001b[0msaved_model\u001b[0m\u001b[1;33m.\u001b[0m\u001b[0mpredict\u001b[0m\u001b[1;33m(\u001b[0m\u001b[0mtrim_dataset\u001b[0m\u001b[1;33m(\u001b[0m\u001b[0mx_test_t\u001b[0m\u001b[1;33m,\u001b[0m \u001b[0mBATCH_SIZE\u001b[0m\u001b[1;33m)\u001b[0m\u001b[1;33m,\u001b[0m \u001b[0mbatch_size\u001b[0m\u001b[1;33m=\u001b[0m\u001b[0mBATCH_SIZE\u001b[0m\u001b[1;33m)\u001b[0m\u001b[1;33m\u001b[0m\u001b[1;33m\u001b[0m\u001b[0m\n\u001b[0;32m     15\u001b[0m         \u001b[0my_pred\u001b[0m \u001b[1;33m=\u001b[0m \u001b[0my_pred\u001b[0m\u001b[1;33m.\u001b[0m\u001b[0mflatten\u001b[0m\u001b[1;33m(\u001b[0m\u001b[1;33m)\u001b[0m\u001b[1;33m\u001b[0m\u001b[1;33m\u001b[0m\u001b[0m\n",
          "\u001b[1;32m<ipython-input-9-e42b68179929>\u001b[0m in \u001b[0;36mbuild_timeseries\u001b[1;34m(mat, y_col_index, TIME_STEPS)\u001b[0m\n\u001b[0;32m      4\u001b[0m     \u001b[0mdim_0\u001b[0m \u001b[1;33m=\u001b[0m \u001b[0mmat\u001b[0m\u001b[1;33m.\u001b[0m\u001b[0mshape\u001b[0m\u001b[1;33m[\u001b[0m\u001b[1;36m0\u001b[0m\u001b[1;33m]\u001b[0m \u001b[1;33m-\u001b[0m \u001b[0mTIME_STEPS\u001b[0m\u001b[1;33m\u001b[0m\u001b[1;33m\u001b[0m\u001b[0m\n\u001b[0;32m      5\u001b[0m     \u001b[0mdim_1\u001b[0m \u001b[1;33m=\u001b[0m \u001b[0mmat\u001b[0m\u001b[1;33m.\u001b[0m\u001b[0mshape\u001b[0m\u001b[1;33m[\u001b[0m\u001b[1;36m1\u001b[0m\u001b[1;33m]\u001b[0m\u001b[1;33m\u001b[0m\u001b[1;33m\u001b[0m\u001b[0m\n\u001b[1;32m----> 6\u001b[1;33m     \u001b[0mx\u001b[0m \u001b[1;33m=\u001b[0m \u001b[0mnp\u001b[0m\u001b[1;33m.\u001b[0m\u001b[0mzeros\u001b[0m\u001b[1;33m(\u001b[0m\u001b[1;33m(\u001b[0m\u001b[0mdim_0\u001b[0m\u001b[1;33m,\u001b[0m \u001b[0mTIME_STEPS\u001b[0m\u001b[1;33m,\u001b[0m \u001b[0mdim_1\u001b[0m\u001b[1;33m)\u001b[0m\u001b[1;33m)\u001b[0m\u001b[1;33m\u001b[0m\u001b[1;33m\u001b[0m\u001b[0m\n\u001b[0m\u001b[0;32m      7\u001b[0m     \u001b[0my\u001b[0m \u001b[1;33m=\u001b[0m \u001b[0mnp\u001b[0m\u001b[1;33m.\u001b[0m\u001b[0mzeros\u001b[0m\u001b[1;33m(\u001b[0m\u001b[1;33m(\u001b[0m\u001b[0mdim_0\u001b[0m\u001b[1;33m,\u001b[0m\u001b[1;33m)\u001b[0m\u001b[1;33m)\u001b[0m\u001b[1;33m\u001b[0m\u001b[1;33m\u001b[0m\u001b[0m\n\u001b[0;32m      8\u001b[0m \u001b[1;33m\u001b[0m\u001b[0m\n",
          "\u001b[1;31mValueError\u001b[0m: negative dimensions are not allowed"
         ]
        }
       ]
      }
     },
     "f42066b7d12a4c7e8ab470be4a3c1850": {
      "model_module": "@jupyter-widgets/controls",
      "model_module_version": "1.5.0",
      "model_name": "VBoxModel",
      "state": {
       "_dom_classes": [
        "widget-interact"
       ],
       "children": [
        "IPY_MODEL_812583719f504df4a676c7f302cafa70",
        "IPY_MODEL_1d4400cdb7a24c728bd47c184bfb7cc1"
       ],
       "layout": "IPY_MODEL_b74fd0ade2a64a8a9db8ebc8b6b34688"
      }
     },
     "f458389c96174aa8925780ef373c4204": {
      "model_module": "@jupyter-widgets/controls",
      "model_module_version": "1.5.0",
      "model_name": "DescriptionStyleModel",
      "state": {
       "description_width": ""
      }
     },
     "f49aabf5c87d407e96f7301aa9ccbf5c": {
      "model_module": "@jupyter-widgets/base",
      "model_module_version": "1.2.0",
      "model_name": "LayoutModel",
      "state": {}
     },
     "f4b91c32298e4c2dab1556331c5647d8": {
      "model_module": "@jupyter-widgets/controls",
      "model_module_version": "1.5.0",
      "model_name": "DescriptionStyleModel",
      "state": {
       "description_width": ""
      }
     },
     "f5ac1c58b40946be9f72fd73fb996f18": {
      "model_module": "@jupyter-widgets/output",
      "model_module_version": "1.0.0",
      "model_name": "OutputModel",
      "state": {
       "layout": "IPY_MODEL_40b14b9843f44b3983edec61d76e69ae",
       "outputs": [
        {
         "data": {
          "image/png": "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\n",
          "text/plain": "<Figure size 432x288 with 1 Axes>"
         },
         "metadata": {
          "needs_background": "light"
         },
         "output_type": "display_data"
        }
       ]
      }
     },
     "f5faf6082fc044e49daa2c03576426de": {
      "model_module": "@jupyter-widgets/output",
      "model_module_version": "1.0.0",
      "model_name": "OutputModel",
      "state": {
       "layout": "IPY_MODEL_d14af4396b5d4a5eaeefb511faa26460",
       "outputs": [
        {
         "name": "stdout",
         "output_type": "stream",
         "text": "2018-05-23 12:30:00 False\n"
        }
       ]
      }
     },
     "f69cef7cde9a4ddc8b62d749d5f23703": {
      "model_module": "@jupyter-widgets/controls",
      "model_module_version": "1.5.0",
      "model_name": "DescriptionStyleModel",
      "state": {
       "description_width": ""
      }
     },
     "f71c798644fb49d2a9eb20f4b418928e": {
      "model_module": "@jupyter-widgets/base",
      "model_module_version": "1.2.0",
      "model_name": "LayoutModel",
      "state": {}
     },
     "f79e84fd335a44daaf66241285347cdf": {
      "model_module": "@jupyter-widgets/controls",
      "model_module_version": "1.5.0",
      "model_name": "VBoxModel",
      "state": {
       "_dom_classes": [
        "widget-interact"
       ],
       "children": [
        "IPY_MODEL_5c79ac1a09ad4a4c87f77d5141fd31fa",
        "IPY_MODEL_34bca4d6dafd4691a5973f510d7d7da9"
       ],
       "layout": "IPY_MODEL_3be282f892464bc4b1ff9c74cd2f9f9e"
      }
     },
     "f872f3658d4444fd9969937cf7b3ab89": {
      "model_module": "@jupyter-widgets/controls",
      "model_module_version": "1.5.0",
      "model_name": "VBoxModel",
      "state": {
       "_dom_classes": [
        "widget-interact"
       ],
       "children": [
        "IPY_MODEL_c588e33340e0414f864a68b20950c5b9",
        "IPY_MODEL_40fddc0adfed43fea90d9c638eca29b6"
       ],
       "layout": "IPY_MODEL_8a9abdba76214aff8315416d98a3d89e"
      }
     },
     "f90f7825fd42470da44bf960d22459fb": {
      "model_module": "@jupyter-widgets/controls",
      "model_module_version": "1.5.0",
      "model_name": "VBoxModel",
      "state": {
       "_dom_classes": [
        "widget-interact"
       ],
       "children": [
        "IPY_MODEL_4999ddc6f4a34b71ab8b4bc56fd44eff",
        "IPY_MODEL_8b3337abc3024fb589c79f7408c130f0"
       ],
       "layout": "IPY_MODEL_89eff2fc97aa469e98d3ab992127f998"
      }
     },
     "f9de5c6c55e3438db2445b0f225b739b": {
      "model_module": "@jupyter-widgets/controls",
      "model_module_version": "1.5.0",
      "model_name": "DropdownModel",
      "state": {
       "_options_labels": [
        "bmh",
        "classic",
        "dark_background",
        "fast",
        "fivethirtyeight",
        "ggplot",
        "grayscale",
        "seaborn-bright",
        "seaborn-colorblind",
        "seaborn-dark-palette",
        "seaborn-dark",
        "seaborn-darkgrid",
        "seaborn-deep",
        "seaborn-muted",
        "seaborn-notebook",
        "seaborn-paper",
        "seaborn-pastel",
        "seaborn-poster",
        "seaborn-talk",
        "seaborn-ticks",
        "seaborn-white",
        "seaborn-whitegrid",
        "seaborn",
        "Solarize_Light2",
        "tableau-colorblind10",
        "_classic_test"
       ],
       "description": "theme",
       "index": 7,
       "layout": "IPY_MODEL_d2337b9ee76b458eae8514815c933a5f",
       "style": "IPY_MODEL_47d62f10c0174feabf396b8c9b43a632"
      }
     },
     "faec0cebffb74c468bbd8dbca2fec9a9": {
      "model_module": "@jupyter-widgets/base",
      "model_module_version": "1.2.0",
      "model_name": "LayoutModel",
      "state": {}
     },
     "fb13c916deb84119b21e6b2475efb4ff": {
      "model_module": "@jupyter-widgets/controls",
      "model_module_version": "1.5.0",
      "model_name": "VBoxModel",
      "state": {
       "_dom_classes": [
        "widget-interact"
       ],
       "children": [
        "IPY_MODEL_bac2ada0f5f64c7789de1b090f295335",
        "IPY_MODEL_fecc7d7291a741f999c0392c9f474943"
       ],
       "layout": "IPY_MODEL_5249487933724b2f8d6e1a26c9ac39fc"
      }
     },
     "fdf09375659f4b50af4d1d9e27c356f7": {
      "model_module": "@jupyter-widgets/controls",
      "model_module_version": "1.5.0",
      "model_name": "VBoxModel",
      "state": {
       "_dom_classes": [
        "widget-interact"
       ],
       "children": [
        "IPY_MODEL_a65223e470224b91aef7a0e1adf8b034",
        "IPY_MODEL_9b63b207eb444f1db4de514d246c09ce"
       ],
       "layout": "IPY_MODEL_5519b549e9ab473bad9e5a2d15462a2d"
      }
     },
     "fecc7d7291a741f999c0392c9f474943": {
      "model_module": "@jupyter-widgets/output",
      "model_module_version": "1.0.0",
      "model_name": "OutputModel",
      "state": {
       "layout": "IPY_MODEL_b380773eb87d4cc8b59262be6d351620",
       "outputs": [
        {
         "name": "stdout",
         "output_type": "stream",
         "text": "2018-06-22 00:00:00\n"
        },
        {
         "data": {
          "image/png": "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\n",
          "text/plain": "<Figure size 432x288 with 1 Axes>"
         },
         "metadata": {
          "needs_background": "light"
         },
         "output_type": "display_data"
        }
       ]
      }
     },
     "fefd9495c92e49629f6a4ee0989ad93c": {
      "model_module": "@jupyter-widgets/base",
      "model_module_version": "1.2.0",
      "model_name": "LayoutModel",
      "state": {}
     },
     "ff27f4f3d6c04b5cb26b6c6ab7777bb2": {
      "model_module": "@jupyter-widgets/base",
      "model_module_version": "1.2.0",
      "model_name": "LayoutModel",
      "state": {}
     },
     "ffa409fc538a435a8afcd9769d4e1764": {
      "model_module": "@jupyter-widgets/controls",
      "model_module_version": "1.5.0",
      "model_name": "DatePickerModel",
      "state": {
       "description": "date",
       "disabled": false,
       "layout": "IPY_MODEL_aec328f16e0247ae9cb4cd0a955c6754",
       "style": "IPY_MODEL_2d28b109842f48a38a21a35d92183e02",
       "value": {
        "date": 23,
        "month": 4,
        "year": 2018
       }
      }
     }
    },
    "version_major": 2,
    "version_minor": 0
   }
  }
 },
 "nbformat": 4,
 "nbformat_minor": 2
}
